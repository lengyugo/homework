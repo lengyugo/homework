{
 "cells": [
  {
   "cell_type": "code",
   "execution_count": 1,
   "metadata": {},
   "outputs": [
    {
     "name": "stdout",
     "output_type": "stream",
     "text": [
      "['D:\\\\ProgramData\\\\Anaconda3\\\\lib\\\\site-packages\\\\matplotlib']\n"
     ]
    }
   ],
   "source": [
    "import matplotlib\n",
    "print(matplotlib.__path__)"
   ]
  },
  {
   "cell_type": "code",
   "execution_count": 6,
   "metadata": {},
   "outputs": [
    {
     "name": "stdout",
     "output_type": "stream",
     "text": [
      "D:\\ProgramData\\Anaconda3\\lib\\site-packages\\matplotlib\n"
     ]
    }
   ],
   "source": [
    "%cd D:\\ProgramData\\Anaconda3\\lib\\site-packages\\matplotlib\n",
    "    "
   ]
  },
  {
   "cell_type": "code",
   "execution_count": 7,
   "metadata": {},
   "outputs": [
    {
     "name": "stdout",
     "output_type": "stream",
     "text": [
      "D:\\ProgramData\\Anaconda3\\lib\\site-packages\\matplotlib\\mpl-data\\fonts\\ttf\n"
     ]
    }
   ],
   "source": [
    "%cd mpl-data/fonts/ttf"
   ]
  },
  {
   "cell_type": "code",
   "execution_count": 60,
   "metadata": {},
   "outputs": [],
   "source": [
    "coordination_source = \"\"\"\n",
    "{name:'兰州', geoCoord:[103.73, 36.03]},\n",
    "{name:'嘉峪关', geoCoord:[98.17, 39.47]},\n",
    "{name:'西宁', geoCoord:[101.74, 36.56]},\n",
    "{name:'成都', geoCoord:[104.06, 30.67]},\n",
    "{name:'石家庄', geoCoord:[114.48, 38.03]},\n",
    "{name:'拉萨', geoCoord:[102.73, 25.04]},\n",
    "{name:'贵阳', geoCoord:[106.71, 26.57]},\n",
    "{name:'武汉', geoCoord:[114.31, 30.52]},\n",
    "{name:'郑州', geoCoord:[113.65, 34.76]},\n",
    "{name:'济南', geoCoord:[117, 36.65]},\n",
    "{name:'南京', geoCoord:[118.78, 32.04]},\n",
    "{name:'合肥', geoCoord:[117.27, 31.86]},\n",
    "{name:'杭州', geoCoord:[120.19, 30.26]},\n",
    "{name:'南昌', geoCoord:[115.89, 28.68]},\n",
    "{name:'福州', geoCoord:[119.3, 26.08]},\n",
    "{name:'广州', geoCoord:[113.23, 23.16]},\n",
    "{name:'长沙', geoCoord:[113, 28.21]},\n",
    "//{name:'海口', geoCoord:[110.35, 20.02]},\n",
    "{name:'沈阳', geoCoord:[123.38, 41.8]},\n",
    "{name:'长春', geoCoord:[125.35, 43.88]},\n",
    "{name:'哈尔滨', geoCoord:[126.63, 45.75]},\n",
    "{name:'太原', geoCoord:[112.53, 37.87]},\n",
    "{name:'西安', geoCoord:[108.95, 34.27]},\n",
    "//{name:'台湾', geoCoord:[121.30, 25.03]},\n",
    "{name:'北京', geoCoord:[116.46, 39.92]},\n",
    "{name:'上海', geoCoord:[121.48, 31.22]},\n",
    "{name:'重庆', geoCoord:[106.54, 29.59]},\n",
    "{name:'天津', geoCoord:[117.2, 39.13]},\n",
    "{name:'呼和浩特', geoCoord:[111.65, 40.82]},\n",
    "{name:'南宁', geoCoord:[108.33, 22.84]},\n",
    "//{name:'西藏', geoCoord:[91.11, 29.97]},\n",
    "{name:'银川', geoCoord:[106.27, 38.47]},\n",
    "{name:'乌鲁木齐', geoCoord:[87.68, 43.77]},\n",
    "{name:'香港', geoCoord:[114.17, 22.28]},\n",
    "{name:'澳门', geoCoord:[113.54, 22.19]},\n",
    "{name:'保定', geoCoord:[115.47, 38.87]}\n",
    "\"\"\""
   ]
  },
  {
   "cell_type": "code",
   "execution_count": 61,
   "metadata": {},
   "outputs": [],
   "source": [
    "city_locaion = {}\n"
   ]
  },
  {
   "cell_type": "code",
   "execution_count": 62,
   "metadata": {},
   "outputs": [],
   "source": [
    "import re\n"
   ]
  },
  {
   "cell_type": "code",
   "execution_count": 63,
   "metadata": {},
   "outputs": [],
   "source": [
    "pattern = re.compile(r\"name:'(\\w+)',\\s+geoCoord:\\[(\\d+.\\d+),\\s(\\d+.\\d+)\\]\")"
   ]
  },
  {
   "cell_type": "code",
   "execution_count": 59,
   "metadata": {},
   "outputs": [
    {
     "data": {
      "text/plain": [
       "[('澳门', '115.47', '38.87')]"
      ]
     },
     "execution_count": 59,
     "metadata": {},
     "output_type": "execute_result"
    }
   ],
   "source": [
    "pattern.findall(\"name:'澳门', geoCoord:[115.47, 38.87]\")"
   ]
  },
  {
   "cell_type": "code",
   "execution_count": 64,
   "metadata": {},
   "outputs": [],
   "source": [
    "for line in coordination_source.split('\\n'):\n",
    "    city_info = pattern.findall(line)\n",
    "    if not city_info: continue\n",
    "    \n",
    "    city,long,lat = city_info[0]\n",
    "    long,lat = float(long),float(lat)\n",
    "    city_locaion[city] = (long,lat)\n",
    "    "
   ]
  },
  {
   "cell_type": "code",
   "execution_count": 65,
   "metadata": {},
   "outputs": [
    {
     "data": {
      "text/plain": [
       "{'兰州': (103.73, 36.03),\n",
       " '嘉峪关': (98.17, 39.47),\n",
       " '西宁': (101.74, 36.56),\n",
       " '成都': (104.06, 30.67),\n",
       " '石家庄': (114.48, 38.03),\n",
       " '拉萨': (102.73, 25.04),\n",
       " '贵阳': (106.71, 26.57),\n",
       " '武汉': (114.31, 30.52),\n",
       " '郑州': (113.65, 34.76),\n",
       " '济南': (117.0, 36.65),\n",
       " '南京': (118.78, 32.04),\n",
       " '合肥': (117.27, 31.86),\n",
       " '杭州': (120.19, 30.26),\n",
       " '南昌': (115.89, 28.68),\n",
       " '福州': (119.3, 26.08),\n",
       " '广州': (113.23, 23.16),\n",
       " '长沙': (113.0, 28.21),\n",
       " '海口': (110.35, 20.02),\n",
       " '沈阳': (123.38, 41.8),\n",
       " '长春': (125.35, 43.88),\n",
       " '哈尔滨': (126.63, 45.75),\n",
       " '太原': (112.53, 37.87),\n",
       " '西安': (108.95, 34.27),\n",
       " '台湾': (121.3, 25.03),\n",
       " '北京': (116.46, 39.92),\n",
       " '上海': (121.48, 31.22),\n",
       " '重庆': (106.54, 29.59),\n",
       " '天津': (117.2, 39.13),\n",
       " '呼和浩特': (111.65, 40.82),\n",
       " '南宁': (108.33, 22.84),\n",
       " '西藏': (91.11, 29.97),\n",
       " '银川': (106.27, 38.47),\n",
       " '乌鲁木齐': (87.68, 43.77),\n",
       " '香港': (114.17, 22.28),\n",
       " '澳门': (113.54, 22.19),\n",
       " '保定': (115.47, 38.87)}"
      ]
     },
     "execution_count": 65,
     "metadata": {},
     "output_type": "execute_result"
    }
   ],
   "source": [
    "city_locaion"
   ]
  },
  {
   "cell_type": "code",
   "execution_count": 8,
   "metadata": {},
   "outputs": [],
   "source": [
    "import math"
   ]
  },
  {
   "cell_type": "code",
   "execution_count": 9,
   "metadata": {},
   "outputs": [],
   "source": [
    "def geo_distance(origin, destination):\n",
    "    \"\"\"\n",
    "    Calculate the Haversine distance.\n",
    "\n",
    "    Parameters\n",
    "    ----------\n",
    "    origin : tuple of float\n",
    "        (lat, long)\n",
    "    destination : tuple of float\n",
    "        (lat, long)\n",
    "\n",
    "    Returns\n",
    "    -------\n",
    "    distance_in_km : float\n",
    "\n",
    "    Examples\n",
    "    --------\n",
    "    >>> origin = (48.1372, 11.5756)  # Munich\n",
    "    >>> destination = (52.5186, 13.4083)  # Berlin\n",
    "    >>> round(distance(origin, destination), 1)\n",
    "    504.2\n",
    "    \"\"\"\n",
    "    lat1, lon1 = origin\n",
    "    lat2, lon2 = destination\n",
    "    radius = 6371  # km\n",
    "\n",
    "    dlat = math.radians(lat2 - lat1)\n",
    "    dlon = math.radians(lon2 - lon1)\n",
    "    a = (math.sin(dlat / 2) * math.sin(dlat / 2) +\n",
    "         math.cos(math.radians(lat1)) * math.cos(math.radians(lat2)) *\n",
    "         math.sin(dlon / 2) * math.sin(dlon / 2))\n",
    "    c = 2 * math.atan2(math.sqrt(a), math.sqrt(1 - a))\n",
    "    d = radius * c\n",
    "\n",
    "    return d"
   ]
  },
  {
   "cell_type": "code",
   "execution_count": 10,
   "metadata": {},
   "outputs": [],
   "source": [
    "def city_distance(city1,city2):\n",
    "    return geo_distance(city_locaion[city1],city_locaion[city2])"
   ]
  },
  {
   "cell_type": "code",
   "execution_count": 11,
   "metadata": {},
   "outputs": [
    {
     "data": {
      "text/plain": [
       "727.52769688981"
      ]
     },
     "execution_count": 11,
     "metadata": {},
     "output_type": "execute_result"
    }
   ],
   "source": [
    "city_distance('北京','上海')"
   ]
  },
  {
   "cell_type": "code",
   "execution_count": 12,
   "metadata": {},
   "outputs": [],
   "source": [
    "import networkx as nx"
   ]
  },
  {
   "cell_type": "code",
   "execution_count": 13,
   "metadata": {},
   "outputs": [],
   "source": [
    "city_graph = nx.Graph()\n",
    "city_graph.add_nodes_from(list(city_locaion.keys()))\n"
   ]
  },
  {
   "cell_type": "code",
   "execution_count": 14,
   "metadata": {},
   "outputs": [],
   "source": [
    "%matplotlib inline"
   ]
  },
  {
   "cell_type": "code",
   "execution_count": 15,
   "metadata": {},
   "outputs": [],
   "source": [
    "import matplotlib.pyplot as plt"
   ]
  },
  {
   "cell_type": "code",
   "execution_count": 16,
   "metadata": {},
   "outputs": [],
   "source": [
    "plt.rcParams['font.sans-serif'] = ['SimHei']\n",
    "plt.rcParams['axes.unicode_minus'] = False"
   ]
  },
  {
   "cell_type": "code",
   "execution_count": 17,
   "metadata": {},
   "outputs": [
    {
     "data": {
      "image/png": "[encoded data removed]",
      "text/plain": [
       "<Figure size 432x288 with 1 Axes>"
      ]
     },
     "metadata": {},
     "output_type": "display_data"
    }
   ],
   "source": [
    "nx.draw(city_graph,city_locaion,with_labels=True,node_size=30)"
   ]
  },
  {
   "cell_type": "code",
   "execution_count": 79,
   "metadata": {},
   "outputs": [],
   "source": [
    "G = nx.Graph()"
   ]
  },
  {
   "cell_type": "code",
   "execution_count": 84,
   "metadata": {},
   "outputs": [],
   "source": [
    "G.add_node((2,3))"
   ]
  },
  {
   "cell_type": "code",
   "execution_count": 85,
   "metadata": {
    "scrolled": true
   },
   "outputs": [
    {
     "data": {
      "image/png": "[encoded data removed]",
      "text/plain": [
       "<Figure size 432x288 with 1 Axes>"
      ]
     },
     "metadata": {},
     "output_type": "display_data"
    }
   ],
   "source": [
    "nx.draw(G)"
   ]
  },
  {
   "cell_type": "code",
   "execution_count": 228,
   "metadata": {},
   "outputs": [],
   "source": [
    "distence = 300"
   ]
  },
  {
   "cell_type": "code",
   "execution_count": 23,
   "metadata": {},
   "outputs": [],
   "source": [
    "from collections import defaultdict"
   ]
  },
  {
   "cell_type": "code",
   "execution_count": 230,
   "metadata": {},
   "outputs": [],
   "source": [
    "city_connection = defaultdict(list)"
   ]
  },
  {
   "cell_type": "code",
   "execution_count": 239,
   "metadata": {},
   "outputs": [],
   "source": [
    "for c1 in city_locaion:\n",
    "    for c2 in city_locaion:\n",
    "        if c1 == c2: continue\n",
    "        \n",
    "        dist = city_distance(c1,c2)\n",
    "        #print(c1,c2)\n",
    "        if dist < distence:\n",
    "            \n",
    "            city_connection[c1].append(c2)\n",
    "            \n",
    "            city_connection[c2].append(c1)"
   ]
  },
  {
   "cell_type": "code",
   "execution_count": 235,
   "metadata": {},
   "outputs": [
    {
     "data": {
      "text/plain": [
       "221.65665359229743"
      ]
     },
     "execution_count": 235,
     "metadata": {},
     "output_type": "execute_result"
    }
   ],
   "source": [
    "city_distance('兰州','西宁')"
   ]
  },
  {
   "cell_type": "code",
   "execution_count": 240,
   "metadata": {},
   "outputs": [],
   "source": [
    "for city in city_connection:\n",
    "    city_connection[city] = list(set(city_connection[city]))"
   ]
  },
  {
   "cell_type": "code",
   "execution_count": 241,
   "metadata": {},
   "outputs": [
    {
     "data": {
      "text/plain": [
       "defaultdict(list,\n",
       "            {'兰州': ['西宁', '成都', '银川'],\n",
       "             '西宁': ['拉萨', '兰州', '成都'],\n",
       "             '成都': ['重庆', '拉萨', '兰州', '西宁'],\n",
       "             '银川': ['重庆', '兰州'],\n",
       "             '拉萨': ['西宁', '成都'],\n",
       "             '重庆': ['银川', '成都', '贵阳'],\n",
       "             '石家庄': ['太原', '济南', '郑州', '北京'],\n",
       "             '郑州': ['太原', '武汉', '长沙', '石家庄'],\n",
       "             '济南': ['合肥', '石家庄', '天津', '北京'],\n",
       "             '太原': ['呼和浩特', '郑州', '石家庄'],\n",
       "             '北京': ['济南', '石家庄', '天津'],\n",
       "             '贵阳': ['重庆', '南宁'],\n",
       "             '南宁': ['海口', '贵阳'],\n",
       "             '武汉': ['郑州', '南昌', '长沙'],\n",
       "             '南昌': ['武汉', '合肥'],\n",
       "             '长沙': ['武汉', '广州', '郑州', '香港', '澳门'],\n",
       "             '合肥': ['南京', '济南', '南昌'],\n",
       "             '天津': ['济南', '北京'],\n",
       "             '南京': ['合肥', '杭州'],\n",
       "             '杭州': ['南京', '福州', '上海'],\n",
       "             '福州': ['台湾', '杭州'],\n",
       "             '上海': ['杭州'],\n",
       "             '台湾': ['福州'],\n",
       "             '广州': ['澳门', '长沙', '香港'],\n",
       "             '香港': ['广州', '长沙', '澳门'],\n",
       "             '澳门': ['广州', '长沙', '香港'],\n",
       "             '海口': ['南宁'],\n",
       "             '沈阳': ['长春'],\n",
       "             '长春': ['沈阳', '哈尔滨'],\n",
       "             '哈尔滨': ['长春'],\n",
       "             '呼和浩特': ['太原']})"
      ]
     },
     "execution_count": 241,
     "metadata": {},
     "output_type": "execute_result"
    }
   ],
   "source": [
    "city_connection"
   ]
  },
  {
   "cell_type": "code",
   "execution_count": 242,
   "metadata": {},
   "outputs": [],
   "source": [
    "city_label = nx.Graph(city_connection)"
   ]
  },
  {
   "cell_type": "code",
   "execution_count": 243,
   "metadata": {},
   "outputs": [
    {
     "name": "stderr",
     "output_type": "stream",
     "text": [
      "D:\\ProgramData\\Anaconda3\\lib\\site-packages\\networkx\\drawing\\nx_pylab.py:611: MatplotlibDeprecationWarning: isinstance(..., numbers.Number)\n",
      "  if cb.is_numlike(alpha):\n"
     ]
    },
    {
     "data": {
      "image/png": "[encoded data removed]",
      "text/plain": [
       "<Figure size 432x288 with 1 Axes>"
      ]
     },
     "metadata": {},
     "output_type": "display_data"
    }
   ],
   "source": [
    "nx.draw(city_label,city_locaion,with_labels=True,node_size=30)"
   ]
  },
  {
   "cell_type": "code",
   "execution_count": 20,
   "metadata": {},
   "outputs": [],
   "source": [
    "simple_connection_info_src = {\n",
    "    '北京': ['保定', '沈阳','郑州'],\n",
    "    '保定': ['北京','太原'],\n",
    "    '太原': ['保定', '西安', '郑州'],\n",
    "    '兰州': ['西安'],\n",
    "    '郑州': ['太原','长沙','北京'],\n",
    "    '西安': ['兰州', '长沙'],\n",
    "    '长沙': ['福州', '南宁','郑州'],\n",
    "    '沈阳': ['北京']\n",
    "    \n",
    "}"
   ]
  },
  {
   "cell_type": "code",
   "execution_count": 24,
   "metadata": {},
   "outputs": [],
   "source": [
    "simple_connection_info = defaultdict(list)"
   ]
  },
  {
   "cell_type": "code",
   "execution_count": 25,
   "metadata": {},
   "outputs": [],
   "source": [
    "simple_connection_info.update(simple_connection_info_src)"
   ]
  },
  {
   "cell_type": "code",
   "execution_count": 66,
   "metadata": {},
   "outputs": [
    {
     "name": "stderr",
     "output_type": "stream",
     "text": [
      "D:\\ProgramData\\Anaconda3\\lib\\site-packages\\networkx\\drawing\\nx_pylab.py:611: MatplotlibDeprecationWarning: isinstance(..., numbers.Number)\n",
      "  if cb.is_numlike(alpha):\n"
     ]
    },
    {
     "data": {
      "image/png": "[encoded data removed]",
      "text/plain": [
       "<Figure size 432x288 with 1 Axes>"
      ]
     },
     "metadata": {},
     "output_type": "display_data"
    }
   ],
   "source": [
    "nx.draw(nx.Graph(simple_connection_info),city_locaion,with_labels=True,node_size=10)"
   ]
  },
  {
   "cell_type": "code",
   "execution_count": 258,
   "metadata": {},
   "outputs": [],
   "source": [
    "\n",
    "\n",
    "def bsf(graph,start):\n",
    "    visited = [start]\n",
    "    seen = set()\n",
    "    while visited:\n",
    "        froninter = visited.pop()\n",
    "        print(froninter)\n",
    "        if froninter in seen: continue\n",
    "        \n",
    "        for successor in graph[froninter]:\n",
    "            if successor in seen: continue\n",
    "            #print(successor)\n",
    "            \n",
    "            #visited = visited + [successor] ## 深度优先\n",
    "            visited = [successor] + visited ##广度优先\n",
    "            print(visited)\n",
    "            \n",
    "        seen.add(froninter)\n",
    "        print(seen)\n",
    "    return seen\n",
    "            \n",
    "    "
   ]
  },
  {
   "cell_type": "code",
   "execution_count": 259,
   "metadata": {},
   "outputs": [
    {
     "name": "stdout",
     "output_type": "stream",
     "text": [
      "北京\n",
      "['太原']\n",
      "['沈阳', '太原']\n",
      "['郑州', '沈阳', '太原']\n",
      "{'北京'}\n",
      "太原\n",
      "['西安', '郑州', '沈阳']\n",
      "['郑州', '西安', '郑州', '沈阳']\n",
      "{'太原', '北京'}\n",
      "沈阳\n",
      "{'太原', '沈阳', '北京'}\n",
      "郑州\n",
      "['长沙', '郑州', '西安']\n",
      "{'太原', '沈阳', '郑州', '北京'}\n",
      "西安\n",
      "['兰州', '长沙', '郑州']\n",
      "['长沙', '兰州', '长沙', '郑州']\n",
      "{'西安', '北京', '郑州', '太原', '沈阳'}\n",
      "郑州\n",
      "长沙\n",
      "['福州', '长沙', '兰州']\n",
      "['南宁', '福州', '长沙', '兰州']\n",
      "{'长沙', '西安', '北京', '郑州', '太原', '沈阳'}\n",
      "兰州\n",
      "{'长沙', '西安', '北京', '郑州', '太原', '沈阳', '兰州'}\n",
      "长沙\n",
      "福州\n",
      "{'长沙', '西安', '福州', '北京', '郑州', '太原', '沈阳', '兰州'}\n",
      "南宁\n",
      "{'长沙', '西安', '南宁', '福州', '北京', '郑州', '太原', '沈阳', '兰州'}\n"
     ]
    },
    {
     "data": {
      "text/plain": [
       "{'兰州', '北京', '南宁', '太原', '沈阳', '福州', '西安', '郑州', '长沙'}"
      ]
     },
     "execution_count": 259,
     "metadata": {},
     "output_type": "execute_result"
    }
   ],
   "source": [
    "bsf(simple_connection_info,'北京')"
   ]
  },
  {
   "cell_type": "code",
   "execution_count": 68,
   "metadata": {},
   "outputs": [],
   "source": [
    "##怎么实现深度优先？？？\n",
    "\n",
    "def search(start,destination,connect_graph):#sort_canditate):\n",
    "    pathes  = [[start]]\n",
    "    visited = set()\n",
    "    \n",
    "    while pathes:\n",
    "        path = pathes.pop(0) ###\n",
    "        #print(path)\n",
    "        froninter = path[-1]\n",
    "        \n",
    "        if froninter in visited: continue\n",
    "        \n",
    "        successor = connect_graph[froninter]\n",
    "        for city in successor:\n",
    "            \n",
    "            if city in path: continue\n",
    "            #print(city) \n",
    "            new_path = path + [city]\n",
    "            #new_path = [city] + path \n",
    "            pathes.append(new_path)#\n",
    "            #print(pathes) \n",
    "            if city == destination: return new_path\n",
    "            \n",
    "        visited.add(froninter)\n",
    "        #print(pathes)\n",
    "        #pathes = sort_canditate(pathes)   \n"
   ]
  },
  {
   "cell_type": "code",
   "execution_count": 70,
   "metadata": {},
   "outputs": [
    {
     "data": {
      "text/plain": [
       "['北京', '保定', '太原', '西安', '兰州']"
      ]
     },
     "execution_count": 70,
     "metadata": {},
     "output_type": "execute_result"
    }
   ],
   "source": [
    "search('北京','兰州',simple_connection_info)"
   ]
  },
  {
   "cell_type": "code",
   "execution_count": 271,
   "metadata": {},
   "outputs": [],
   "source": [
    "def transform_station_first(pathes):\n",
    "    return sorted(pathes,key=len)"
   ]
  },
  {
   "cell_type": "code",
   "execution_count": 265,
   "metadata": {},
   "outputs": [],
   "source": [
    "def transform_as_mush_station(pathes):\n",
    "    return sorted(pathes,key=len,reverse=True)"
   ]
  },
  {
   "cell_type": "code",
   "execution_count": 279,
   "metadata": {},
   "outputs": [],
   "source": [
    "def get_path_dentence(path):\n",
    "        distance = 0\n",
    "        for i in range(len(path)):\n",
    "            if i <= len(path) - 2:\n",
    "                distance += city_distance(path[i],path[i+1])\n",
    "        return distance"
   ]
  },
  {
   "cell_type": "code",
   "execution_count": 282,
   "metadata": {},
   "outputs": [
    {
     "data": {
      "text/plain": [
       "3181.756153858689"
      ]
     },
     "execution_count": 282,
     "metadata": {},
     "output_type": "execute_result"
    }
   ],
   "source": [
    "path = ['长沙', '西安', '北京', '郑州', '太原', '沈阳']\n",
    "get_path_dentence(path)\n"
   ]
  },
  {
   "cell_type": "code",
   "execution_count": 287,
   "metadata": {},
   "outputs": [],
   "source": [
    "def shortest_path_first(pathes):\n",
    "    if len(pathes) <= 1: return pathes\n",
    "\n",
    "    return sorted(pathes,key=get_path_dentence)\n",
    "    "
   ]
  },
  {
   "cell_type": "code",
   "execution_count": 288,
   "metadata": {},
   "outputs": [
    {
     "data": {
      "text/plain": [
       "['北京', '石家庄', '郑州', '武汉']"
      ]
     },
     "execution_count": 288,
     "metadata": {},
     "output_type": "execute_result"
    }
   ],
   "source": [
    "search('北京','武汉',city_connection,sort_canditate=shortest_path_first)"
   ]
  },
  {
   "cell_type": "code",
   "execution_count": 289,
   "metadata": {},
   "outputs": [],
   "source": [
    "def pretty_print(cities):\n",
    "    print('🚗->'.join(cities))"
   ]
  },
  {
   "cell_type": "code",
   "execution_count": 290,
   "metadata": {},
   "outputs": [
    {
     "name": "stdout",
     "output_type": "stream",
     "text": [
      "北京🚗->石家庄🚗->郑州🚗->武汉\n"
     ]
    }
   ],
   "source": [
    "pretty_print(search('北京','武汉',city_connection,sort_canditate=shortest_path_first))"
   ]
  },
  {
   "cell_type": "markdown",
   "metadata": {},
   "source": [
    "爬虫"
   ]
  },
  {
   "cell_type": "code",
   "execution_count": 302,
   "metadata": {},
   "outputs": [],
   "source": [
    "import requests"
   ]
  },
  {
   "cell_type": "code",
   "execution_count": 292,
   "metadata": {},
   "outputs": [],
   "source": [
    "url = 'https://movie.douban.com/subject/26931786/?from=showing'"
   ]
  },
  {
   "cell_type": "code",
   "execution_count": 298,
   "metadata": {},
   "outputs": [
    {
     "data": {
      "text/plain": [
       "'<!DOCTYPE html>\\n<html lang=\"zh-cmn-Hans\" class=\"\">\\n<head>\\n    <meta http-equiv=\"Content-Type\" content=\"text/html; charset=utf-8\">\\n    <meta name=\"renderer\" content=\"webkit\">\\n    <meta name=\"referrer\" content=\"always\">\\n    <meta name=\"google-site-verification\" content=\"ok0wCgT20tBBgo9_zat2iAcimtN4Ftf5ccsh092Xeyw\" />\\n    <title>\\n        蜘蛛侠：英雄远征 (豆瓣)\\n</title>\\n    \\n    <meta name=\"baidu-site-verification\" content=\"cZdR4xxR7RxmM4zE\" />\\n    <meta http-equiv=\"Pragma\" content=\"no-cache\">\\n    <meta http-equiv=\"Expires\" content=\"Sun, 6 Mar 2005 01:00:00 GMT\">\\n    \\n    <link rel=\"apple-touch-icon\" href=\"https://img3.doubanio.com/f/movie/d59b2715fdea4968a450ee5f6c95c7d7a2030065/pics/movie/apple-touch-icon.png\">\\n    <link href=\"https://img3.doubanio.com/f/shire/52c9997d6d42db58eab418e976a14d5f3eff981e/css/douban.css\" rel=\"stylesheet\" type=\"text/css\">\\n    <link href=\"https://img3.doubanio.com/f/shire/ae3f5a3e3085968370b1fc63afcecb22d3284848/css/separation/_all.css\" rel=\"stylesheet\" type=\"text/css\">\\n    <link href=\"https://img3.doubanio.com/f/movie/8864d3756094f5272d3c93e30ee2e324665855b0/css/movie/base/init.css\" rel=\"stylesheet\">\\n    <script type=\"text/javascript\">var _head_start = new Date();</script>\\n    <script type=\"text/javascript\" src=\"https://img3.doubanio.com/f/movie/0495cb173e298c28593766009c7b0a953246c5b5/js/movie/lib/jquery.js\"></script>\\n    <script type=\"text/javascript\" src=\"https://img3.doubanio.com/f/shire/1316664523258f7b8b536e4ce45afc9cb37b8963/js/douban.js\"></script>\\n    <script type=\"text/javascript\" src=\"https://img3.doubanio.com/f/shire/0efdc63b77f895eaf85281fb0e44d435c6239a3f/js/separation/_all.js\"></script>\\n    \\n    <meta name=\"keywords\" content=\"蜘蛛侠：英雄远征,Spider-Man: Far From Home,蜘蛛侠：英雄远征影评,剧情介绍,电影图片,预告片,影讯,在线购票,论坛\">\\n    <meta name=\"description\" content=\"蜘蛛侠：英雄远征电影简介和剧情介绍,蜘蛛侠：英雄远征影评、图片、预告片、影讯、论坛、在线购票\">\\n    <meta name=\"mobile-agent\" content=\"format=html5; url=http://m.douban.com/movie/subject/26931786/\"/>\\n    <link rel=\"alternate\" href=\"android-app://com.douban.movie/doubanmovie/subject/26931786/\" />\\n    <link rel=\"stylesheet\" href=\"https://img3.doubanio.com/dae/cdnlib/libs/LikeButton/1.0.5/style.min.css\">\\n    <script type=\"text/javascript\" src=\"https://img3.doubanio.com/f/shire/77323ae72a612bba8b65f845491513ff3329b1bb/js/do.js\" data-cfg-autoload=\"false\"></script>\\n    <script type=\"text/javascript\">\\n      Do.add(\\'dialog\\', {path: \\'https://img3.doubanio.com/f/shire/383a6e43f2108dc69e3ff2681bc4dc6c72a5ffb0/js/ui/dialog.js\\', type: \\'js\\'});\\n      Do.add(\\'dialog-css\\', {path: \\'https://img3.doubanio.com/f/shire/8377b9498330a2e6f056d863987cc7a37eb4d486/css/ui/dialog.css\\', type: \\'css\\'});\\n      Do.add(\\'handlebarsjs\\', {path: \\'https://img3.doubanio.com/f/movie/3d4f8e4a8918718256450eb6e57ec8e1f7a2e14b/js/movie/lib/handlebars.current.js\\', type: \\'js\\'});\\n    </script>\\n    \\n  <script type=\\'text/javascript\\'>\\n  var _vwo_code = (function() {\\n    var account_id = 249272,\\n      settings_tolerance = 0,\\n      library_tolerance = 2500,\\n      use_existing_jquery = false,\\n      // DO NOT EDIT BELOW THIS LINE\\n      f=false,d=document;return{use_existing_jquery:function(){return use_existing_jquery;},library_tolerance:function(){return library_tolerance;},finish:function(){if(!f){f=true;var a=d.getElementById(\\'_vis_opt_path_hides\\');if(a)a.parentNode.removeChild(a);}},finished:function(){return f;},load:function(a){var b=d.createElement(\\'script\\');b.src=a;b.type=\\'text/javascript\\';b.innerText;b.onerror=function(){_vwo_code.finish();};d.getElementsByTagName(\\'head\\')[0].appendChild(b);},init:function(){settings_timer=setTimeout(\\'_vwo_code.finish()\\',settings_tolerance);var a=d.createElement(\\'style\\'),b=\\'body{opacity:0 !important;filter:alpha(opacity=0) !important;background:none !important;}\\',h=d.getElementsByTagName(\\'head\\')[0];a.setAttribute(\\'id\\',\\'_vis_opt_path_hides\\');a.setAttribute(\\'type\\',\\'text/css\\');if(a.styleSheet)a.styleSheet.cssText=b;else a.appendChild(d.createTextNode(b));h.appendChild(a);this.load(\\'//dev.visualwebsiteoptimizer.com/j.php?a=\\'+account_id+\\'&u=\\'+encodeURIComponent(d.URL)+\\'&r=\\'+Math.random());return settings_timer;}};}());\\n\\n  +function () {\\n    var bindEvent = function (el, type, handler) {\\n        var $ = window.jQuery || window.Zepto || window.$\\n       if ($ && $.fn && $.fn.on) {\\n           $(el).on(type, handler)\\n       } else if($ && $.fn && $.fn.bind) {\\n           $(el).bind(type, handler)\\n       } else if (el.addEventListener){\\n         el.addEventListener(type, handler, false);\\n       } else if (el.attachEvent){\\n         el.attachEvent(\"on\" + type, handler);\\n       } else {\\n         el[\"on\" + type] = handler;\\n       }\\n     }\\n\\n    var _origin_load = _vwo_code.load\\n    _vwo_code.load = function () {\\n      var args = [].slice.call(arguments)\\n      bindEvent(window, \\'load\\', function () {\\n        _origin_load.apply(_vwo_code, args)\\n      })\\n    }\\n  }()\\n\\n  _vwo_settings_timer = _vwo_code.init();\\n  </script>\\n\\n\\n    \\n\\n\\n<script type=\"application/ld+json\">\\n{\\n  \"@context\": \"http://schema.org\",\\n  \"name\": \"蜘蛛侠：英雄远征 Spider-Man: Far From Home\",\\n  \"url\": \"/subject/26931786/\",\\n  \"image\": \"https://img3.doubanio.com/view/photo/s_ratio_poster/public/p2558293106.jpg\",\\n  \"director\": \\n  [\\n    {\\n      \"@type\": \"Person\",\\n      \"url\": \"/celebrity/1350194/\",\\n      \"name\": \"乔·沃茨 Jon Watts\"\\n    }\\n  ]\\n,\\n  \"author\": \\n  [\\n    {\\n      \"@type\": \"Person\",\\n      \"url\": \"/celebrity/1331505/\",\\n      \"name\": \"克里斯·麦克纳 Chris McKenna\"\\n    }\\n    ,\\n    {\\n      \"@type\": \"Person\",\\n      \"url\": \"/celebrity/1368514/\",\\n      \"name\": \"埃里克·萨默斯 Erik Sommers\"\\n    }\\n    ,\\n    {\\n      \"@type\": \"Person\",\\n      \"url\": \"/celebrity/1041593/\",\\n      \"name\": \"史蒂夫·迪特寇 Steve Ditko\"\\n    }\\n    ,\\n    {\\n      \"@type\": \"Person\",\\n      \"url\": \"/celebrity/1013888/\",\\n      \"name\": \"斯坦·李 Stan Lee\"\\n    }\\n  ]\\n,\\n  \"actor\": \\n  [\\n    {\\n      \"@type\": \"Person\",\\n      \"url\": \"/celebrity/1325351/\",\\n      \"name\": \"汤姆·赫兰德 Tom Holland\"\\n    }\\n    ,\\n    {\\n      \"@type\": \"Person\",\\n      \"url\": \"/celebrity/1325576/\",\\n      \"name\": \"赞达亚 Zendaya\"\\n    }\\n    ,\\n    {\\n      \"@type\": \"Person\",\\n      \"url\": \"/celebrity/1048002/\",\\n      \"name\": \"杰克·吉伦哈尔 Jake Gyllenhaal\"\\n    }\\n    ,\\n    {\\n      \"@type\": \"Person\",\\n      \"url\": \"/celebrity/1000018/\",\\n      \"name\": \"寇碧·史莫德斯 Cobie Smulders\"\\n    }\\n    ,\\n    {\\n      \"@type\": \"Person\",\\n      \"url\": \"/celebrity/1054408/\",\\n      \"name\": \"塞缪尔·杰克逊 Samuel L. Jackson\"\\n    }\\n    ,\\n    {\\n      \"@type\": \"Person\",\\n      \"url\": \"/celebrity/1027164/\",\\n      \"name\": \"乔恩·费儒 Jon Favreau\"\\n    }\\n    ,\\n    {\\n      \"@type\": \"Person\",\\n      \"url\": \"/celebrity/1047974/\",\\n      \"name\": \"玛丽莎·托梅 Marisa Tomei\"\\n    }\\n    ,\\n    {\\n      \"@type\": \"Person\",\\n      \"url\": \"/celebrity/1376777/\",\\n      \"name\": \"雅各布·巴特朗 Jacob Batalon\"\\n    }\\n    ,\\n    {\\n      \"@type\": \"Person\",\\n      \"url\": \"/celebrity/1334837/\",\\n      \"name\": \"安格瑞·赖斯 Angourie Rice\"\\n    }\\n    ,\\n    {\\n      \"@type\": \"Person\",\\n      \"url\": \"/celebrity/1022628/\",\\n      \"name\": \"马丁·斯塔尔 Martin Starr\"\\n    }\\n    ,\\n    {\\n      \"@type\": \"Person\",\\n      \"url\": \"/celebrity/1332456/\",\\n      \"name\": \"瑞米·海依 Remy Hii\"\\n    }\\n    ,\\n    {\\n      \"@type\": \"Person\",\\n      \"url\": \"/celebrity/1344727/\",\\n      \"name\": \"纽曼·阿卡 Numan Acar\"\\n    }\\n    ,\\n    {\\n      \"@type\": \"Person\",\\n      \"url\": \"/celebrity/1204197/\",\\n      \"name\": \"托尼·雷沃罗利 Tony Revolori\"\\n    }\\n    ,\\n    {\\n      \"@type\": \"Person\",\\n      \"url\": \"/celebrity/1036634/\",\\n      \"name\": \"J·B·斯穆夫 J.B. Smoove\"\\n    }\\n    ,\\n    {\\n      \"@type\": \"Person\",\\n      \"url\": \"/celebrity/1120351/\",\\n      \"name\": \"赫米基·马德拉 Hemky Madera\"\\n    }\\n    ,\\n    {\\n      \"@type\": \"Person\",\\n      \"url\": \"/celebrity/1407303/\",\\n      \"name\": \"戴维娜·西塔拉姆 Davina Sitaram\"\\n    }\\n    ,\\n    {\\n      \"@type\": \"Person\",\\n      \"url\": \"/celebrity/1384776/\",\\n      \"name\": \"约瑟夫·朗 Joseph Long\"\\n    }\\n    ,\\n    {\\n      \"@type\": \"Person\",\\n      \"url\": \"/celebrity/1397361/\",\\n      \"name\": \"露丝·霍洛克斯 Ruth Horrocks\"\\n    }\\n    ,\\n    {\\n      \"@type\": \"Person\",\\n      \"url\": \"/celebrity/1392995/\",\\n      \"name\": \"哈廷·帕特尔 Hiten Patel\"\\n    }\\n    ,\\n    {\\n      \"@type\": \"Person\",\\n      \"url\": \"/celebrity/1184242/\",\\n      \"name\": \"杰罗恩·凡·康宁斯伯格 Jeroen van Koningsbrugge\"\\n    }\\n    ,\\n    {\\n      \"@type\": \"Person\",\\n      \"url\": \"/celebrity/1392704/\",\\n      \"name\": \"列尼斯·德洛桑托斯 Leonys Delossantos\"\\n    }\\n    ,\\n    {\\n      \"@type\": \"Person\",\\n      \"url\": \"/celebrity/1392989/\",\\n      \"name\": \"查利·蕾娅·埃斯奎尔 Charlie Rhea Esquér\"\\n    }\\n    ,\\n    {\\n      \"@type\": \"Person\",\\n      \"url\": \"/celebrity/1393240/\",\\n      \"name\": \"费斯·洛根 Faith Logan\"\\n    }\\n    ,\\n    {\\n      \"@type\": \"Person\",\\n      \"url\": \"/celebrity/1147911/\",\\n      \"name\": \"J·K·西蒙斯 J.K. Simmons\"\\n    }\\n    ,\\n    {\\n      \"@type\": \"Person\",\\n      \"url\": \"/celebrity/1016681/\",\\n      \"name\": \"小罗伯特·唐尼 Robert Downey Jr.\"\\n    }\\n    ,\\n    {\\n      \"@type\": \"Person\",\\n      \"url\": \"/celebrity/1344847/\",\\n      \"name\": \"埃莱娜·卡多纳 Hélène Cardona\"\\n    }\\n    ,\\n    {\\n      \"@type\": \"Person\",\\n      \"url\": \"/celebrity/1376970/\",\\n      \"name\": \"小豪尔赫·兰登伯格 Jorge Lendeborg Jr.\"\\n    }\\n    ,\\n    {\\n      \"@type\": \"Person\",\\n      \"url\": \"/celebrity/1326746/\",\\n      \"name\": \"托妮·伽恩 Toni Garrn\"\\n    }\\n    ,\\n    {\\n      \"@type\": \"Person\",\\n      \"url\": \"/celebrity/1348031/\",\\n      \"name\": \"迈克尔·曼多 Michael Mando\"\\n    }\\n    ,\\n    {\\n      \"@type\": \"Person\",\\n      \"url\": \"/celebrity/1045545/\",\\n      \"name\": \"安东尼·莫利纳利 Anthony Molinari\"\\n    }\\n    ,\\n    {\\n      \"@type\": \"Person\",\\n      \"url\": \"/celebrity/1367815/\",\\n      \"name\": \"乔·惠特利 Jo Wheatley\"\\n    }\\n  ]\\n,\\n  \"datePublished\": \"2019-06-28\",\\n  \"genre\": [\"\\\\u52a8\\\\u4f5c\", \"\\\\u79d1\\\\u5e7b\", \"\\\\u5192\\\\u9669\"],\\n  \"duration\": \"PT2H7M\",\\n  \"description\": \"最受关注的漫威超级英雄大片《蜘蛛侠：英雄远征》依旧由导演乔·沃茨执导，汤姆·赫兰德继续饰演蜘蛛侠彼得·帕克。此次蜘蛛侠将前往欧洲展开新的征程，并将对抗由杰克·吉伦哈尔加盟饰演的大反派神秘客，赞达亚、雅...\",\\n  \"@type\": \"Movie\",\\n  \"aggregateRating\": {\\n    \"@type\": \"AggregateRating\",\\n    \"ratingCount\": \"254601\",\\n    \"bestRating\": \"10\",\\n    \"worstRating\": \"2\",\\n    \"ratingValue\": \"8.0\"\\n  }\\n}\\n</script>\\n\\n\\n    <style type=\"text/css\">\\n  \\n</style>\\n    <style type=\"text/css\">img { max-width: 100%; }</style>\\n    <script type=\"text/javascript\"></script>\\n    <link rel=\"stylesheet\" href=\"https://img3.doubanio.com/misc/mixed_static/59f798f5b75e51f0.css\">\\n\\n    <link rel=\"shortcut icon\" href=\"https://img3.doubanio.com/favicon.ico\" type=\"image/x-icon\">\\n</head>\\n\\n<body>\\n  \\n    <script type=\"text/javascript\">var _body_start = new Date();</script>\\n\\n    \\n    \\n\\n\\n\\n    <link href=\"//img3.doubanio.com/dae/accounts/resources/ec819da/shire/bundle.css\" rel=\"stylesheet\" type=\"text/css\">\\n\\n\\n\\n<div id=\"db-global-nav\" class=\"global-nav\">\\n  <div class=\"bd\">\\n    \\n<div class=\"top-nav-info\">\\n  <a href=\"https://accounts.douban.com/passport/login?source=movie\" class=\"nav-login\" rel=\"nofollow\">登录/注册</a>\\n</div>\\n\\n\\n    <div class=\"top-nav-doubanapp\">\\n  <a href=\"https://www.douban.com/doubanapp/app?channel=top-nav\" class=\"lnk-doubanapp\">下载豆瓣客户端</a>\\n  <div id=\"doubanapp-tip\">\\n    <a href=\"https://www.douban.com/doubanapp/app?channel=qipao\" class=\"tip-link\">豆瓣 <span class=\"version\">6.0</span> 全新发布</a>\\n    <a href=\"javascript: void 0;\" class=\"tip-close\">×</a>\\n  </div>\\n  <div id=\"top-nav-appintro\" class=\"more-items\">\\n    <p class=\"appintro-title\">豆瓣</p>\\n    <p class=\"qrcode\">扫码直接下载</p>\\n    <div class=\"download\">\\n      <a href=\"https://www.douban.com/doubanapp/redirect?channel=top-nav&direct_dl=1&download=iOS\">iPhone</a>\\n      <span>·</span>\\n      <a href=\"https://www.douban.com/doubanapp/redirect?channel=top-nav&direct_dl=1&download=Android\" class=\"download-android\">Android</a>\\n    </div>\\n  </div>\\n</div>\\n\\n    \\n\\n\\n<div class=\"global-nav-items\">\\n  <ul>\\n    <li class=\"\">\\n      <a href=\"https://www.douban.com\" target=\"_blank\" data-moreurl-dict=\"{&quot;from&quot;:&quot;top-nav-click-main&quot;,&quot;uid&quot;:&quot;0&quot;}\">豆瓣</a>\\n    </li>\\n    <li class=\"\">\\n      <a href=\"https://book.douban.com\" target=\"_blank\" data-moreurl-dict=\"{&quot;from&quot;:&quot;top-nav-click-book&quot;,&quot;uid&quot;:&quot;0&quot;}\">读书</a>\\n    </li>\\n    <li class=\"on\">\\n      <a href=\"https://movie.douban.com\"  data-moreurl-dict=\"{&quot;from&quot;:&quot;top-nav-click-movie&quot;,&quot;uid&quot;:&quot;0&quot;}\">电影</a>\\n    </li>\\n    <li class=\"\">\\n      <a href=\"https://music.douban.com\" target=\"_blank\" data-moreurl-dict=\"{&quot;from&quot;:&quot;top-nav-click-music&quot;,&quot;uid&quot;:&quot;0&quot;}\">音乐</a>\\n    </li>\\n    <li class=\"\">\\n      <a href=\"https://www.douban.com/location\" target=\"_blank\" data-moreurl-dict=\"{&quot;from&quot;:&quot;top-nav-click-location&quot;,&quot;uid&quot;:&quot;0&quot;}\">同城</a>\\n    </li>\\n    <li class=\"\">\\n      <a href=\"https://www.douban.com/group\" target=\"_blank\" data-moreurl-dict=\"{&quot;from&quot;:&quot;top-nav-click-group&quot;,&quot;uid&quot;:&quot;0&quot;}\">小组</a>\\n    </li>\\n    <li class=\"\">\\n      <a href=\"https://read.douban.com&#47;?dcs=top-nav&amp;dcm=douban\" target=\"_blank\" data-moreurl-dict=\"{&quot;from&quot;:&quot;top-nav-click-read&quot;,&quot;uid&quot;:&quot;0&quot;}\">阅读</a>\\n    </li>\\n    <li class=\"\">\\n      <a href=\"https://douban.fm&#47;?from_=shire_top_nav\" target=\"_blank\" data-moreurl-dict=\"{&quot;from&quot;:&quot;top-nav-click-fm&quot;,&quot;uid&quot;:&quot;0&quot;}\">FM</a>\\n    </li>\\n    <li class=\"\">\\n      <a href=\"https://time.douban.com&#47;?dt_time_source=douban-web_top_nav\" target=\"_blank\" data-moreurl-dict=\"{&quot;from&quot;:&quot;top-nav-click-time&quot;,&quot;uid&quot;:&quot;0&quot;}\">时间</a>\\n    </li>\\n    <li class=\"\">\\n      <a href=\"https://market.douban.com&#47;?utm_campaign=douban_top_nav&amp;utm_source=douban&amp;utm_medium=pc_web\" target=\"_blank\" data-moreurl-dict=\"{&quot;from&quot;:&quot;top-nav-click-market&quot;,&quot;uid&quot;:&quot;0&quot;}\">豆品</a>\\n    </li>\\n    <li>\\n      <a href=\"#more\" class=\"bn-more\"><span>更多</span></a>\\n      <div class=\"more-items\">\\n        <table cellpadding=\"0\" cellspacing=\"0\">\\n          <tbody>\\n            <tr>\\n              <td>\\n                <a href=\"https://ypy.douban.com\" target=\"_blank\" data-moreurl-dict=\"{&quot;from&quot;:&quot;top-nav-click-ypy&quot;,&quot;uid&quot;:&quot;0&quot;}\">豆瓣摄影</a>\\n              </td>\\n            </tr>\\n          </tbody>\\n        </table>\\n      </div>\\n    </li>\\n  </ul>\\n</div>\\n\\n  </div>\\n</div>\\n<script>\\n  ;window._GLOBAL_NAV = {\\n    DOUBAN_URL: \"https://www.douban.com\",\\n    N_NEW_NOTIS: 0,\\n    N_NEW_DOUMAIL: 0\\n  };\\n</script>\\n\\n\\n\\n    <script src=\"//img3.doubanio.com/dae/accounts/resources/ec819da/shire/bundle.js\" defer=\"defer\"></script>\\n\\n\\n\\n\\n    \\n\\n\\n\\n    <link href=\"//img3.doubanio.com/dae/accounts/resources/ec819da/movie/bundle.css\" rel=\"stylesheet\" type=\"text/css\">\\n\\n\\n\\n\\n<div id=\"db-nav-movie\" class=\"nav\">\\n  <div class=\"nav-wrap\">\\n  <div class=\"nav-primary\">\\n    <div class=\"nav-logo\">\\n      <a href=\"https:&#47;&#47;movie.douban.com\">豆瓣电影</a>\\n    </div>\\n    <div class=\"nav-search\">\\n      <form action=\"https:&#47;&#47;movie.douban.com/subject_search\" method=\"get\">\\n        <fieldset>\\n          <legend>搜索：</legend>\\n          <label for=\"inp-query\">\\n          </label>\\n          <div class=\"inp\"><input id=\"inp-query\" name=\"search_text\" size=\"22\" maxlength=\"60\" placeholder=\"搜索电影、电视剧、综艺、影人\" value=\"\"></div>\\n          <div class=\"inp-btn\"><input type=\"submit\" value=\"搜索\"></div>\\n          <input type=\"hidden\" name=\"cat\" value=\"1002\" />\\n        </fieldset>\\n      </form>\\n    </div>\\n  </div>\\n  </div>\\n  <div class=\"nav-secondary\">\\n    \\n\\n<div class=\"nav-items\">\\n  <ul>\\n    <li    ><a href=\"https://movie.douban.com/cinema/nowplaying/\"\\n     >影讯&购票</a>\\n    </li>\\n    <li    ><a href=\"https://movie.douban.com/explore\"\\n     >选电影</a>\\n    </li>\\n    <li    ><a href=\"https://movie.douban.com/tv/\"\\n     >电视剧</a>\\n    </li>\\n    <li    ><a href=\"https://movie.douban.com/chart\"\\n     >排行榜</a>\\n    </li>\\n    <li    ><a href=\"https://movie.douban.com/tag/\"\\n     >分类</a>\\n    </li>\\n    <li    ><a href=\"https://movie.douban.com/review/best/\"\\n     >影评</a>\\n    </li>\\n    <li    ><a href=\"https://movie.douban.com/annual/2018?source=navigation\"\\n     >2018年度榜单</a>\\n    </li>\\n    <li    ><a href=\"https://www.douban.com/standbyme/2018?source=navigation\"\\n     >2018书影音报告</a>\\n    </li>\\n  </ul>\\n</div>\\n\\n    <a href=\"https://movie.douban.com/annual/2018?source=movie_navigation\" class=\"movieannual2018\"></a>\\n  </div>\\n</div>\\n\\n<script id=\"suggResult\" type=\"text/x-jquery-tmpl\">\\n  <li data-link=\"{{= url}}\">\\n            <a href=\"{{= url}}\" onclick=\"moreurl(this, {from:\\'movie_search_sugg\\', query:\\'{{= keyword }}\\', subject_id:\\'{{= id}}\\', i: \\'{{= index}}\\', type: \\'{{= type}}\\'})\">\\n            <img src=\"{{= img}}\" width=\"40\" />\\n            <p>\\n                <em>{{= title}}</em>\\n                {{if year}}\\n                    <span>{{= year}}</span>\\n                {{/if}}\\n                {{if sub_title}}\\n                    <br /><span>{{= sub_title}}</span>\\n                {{/if}}\\n                {{if address}}\\n                    <br /><span>{{= address}}</span>\\n                {{/if}}\\n                {{if episode}}\\n                    {{if episode==\"unknow\"}}\\n                        <br /><span>集数未知</span>\\n                    {{else}}\\n                        <br /><span>共{{= episode}}集</span>\\n                    {{/if}}\\n                {{/if}}\\n            </p>\\n        </a>\\n        </li>\\n  </script>\\n\\n\\n\\n\\n    <script src=\"//img3.doubanio.com/dae/accounts/resources/ec819da/movie/bundle.js\" defer=\"defer\"></script>\\n\\n\\n\\n\\n\\n    \\n    <div id=\"wrapper\">\\n        \\n\\n        \\n    <div id=\"content\">\\n        \\n\\n    <div id=\"dale_movie_subject_top_icon\"></div>\\n    <h1>\\n        <span property=\"v:itemreviewed\">蜘蛛侠：英雄远征 Spider-Man: Far From Home</span>\\n            <span class=\"year\">(2019)</span>\\n    </h1>\\n\\n        <div class=\"grid-16-8 clearfix\">\\n            \\n\\n            \\n            <div class=\"article\">\\n                \\n    \\n\\n    \\n\\n\\n\\n\\n\\n        <div class=\"indent clearfix\">\\n            <div class=\"subjectwrap clearfix\">\\n                <div class=\"subject clearfix\">\\n                    \\n\\n\\n\\n<div id=\"mainpic\" class=\"\">\\n    <a class=\"nbgnbg\" href=\"https://movie.douban.com/subject/26931786/photos?type=R\" title=\"点击看更多海报\">\\n        <img src=\"https://img3.doubanio.com/view/photo/s_ratio_poster/public/p2558293106.jpg\" title=\"点击看更多海报\" alt=\"Spider-Man: Far From Home\" rel=\"v:image\" />\\n   </a>\\n</div>\\n\\n                    \\n\\n\\n<div id=\"info\">\\n        <span ><span class=\\'pl\\'>导演</span>: <span class=\\'attrs\\'><a href=\"/celebrity/1350194/\" rel=\"v:directedBy\">乔·沃茨</a></span></span><br/>\\n        <span ><span class=\\'pl\\'>编剧</span>: <span class=\\'attrs\\'><a href=\"/celebrity/1331505/\">克里斯·麦克纳</a> / <a href=\"/celebrity/1368514/\">埃里克·萨默斯</a> / <a href=\"/celebrity/1041593/\">史蒂夫·迪特寇</a> / <a href=\"/celebrity/1013888/\">斯坦·李</a></span></span><br/>\\n        <span class=\"actor\"><span class=\\'pl\\'>主演</span>: <span class=\\'attrs\\'><a href=\"/celebrity/1325351/\" rel=\"v:starring\">汤姆·赫兰德</a> / <a href=\"/celebrity/1325576/\" rel=\"v:starring\">赞达亚</a> / <a href=\"/celebrity/1048002/\" rel=\"v:starring\">杰克·吉伦哈尔</a> / <a href=\"/celebrity/1000018/\" rel=\"v:starring\">寇碧·史莫德斯</a> / <a href=\"/celebrity/1054408/\" rel=\"v:starring\">塞缪尔·杰克逊</a> / <a href=\"/celebrity/1027164/\" rel=\"v:starring\">乔恩·费儒</a> / <a href=\"/celebrity/1047974/\" rel=\"v:starring\">玛丽莎·托梅</a> / <a href=\"/celebrity/1376777/\" rel=\"v:starring\">雅各布·巴特朗</a> / <a href=\"/celebrity/1334837/\" rel=\"v:starring\">安格瑞·赖斯</a> / <a href=\"/celebrity/1022628/\" rel=\"v:starring\">马丁·斯塔尔</a> / <a href=\"/celebrity/1332456/\" rel=\"v:starring\">瑞米·海依</a> / <a href=\"/celebrity/1344727/\" rel=\"v:starring\">纽曼·阿卡</a> / <a href=\"/celebrity/1204197/\" rel=\"v:starring\">托尼·雷沃罗利</a> / <a href=\"/celebrity/1036634/\" rel=\"v:starring\">J·B·斯穆夫</a> / <a href=\"/celebrity/1120351/\" rel=\"v:starring\">赫米基·马德拉</a> / <a href=\"/celebrity/1407303/\" rel=\"v:starring\">戴维娜·西塔拉姆</a> / <a href=\"/celebrity/1384776/\" rel=\"v:starring\">约瑟夫·朗</a> / <a href=\"/celebrity/1397361/\" rel=\"v:starring\">露丝·霍洛克斯</a> / <a href=\"/celebrity/1392995/\" rel=\"v:starring\">哈廷·帕特尔</a> / <a href=\"/celebrity/1184242/\" rel=\"v:starring\">杰罗恩·凡·康宁斯伯格</a> / <a href=\"/celebrity/1392704/\" rel=\"v:starring\">列尼斯·德洛桑托斯</a> / <a href=\"/celebrity/1392989/\" rel=\"v:starring\">查利·蕾娅·埃斯奎尔</a> / <a href=\"/celebrity/1393240/\" rel=\"v:starring\">费斯·洛根</a> / <a href=\"/celebrity/1147911/\" rel=\"v:starring\">J·K·西蒙斯</a> / <a href=\"/celebrity/1016681/\" rel=\"v:starring\">小罗伯特·唐尼</a></span></span><br/>\\n        <span class=\"pl\">类型:</span> <span property=\"v:genre\">动作</span> / <span property=\"v:genre\">科幻</span> / <span property=\"v:genre\">冒险</span><br/>\\n        \\n        <span class=\"pl\">制片国家/地区:</span> 美国<br/>\\n        <span class=\"pl\">语言:</span> 英语<br/>\\n        <span class=\"pl\">上映日期:</span> <span property=\"v:initialReleaseDate\" content=\"2019-06-28(中国大陆)\">2019-06-28(中国大陆)</span> / <span property=\"v:initialReleaseDate\" content=\"2019-07-02(美国)\">2019-07-02(美国)</span><br/>\\n        <span class=\"pl\">片长:</span> <span property=\"v:runtime\" content=\"127\">127分钟</span><br/>\\n        <span class=\"pl\">又名:</span> 蜘蛛侠：决战千里(港) / 蜘蛛侠：离家日(台) / 蜘蛛侠2 / 蜘蛛侠：归来2 / 蜘蛛侠：英雄归来2 / 蜘蛛侠2：英雄离乡 / 蜘蛛侠2：远离家乡 / 蜘蛛侠：远离故乡 / 新蜘蛛侠2 / 蜘蛛侠2：离家出走(豆友译名)<br/>\\n        <span class=\"pl\">IMDb链接:</span> <a href=\"http://www.imdb.com/title/tt6320628\" target=\"_blank\" rel=\"nofollow\">tt6320628</a><br>\\n\\n</div>\\n\\n\\n\\n\\n                </div>\\n                    \\n\\n\\n<div id=\"interest_sectl\">\\n    <div class=\"rating_wrap clearbox\" rel=\"v:rating\">\\n        <div class=\"clearfix\">\\n          <div class=\"rating_logo ll\">豆瓣评分</div>\\n          <div class=\"output-btn-wrap rr\" style=\"display:none\">\\n            <img src=\"https://img3.doubanio.com/f/movie/692e86756648f29457847c5cc5e161d6f6b8aaac/pics/movie/reference.png\" />\\n            <a class=\"download-output-image\" href=\"#\">引用</a>\\n          </div>\\n          \\n          \\n        </div>\\n        \\n\\n\\n\\n<div class=\"rating_self clearfix\" typeof=\"v:Rating\">\\n    <strong class=\"ll rating_num\" property=\"v:average\">8.0</strong>\\n    <span property=\"v:best\" content=\"10.0\"></span>\\n    <div class=\"rating_right \">\\n        <div class=\"ll bigstar bigstar40\"></div>\\n        <div class=\"rating_sum\">\\n                <a href=\"collections\" class=\"rating_people\">\\n                    <span property=\"v:votes\">254713</span>人评价\\n                </a>\\n        </div>\\n    </div>\\n</div>\\n<div class=\"ratings-on-weight\">\\n    \\n        <div class=\"item\">\\n        \\n        <span class=\"stars5 starstop\" title=\"力荐\">\\n            5星\\n        </span>\\n        <div class=\"power\" style=\"width:34px\"></div>\\n        <span class=\"rating_per\">26.3%</span>\\n        <br />\\n        </div>\\n        <div class=\"item\">\\n        \\n        <span class=\"stars4 starstop\" title=\"推荐\">\\n            4星\\n        </span>\\n        <div class=\"power\" style=\"width:64px\"></div>\\n        <span class=\"rating_per\">48.8%</span>\\n        <br />\\n        </div>\\n        <div class=\"item\">\\n        \\n        <span class=\"stars3 starstop\" title=\"还行\">\\n            3星\\n        </span>\\n        <div class=\"power\" style=\"width:29px\"></div>\\n        <span class=\"rating_per\">22.4%</span>\\n        <br />\\n        </div>\\n        <div class=\"item\">\\n        \\n        <span class=\"stars2 starstop\" title=\"较差\">\\n            2星\\n        </span>\\n        <div class=\"power\" style=\"width:2px\"></div>\\n        <span class=\"rating_per\">2.1%</span>\\n        <br />\\n        </div>\\n        <div class=\"item\">\\n        \\n        <span class=\"stars1 starstop\" title=\"很差\">\\n            1星\\n        </span>\\n        <div class=\"power\" style=\"width:0px\"></div>\\n        <span class=\"rating_per\">0.4%</span>\\n        <br />\\n        </div>\\n</div>\\n\\n    </div>\\n        <div class=\"rating_betterthan\">\\n            好于 <a href=\"/typerank?type_name=科幻&type=17&interval_id=90:80&action=\">88% 科幻片</a><br/>\\n            好于 <a href=\"/typerank?type_name=动作&type=5&interval_id=100:90&action=\">91% 动作片</a><br/>\\n        </div>\\n</div>\\n\\n\\n                \\n            </div>\\n                \\n\\n\\n\\n\\n<div id=\"interest_sect_level\" class=\"clearfix\">\\n        \\n            <a href=\"https://www.douban.com/reason=collectwish&amp;ck=\" rel=\"nofollow\" class=\"j a_show_login colbutt ll\" name=\"pbtn-26931786-wish\">\\n                <span>想看</span>\\n            </a>\\n            <a href=\"https://www.douban.com/reason=collectcollect&amp;ck=\" rel=\"nofollow\" class=\"j a_show_login colbutt ll\" name=\"pbtn-26931786-collect\">\\n                <span>看过</span>\\n            </a>\\n        <div class=\"ll j a_stars\">\\n            \\n    \\n    评价:\\n    <span id=\"rating\"> <span id=\"stars\" data-solid=\"https://img3.doubanio.com/f/shire/5a2327c04c0c231bced131ddf3f4467eb80c1c86/pics/rating_icons/star_onmouseover.png\" data-hollow=\"https://img3.doubanio.com/f/shire/2520c01967207a1735171056ec588c8c1257e5f8/pics/rating_icons/star_hollow_hover.png\" data-solid-2x=\"https://img3.doubanio.com/f/shire/7258904022439076d57303c3b06ad195bf1dc41a/pics/rating_icons/star_onmouseover@2x.png\" data-hollow-2x=\"https://img3.doubanio.com/f/shire/95cc2fa733221bb8edd28ad56a7145a5ad33383e/pics/rating_icons/star_hollow_hover@2x.png\">\\n\\n            <a href=\"https://www.douban.com/register?reason=rate\" class=\"j a_show_login\" name=\"pbtn-26931786-1\">\\n        <img src=\"https://img3.doubanio.com/f/shire/2520c01967207a1735171056ec588c8c1257e5f8/pics/rating_icons/star_hollow_hover.png\" id=\"star1\" width=\"16\" height=\"16\"/></a>\\n            <a href=\"https://www.douban.com/register?reason=rate\" class=\"j a_show_login\" name=\"pbtn-26931786-2\">\\n        <img src=\"https://img3.doubanio.com/f/shire/2520c01967207a1735171056ec588c8c1257e5f8/pics/rating_icons/star_hollow_hover.png\" id=\"star2\" width=\"16\" height=\"16\"/></a>\\n            <a href=\"https://www.douban.com/register?reason=rate\" class=\"j a_show_login\" name=\"pbtn-26931786-3\">\\n        <img src=\"https://img3.doubanio.com/f/shire/2520c01967207a1735171056ec588c8c1257e5f8/pics/rating_icons/star_hollow_hover.png\" id=\"star3\" width=\"16\" height=\"16\"/></a>\\n            <a href=\"https://www.douban.com/register?reason=rate\" class=\"j a_show_login\" name=\"pbtn-26931786-4\">\\n        <img src=\"https://img3.doubanio.com/f/shire/2520c01967207a1735171056ec588c8c1257e5f8/pics/rating_icons/star_hollow_hover.png\" id=\"star4\" width=\"16\" height=\"16\"/></a>\\n            <a href=\"https://www.douban.com/register?reason=rate\" class=\"j a_show_login\" name=\"pbtn-26931786-5\">\\n        <img src=\"https://img3.doubanio.com/f/shire/2520c01967207a1735171056ec588c8c1257e5f8/pics/rating_icons/star_hollow_hover.png\" id=\"star5\" width=\"16\" height=\"16\"/></a>\\n    </span><span id=\"rateword\" class=\"pl\"></span>\\n    <input id=\"n_rating\" type=\"hidden\" value=\"\"  />\\n    </span>\\n\\n        </div>\\n    \\n\\n</div>\\n\\n\\n            \\n\\n\\n\\n\\n\\n\\n\\n\\n\\n\\n\\n\\n\\n\\n\\n\\n\\n\\n<div class=\"gtleft\">\\n    <ul class=\"ul_subject_menu bicelink color_gray pt6 clearfix\">\\n        \\n    \\n        \\n                <li> \\n    <img src=\"https://img3.doubanio.com/f/shire/cc03d0fcf32b7ce3af7b160a0b85e5e66b47cc42/pics/short-comment.gif\" />&nbsp;\\n        <a onclick=\"moreurl(this, {from:\\'mv_sbj_wr_cmnt_login\\'})\" class=\"j a_show_login\" href=\"https://www.douban.com/register?reason=review\" rel=\"nofollow\">写短评</a>\\n </li>\\n                    <li> \\n    \\n    <img src=\"https://img3.doubanio.com/f/shire/5bbf02b7b5ec12b23e214a580b6f9e481108488c/pics/add-review.gif\" />&nbsp;\\n        <a onclick=\"moreurl(this, {from:\\'mv_sbj_wr_rv_login\\'})\" class=\"j a_show_login\" href=\"https://www.douban.com/register?reason=review\" rel=\"nofollow\">写影评</a>\\n </li>\\n                    <li> \\n    <img src=\"https://img3.doubanio.com/f/shire/61cc48ba7c40e0272d46bb93fe0dc514f3b71ec5/pics/add-doulist.gif\" />&nbsp;\\n    <a class=\"\" href=\"/subject/26931786/questions/ask?from=subject_top\">提问题</a>\\n </li>\\n                <li> \\n    \\n\\n\\n\\n </li>\\n                <li> \\n   \\n\\n   \\n    \\n    <span class=\"rec\" id=\"电影-26931786\">\\n    <a href= \"#\"\\n        data-type=\"电影\"\\n        data-url=\"https://movie.douban.com/subject/26931786/\"\\n        data-desc=\"电影《蜘蛛侠：英雄远征 Spider-Man: Far From Home》 (来自豆瓣) \"\\n        data-title=\"电影《蜘蛛侠：英雄远征 Spider-Man: Far From Home》 (来自豆瓣) \"\\n        data-pic=\"https://img3.doubanio.com/view/photo/s_ratio_poster/public/p2558293106.jpeg\"\\n        class=\"bn-sharing \">\\n        分享到\\n    </a> &nbsp;&nbsp;\\n    </span>\\n\\n    <script>\\n        if (!window.DoubanShareMenuList) {\\n            window.DoubanShareMenuList = [];\\n        }\\n        var __cache_url = __cache_url || {};\\n\\n        (function(u){\\n            if(__cache_url[u]) return;\\n            __cache_url[u] = true;\\n            window.DoubanShareIcons = \\'https://img3.doubanio.com/f/shire/d15ffd71f3f10a7210448fec5a68eaec66e7f7d0/pics/ic_shares.png\\';\\n\\n            var initShareButton = function() {\\n                $.ajax({url:u,dataType:\\'script\\',cache:true});\\n            };\\n\\n            if (typeof Do == \\'function\\' && \\'ready\\' in Do) {\\n                Do(\\n                    \\'https://img3.doubanio.com/f/shire/8377b9498330a2e6f056d863987cc7a37eb4d486/css/ui/dialog.css\\',\\n                    \\'https://img3.doubanio.com/f/shire/383a6e43f2108dc69e3ff2681bc4dc6c72a5ffb0/js/ui/dialog.js\\',\\n                    \\'https://img3.doubanio.com/f/movie/c4ab132ff4d3d64a83854c875ea79b8b541faf12/js/movie/lib/qrcode.min.js\\',\\n                    initShareButton\\n                );\\n            } else if(typeof Douban == \\'object\\' && \\'loader\\' in Douban) {\\n                Douban.loader.batch(\\n                    \\'https://img3.doubanio.com/f/shire/8377b9498330a2e6f056d863987cc7a37eb4d486/css/ui/dialog.css\\',\\n                    \\'https://img3.doubanio.com/f/shire/383a6e43f2108dc69e3ff2681bc4dc6c72a5ffb0/js/ui/dialog.js\\',\\n                    \\'https://img3.doubanio.com/f/movie/c4ab132ff4d3d64a83854c875ea79b8b541faf12/js/movie/lib/qrcode.min.js\\'\\n                ).done(initShareButton);\\n            }\\n\\n        })(\\'https://img3.doubanio.com/f/movie/32be6727ed3ad8f6c4a417d8a086355c3e7d1d27/js/movie/lib/sharebutton.js\\');\\n    </script>\\n\\n\\n  </li>\\n            \\n\\n    </ul>\\n\\n    <script type=\"text/javascript\">\\n        $(function(){\\n            $(\".ul_subject_menu li.rec .bn-sharing\").bind(\"click\", function(){\\n                $.get(\"/blank?sbj_page_click=bn_sharing\");\\n            });\\n            $(\".ul_subject_menu .create_from_menu\").bind(\"click\", function(e){\\n                e.preventDefault();\\n                var $el = $(this);\\n                var glRoot = document.getElementById(\\'gallery-topics-selection\\');\\n                if (window.has_gallery_topics && glRoot) {\\n                    // 判断是否有话题\\n                    glRoot.style.display = \\'block\\';\\n                } else {\\n                    location.href = $el.attr(\\'href\\');\\n                }\\n            });\\n        });\\n    </script>\\n</div>\\n\\n\\n\\n\\n                \\n\\n\\n\\n\\n\\n<div class=\"rec-sec\">\\n<span class=\"rec\">\\n    <script id=\"movie-share\" type=\"text/x-html-snippet\">\\n        \\n    <form class=\"movie-share\" action=\"/j/share\" method=\"POST\">\\n        <div class=\"clearfix form-bd\">\\n            <div class=\"input-area\">\\n                <textarea name=\"text\" class=\"share-text\" cols=\"72\" data-mention-api=\"https://api.douban.com/shuo/in/complete?alt=xd&amp;callback=?\"></textarea>\\n                <input type=\"hidden\" name=\"target-id\" value=\"26931786\">\\n                <input type=\"hidden\" name=\"target-type\" value=\"0\">\\n                <input type=\"hidden\" name=\"title\" value=\"蜘蛛侠：英雄远征 Spider-Man: Far From Home\\u200e (2019)\">\\n                <input type=\"hidden\" name=\"desc\" value=\"导演 乔·沃茨 主演 汤姆·赫兰德 / 赞达亚 / 美国 / 8.0分(254713评价)\">\\n                <input type=\"hidden\" name=\"redir\" value=\"\"/>\\n                <div class=\"mentioned-highlighter\"></div>\\n            </div>\\n\\n            <div class=\"info-area\">\\n                    <img class=\"media\" src=\"https://img3.doubanio.com/view/photo/s_ratio_poster/public/p2558293106.jpg\" />\\n                <strong>蜘蛛侠：英雄远征 Spider-Man: Far From Home\\u200e (2019)</strong>\\n                <p>导演 乔·沃茨 主演 汤姆·赫兰德 / 赞达亚 / 美国 / 8.0分(254713评价)</p>\\n                <p class=\"error server-error\">&nbsp;</p>\\n            </div>\\n        </div>\\n        <div class=\"form-ft\">\\n            <div class=\"form-ft-inner\">\\n                \\n\\n\\n\\n                <span class=\"avail-num-indicator\">140</span>\\n                <span class=\"bn-flat\">\\n                    <input type=\"submit\" value=\"推荐\" />\\n                </span>\\n            </div>\\n        </div>\\n    </form>\\n    \\n    <div id=\"suggest-mention-tmpl\" style=\"display:none;\">\\n        <ul>\\n            {{#users}}\\n            <li id=\"{{uid}}\">\\n              <img src=\"{{avatar}}\">{{{username}}}&nbsp;<span>({{{uid}}})</span>\\n            </li>\\n            {{/users}}\\n        </ul>\\n    </div>\\n\\n\\n    </script>\\n\\n        \\n        <a href=\"/accounts/register?reason=recommend\"  class=\"j a_show_login lnk-sharing\" share-id=\"26931786\" data-mode=\"plain\" data-name=\"蜘蛛侠：英雄远征 Spider-Man: Far From Home\\u200e (2019)\" data-type=\"movie\" data-desc=\"导演 乔·沃茨 主演 汤姆·赫兰德 / 赞达亚 / 美国 / 8.0分(254713评价)\" data-href=\"https://movie.douban.com/subject/26931786/\" data-image=\"https://img3.doubanio.com/view/photo/s_ratio_poster/public/p2558293106.jpg\" data-properties=\"{}\" data-redir=\"\" data-text=\"\" data-apikey=\"\" data-curl=\"\" data-count=\"10\" data-object_kind=\"1002\" data-object_id=\"26931786\" data-target_type=\"rec\" data-target_action=\"0\" data-action_props=\"{&#34;subject_url&#34;:&#34;https:\\\\/\\\\/movie.douban.com\\\\/subject\\\\/26931786\\\\/&#34;,&#34;subject_title&#34;:&#34;蜘蛛侠：英雄远征 Spider-Man: Far From Home\\u200e (2019)&#34;}\">推荐</a>\\n</span>\\n\\n\\n</div>\\n\\n\\n\\n\\n\\n\\n            <script type=\"text/javascript\">\\n                $(function() {\\n                    $(\\'.collect_btn\\', \\'#interest_sect_level\\').each(function() {\\n                        Douban.init_collect_btn(this);\\n                    });\\n                    $(\\'html\\').delegate(\".indent .rec-sec .lnk-sharing\", \"click\", function() {\\n                        moreurl(this, {\\n                            from : \\'mv_sbj_db_share\\'\\n                        });\\n                    });\\n                });\\n            </script>\\n        </div>\\n            \\n\\n\\n    <div id=\"collect_form_26931786\"></div>\\n\\n\\n        \\n\\n\\n\\n<div class=\"related-info\" style=\"margin-bottom:-10px;\">\\n    <a name=\"intro\"></a>\\n    \\n        \\n            \\n            \\n    <h2>\\n        <i class=\"\">蜘蛛侠：英雄远征的剧情简介</i>\\n              · · · · · ·\\n    </h2>\\n\\n            <div class=\"indent\" id=\"link-report\">\\n                    \\n                        <span property=\"v:summary\" class=\"\">\\n                                \\u3000\\u3000最受关注的漫威超级英雄大片《蜘蛛侠：英雄远征》依旧由导演乔·沃茨执导，汤姆·赫兰德继续饰演蜘蛛侠彼得·帕克。此次蜘蛛侠将前往欧洲展开新的征程，并将对抗由杰克·吉伦哈尔加盟饰演的大反派神秘客，赞达亚、雅各布·巴特朗、托尼·雷沃罗利等原班人马也将悉数回归。本片将于2019年7月5日北美上映，经历了第一部的成长经历后，蜘蛛侠又会面临怎样的危机？敬请期待。\\n                                    <br />\\n                                \\u3000\\u3000…\\n                        </span>\\n                        \\n\\n            </div>\\n</div>\\n\\n\\n    \\n\\n\\n\\n\\n\\n\\n\\n\\n<div id=\"celebrities\" class=\"celebrities related-celebrities\">\\n\\n  \\n    <h2>\\n        <i class=\"\">蜘蛛侠：英雄远征的演职员</i>\\n              · · · · · ·\\n            <span class=\"pl\">\\n            (\\n                <a href=\"/subject/26931786/celebrities\">全部 48</a>\\n            )\\n            </span>\\n    </h2>\\n\\n\\n  <ul class=\"celebrities-list from-subject __oneline\">\\n        \\n    \\n\\n    \\n  \\n  <li class=\"celebrity\">\\n    \\n\\n  <a href=\"https://movie.douban.com/celebrity/1350194/\" title=\"乔·沃茨 Jon Watts\" class=\"\">\\n      <div class=\"avatar\" style=\"background-image: url(https://img3.doubanio.com/view/celebrity/s_ratio_celebrity/public/p1435142487.62.jpg)\">\\n    </div>\\n  </a>\\n\\n    <div class=\"info\">\\n      <span class=\"name\"><a href=\"https://movie.douban.com/celebrity/1350194/\" title=\"乔·沃茨 Jon Watts\" class=\"name\">乔·沃茨</a></span>\\n\\n      <span class=\"role\" title=\"导演\">导演</span>\\n\\n    </div>\\n  </li>\\n\\n\\n        \\n    \\n\\n    \\n  \\n  <li class=\"celebrity\">\\n    \\n\\n  <a href=\"https://movie.douban.com/celebrity/1325351/\" title=\"汤姆·赫兰德 Tom Holland\" class=\"\">\\n      <div class=\"avatar\" style=\"background-image: url(https://img1.doubanio.com/view/celebrity/s_ratio_celebrity/public/p1467942867.09.jpg)\">\\n    </div>\\n  </a>\\n\\n    <div class=\"info\">\\n      <span class=\"name\"><a href=\"https://movie.douban.com/celebrity/1325351/\" title=\"汤姆·赫兰德 Tom Holland\" class=\"name\">汤姆·赫兰德</a></span>\\n\\n      <span class=\"role\" title=\"饰 蜘蛛侠 Peter Parker / Spider-Man\">饰 蜘蛛侠 Peter Parker / Spider-Man</span>\\n\\n    </div>\\n  </li>\\n\\n\\n        \\n    \\n\\n    \\n  \\n  <li class=\"celebrity\">\\n    \\n\\n  <a href=\"https://movie.douban.com/celebrity/1325576/\" title=\"赞达亚 Zendaya\" class=\"\">\\n      <div class=\"avatar\" style=\"background-image: url(https://img1.doubanio.com/view/celebrity/s_ratio_celebrity/public/p1543479263.47.jpg)\">\\n    </div>\\n  </a>\\n\\n    <div class=\"info\">\\n      <span class=\"name\"><a href=\"https://movie.douban.com/celebrity/1325576/\" title=\"赞达亚 Zendaya\" class=\"name\">赞达亚</a></span>\\n\\n      <span class=\"role\" title=\"饰 MJ / Michelle Jones\">饰 MJ / Michelle Jones</span>\\n\\n    </div>\\n  </li>\\n\\n\\n        \\n    \\n\\n    \\n  \\n  <li class=\"celebrity\">\\n    \\n\\n  <a href=\"https://movie.douban.com/celebrity/1048002/\" title=\"杰克·吉伦哈尔 Jake Gyllenhaal\" class=\"\">\\n      <div class=\"avatar\" style=\"background-image: url(https://img1.doubanio.com/view/celebrity/s_ratio_celebrity/public/p12737.jpg)\">\\n    </div>\\n  </a>\\n\\n    <div class=\"info\">\\n      <span class=\"name\"><a href=\"https://movie.douban.com/celebrity/1048002/\" title=\"杰克·吉伦哈尔 Jake Gyllenhaal\" class=\"name\">杰克·吉伦哈尔</a></span>\\n\\n      <span class=\"role\" title=\"饰 神秘客 / 昆汀·贝克 Quentin Beck / Mysterio\">饰 神秘客 / 昆汀·贝克 Quentin Beck / Mysterio</span>\\n\\n    </div>\\n  </li>\\n\\n\\n        \\n    \\n\\n    \\n  \\n  <li class=\"celebrity\">\\n    \\n\\n  <a href=\"https://movie.douban.com/celebrity/1000018/\" title=\"寇碧·史莫德斯 Cobie Smulders\" class=\"\">\\n      <div class=\"avatar\" style=\"background-image: url(https://img3.doubanio.com/view/celebrity/s_ratio_celebrity/public/p1415536790.51.jpg)\">\\n    </div>\\n  </a>\\n\\n    <div class=\"info\">\\n      <span class=\"name\"><a href=\"https://movie.douban.com/celebrity/1000018/\" title=\"寇碧·史莫德斯 Cobie Smulders\" class=\"name\">寇碧·史莫德斯</a></span>\\n\\n      <span class=\"role\" title=\"饰 玛莉亚·希尔 Maria Hill\">饰 玛莉亚·希尔 Maria Hill</span>\\n\\n    </div>\\n  </li>\\n\\n\\n        \\n    \\n\\n    \\n  \\n  <li class=\"celebrity\">\\n    \\n\\n  <a href=\"https://movie.douban.com/celebrity/1054408/\" title=\"塞缪尔·杰克逊 Samuel L. Jackson\" class=\"\">\\n      <div class=\"avatar\" style=\"background-image: url(https://img3.doubanio.com/view/celebrity/s_ratio_celebrity/public/p1365913316.45.jpg)\">\\n    </div>\\n  </a>\\n\\n    <div class=\"info\">\\n      <span class=\"name\"><a href=\"https://movie.douban.com/celebrity/1054408/\" title=\"塞缪尔·杰克逊 Samuel L. Jackson\" class=\"name\">塞缪尔·杰克逊</a></span>\\n\\n      <span class=\"role\" title=\"饰 尼克·弗瑞 Nick Furry\">饰 尼克·弗瑞 Nick Furry</span>\\n\\n    </div>\\n  </li>\\n\\n\\n  </ul>\\n</div>\\n\\n\\n    \\n\\n\\n<link rel=\"stylesheet\" href=\"https://img3.doubanio.com/f/verify/16c7e943aee3b1dc6d65f600fcc0f6d62db7dfb4/entry_creator/dist/author_subject/style.css\">\\n<div id=\"author_subject\" class=\"author-wrapper\">\\n    <div class=\"loading\"></div>\\n</div>\\n<script type=\"text/javascript\">\\n    var answerObj = {\\n      ISALL: \\'False\\',\\n      TYPE: \\'movie\\',\\n      SUBJECT_ID: \\'26931786\\',\\n      USER_ID: \\'None\\'\\n    }\\n</script>\\n<script type=\"text/javascript\" src=\"https://img3.doubanio.com/f/movie/61252f2f9b35f08b37f69d17dfe48310dd295347/js/movie/lib/react/15.4/bundle.js\"></script>\\n<script type=\"text/javascript\" src=\"https://img3.doubanio.com/f/verify/ac140ef86262b845d2be7b859e352d8196f3f6d4/entry_creator/dist/author_subject/index.js\"></script>\\n\\n\\n    \\n\\n\\n\\n\\n\\n\\n\\n\\n\\n    \\n    <div id=\"related-pic\" class=\"related-pic\">\\n        \\n    \\n    \\n    <h2>\\n        <i class=\"\">蜘蛛侠：英雄远征的视频和图片</i>\\n              · · · · · ·\\n            <span class=\"pl\">\\n            (\\n                <a href=\"https://movie.douban.com/subject/26931786/trailer#trailer\">预告片41</a>&nbsp;|&nbsp;<a href=\"https://movie.douban.com/subject/26931786/trailer#short_video\">视频评论2</a>&nbsp;·&nbsp;<a href=\"/video/create?subject_id=26931786\">添加</a>&nbsp;|&nbsp;<a href=\"https://movie.douban.com/subject/26931786/all_photos\">图片586</a>&nbsp;·&nbsp;<a href=\"https://movie.douban.com/subject/26931786/mupload\">添加</a>\\n            )\\n            </span>\\n    </h2>\\n\\n\\n        <ul class=\"related-pic-bd  wide_videos\">\\n                <li class=\"label-trailer\">\\n                    <a class=\"related-pic-video\" href=\"https://movie.douban.com/trailer/248749/#content\" title=\"预告片\" style=\"background-image:url(https://img3.doubanio.com/img/trailer/medium/2560046305.jpg?1560949911)\">\\n                    </a>\\n                </li>\\n                \\n                <li class=\"label-short-video\">\\n                    <a class=\"related-pic-video\" href=\"https://movie.douban.com/video/103408/\" title=\"视频评论\" style=\"background-image:url(https://img3.doubanio.com/view/photo/photo/public/p2561711222.jpg?)\">\\n                    </a>\\n                </li>\\n                <li>\\n                    <a href=\"https://movie.douban.com/photos/photo/2554375920/\"><img src=\"https://img3.doubanio.com/view/photo/sqxs/public/p2554375920.jpg\" alt=\"图片\" /></a>\\n                </li>\\n                <li>\\n                    <a href=\"https://movie.douban.com/photos/photo/2554776260/\"><img src=\"https://img3.doubanio.com/view/photo/sqxs/public/p2554776260.jpg\" alt=\"图片\" /></a>\\n                </li>\\n        </ul>\\n    </div>\\n\\n\\n\\n\\n    \\n    \\n\\n\\n\\n<style type=\"text/css\">\\n.award li { display: inline; margin-right: 5px }\\n.awards { margin-bottom: 20px }\\n.awards h2 { background: none; color: #000; font-size: 14px; padding-bottom: 5px; margin-bottom: 8px; border-bottom: 1px dashed #dddddd }\\n.awards .year { color: #666666; margin-left: -5px }\\n.mod { margin-bottom: 25px }\\n.mod .hd { margin-bottom: 10px }\\n.mod .hd h2 {margin:24px 0 3px 0}\\n</style>\\n\\n\\n<div class=\"mod\">\\n    <div class=\"hd\">\\n        \\n    <h2>\\n        <i class=\"\">蜘蛛侠：英雄远征的获奖情况</i>\\n              · · · · · ·\\n            <span class=\"pl\">\\n            (\\n                <a href=\"https://movie.douban.com/subject/26931786/awards/\">全部</a>\\n            )\\n            </span>\\n    </h2>\\n\\n    </div>\\n        \\n        <ul class=\"award\">\\n            <li>\\n                <a href=\"https://movie.douban.com/awards/doubanfilm_annual/5/\">第5届豆瓣电影年度榜单</a>\\n            </li>\\n            <li>最值得期待的外语电影(提名)</li>\\n            <li></li>\\n        </ul>\\n</div>\\n\\n    \\n\\n\\n\\n\\n\\n\\n\\n\\n    <div id=\"recommendations\" class=\"\">\\n        \\n        \\n    <h2>\\n        <i class=\"\">喜欢这部电影的人也喜欢</i>\\n              · · · · · ·\\n    </h2>\\n\\n        \\n    \\n    <div class=\"recommendations-bd\">\\n        <dl class=\"\">\\n            <dt>\\n                <a href=\"https://movie.douban.com/subject/24753477/?from=subject-page\" >\\n                    <img src=\"https://img3.doubanio.com/view/photo/s_ratio_poster/public/p2497756471.jpg\" alt=\"蜘蛛侠：英雄归来\" class=\"\" />\\n                </a>\\n            </dt>\\n            <dd>\\n                <a href=\"https://movie.douban.com/subject/24753477/?from=subject-page\" class=\"\" >蜘蛛侠：英雄归来</a>\\n            </dd>\\n        </dl>\\n        <dl class=\"\">\\n            <dt>\\n                <a href=\"https://movie.douban.com/subject/26100958/?from=subject-page\" >\\n                    <img src=\"https://img3.doubanio.com/view/photo/s_ratio_poster/public/p2552058346.jpg\" alt=\"复仇者联盟4：终局之战\" class=\"\" />\\n                </a>\\n            </dt>\\n            <dd>\\n                <a href=\"https://movie.douban.com/subject/26100958/?from=subject-page\" class=\"\" >复仇者联盟4：终局之战</a>\\n            </dd>\\n        </dl>\\n        <dl class=\"\">\\n            <dt>\\n                <a href=\"https://movie.douban.com/subject/25820460/?from=subject-page\" >\\n                    <img src=\"https://img3.doubanio.com/view/photo/s_ratio_poster/public/p2332503406.jpg\" alt=\"美国队长3\" class=\"\" />\\n                </a>\\n            </dt>\\n            <dd>\\n                <a href=\"https://movie.douban.com/subject/25820460/?from=subject-page\" class=\"\" >美国队长3</a>\\n            </dd>\\n        </dl>\\n        <dl class=\"\">\\n            <dt>\\n                <a href=\"https://movie.douban.com/subject/1432146/?from=subject-page\" >\\n                    <img src=\"https://img1.doubanio.com/view/photo/s_ratio_poster/public/p725871968.jpg\" alt=\"钢铁侠\" class=\"\" />\\n                </a>\\n            </dt>\\n            <dd>\\n                <a href=\"https://movie.douban.com/subject/1432146/?from=subject-page\" class=\"\" >钢铁侠</a>\\n            </dd>\\n        </dl>\\n        <dl class=\"\">\\n            <dt>\\n                <a href=\"https://movie.douban.com/subject/25937854/?from=subject-page\" >\\n                    <img src=\"https://img3.doubanio.com/view/photo/s_ratio_poster/public/p2455261804.jpg\" alt=\"银河护卫队2\" class=\"\" />\\n                </a>\\n            </dt>\\n            <dd>\\n                <a href=\"https://movie.douban.com/subject/25937854/?from=subject-page\" class=\"\" >银河护卫队2</a>\\n            </dd>\\n        </dl>\\n        <dl class=\"\">\\n            <dt>\\n                <a href=\"https://movie.douban.com/subject/1866473/?from=subject-page\" >\\n                    <img src=\"https://img3.doubanio.com/view/photo/s_ratio_poster/public/p2266823371.jpg\" alt=\"蚁人\" class=\"\" />\\n                </a>\\n            </dt>\\n            <dd>\\n                <a href=\"https://movie.douban.com/subject/1866473/?from=subject-page\" class=\"\" >蚁人</a>\\n            </dd>\\n        </dl>\\n        <dl class=\"\">\\n            <dt>\\n                <a href=\"https://movie.douban.com/subject/25821634/?from=subject-page\" >\\n                    <img src=\"https://img3.doubanio.com/view/photo/s_ratio_poster/public/p2500451074.jpg\" alt=\"雷神3：诸神黄昏\" class=\"\" />\\n                </a>\\n            </dt>\\n            <dd>\\n                <a href=\"https://movie.douban.com/subject/25821634/?from=subject-page\" class=\"\" >雷神3：诸神黄昏</a>\\n            </dd>\\n        </dl>\\n        <dl class=\"\">\\n            <dt>\\n                <a href=\"https://movie.douban.com/subject/26213252/?from=subject-page\" >\\n                    <img src=\"https://img3.doubanio.com/view/photo/s_ratio_poster/public/p2546360443.jpg\" alt=\"惊奇队长\" class=\"\" />\\n                </a>\\n            </dt>\\n            <dd>\\n                <a href=\"https://movie.douban.com/subject/26213252/?from=subject-page\" class=\"\" >惊奇队长</a>\\n            </dd>\\n        </dl>\\n        <dl class=\"\">\\n            <dt>\\n                <a href=\"https://movie.douban.com/subject/25828589/?from=subject-page\" >\\n                    <img src=\"https://img1.doubanio.com/view/photo/s_ratio_poster/public/p2550408907.jpg\" alt=\"黑寡妇\" class=\"\" />\\n                </a>\\n            </dt>\\n            <dd>\\n                <a href=\"https://movie.douban.com/subject/25828589/?from=subject-page\" class=\"\" >黑寡妇</a>\\n            </dd>\\n        </dl>\\n        <dl class=\"\">\\n            <dt>\\n                <a href=\"https://movie.douban.com/subject/4920389/?from=subject-page\" >\\n                    <img src=\"https://img1.doubanio.com/view/photo/s_ratio_poster/public/p2516578307.jpg\" alt=\"头号玩家\" class=\"\" />\\n                </a>\\n            </dt>\\n            <dd>\\n                <a href=\"https://movie.douban.com/subject/4920389/?from=subject-page\" class=\"\" >头号玩家</a>\\n            </dd>\\n        </dl>\\n    </div>\\n\\n    </div>\\n\\n\\n\\n        \\n\\n\\n<script type=\"text/x-handlebar-tmpl\" id=\"comment-tmpl\">\\n    <div class=\"dummy-fold\">\\n        {{#each comments}}\\n        <div class=\"comment-item\" data-cid=\"id\">\\n            <div class=\"comment\">\\n                <h3>\\n                    <span class=\"comment-vote\">\\n                            <span class=\"votes\">{{votes}}</span>\\n                        <input value=\"{{id}}\" type=\"hidden\"/>\\n                        <a href=\"javascript:;\" class=\"j {{#if ../if_logined}}a_vote_comment{{else}}a_show_login{{/if}}\">有用</a>\\n                    </span>\\n                    <span class=\"comment-info\">\\n                        <a href=\"{{user.path}}\" class=\"\">{{user.name}}</a>\\n                        {{#if rating}}\\n                        <span class=\"allstar{{rating}}0 rating\" title=\"{{rating_word}}\"></span>\\n                        {{/if}}\\n                        <span>\\n                            {{time}}\\n                        </span>\\n                        <p> {{content_tmpl content}} </p>\\n                    </span>\\n            </div>\\n        </div>\\n        {{/each}}\\n    </div>\\n</script>\\n\\n\\n\\n\\n\\n\\n\\n\\n\\n\\n\\n\\n    \\n\\n    <div id=\"comments-section\">\\n        <div class=\"mod-hd\">\\n            \\n        <a class=\"comment_btn j a_show_login\" href=\"https://www.douban.com/register?reason=review\" rel=\"nofollow\">\\n            <span>我要写短评</span>\\n        </a>\\n\\n            \\n            \\n    <h2>\\n        <i class=\"\">蜘蛛侠：英雄远征的短评</i>\\n              · · · · · ·\\n            <span class=\"pl\">\\n            (\\n                <a href=\"https://movie.douban.com/subject/26931786/comments?status=P\">全部 86304 条</a>\\n            )\\n            </span>\\n    </h2>\\n\\n        </div>\\n        <div class=\"mod-bd\">\\n                \\n    <div class=\"tab-hd\">\\n        <a id=\"hot-comments-tab\" href=\"comments\" data-id=\"hot\" class=\"on\">热门</a>&nbsp;/&nbsp;\\n            <a id=\"new-comments-tab\" href=\"comments?sort=time\" data-id=\"new\">最新</a>&nbsp;/&nbsp;\\n        <a id=\"following-comments-tab\" href=\"follows_comments\" data-id=\"following\"  class=\"j a_show_login\">好友</a>\\n    </div>\\n\\n    <div class=\"tab-bd\">\\n        <div id=\"hot-comments\" class=\"tab\">\\n            \\n    \\n        \\n        <div class=\"comment-item\" data-cid=\"1837744735\">\\n            \\n    \\n    <div class=\"comment\">\\n        <h3>\\n            <span class=\"comment-vote\">\\n                <span class=\"votes\">2070</span>\\n                <input value=\"1837744735\" type=\"hidden\"/>\\n                <a href=\"javascript:;\" class=\"j a_show_login\" onclick=\"\">有用</a>\\n            </span>\\n            <span class=\"comment-info\">\\n                <a href=\"https://www.douban.com/people/movieater/\" class=\"\">女神的秋裤</a>\\n                    <span>看过</span>\\n                    <span class=\"allstar40 rating\" title=\"推荐\"></span>\\n                <span class=\"comment-time \" title=\"2019-06-28 02:39:07\">\\n                    2019-06-28\\n                </span>\\n            </span>\\n        </h3>\\n        <p class=\"\">\\n            \\n                <span class=\"short\">飞机里的那一段是纪念，也是传承。钢铁侠说过，我们做的一切其实并不重要，重要的是我们选择给后代留下什么。而蜘蛛侠是托尼留给我们最好的遗产。</span>\\n        </p>\\n    </div>\\n\\n        </div>\\n        \\n        <div class=\"comment-item\" data-cid=\"1837639417\">\\n            \\n    \\n    <div class=\"comment\">\\n        <h3>\\n            <span class=\"comment-vote\">\\n                <span class=\"votes\">1696</span>\\n                <input value=\"1837639417\" type=\"hidden\"/>\\n                <a href=\"javascript:;\" class=\"j a_show_login\" onclick=\"\">有用</a>\\n            </span>\\n            <span class=\"comment-info\">\\n                <a href=\"https://www.douban.com/people/171116422/\" class=\"\">一刀捅死齐达内</a>\\n                    <span>看过</span>\\n                    <span class=\"allstar20 rating\" title=\"较差\"></span>\\n                <span class=\"comment-time \" title=\"2019-06-28 00:22:44\">\\n                    2019-06-28\\n                </span>\\n            </span>\\n        </h3>\\n        <p class=\"\">\\n            \\n                <span class=\"short\">最幼稚，最低能的一代蜘蛛侠。</span>\\n        </p>\\n    </div>\\n\\n        </div>\\n        \\n        <div class=\"comment-item\" data-cid=\"1837634304\">\\n            \\n    \\n    <div class=\"comment\">\\n        <h3>\\n            <span class=\"comment-vote\">\\n                <span class=\"votes\">1574</span>\\n                <input value=\"1837634304\" type=\"hidden\"/>\\n                <a href=\"javascript:;\" class=\"j a_show_login\" onclick=\"\">有用</a>\\n            </span>\\n            <span class=\"comment-info\">\\n                <a href=\"https://www.douban.com/people/160539752/\" class=\"\">(๑˃̵ᴗ˂̵)و</a>\\n                    <span>看过</span>\\n                    <span class=\"allstar50 rating\" title=\"力荐\"></span>\\n                <span class=\"comment-time \" title=\"2019-06-28 00:18:00\">\\n                    2019-06-28\\n                </span>\\n            </span>\\n        </h3>\\n        <p class=\"\">\\n            \\n                <span class=\"short\">猎鹰继承了美队，荷兰弟继承了钢铁侠。</span>\\n        </p>\\n    </div>\\n\\n        </div>\\n        \\n        <div class=\"comment-item\" data-cid=\"1535842780\">\\n            \\n    \\n    <div class=\"comment\">\\n        <h3>\\n            <span class=\"comment-vote\">\\n                <span class=\"votes\">914</span>\\n                <input value=\"1535842780\" type=\"hidden\"/>\\n                <a href=\"javascript:;\" class=\"j a_show_login\" onclick=\"\">有用</a>\\n            </span>\\n            <span class=\"comment-info\">\\n                <a href=\"https://www.douban.com/people/4051316/\" class=\"\">突然粉碎</a>\\n                    <span>看过</span>\\n                    <span class=\"allstar40 rating\" title=\"推荐\"></span>\\n                <span class=\"comment-time \" title=\"2019-06-28 02:28:23\">\\n                    2019-06-28\\n                </span>\\n            </span>\\n        </h3>\\n        <p class=\"\">\\n            \\n                <span class=\"short\">整部电影都是局长欺压童工和外星务工者再洗白的实锤，超级英雄这一身份给纽约好邻居的责任和烦恼比蛛丝粘得更紧，总而言之是有突破有传承的续集，小蜘蛛犯了每个青少年都会犯的错：轻信于人和恋爱脑，但他也只是一个失去五年时光，失去人生导师钢铁侠，渴望真爱和友谊的孩子，免不了被老吉这个极具迷惑性和深度的反派敲打一番，号角日报老板回归辽，蜘蛛侠宇宙终于联动了，抱住索尼大法暴风哭泣，致敬三巨头cue到了惊队奇异博士...</span>\\n                <span class=\"hide-item full\">整部电影都是局长欺压童工和外星务工者再洗白的实锤，超级英雄这一身份给纽约好邻居的责任和烦恼比蛛丝粘得更紧，总而言之是有突破有传承的续集，小蜘蛛犯了每个青少年都会犯的错：轻信于人和恋爱脑，但他也只是一个失去五年时光，失去人生导师钢铁侠，渴望真爱和友谊的孩子，免不了被老吉这个极具迷惑性和深度的反派敲打一番，号角日报老板回归辽，蜘蛛侠宇宙终于联动了，抱住索尼大法暴风哭泣，致敬三巨头cue到了惊队奇异博士，塔罗斯可可爱爱PS特效服不防弹，老吉你记住了吗？橙色军团：打扰了，荷兰弟去荷兰这个梗真的不是故意的吗？</span>\\n                <span class=\"expand\">(<a href=\"javascript:;\">展开</a>)</span>\\n        </p>\\n    </div>\\n\\n        </div>\\n        \\n        <div class=\"comment-item\" data-cid=\"1837885339\">\\n            \\n    \\n    <div class=\"comment\">\\n        <h3>\\n            <span class=\"comment-vote\">\\n                <span class=\"votes\">500</span>\\n                <input value=\"1837885339\" type=\"hidden\"/>\\n                <a href=\"javascript:;\" class=\"j a_show_login\" onclick=\"\">有用</a>\\n            </span>\\n            <span class=\"comment-info\">\\n                <a href=\"https://www.douban.com/people/187808145/\" class=\"\">Scotty,</a>\\n                    <span>看过</span>\\n                    <span class=\"allstar30 rating\" title=\"还行\"></span>\\n                <span class=\"comment-time \" title=\"2019-06-28 09:40:02\">\\n                    2019-06-28\\n                </span>\\n            </span>\\n        </h3>\\n        <p class=\"\">\\n            \\n                <span class=\"short\">不懂这种电影为什么能得八分。。而且我真的理解不了小蜘蛛和钢铁侠哪有那么深的羁绊啊。。。复联四里最后已经很过了，不想继续消费钢铁侠了。。ps:一个没看过漫画的人在看到半小时左右就觉得神秘客是反派？不过中间蜘蛛侠被火车撞得那一段视觉效果确实很好</span>\\n        </p>\\n    </div>\\n\\n        </div>\\n\\n\\n\\n                \\n                &gt; <a href=\"comments?sort=new_score&status=P\" >更多短评86304条</a>\\n        </div>\\n        <div id=\"new-comments\" class=\"tab\">\\n            <div id=\"normal\">\\n            </div>\\n            <div class=\"fold-hd hide\">\\n                <a class=\"qa\" href=\"/help/opinion#t2-q0\" target=\"_blank\">为什么被折叠？</a>\\n                <a class=\"btn-unfold\" href=\"#\">有一些短评被折叠了</a>\\n                <div class=\"qa-tip\">\\n                    评论被折叠，是因为发布这条评论的帐号行为异常。评论仍可以被展开阅读，对发布人的账号不造成其他影响。如果认为有问题，可以<a href=\"https://help.douban.com/help/ask?category=movie\">联系</a>豆瓣电影。\\n                </div>\\n            </div>\\n            <div class=\"fold-bd\">\\n            </div>\\n            <span id=\"total-num\"></span>\\n        </div>\\n        <div id=\"following-comments\" class=\"tab\">\\n            \\n    \\n\\n\\n        <div class=\"comment-item\">\\n            你关注的人还没写过短评\\n        </div>\\n\\n        </div>\\n    </div>\\n\\n\\n            \\n            \\n        </div>\\n    </div>\\n\\n\\n\\n        \\n\\n<link rel=\"stylesheet\" href=\"https://img3.doubanio.com/misc/mixed_static/5b893040c800d5cd.css\">\\n\\n<section class=\"topics mod\">\\n    <header>\\n        <h2>\\n            蜘蛛侠：英雄远征的话题 · · · · · ·\\n            <span class=\"pl\">( <span class=\"gallery_topics\">全部 <span id=\"topic-count\"></span> 条</span> )</span>\\n        </h2>\\n    </header>\\n\\n    \\n\\n\\n\\n\\n<section class=\"subject-topics\">\\n    <div class=\"topic-guide\" id=\"topic-guide\">\\n        <img class=\"ic_question\" src=\"//img3.doubanio.com/f/ithildin/b1a3edea3d04805f899e9d77c0bfc0d158df10d5/pics/export/icon_question.png\">\\n        <div class=\"tip_content\">\\n            <div class=\"tip_title\">什么是话题</div>\\n            <div class=\"tip_desc\">\\n                <div>无论是一部作品、一个人，还是一件事，都往往可以衍生出许多不同的话题。将这些话题细分出来，分别进行讨论，会有更多收获。</div>\\n            </div>\\n        </div>\\n        <img class=\"ic_guide\" src=\"//img3.doubanio.com/f/ithildin/529f46d86bc08f55cd0b1843d0492242ebbd22de/pics/export/icon_guide_arrow.png\">\\n        <img class=\"ic_close\" id=\"topic-guide-close\" src=\"//img3.doubanio.com/f/ithildin/2eb4ad488cb0854644b23f20b6fa312404429589/pics/export/close@3x.png\">\\n    </div>\\n\\n    <div id=\"topic-items\"></div>\\n\\n    <script>\\n        window.subject_id = 26931786;\\n        window.join_label_text = \\'写影评参与\\';\\n\\n        window.topic_display_count = 4;\\n        window.topic_item_display_count = 1;\\n        window.no_content_fun_call_name = \"no_topic\";\\n\\n        window.guideNode = document.getElementById(\\'topic-guide\\');\\n        window.guideNodeClose = document.getElementById(\\'topic-guide-close\\');\\n    </script>\\n    \\n        <link rel=\"stylesheet\" href=\"https://img3.doubanio.com/f/ithildin/f731c9ea474da58c516290b3a6b1dd1237c07c5e/css/export/subject_topics.css\">\\n        <script src=\"https://img3.doubanio.com/f/ithildin/d3590fc6ac47b33c804037a1aa7eec49075428c8/js/export/moment-with-locales-only-zh.js\"></script>\\n        <script src=\"https://img3.doubanio.com/f/ithildin/c600fdbe69e3ffa5a3919c81ae8c8b4140e99a3e/js/export/subject_topics.js\"></script>\\n\\n</section>\\n\\n    <script>\\n        function no_topic(){\\n            $(\\'#content .topics\\').remove();\\n        }\\n    </script>\\n</section>\\n\\n<section class=\"reviews mod movie-content\">\\n    <header>\\n        <a href=\"new_review\" rel=\"nofollow\" class=\"create-review comment_btn \"\\n            data-isverify=\"False\"\\n            data-verify-url=\"https://www.douban.com/accounts/phone/verify?redir=http://movie.douban.com/subject/26931786/new_review\">\\n            <span>我要写影评</span>\\n        </a>\\n        <h2>\\n            蜘蛛侠：英雄远征的影评 · · · · · ·\\n            <span class=\"pl\">( <a href=\"reviews\">全部 1387 条</a> )</span>\\n        </h2>\\n    </header>\\n\\n    \\n\\n<style>\\n#gallery-topics-selection {\\n  position: fixed;\\n  width: 595px;\\n  padding: 40px 40px 33px 40px;\\n  background: #fff;\\n  border-radius: 10px;\\n  box-shadow: 0 2px 16px 0 rgba(0, 0, 0, 0.2);\\n  top: 50%;\\n  left: 50%;\\n  -webkit-transform: translate(-50%, -50%);\\n  transform: translate(-50%, -50%);\\n  z-index: 9999;\\n}\\n#gallery-topics-selection h1 {\\n  font-size: 18px;\\n  color: #007722;\\n  margin-bottom: 36px;\\n  padding: 0;\\n  line-height: 28px;\\n  font-weight: normal;\\n}\\n#gallery-topics-selection .gl_topics {\\n  border-bottom: 1px solid #dfdfdf;\\n  max-height: 298px;\\n  overflow-y: scroll;\\n}\\n#gallery-topics-selection .topic {\\n  margin-bottom: 24px;\\n}\\n#gallery-topics-selection .topic_name {\\n  font-size: 15px;\\n  color: #333;\\n  margin: 0;\\n  line-height: inherit;\\n}\\n#gallery-topics-selection .topic_meta {\\n  font-size: 13px;\\n  color: #999;\\n}\\n#gallery-topics-selection .topics_skip {\\n  display: block;\\n  cursor: pointer;\\n  font-size: 16px;\\n  color: #3377AA;\\n  text-align: center;\\n  margin-top: 33px;\\n}\\n#gallery-topics-selection .topics_skip:hover {\\n  background: transparent;\\n}\\n#gallery-topics-selection .close_selection {\\n  position: absolute;\\n  width: 30px;\\n  height: 20px;\\n  top: 46px;\\n  right: 40px;\\n  background: #fff;\\n  color: #999;\\n  text-align: right;\\n}\\n#gallery-topics-selection .close_selection:hover{\\n  background: #fff;\\n  color: #999;\\n}\\n</style>\\n\\n\\n\\n\\n        <div class=\"review_filter\">\\n            <a href=\"javascript:;;\" class=\"cur\" data-sort=\"\">热门</a href=\"javascript:;;\"> /\\n            <a href=\"javascript:;;\" data-sort=\"time\">最新</a href=\"javascript:;;\"> /\\n            <a href=\"javascript:;;\" data-sort=\"follow\">好友</a href=\"javascript:;;\">\\n            \\n        </div>\\n\\n\\n        \\n\\n\\n\\n<div class=\"review-list  \">\\n        \\n    \\n\\n        \\n    \\n    <div data-cid=\"10269983\">\\n        <div class=\"main review-item\" id=\"10269983\">\\n\\n            \\n    \\n    <header class=\"main-hd\">\\n        <a href=\"https://www.douban.com/people/EverybodyFool/\" class=\"avator\">\\n            <img width=\"24\" height=\"24\" src=\"https://img3.doubanio.com/icon/u37142357-10.jpg\">\\n        </a>\\n\\n        <a href=\"https://www.douban.com/people/EverybodyFool/\" class=\"name\">彩蛋君KL</a>\\n\\n            <span class=\"allstar50 main-title-rating\" title=\"力荐\"></span>\\n\\n        <span content=\"2019-06-27\" class=\"main-meta\">2019-06-27 23:06:03</span>\\n\\n\\n    </header>\\n\\n\\n            <div class=\"main-bd\">\\n\\n                <h2><a href=\"https://movie.douban.com/review/10269983/\">聊聊《蜘蛛侠：英雄远征》中的彩蛋与细节</a></h2>\\n\\n                <div id=\"review_10269983_short\" class=\"review-short\" data-rid=\"10269983\">\\n                    <div class=\"short-content\">\\n                            <p class=\"spoiler-tip\">这篇影评可能有剧透</p>\\n\\n                        本文总结《蜘蛛侠：英雄远征》目前已知的彩蛋与细节，结合漫画出处讲解，方便大家观影时留意线索。 剧透预警！剧透预警！剧透预警！ 致敬与传承 托尼·斯塔克的离去对世界影响深远，影片中随处可见的钢铁侠形象无一不在表达人们对这位传奇英雄的怀念。 你负责战衣，我负责音乐...\\n\\n                        &nbsp;(<a href=\"javascript:;\" id=\"toggle-10269983-copy\" class=\"unfold\" title=\"展开\">展开</a>)\\n                    </div>\\n                </div>\\n\\n                <div id=\"review_10269983_full\" class=\"hidden\">\\n                    <div id=\"review_10269983_full_content\" class=\"full-content\"></div>\\n                </div>\\n\\n                <div class=\"action\">\\n                    <a href=\"javascript:;\" class=\"action-btn up\" data-rid=\"10269983\" title=\"有用\">\\n                        <img src=\"https://img3.doubanio.com/f/zerkalo/536fd337139250b5fb3cf9e79cb65c6193f8b20b/pics/up.png\" />\\n                        <span id=\"r-useful_count-10269983\">\\n                                1694\\n                        </span>\\n                    </a>\\n                    <a href=\"javascript:;\" class=\"action-btn down\" data-rid=\"10269983\" title=\"没用\">\\n                        <img src=\"https://img3.doubanio.com/f/zerkalo/68849027911140623cf338c9845893c4566db851/pics/down.png\" />\\n                        <span id=\"r-useless_count-10269983\">\\n                                82\\n                        </span>\\n                    </a>\\n                    <a href=\"https://movie.douban.com/review/10269983/#comments\" class=\"reply \">447回应</a>\\n\\n                    <a href=\"javascript:;;\" class=\"fold hidden\">收起</a>\\n                </div>\\n            </div>\\n        </div>\\n    </div>\\n\\n        \\n    \\n    <div data-cid=\"10270463\">\\n        <div class=\"main review-item\" id=\"10270463\">\\n\\n            \\n    \\n    <header class=\"main-hd\">\\n        <a href=\"https://www.douban.com/people/lyw0502/\" class=\"avator\">\\n            <img width=\"24\" height=\"24\" src=\"https://img3.doubanio.com/icon/u38805525-6.jpg\">\\n        </a>\\n\\n        <a href=\"https://www.douban.com/people/lyw0502/\" class=\"name\">快乐铁男托尼</a>\\n\\n            <span class=\"allstar50 main-title-rating\" title=\"力荐\"></span>\\n\\n        <span content=\"2019-06-28\" class=\"main-meta\">2019-06-28 06:42:44</span>\\n\\n\\n    </header>\\n\\n\\n            <div class=\"main-bd\">\\n\\n                <h2><a href=\"https://movie.douban.com/review/10270463/\">可能是全网最完整的一篇《英雄远征》剧情解析</a></h2>\\n\\n                <div id=\"review_10270463_short\" class=\"review-short\" data-rid=\"10270463\">\\n                    <div class=\"short-content\">\\n                            <p class=\"spoiler-tip\">这篇影评可能有剧透</p>\\n\\n                        蜘蛛侠（Spider-Man），一个在全球范围内都家喻户晓的著名超级英雄，事实上的漫威一哥，迎来了他的第七部真人版电影。 而这部《英雄远征》，也是系列元素最多，最为精彩纷呈的一部。 而这不是一部传统的超级英雄电影，它充满着各式各样的反转。 下文全是剧透！介意者千万不要再...\\n\\n                        &nbsp;(<a href=\"javascript:;\" id=\"toggle-10270463-copy\" class=\"unfold\" title=\"展开\">展开</a>)\\n                    </div>\\n                </div>\\n\\n                <div id=\"review_10270463_full\" class=\"hidden\">\\n                    <div id=\"review_10270463_full_content\" class=\"full-content\"></div>\\n                </div>\\n\\n                <div class=\"action\">\\n                    <a href=\"javascript:;\" class=\"action-btn up\" data-rid=\"10270463\" title=\"有用\">\\n                        <img src=\"https://img3.doubanio.com/f/zerkalo/536fd337139250b5fb3cf9e79cb65c6193f8b20b/pics/up.png\" />\\n                        <span id=\"r-useful_count-10270463\">\\n                                1253\\n                        </span>\\n                    </a>\\n                    <a href=\"javascript:;\" class=\"action-btn down\" data-rid=\"10270463\" title=\"没用\">\\n                        <img src=\"https://img3.doubanio.com/f/zerkalo/68849027911140623cf338c9845893c4566db851/pics/down.png\" />\\n                        <span id=\"r-useless_count-10270463\">\\n                                70\\n                        </span>\\n                    </a>\\n                    <a href=\"https://movie.douban.com/review/10270463/#comments\" class=\"reply \">280回应</a>\\n\\n                    <a href=\"javascript:;;\" class=\"fold hidden\">收起</a>\\n                </div>\\n            </div>\\n        </div>\\n    </div>\\n\\n        \\n    \\n    <div data-cid=\"10272616\">\\n        <div class=\"main review-item\" id=\"10272616\">\\n\\n            \\n    \\n    <header class=\"main-hd\">\\n        <a href=\"https://www.douban.com/people/lingrui1995/\" class=\"avator\">\\n            <img width=\"24\" height=\"24\" src=\"https://img1.doubanio.com/icon/u63688511-18.jpg\">\\n        </a>\\n\\n        <a href=\"https://www.douban.com/people/lingrui1995/\" class=\"name\">凌睿</a>\\n\\n            <span class=\"allstar50 main-title-rating\" title=\"力荐\"></span>\\n\\n        <span content=\"2019-06-28\" class=\"main-meta\">2019-06-28 23:04:43</span>\\n\\n\\n    </header>\\n\\n\\n            <div class=\"main-bd\">\\n\\n                <h2><a href=\"https://movie.douban.com/review/10272616/\">今年下半年，中美合拍的《夜猴侠》正在上映</a></h2>\\n\\n                <div id=\"review_10272616_short\" class=\"review-short\" data-rid=\"10272616\">\\n                    <div class=\"short-content\">\\n                            <p class=\"spoiler-tip\">这篇影评可能有剧透</p>\\n\\n                        《英雄远征》顾名思义，就是讲述一个叫远征的英雄的光荣事迹。 远征是一个眉清目秀、和蔼可亲的大叔， 没想到这一天却出现了一个大反派——鱼缸侠。 然而远征没有丝毫退缩，只见他使用他强大的超能力，将鱼缸侠打得稀巴烂，让世界再次重回和平。 至于这一切的起因，还要从几个...\\n\\n                        &nbsp;(<a href=\"javascript:;\" id=\"toggle-10272616-copy\" class=\"unfold\" title=\"展开\">展开</a>)\\n                    </div>\\n                </div>\\n\\n                <div id=\"review_10272616_full\" class=\"hidden\">\\n                    <div id=\"review_10272616_full_content\" class=\"full-content\"></div>\\n                </div>\\n\\n                <div class=\"action\">\\n                    <a href=\"javascript:;\" class=\"action-btn up\" data-rid=\"10272616\" title=\"有用\">\\n                        <img src=\"https://img3.doubanio.com/f/zerkalo/536fd337139250b5fb3cf9e79cb65c6193f8b20b/pics/up.png\" />\\n                        <span id=\"r-useful_count-10272616\">\\n                                824\\n                        </span>\\n                    </a>\\n                    <a href=\"javascript:;\" class=\"action-btn down\" data-rid=\"10272616\" title=\"没用\">\\n                        <img src=\"https://img3.doubanio.com/f/zerkalo/68849027911140623cf338c9845893c4566db851/pics/down.png\" />\\n                        <span id=\"r-useless_count-10272616\">\\n                                98\\n                        </span>\\n                    </a>\\n                    <a href=\"https://movie.douban.com/review/10272616/#comments\" class=\"reply \">122回应</a>\\n\\n                    <a href=\"javascript:;;\" class=\"fold hidden\">收起</a>\\n                </div>\\n            </div>\\n        </div>\\n    </div>\\n\\n        \\n    \\n    <div data-cid=\"10272120\">\\n        <div class=\"main review-item\" id=\"10272120\">\\n\\n            \\n    \\n    <header class=\"main-hd\">\\n        <a href=\"https://www.douban.com/people/140661184/\" class=\"avator\">\\n            <img width=\"24\" height=\"24\" src=\"https://img3.doubanio.com/icon/u140661184-2.jpg\">\\n        </a>\\n\\n        <a href=\"https://www.douban.com/people/140661184/\" class=\"name\">王美丽</a>\\n\\n            <span class=\"allstar30 main-title-rating\" title=\"还行\"></span>\\n\\n        <span content=\"2019-06-28\" class=\"main-meta\">2019-06-28 20:40:32</span>\\n\\n\\n    </header>\\n\\n\\n            <div class=\"main-bd\">\\n\\n                <h2><a href=\"https://movie.douban.com/review/10272120/\">三星半不能再多了，可惜豆瓣没有半星</a></h2>\\n\\n                <div id=\"review_10272120_short\" class=\"review-short\" data-rid=\"10272120\">\\n                    <div class=\"short-content\">\\n\\n                        07.04更新 各位是不是看我挺好说话，就可以对我人身攻击了？下一个再对我人身攻击的，我不会嘴下留情了：） 另，超凡蜘蛛侠的电影中，蜘蛛侠也是高中生，超凡二是高中刚毕业。目前为止三版蜘蛛侠只有第一版的蜘蛛侠是成年人，希望大家不要再评论里面瞎说。 07.01更新 我就再补...\\n\\n                        &nbsp;(<a href=\"javascript:;\" id=\"toggle-10272120-copy\" class=\"unfold\" title=\"展开\">展开</a>)\\n                    </div>\\n                </div>\\n\\n                <div id=\"review_10272120_full\" class=\"hidden\">\\n                    <div id=\"review_10272120_full_content\" class=\"full-content\"></div>\\n                </div>\\n\\n                <div class=\"action\">\\n                    <a href=\"javascript:;\" class=\"action-btn up\" data-rid=\"10272120\" title=\"有用\">\\n                        <img src=\"https://img3.doubanio.com/f/zerkalo/536fd337139250b5fb3cf9e79cb65c6193f8b20b/pics/up.png\" />\\n                        <span id=\"r-useful_count-10272120\">\\n                                364\\n                        </span>\\n                    </a>\\n                    <a href=\"javascript:;\" class=\"action-btn down\" data-rid=\"10272120\" title=\"没用\">\\n                        <img src=\"https://img3.doubanio.com/f/zerkalo/68849027911140623cf338c9845893c4566db851/pics/down.png\" />\\n                        <span id=\"r-useless_count-10272120\">\\n                                95\\n                        </span>\\n                    </a>\\n                    <a href=\"https://movie.douban.com/review/10272120/#comments\" class=\"reply \">255回应</a>\\n\\n                    <a href=\"javascript:;;\" class=\"fold hidden\">收起</a>\\n                </div>\\n            </div>\\n        </div>\\n    </div>\\n\\n        \\n    \\n    <div data-cid=\"10273636\">\\n        <div class=\"main review-item\" id=\"10273636\">\\n\\n            \\n    \\n    <header class=\"main-hd\">\\n        <a href=\"https://www.douban.com/people/Allan.Vr/\" class=\"avator\">\\n            <img width=\"24\" height=\"24\" src=\"https://img3.doubanio.com/icon/u3739650-36.jpg\">\\n        </a>\\n\\n        <a href=\"https://www.douban.com/people/Allan.Vr/\" class=\"name\">南悠一</a>\\n\\n            <span class=\"allstar40 main-title-rating\" title=\"推荐\"></span>\\n\\n        <span content=\"2019-06-29\" class=\"main-meta\">2019-06-29 11:21:27</span>\\n\\n\\n    </header>\\n\\n\\n            <div class=\"main-bd\">\\n\\n                <h2><a href=\"https://movie.douban.com/review/10273636/\">蜘蛛侠的未来敌人：民粹主义和强大科技本身善恶的不确定性</a></h2>\\n\\n                <div id=\"review_10273636_short\" class=\"review-short\" data-rid=\"10273636\">\\n                    <div class=\"short-content\">\\n\\n                        短评写长了。 这部《英雄远征》有两个大缺点。一个是，感情线部分突兀。把追求自我生活等同于谈恋爱，没有什么不可以，十几岁的年纪想要谈恋爱完全可以理解，作为国内观众，我年轻时太“愿意”读书而缺乏恋爱细胞，才会觉得突兀。在这里我说的突兀更多的是理解为剧本层次的单薄...\\n\\n                        &nbsp;(<a href=\"javascript:;\" id=\"toggle-10273636-copy\" class=\"unfold\" title=\"展开\">展开</a>)\\n                    </div>\\n                </div>\\n\\n                <div id=\"review_10273636_full\" class=\"hidden\">\\n                    <div id=\"review_10273636_full_content\" class=\"full-content\"></div>\\n                </div>\\n\\n                <div class=\"action\">\\n                    <a href=\"javascript:;\" class=\"action-btn up\" data-rid=\"10273636\" title=\"有用\">\\n                        <img src=\"https://img3.doubanio.com/f/zerkalo/536fd337139250b5fb3cf9e79cb65c6193f8b20b/pics/up.png\" />\\n                        <span id=\"r-useful_count-10273636\">\\n                                302\\n                        </span>\\n                    </a>\\n                    <a href=\"javascript:;\" class=\"action-btn down\" data-rid=\"10273636\" title=\"没用\">\\n                        <img src=\"https://img3.doubanio.com/f/zerkalo/68849027911140623cf338c9845893c4566db851/pics/down.png\" />\\n                        <span id=\"r-useless_count-10273636\">\\n                                21\\n                        </span>\\n                    </a>\\n                    <a href=\"https://movie.douban.com/review/10273636/#comments\" class=\"reply \">28回应</a>\\n\\n                    <a href=\"javascript:;;\" class=\"fold hidden\">收起</a>\\n                </div>\\n            </div>\\n        </div>\\n    </div>\\n\\n        \\n    \\n    <div data-cid=\"10270337\">\\n        <div class=\"main review-item\" id=\"10270337\">\\n\\n            \\n    \\n    <header class=\"main-hd\">\\n        <a href=\"https://www.douban.com/people/57604339/\" class=\"avator\">\\n            <img width=\"24\" height=\"24\" src=\"https://img1.doubanio.com/icon/u57604339-7.jpg\">\\n        </a>\\n\\n        <a href=\"https://www.douban.com/people/57604339/\" class=\"name\">王俊俊</a>\\n\\n            <span class=\"allstar50 main-title-rating\" title=\"力荐\"></span>\\n\\n        <span content=\"2019-06-28\" class=\"main-meta\">2019-06-28 03:04:15</span>\\n\\n\\n    </header>\\n\\n\\n            <div class=\"main-bd\">\\n\\n                <h2><a href=\"https://movie.douban.com/review/10270337/\">超越了超级英雄电影，用虚假的魔术击败真实的英雄！</a></h2>\\n\\n                <div id=\"review_10270337_short\" class=\"review-short\" data-rid=\"10270337\">\\n                    <div class=\"short-content\">\\n\\n                        mcu最棒的超英电影作品！ 用1000台无人机换来70亿观众的崇拜 用一颗破碎黑色大丽花表白完整的爱情 用一把战锤防身孤身去寻找爱人的双唇 用一副高科技眼镜传递救世主的王冠 用一场大胆魔术诈骗一个英雄的遗产 用幻象和毒舌精准击败阿喀琉斯之踵 用前辈的遗志激励自己再次披甲上...\\n\\n                        &nbsp;(<a href=\"javascript:;\" id=\"toggle-10270337-copy\" class=\"unfold\" title=\"展开\">展开</a>)\\n                    </div>\\n                </div>\\n\\n                <div id=\"review_10270337_full\" class=\"hidden\">\\n                    <div id=\"review_10270337_full_content\" class=\"full-content\"></div>\\n                </div>\\n\\n                <div class=\"action\">\\n                    <a href=\"javascript:;\" class=\"action-btn up\" data-rid=\"10270337\" title=\"有用\">\\n                        <img src=\"https://img3.doubanio.com/f/zerkalo/536fd337139250b5fb3cf9e79cb65c6193f8b20b/pics/up.png\" />\\n                        <span id=\"r-useful_count-10270337\">\\n                                226\\n                        </span>\\n                    </a>\\n                    <a href=\"javascript:;\" class=\"action-btn down\" data-rid=\"10270337\" title=\"没用\">\\n                        <img src=\"https://img3.doubanio.com/f/zerkalo/68849027911140623cf338c9845893c4566db851/pics/down.png\" />\\n                        <span id=\"r-useless_count-10270337\">\\n                                52\\n                        </span>\\n                    </a>\\n                    <a href=\"https://movie.douban.com/review/10270337/#comments\" class=\"reply \">45回应</a>\\n\\n                    <a href=\"javascript:;;\" class=\"fold hidden\">收起</a>\\n                </div>\\n            </div>\\n        </div>\\n    </div>\\n\\n        \\n    \\n    <div data-cid=\"10273045\">\\n        <div class=\"main review-item\" id=\"10273045\">\\n\\n            \\n    \\n    <header class=\"main-hd\">\\n        <a href=\"https://www.douban.com/people/182652093/\" class=\"avator\">\\n            <img width=\"24\" height=\"24\" src=\"https://img3.doubanio.com/icon/u182652093-1.jpg\">\\n        </a>\\n\\n        <a href=\"https://www.douban.com/people/182652093/\" class=\"name\">爱看电影的沙雕</a>\\n\\n            <span class=\"allstar20 main-title-rating\" title=\"较差\"></span>\\n\\n        <span content=\"2019-06-29\" class=\"main-meta\">2019-06-29 01:15:56</span>\\n\\n\\n    </header>\\n\\n\\n            <div class=\"main-bd\">\\n\\n                <h2><a href=\"https://movie.douban.com/review/10273045/\">我觉得不行</a></h2>\\n\\n                <div id=\"review_10273045_short\" class=\"review-short\" data-rid=\"10273045\">\\n                    <div class=\"short-content\">\\n\\n                        说下自己的拙见，感觉剧情迷的不行。一，男女主增进感情的桥段全是互相瞅，或者讲些尬的很的玩笑话（除了最后表白，但是也敷衍的不行）英雄救美或许很俗套，但也比这种来的好看。二，打水人火人蜘蛛侠除了在旁边救救人就是给致幻客喊666，毫无存在感。三，蜘蛛侠一边缅怀、感激...\\n\\n                        &nbsp;(<a href=\"javascript:;\" id=\"toggle-10273045-copy\" class=\"unfold\" title=\"展开\">展开</a>)\\n                    </div>\\n                </div>\\n\\n                <div id=\"review_10273045_full\" class=\"hidden\">\\n                    <div id=\"review_10273045_full_content\" class=\"full-content\"></div>\\n                </div>\\n\\n                <div class=\"action\">\\n                    <a href=\"javascript:;\" class=\"action-btn up\" data-rid=\"10273045\" title=\"有用\">\\n                        <img src=\"https://img3.doubanio.com/f/zerkalo/536fd337139250b5fb3cf9e79cb65c6193f8b20b/pics/up.png\" />\\n                        <span id=\"r-useful_count-10273045\">\\n                                236\\n                        </span>\\n                    </a>\\n                    <a href=\"javascript:;\" class=\"action-btn down\" data-rid=\"10273045\" title=\"没用\">\\n                        <img src=\"https://img3.doubanio.com/f/zerkalo/68849027911140623cf338c9845893c4566db851/pics/down.png\" />\\n                        <span id=\"r-useless_count-10273045\">\\n                                102\\n                        </span>\\n                    </a>\\n                    <a href=\"https://movie.douban.com/review/10273045/#comments\" class=\"reply \">125回应</a>\\n\\n                    <a href=\"javascript:;;\" class=\"fold hidden\">收起</a>\\n                </div>\\n            </div>\\n        </div>\\n    </div>\\n\\n        \\n    \\n    <div data-cid=\"10273342\">\\n        <div class=\"main review-item\" id=\"10273342\">\\n\\n            \\n    \\n    <header class=\"main-hd\">\\n        <a href=\"https://www.douban.com/people/147096246/\" class=\"avator\">\\n            <img width=\"24\" height=\"24\" src=\"https://img3.doubanio.com/icon/u147096246-2.jpg\">\\n        </a>\\n\\n        <a href=\"https://www.douban.com/people/147096246/\" class=\"name\">十六</a>\\n\\n            <span class=\"allstar10 main-title-rating\" title=\"很差\"></span>\\n\\n        <span content=\"2019-06-29\" class=\"main-meta\">2019-06-29 08:42:43</span>\\n\\n\\n    </header>\\n\\n\\n            <div class=\"main-bd\">\\n\\n                <h2><a href=\"https://movie.douban.com/review/10273342/\">串联前几部有一定的逻辑问题</a></h2>\\n\\n                <div id=\"review_10273342_short\" class=\"review-short\" data-rid=\"10273342\">\\n                    <div class=\"short-content\">\\n                            <p class=\"spoiler-tip\">这篇影评可能有剧透</p>\\n\\n                        不想就单独这一部点评什么，只想通过漫威电影大家穿个线，说说自己的拙见 1.纵观前几部蜘蛛侠有关的电影《蜘蛛侠：英雄归来》《妇联3》《妇联4》，小蜘蛛在其中给人的形象定义为：我虽年龄小，但是我却很想为拯救世界尽自己的一份力！ 在《英雄归来》中，托尼接回小蜘蛛却不看...\\n\\n                        &nbsp;(<a href=\"javascript:;\" id=\"toggle-10273342-copy\" class=\"unfold\" title=\"展开\">展开</a>)\\n                    </div>\\n                </div>\\n\\n                <div id=\"review_10273342_full\" class=\"hidden\">\\n                    <div id=\"review_10273342_full_content\" class=\"full-content\"></div>\\n                </div>\\n\\n                <div class=\"action\">\\n                    <a href=\"javascript:;\" class=\"action-btn up\" data-rid=\"10273342\" title=\"有用\">\\n                        <img src=\"https://img3.doubanio.com/f/zerkalo/536fd337139250b5fb3cf9e79cb65c6193f8b20b/pics/up.png\" />\\n                        <span id=\"r-useful_count-10273342\">\\n                                151\\n                        </span>\\n                    </a>\\n                    <a href=\"javascript:;\" class=\"action-btn down\" data-rid=\"10273342\" title=\"没用\">\\n                        <img src=\"https://img3.doubanio.com/f/zerkalo/68849027911140623cf338c9845893c4566db851/pics/down.png\" />\\n                        <span id=\"r-useless_count-10273342\">\\n                                60\\n                        </span>\\n                    </a>\\n                    <a href=\"https://movie.douban.com/review/10273342/#comments\" class=\"reply \">140回应</a>\\n\\n                    <a href=\"javascript:;;\" class=\"fold hidden\">收起</a>\\n                </div>\\n            </div>\\n        </div>\\n    </div>\\n\\n        \\n    \\n    <div data-cid=\"10271464\">\\n        <div class=\"main review-item\" id=\"10271464\">\\n\\n            \\n    \\n    <header class=\"main-hd\">\\n        <a href=\"https://www.douban.com/people/dreamfox/\" class=\"avator\">\\n            <img width=\"24\" height=\"24\" src=\"https://img3.doubanio.com/icon/u2297669-12.jpg\">\\n        </a>\\n\\n        <a href=\"https://www.douban.com/people/dreamfox/\" class=\"name\">乌鸦火堂</a>\\n\\n            <span class=\"allstar40 main-title-rating\" title=\"推荐\"></span>\\n\\n        <span content=\"2019-06-28\" class=\"main-meta\">2019-06-28 15:58:07</span>\\n\\n\\n    </header>\\n\\n\\n            <div class=\"main-bd\">\\n\\n                <h2><a href=\"https://movie.douban.com/review/10271464/\">在那一刻如灵魂附体！托尼：全宇宙他最像我（最新更新神秘客+彩蛋+趣点）</a></h2>\\n\\n                <div id=\"review_10271464_short\" class=\"review-short\" data-rid=\"10271464\">\\n                    <div class=\"short-content\">\\n\\n                        本文，有你想知道关于这部电影的一切。 第一部分 无剧透评述，放心观看 “欲戴王冠,必承其重”。这是一句著名的西方谚语，其意不难理解，在我们的语境之下，这句话就成了“天将降大任于斯人也。。。”那一套。 这句话是《蜘蛛侠：英雄远征》里弗瑞对彼得·帕克说得，算是对其的...\\n\\n                        &nbsp;(<a href=\"javascript:;\" id=\"toggle-10271464-copy\" class=\"unfold\" title=\"展开\">展开</a>)\\n                    </div>\\n                </div>\\n\\n                <div id=\"review_10271464_full\" class=\"hidden\">\\n                    <div id=\"review_10271464_full_content\" class=\"full-content\"></div>\\n                </div>\\n\\n                <div class=\"action\">\\n                    <a href=\"javascript:;\" class=\"action-btn up\" data-rid=\"10271464\" title=\"有用\">\\n                        <img src=\"https://img3.doubanio.com/f/zerkalo/536fd337139250b5fb3cf9e79cb65c6193f8b20b/pics/up.png\" />\\n                        <span id=\"r-useful_count-10271464\">\\n                                94\\n                        </span>\\n                    </a>\\n                    <a href=\"javascript:;\" class=\"action-btn down\" data-rid=\"10271464\" title=\"没用\">\\n                        <img src=\"https://img3.doubanio.com/f/zerkalo/68849027911140623cf338c9845893c4566db851/pics/down.png\" />\\n                        <span id=\"r-useless_count-10271464\">\\n                                15\\n                        </span>\\n                    </a>\\n                    <a href=\"https://movie.douban.com/review/10271464/#comments\" class=\"reply \">31回应</a>\\n\\n                    <a href=\"javascript:;;\" class=\"fold hidden\">收起</a>\\n                </div>\\n            </div>\\n        </div>\\n    </div>\\n\\n        \\n    \\n    <div data-cid=\"10271864\">\\n        <div class=\"main review-item\" id=\"10271864\">\\n\\n            \\n    \\n    <header class=\"main-hd\">\\n        <a href=\"https://www.douban.com/people/ruo1996/\" class=\"avator\">\\n            <img width=\"24\" height=\"24\" src=\"https://img3.doubanio.com/icon/u52623934-34.jpg\">\\n        </a>\\n\\n        <a href=\"https://www.douban.com/people/ruo1996/\" class=\"name\">徐若风</a>\\n\\n            <span class=\"allstar40 main-title-rating\" title=\"推荐\"></span>\\n\\n        <span content=\"2019-06-28\" class=\"main-meta\">2019-06-28 18:51:28</span>\\n\\n\\n    </header>\\n\\n\\n            <div class=\"main-bd\">\\n\\n                <h2><a href=\"https://movie.douban.com/review/10271864/\">MCU第三阶段的真正收尾，连彩蛋都是“幻象”</a></h2>\\n\\n                <div id=\"review_10271864_short\" class=\"review-short\" data-rid=\"10271864\">\\n                    <div class=\"short-content\">\\n\\n                        两个月前，《复仇者联盟4：终局之战》上映。自此，MCU的一切都不同了。 作为一列“情怀过山车”，《复联4》堪称一个漫威的“大型回顾展”，既是连环轰炸的彩蛋，也是不断回环的告别。初代复仇者们的落幕，是一个时代的远去，同时也意味着一个怀抱着更多可能的未来。MCU的第四阶...\\n\\n                        &nbsp;(<a href=\"javascript:;\" id=\"toggle-10271864-copy\" class=\"unfold\" title=\"展开\">展开</a>)\\n                    </div>\\n                </div>\\n\\n                <div id=\"review_10271864_full\" class=\"hidden\">\\n                    <div id=\"review_10271864_full_content\" class=\"full-content\"></div>\\n                </div>\\n\\n                <div class=\"action\">\\n                    <a href=\"javascript:;\" class=\"action-btn up\" data-rid=\"10271864\" title=\"有用\">\\n                        <img src=\"https://img3.doubanio.com/f/zerkalo/536fd337139250b5fb3cf9e79cb65c6193f8b20b/pics/up.png\" />\\n                        <span id=\"r-useful_count-10271864\">\\n                                104\\n                        </span>\\n                    </a>\\n                    <a href=\"javascript:;\" class=\"action-btn down\" data-rid=\"10271864\" title=\"没用\">\\n                        <img src=\"https://img3.doubanio.com/f/zerkalo/68849027911140623cf338c9845893c4566db851/pics/down.png\" />\\n                        <span id=\"r-useless_count-10271864\">\\n                                27\\n                        </span>\\n                    </a>\\n                    <a href=\"https://movie.douban.com/review/10271864/#comments\" class=\"reply \">66回应</a>\\n\\n                    <a href=\"javascript:;;\" class=\"fold hidden\">收起</a>\\n                </div>\\n            </div>\\n        </div>\\n    </div>\\n\\n\\n\\n\\n    \\n\\n    \\n\\n    <script type=\"text/javascript\" src=\"https://img3.doubanio.com/misc/mixed_static/7713fb7e1c767f57.js\"></script>\\n    <!-- COLLECTED CSS -->\\n</div>\\n\\n\\n\\n\\n\\n\\n\\n\\n            <p class=\"pl\">\\n                &gt;\\n                <a href=\"reviews\">\\n                    更多影评1387篇\\n                </a>\\n            </p>\\n</section>\\n\\n<!-- COLLECTED JS -->\\n\\n    <br/>\\n\\n            \\n    <div class=\"section-discussion\">\\n        <div class=\"hd-ops\">\\n            <a class=\"comment_btn j a_show_login\" href=\"https://www.douban.com/register?reason=discussion\" rel=\"nofollow\"><span>发起新的讨论</span></a>\\n        </div>\\n        <div class=\"mod-hd\">\\n            \\n    <h2>\\n        小组讨论\\n         &nbsp; &middot;&nbsp; &middot;&nbsp; &middot;&nbsp; &middot;&nbsp; &middot;&nbsp; &middot;\\n    </h2>\\n\\n        </div>\\n        \\n  <table class=\"olt\"><tr><td><td><td><td></tr>\\n        \\n        <tr>\\n          <td class=\"pl\"><a href=\"https://www.douban.com/group/topic/145287672/\" title=\"普通3D和iMax3D哪一个更佳呢？\">普通3D和iMax3D哪一个更佳呢？</a></td>\\n          <td class=\"pl\"><span>来自</span><a href=\"https://www.douban.com/people/165707092/\">Lululy</a></td>\\n          <td class=\"pl\"><span>3 回应</span></td>\\n          <td class=\"pl\"><span>2019-07-09</span></td>\\n        </tr>\\n        \\n        <tr>\\n          <td class=\"pl\"><a href=\"https://www.douban.com/group/topic/144341705/\" title=\"感觉这基本上是看漫威这么多年来见过最硬的两个彩蛋了\">感觉这基本上是看漫威这么多年来见过最硬的两个彩蛋了</a></td>\\n          <td class=\"pl\"><span>来自</span><a href=\"https://www.douban.com/people/156049444/\">Au影陌</a></td>\\n          <td class=\"pl\"><span>33 回应</span></td>\\n          <td class=\"pl\"><span>2019-07-09</span></td>\\n        </tr>\\n        \\n        <tr>\\n          <td class=\"pl\"><a href=\"https://www.douban.com/group/topic/144536664/\" title=\"还是想吐槽下女主角MJ…\">还是想吐槽下女主角MJ…</a></td>\\n          <td class=\"pl\"><span>来自</span><a href=\"https://www.douban.com/people/130758637/\">史帝芬·周</a></td>\\n          <td class=\"pl\"><span>52 回应</span></td>\\n          <td class=\"pl\"><span>2019-07-09</span></td>\\n        </tr>\\n        \\n        <tr>\\n          <td class=\"pl\"><a href=\"https://www.douban.com/group/topic/144409866/\" title=\"（非内容问题）各位看的电影字幕是不是和我一样很晃眼\">（非内容问题）各位看的电影字幕是不是和我一样很晃眼</a></td>\\n          <td class=\"pl\"><span>来自</span><a href=\"https://www.douban.com/people/Oscuro/\">亲爱的小鬼先生</a></td>\\n          <td class=\"pl\"><span>48 回应</span></td>\\n          <td class=\"pl\"><span>2019-07-09</span></td>\\n        </tr>\\n        \\n        <tr>\\n          <td class=\"pl\"><a href=\"https://www.douban.com/group/topic/144709497/\" title=\"聊点别的吧，电影院里那些值得吐嘈的情况。\">聊点别的吧，电影院里那些值得吐嘈的情况。</a></td>\\n          <td class=\"pl\"><span>来自</span><a href=\"https://www.douban.com/people/104886244/\">ChrisHuang</a></td>\\n          <td class=\"pl\"><span>28 回应</span></td>\\n          <td class=\"pl\"><span>2019-07-09</span></td>\\n        </tr>\\n        \\n        <tr>\\n          <td class=\"pl\"><a href=\"https://www.douban.com/group/topic/145288706/\" title=\"想问一下在《I will always love you》（漫威标题出来时）响起之前，那差不多一分钟播的是什么?\">想问一下在《I will always love you》（漫威标题...</a></td>\\n          <td class=\"pl\"><span>来自</span><a href=\"https://www.douban.com/people/138330408/\">fresh looker</a></td>\\n          <td class=\"pl\"><span></span></td>\\n          <td class=\"pl\"><span>2019-07-09</span></td>\\n        </tr>\\n        \\n        <tr>\\n          <td class=\"pl\"><a href=\"https://www.douban.com/group/topic/144740627/\" title=\"为什么不能提到惊奇队长？\">为什么不能提到惊奇队长？</a></td>\\n          <td class=\"pl\"><span>来自</span><a href=\"https://www.douban.com/people/180711103/\">清华招生办🤓</a></td>\\n          <td class=\"pl\"><span>7 回应</span></td>\\n          <td class=\"pl\"><span>2019-07-09</span></td>\\n        </tr>\\n        \\n        <tr>\\n          <td class=\"pl\"><a href=\"https://www.douban.com/group/topic/145230405/\" title=\"神秘客得到眼镜之前无人机是哪来的\">神秘客得到眼镜之前无人机是哪来的</a></td>\\n          <td class=\"pl\"><span>来自</span><a href=\"https://www.douban.com/people/156390880/\">elbisreverri</a></td>\\n          <td class=\"pl\"><span>3 回应</span></td>\\n          <td class=\"pl\"><span>2019-07-09</span></td>\\n        </tr>\\n        \\n        <tr>\\n          <td class=\"pl\"><a href=\"https://www.douban.com/group/topic/145281087/\" title=\"蜘蛛侠不是只在保护世界\">蜘蛛侠不是只在保护世界</a></td>\\n          <td class=\"pl\"><span>来自</span><a href=\"https://www.douban.com/people/199217237/\">何人念咒</a></td>\\n          <td class=\"pl\"><span></span></td>\\n          <td class=\"pl\"><span>2019-07-09</span></td>\\n        </tr>\\n        \\n        <tr>\\n          <td class=\"pl\"><a href=\"https://www.douban.com/group/topic/145262051/\" title=\"适合14岁小朋友看吗？\">适合14岁小朋友看吗？</a></td>\\n          <td class=\"pl\"><span>来自</span><a href=\"https://www.douban.com/people/175371240/\">前如</a></td>\\n          <td class=\"pl\"><span>3 回应</span></td>\\n          <td class=\"pl\"><span>2019-07-09</span></td>\\n        </tr>\\n  </table>\\n\\n        <p class=\"pl\" align=\"right\">\\n            <a href=\"//www.douban.com/group/665645\" rel=\"nofollow\">\\n                &gt; 去这部电影的小组讨论（全部622条）\\n            </a>\\n        </p>\\n    </div>\\n\\n\\n        \\n    \\n        \\n                \\n\\n\\n\\n\\n\\n<div id=\"askmatrix\">\\n    <div class=\"mod-hd\">\\n        <h2>\\n            关于《蜘蛛侠：英雄远征》的问题\\n            · · · · · ·\\n            <span class=\"pl\">\\n                (<a href=\\'https://movie.douban.com/subject/26931786/questions/?from=subject\\'>\\n                    全部15个\\n                </a>)\\n            </span>\\n        </h2>\\n\\n\\n        \\n    \\n    <a class=\\'j a_show_login comment_btn\\'\\n        href=\\'https://movie.douban.com/subject/26931786/questions/ask/?from=subject\\'>我来提问</a>\\n\\n    </div>\\n\\n    <div class=\"mod-bd\">\\n        <ul class=\"\">\\n            <li class=\"\">\\n                <span class=\"tit\">\\n                    <a href=\"https://movie.douban.com/subject/26931786/questions/837527/?from=subject\" class=\"\">\\n                            电影中提到的 虚拟专用网络 是什么东西？\\n                    </a>\\n                </span>\\n                <span class=\"meta\">\\n                    4人回答\\n                </span>\\n            </li>\\n            <li class=\"\">\\n                <span class=\"tit\">\\n                    <a href=\"https://movie.douban.com/subject/26931786/questions/837524/?from=subject\" class=\"\">\\n                            值得看IMAX吗？\\n                    </a>\\n                </span>\\n                <span class=\"meta\">\\n                    1人回答\\n                </span>\\n            </li>\\n        </ul>\\n\\n        <p>&gt;\\n            <a href=\\'https://movie.douban.com/subject/26931786/questions/?from=subject\\'>\\n                全部15个问题\\n            </a>\\n        </p>\\n\\n    </div>\\n</div>\\n\\n\\n\\n            \\n\\n\\n    <script type=\"text/javascript\">\\n        $(function(){if($.browser.msie && $.browser.version == 6.0){\\n            var $info = $(\\'#info\\'),\\n                maxWidth = parseInt($info.css(\\'max-width\\'));\\n            if($info.width() > maxWidth) {\\n                $info.width(maxWidth);\\n            }\\n        }});\\n    </script>\\n\\n\\n            </div>\\n            <div class=\"aside\">\\n                \\n\\n\\n    \\n\\n\\n\\n\\n\\n\\n\\n            \\n\\n\\n\\n\\n\\n\\n<div class=\"ticket\">\\n        <a class=\"ticket-btn\" href=\"https://movie.douban.com/ticket/redirect/?url=https%3A%2F%2Fm.maoyan.com%2Fcinema%2Fmovie%2F1198925%3F_v_%3Dyes%26merCode%3D1000011\">购票</a>\\n</div>\\n\\n\\n\\n    <!-- douban ad begin -->\\n    <div id=\"dale_movie_subject_top_right\"></div>\\n    <div id=\"dale_movie_subject_top_middle\"></div>\\n    <!-- douban ad end -->\\n\\n    \\n\\n\\n\\n<style type=\"text/css\">\\n    .m4 {margin-bottom:8px; padding-bottom:8px;}\\n    .movieOnline {background:#FFF6ED; padding:10px; margin-bottom:20px;}\\n    .movieOnline h2 {margin:0 0 5px;}\\n    .movieOnline .sitename {line-height:2em; width:160px;}\\n    .movieOnline td,.movieOnline td a:link,.movieOnline td a:visited{color:#666;}\\n    .movieOnline td a:hover {color:#fff;}\\n    .link-bt:link,\\n    .link-bt:visited,\\n    .link-bt:hover,\\n    .link-bt:active {margin:5px 0 0; padding:2px 8px; background:#a8c598; color:#fff; -moz-border-radius: 3px; -webkit-border-radius: 3px; border-radius: 3px; display:inline-block;}\\n</style>\\n\\n\\n\\n    \\n\\n\\n\\n\\n\\n\\n\\n    \\n    <div class=\"tags\">\\n        \\n        \\n    <h2>\\n        <i class=\"\">豆瓣成员常用的标签</i>\\n              · · · · · ·\\n    </h2>\\n\\n        <div class=\"tags-body\">\\n                <a href=\"/tag/漫威\" class=\"\">漫威</a>\\n                <a href=\"/tag/超级英雄\" class=\"\">超级英雄</a>\\n                <a href=\"/tag/美国\" class=\"\">美国</a>\\n                <a href=\"/tag/科幻\" class=\"\">科幻</a>\\n                <a href=\"/tag/2019\" class=\"\">2019</a>\\n                <a href=\"/tag/成长\" class=\"\">成长</a>\\n                <a href=\"/tag/动作\" class=\"\">动作</a>\\n                <a href=\"/tag/漫画改编\" class=\"\">漫画改编</a>\\n        </div>\\n    </div>\\n\\n\\n    <div id=\"dale_movie_review_right_guess_you_like\"></div>\\n    <div id=\"dale_movie_subject_inner_middle\"></div>\\n    <div id=\"dale_movie_subject_download_middle\"></div>\\n        \\n\\n\\n\\n\\n\\n\\n\\n\\n<div id=\"subject-doulist\">\\n    \\n    \\n    <h2>\\n        <i class=\"\">以下豆列推荐</i>\\n              · · · · · ·\\n            <span class=\"pl\">\\n            (\\n                <a href=\"https://movie.douban.com/subject/26931786/doulists\">全部</a>\\n            )\\n            </span>\\n    </h2>\\n\\n\\n    \\n    <ul>\\n            <li>\\n                <a href=\"https://www.douban.com/doulist/114465/\" target=\"_blank\">{北美电影票房总排行}</a>\\n                <span>(荔枝超人)</span>\\n            </li>\\n            <li>\\n                <a href=\"https://www.douban.com/doulist/30299/\" target=\"_blank\">豆瓣电影【口碑榜】2019-07-02 更新</a>\\n                <span>(影志)</span>\\n            </li>\\n            <li>\\n                <a href=\"https://www.douban.com/doulist/1276354/\" target=\"_blank\">2019—2025值得关注的美国影片</a>\\n                <span>(closer)</span>\\n            </li>\\n            <li>\\n                <a href=\"https://www.douban.com/doulist/1654175/\" target=\"_blank\">漫威电影宇宙(MCU)系列影视条目及顺序</a>\\n                <span>(Mr.Sick Joke)</span>\\n            </li>\\n            <li>\\n                <a href=\"https://www.douban.com/doulist/113454719/\" target=\"_blank\">漫威宇宙已上映22部电影补片顺序</a>\\n                <span>(豆瓣片单)</span>\\n            </li>\\n    </ul>\\n\\n</div>\\n\\n            \\n\\n\\n\\n\\n\\n\\n\\n\\n<div id=\"subject-others-interests\">\\n    \\n    \\n    <h2>\\n        <i class=\"\">谁在看这部电影</i>\\n              · · · · · ·\\n    </h2>\\n\\n    \\n    <ul class=\"\">\\n            \\n            <li class=\"\">\\n                <a href=\"https://www.douban.com/people/143052937/\" class=\"others-interest-avatar\">\\n                    <img src=\"https://img3.doubanio.com/icon/u143052937-1.jpg\" class=\"pil\" alt=\"至尊玉\">\\n                </a>\\n                <div class=\"others-interest-info\">\\n                    <a href=\"https://www.douban.com/people/143052937/\" class=\"\">至尊玉</a>\\n                    <div class=\"\">\\n                        刚刚\\n                        看过\\n                        <span class=\"allstar40\" title=\"推荐\"></span>\\n                    </div>\\n                </div>\\n            </li>\\n            \\n            <li class=\"\">\\n                <a href=\"https://www.douban.com/people/163963151/\" class=\"others-interest-avatar\">\\n                    <img src=\"https://img3.doubanio.com/icon/u163963151-4.jpg\" class=\"pil\" alt=\"lobster-_-\">\\n                </a>\\n                <div class=\"others-interest-info\">\\n                    <a href=\"https://www.douban.com/people/163963151/\" class=\"\">lobster-_-</a>\\n                    <div class=\"\">\\n                        刚刚\\n                        看过\\n                        <span class=\"allstar20\" title=\"较差\"></span>\\n                    </div>\\n                </div>\\n            </li>\\n            \\n            <li class=\"\">\\n                <a href=\"https://www.douban.com/people/83251408/\" class=\"others-interest-avatar\">\\n                    <img src=\"https://img3.doubanio.com/icon/u83251408-16.jpg\" class=\"pil\" alt=\"一只熊\">\\n                </a>\\n                <div class=\"others-interest-info\">\\n                    <a href=\"https://www.douban.com/people/83251408/\" class=\"\">一只熊</a>\\n                    <div class=\"\">\\n                        1分钟前\\n                        看过\\n                        \\n                    </div>\\n                </div>\\n            </li>\\n    </ul>\\n\\n    \\n    <div class=\"subject-others-interests-ft\">\\n        \\n            <a href=\"https://movie.douban.com/subject/26931786/collections\">275654人看过</a>\\n                &nbsp;/&nbsp;\\n            <a href=\"https://movie.douban.com/subject/26931786/wishes\">88789人想看</a>\\n    </div>\\n\\n</div>\\n\\n\\n\\n    \\n    \\n\\n<!-- douban ad begin -->\\n<div id=\"dale_movie_subject_middle_right\"></div>\\n<script type=\"text/javascript\">\\n    (function (global) {\\n        if(!document.getElementsByClassName) {\\n            document.getElementsByClassName = function(className) {\\n                return this.querySelectorAll(\".\" + className);\\n            };\\n            Element.prototype.getElementsByClassName = document.getElementsByClassName;\\n\\n        }\\n        var articles = global.document.getElementsByClassName(\\'article\\'),\\n            asides = global.document.getElementsByClassName(\\'aside\\');\\n\\n        if (articles.length > 0 && asides.length > 0 && articles[0].offsetHeight >= asides[0].offsetHeight) {\\n            (global.DoubanAdSlots = global.DoubanAdSlots || []).push(\\'dale_movie_subject_middle_right\\');\\n        }\\n    })(this);\\n</script>\\n<!-- douban ad end -->\\n\\n\\n\\n    <br/>\\n\\n    \\n<p class=\"pl\">订阅蜘蛛侠：英雄远征的评论: <br/><span class=\"feed\">\\n    <a href=\"https://movie.douban.com/feed/subject/26931786/reviews\"> feed: rss 2.0</a></span></p>\\n\\n\\n            </div>\\n            <div class=\"extra\">\\n                \\n    \\n<!-- douban ad begin -->\\n<div id=\"dale_movie_subject_bottom_super_banner\"></div>\\n<script type=\"text/javascript\">\\n    (function (global) {\\n        var body = global.document.body,\\n            html = global.document.documentElement;\\n\\n        var height = Math.max(body.scrollHeight, body.offsetHeight, html.clientHeight, html.scrollHeight, html.offsetHeight);\\n        if (height >= 2000) {\\n            (global.DoubanAdSlots = global.DoubanAdSlots || []).push(\\'dale_movie_subject_bottom_super_banner\\');\\n        }\\n    })(this);\\n</script>\\n<!-- douban ad end -->\\n\\n\\n            </div>\\n        </div>\\n    </div>\\n\\n        \\n    <div id=\"footer\">\\n            <div class=\"footer-extra\"></div>\\n        \\n<span id=\"icp\" class=\"fleft gray-link\">\\n    &copy; 2005－2019 douban.com, all rights reserved 北京豆网科技有限公司\\n</span>\\n\\n<a href=\"https://www.douban.com/hnypt/variformcyst.py\" style=\"display: none;\"></a>\\n\\n<span class=\"fright\">\\n    <a href=\"https://www.douban.com/about\">关于豆瓣</a>\\n    · <a href=\"https://www.douban.com/jobs\">在豆瓣工作</a>\\n    · <a href=\"https://www.douban.com/about?topic=contactus\">联系我们</a>\\n    · <a href=\"https://www.douban.com/about/legal\">法律声明</a>\\n    \\n    · <a href=\"https://help.douban.com/?app=movie\" target=\"_blank\">帮助中心</a>\\n    · <a href=\"https://www.douban.com/doubanapp/\">移动应用</a>\\n    · <a href=\"https://www.douban.com/partner/\">豆瓣广告</a>\\n</span>\\n\\n    </div>\\n\\n    </div>\\n    <script type=\"text/javascript\" src=\"https://img3.doubanio.com/misc/mixed_static/308bab0e185ffcc4.js\"></script>\\n        \\n        \\n    <link rel=\"stylesheet\" type=\"text/css\" href=\"https://img3.doubanio.com/f/shire/8377b9498330a2e6f056d863987cc7a37eb4d486/css/ui/dialog.css\" />\\n    <link rel=\"stylesheet\" type=\"text/css\" href=\"https://img3.doubanio.com/f/movie/4aca95d66d37ec0712b3d19973b5d8feb75f2f05/css/movie/mod/reg_login_pop.css\" />\\n    <script type=\"text/javascript\" src=\"https://img3.doubanio.com/f/shire/77323ae72a612bba8b65f845491513ff3329b1bb/js/do.js\" data-cfg-autoload=\"false\"></script>\\n    <script type=\"text/javascript\" src=\"https://img3.doubanio.com/f/shire/383a6e43f2108dc69e3ff2681bc4dc6c72a5ffb0/js/ui/dialog.js\"></script>\\n    <script type=\"text/javascript\">\\n        var HTTPS_DB=\\'https://www.douban.com\\';\\nvar account_pop={open:function(o,e){e?referrer=\"?referrer=\"+encodeURIComponent(e):referrer=\"?referrer=\"+window.location.href;var n=\"\",i=\"\",t=448;n=\"用户登录\",i=\"https://accounts.douban.com/passport/login_popup?source=movie\";var r=document.location.protocol+\"//\"+document.location.hostname,a=dui.Dialog({width:340,title:n,height:t,cls:\"account_pop\",isHideTitle:!0,modal:!0,content:\"<iframe scrolling=\\'no\\' frameborder=\\'0\\' width=\\'340\\' height=\\'\"+t+\"\\' src=\\'\"+i+\"\\' name=\\'\"+r+\"\\'></iframe>\"},!0),c=a.node;if(c.undelegate(),c.delegate(\".dui-dialog-close\",\"click\",function(){var o=$(\"body\");o.find(\"#login_msk\").hide(),o.find(\".account_pop\").remove()}),$(window).width()<478){var d=\"\";\"reg\"===o?d=HTTPS_DB+\"/accounts/register\"+referrer:\"login\"===o&&(d=HTTPS_DB+\"/accounts/login\"+referrer),window.location.href=d}else a.open();$(window).bind(\"message\",function(o){\"https://accounts.douban.com\"===o.originalEvent.origin&&(c.find(\"iframe\").css(\"height\",o.originalEvent.data),c.height(o.originalEvent.data),a.update())})}};Douban&&Douban.init_show_login&&(Douban.init_show_login=function(o){var e=$(o);e.click(function(){var o=e.data(\"ref\")||\"\";return account_pop.open(\"login\",o),!1})}),Do(function(){$(\"body\").delegate(\".pop_register\",\"click\",function(o){o.preventDefault();var e=$(this).data(\"ref\")||\"\";return account_pop.open(\"reg\",e),!1}),$(\"body\").delegate(\".pop_login\",\"click\",function(o){o.preventDefault();var e=$(this).data(\"ref\")||\"\";return account_pop.open(\"login\",e),!1})});\\n    </script>\\n\\n    \\n    \\n    \\n    \\n\\n\\n\\n\\n    \\n<script type=\"text/javascript\">\\n    (function (global) {\\n        var newNode = global.document.createElement(\\'script\\'),\\n            existingNode = global.document.getElementsByTagName(\\'script\\')[0],\\n            adSource = \\'//erebor.douban.com/\\',\\n            userId = \\'\\',\\n            browserId = \\'t-fNnEpMQsM\\',\\n            criteria = \\'7:漫威|7:安格瑞·赖斯|7:动作|7:玛丽莎·托梅|7:漫画改编|7:露丝·霍洛克斯|7:2019|7:J·B·斯穆夫|7:约瑟夫·朗|7:青春|7:赫米基·马德拉|7:托尼·雷沃罗利|7:超级英雄|7:纽曼·阿卡|7:乔恩·费儒|7:塞缪尔·杰克逊|7:戴维娜·西塔拉姆|7:美国|7:汤姆·赫兰德|7:乔·沃茨|7:寇碧·史莫德斯|7:冒险|7:科幻|7:杰克·吉伦哈尔|7:雅各布·巴特朗|7:成长|7:马丁·斯塔尔|7:杰罗恩·凡·康宁斯伯格|7:哈廷·帕特尔|7:瑞米·海依|7:赞达亚|3:/subject/26931786/?from=showing\\',\\n            preview = \\'\\',\\n            debug = false,\\n            adSlots = [\\'dale_movie_subject_top_icon\\', \\'dale_movie_subject_top_right\\', \\'dale_movie_subject_top_middle\\', \\'dale_movie_subject_inner_middle\\', \\'dale_movie_subject_download_middle\\', \\'dale_movie_review_right_guess_you_like\\'];\\n\\n        global.DoubanAdRequest = {src: adSource, uid: userId, bid: browserId, crtr: criteria, prv: preview, debug: debug};\\n        global.DoubanAdSlots = (global.DoubanAdSlots || []).concat(adSlots);\\n\\n        newNode.setAttribute(\\'type\\', \\'text/javascript\\');\\n        newNode.setAttribute(\\'src\\', \\'https://img3.doubanio.com/f/adjs/5ec0e90cac83524d8c3e7f7bf95260c9c1875bca/ad.release.js\\');\\n        newNode.setAttribute(\\'async\\', true);\\n        existingNode.parentNode.insertBefore(newNode, existingNode);\\n    })(this);\\n</script>\\n\\n\\n\\n\\n\\n\\n\\n\\n\\n\\n\\n    \\n  \\n\\n\\n\\n\\n\\n\\n\\n\\n\\n<script type=\"text/javascript\">\\nvar _paq = _paq || [];\\n_paq.push([\\'trackPageView\\']);\\n_paq.push([\\'enableLinkTracking\\']);\\n(function() {\\n    var p=((\\'https:\\' == document.location.protocol) ? \\'https\\' : \\'http\\'), u=p+\\'://fundin.douban.com/\\';\\n    _paq.push([\\'setTrackerUrl\\', u+\\'piwik\\']);\\n    _paq.push([\\'setSiteId\\', \\'100001\\']);\\n    var d=document, g=d.createElement(\\'script\\'), s=d.getElementsByTagName(\\'script\\')[0];\\n    g.type=\\'text/javascript\\';\\n    g.defer=true;\\n    g.async=true;\\n    g.src=p+\\'://img3.doubanio.com/dae/fundin/piwik.js\\';\\n    s.parentNode.insertBefore(g,s);\\n})();\\n</script>\\n\\n<script type=\"text/javascript\">\\nvar setMethodWithNs = function(namespace) {\\n  var ns = namespace ? namespace + \\'.\\' : \\'\\'\\n    , fn = function(string) {\\n        if(!ns) {return string}\\n        return ns + string\\n      }\\n  return fn\\n}\\n\\nvar gaWithNamespace = function(fn, namespace) {\\n  var method = setMethodWithNs(namespace)\\n  fn.call(this, method)\\n}\\n\\nvar _gaq = _gaq || []\\n  , accounts = [\\n      { id: \\'UA-7019765-1\\', namespace: \\'douban\\' }\\n    , { id: \\'UA-7019765-19\\', namespace: \\'\\' }\\n    ]\\n  , gaInit = function(account) {\\n      gaWithNamespace(function(method) {\\n        gaInitFn.call(this, method, account)\\n      }, account.namespace)\\n    }\\n  , gaInitFn = function(method, account) {\\n      _gaq.push([method(\\'_setAccount\\'), account.id]);\\n      _gaq.push([method(\\'_setSampleRate\\'), \\'5\\']);\\n\\n      \\n  _gaq.push([method(\\'_addOrganic\\'), \\'google\\', \\'q\\'])\\n  _gaq.push([method(\\'_addOrganic\\'), \\'baidu\\', \\'wd\\'])\\n  _gaq.push([method(\\'_addOrganic\\'), \\'soso\\', \\'w\\'])\\n  _gaq.push([method(\\'_addOrganic\\'), \\'youdao\\', \\'q\\'])\\n  _gaq.push([method(\\'_addOrganic\\'), \\'so.360.cn\\', \\'q\\'])\\n  _gaq.push([method(\\'_addOrganic\\'), \\'sogou\\', \\'query\\'])\\n  if (account.namespace) {\\n    _gaq.push([method(\\'_addIgnoredOrganic\\'), \\'豆瓣\\'])\\n    _gaq.push([method(\\'_addIgnoredOrganic\\'), \\'douban\\'])\\n    _gaq.push([method(\\'_addIgnoredOrganic\\'), \\'豆瓣网\\'])\\n    _gaq.push([method(\\'_addIgnoredOrganic\\'), \\'www.douban.com\\'])\\n  }\\n\\n      if (account.namespace === \\'douban\\') {\\n        _gaq.push([method(\\'_setDomainName\\'), \\'.douban.com\\'])\\n      }\\n\\n        _gaq.push([method(\\'_setCustomVar\\'), 1, \\'responsive_view_mode\\', \\'desktop\\', 3])\\n\\n        _gaq.push([method(\\'_setCustomVar\\'), 2, \\'login_status\\', \\'0\\', 2]);\\n\\n      _gaq.push([method(\\'_trackPageview\\')])\\n    }\\n\\nfor(var i = 0, l = accounts.length; i < l; i++) {\\n  var account = accounts[i]\\n  gaInit(account)\\n}\\n\\n\\n;(function() {\\n    var ga = document.createElement(\\'script\\');\\n    ga.src = (\\'https:\\' == document.location.protocol ? \\'https://ssl\\' : \\'http://www\\') + \\'.google-analytics.com/ga.js\\';\\n    ga.setAttribute(\\'async\\', \\'true\\');\\n    document.documentElement.firstChild.appendChild(ga);\\n})()\\n</script>\\n\\n\\n\\n\\n\\n\\n\\n\\n      \\n    \\n\\n    <!-- fram42-docker-->\\n\\n  <script>_SPLITTEST=\\'\\'</script>\\n</body>\\n\\n</html>\\n\\n\\n'"
      ]
     },
     "execution_count": 298,
     "metadata": {},
     "output_type": "execute_result"
    }
   ],
   "source": [
    "response = requests.get(url)\n",
    "response.text"
   ]
  },
  {
   "cell_type": "code",
   "execution_count": 309,
   "metadata": {},
   "outputs": [],
   "source": [
    "patten = re.compile(r'<a href=\"(https://movie\\.douban\\.com/subject/\\d+/\\?from=subject-page)\" ')       "
   ]
  },
  {
   "cell_type": "code",
   "execution_count": 310,
   "metadata": {},
   "outputs": [
    {
     "data": {
      "text/plain": [
       "['https://movie.douban.com/subject/24753477/?from=subject-page',\n",
       " 'https://movie.douban.com/subject/24753477/?from=subject-page',\n",
       " 'https://movie.douban.com/subject/26100958/?from=subject-page',\n",
       " 'https://movie.douban.com/subject/26100958/?from=subject-page',\n",
       " 'https://movie.douban.com/subject/25820460/?from=subject-page',\n",
       " 'https://movie.douban.com/subject/25820460/?from=subject-page',\n",
       " 'https://movie.douban.com/subject/1432146/?from=subject-page',\n",
       " 'https://movie.douban.com/subject/1432146/?from=subject-page',\n",
       " 'https://movie.douban.com/subject/25937854/?from=subject-page',\n",
       " 'https://movie.douban.com/subject/25937854/?from=subject-page',\n",
       " 'https://movie.douban.com/subject/1866473/?from=subject-page',\n",
       " 'https://movie.douban.com/subject/1866473/?from=subject-page',\n",
       " 'https://movie.douban.com/subject/25821634/?from=subject-page',\n",
       " 'https://movie.douban.com/subject/25821634/?from=subject-page',\n",
       " 'https://movie.douban.com/subject/26213252/?from=subject-page',\n",
       " 'https://movie.douban.com/subject/26213252/?from=subject-page',\n",
       " 'https://movie.douban.com/subject/25828589/?from=subject-page',\n",
       " 'https://movie.douban.com/subject/25828589/?from=subject-page',\n",
       " 'https://movie.douban.com/subject/4920389/?from=subject-page',\n",
       " 'https://movie.douban.com/subject/4920389/?from=subject-page']"
      ]
     },
     "execution_count": 310,
     "metadata": {},
     "output_type": "execute_result"
    }
   ],
   "source": [
    "patten.findall(response.text)"
   ]
  },
  {
   "cell_type": "markdown",
   "metadata": {},
   "source": [
    "## Machine learning"
   ]
  },
  {
   "cell_type": "code",
   "execution_count": 1,
   "metadata": {},
   "outputs": [],
   "source": [
    "from sklearn.datasets import load_boston"
   ]
  },
  {
   "cell_type": "code",
   "execution_count": 2,
   "metadata": {},
   "outputs": [],
   "source": [
    "data = load_boston()"
   ]
  },
  {
   "cell_type": "code",
   "execution_count": 3,
   "metadata": {},
   "outputs": [],
   "source": [
    "X,y = data['data'],data['target']"
   ]
  },
  {
   "cell_type": "code",
   "execution_count": 5,
   "metadata": {},
   "outputs": [
    {
     "data": {
      "text/plain": [
       "(array([2.7310e-02, 0.0000e+00, 7.0700e+00, 0.0000e+00, 4.6900e-01,\n",
       "        6.4210e+00, 7.8900e+01, 4.9671e+00, 2.0000e+00, 2.4200e+02,\n",
       "        1.7800e+01, 3.9690e+02, 9.1400e+00]), 21.6)"
      ]
     },
     "execution_count": 5,
     "metadata": {},
     "output_type": "execute_result"
    }
   ],
   "source": [
    "X[1],y[1]"
   ]
  },
  {
   "cell_type": "code",
   "execution_count": 6,
   "metadata": {},
   "outputs": [],
   "source": [
    "%matplotlib inline"
   ]
  },
  {
   "cell_type": "code",
   "execution_count": 7,
   "metadata": {},
   "outputs": [],
   "source": [
    "import matplotlib.pyplot as plt"
   ]
  },
  {
   "cell_type": "code",
   "execution_count": 89,
   "metadata": {},
   "outputs": [],
   "source": [
    "#散点图\n",
    "def draw_rm_and_price():\n",
    "    plt.scatter(X[:,5],y)"
   ]
  },
  {
   "cell_type": "code",
   "execution_count": 90,
   "metadata": {},
   "outputs": [
    {
     "data": {
      "image/png": "[encoded data removed]",
      "text/plain": [
       "<Figure size 432x288 with 1 Axes>"
      ]
     },
     "metadata": {
      "needs_background": "light"
     },
     "output_type": "display_data"
    }
   ],
   "source": [
    "draw_rm_and_price()"
   ]
  },
  {
   "cell_type": "code",
   "execution_count": 10,
   "metadata": {},
   "outputs": [],
   "source": [
    "import random"
   ]
  },
  {
   "cell_type": "code",
   "execution_count": 11,
   "metadata": {},
   "outputs": [],
   "source": [
    "def price(rm,k,b):\n",
    "    return k * rm + b"
   ]
  },
  {
   "cell_type": "code",
   "execution_count": 31,
   "metadata": {},
   "outputs": [
    {
     "data": {
      "text/plain": [
       "<matplotlib.collections.PathCollection at 0xb3d0208>"
      ]
     },
     "execution_count": 31,
     "metadata": {},
     "output_type": "execute_result"
    },
    {
     "data": {
      "image/png": "[encoded data removed]",
      "text/plain": [
       "<Figure size 432x288 with 1 Axes>"
      ]
     },
     "metadata": {
      "needs_background": "light"
     },
     "output_type": "display_data"
    }
   ],
   "source": [
    "X_rm = X[:,5]\n",
    "k = random.randint(-100,100)\n",
    "b = random.randint(-100,100)\n",
    "price_by_random_k_and_b  = [price(r,k,b) for r in X_rm]\n",
    "draw_rm_and_price()\n",
    "plt.scatter(X_rm,price_by_random_k_and_b)"
   ]
  },
  {
   "cell_type": "markdown",
   "metadata": {},
   "source": [
    "## loss\n",
    "$$ loss = \\frac{1}{n} \\sum{(y_i - \\hat{y_i})}^2$$"
   ]
  },
  {
   "cell_type": "code",
   "execution_count": 34,
   "metadata": {},
   "outputs": [],
   "source": [
    "def loss(y,y_hat):\n",
    "    return sum(((y_i - y_hat_i)**2) for y_i,y_hat_i in zip(list(y),list(y_hat))) / len(list(y))"
   ]
  },
  {
   "cell_type": "markdown",
   "metadata": {},
   "source": [
    "## First-Method 随机选择"
   ]
  },
  {
   "cell_type": "code",
   "execution_count": 38,
   "metadata": {},
   "outputs": [
    {
     "name": "stdout",
     "output_type": "stream",
     "text": [
      "when times is :0,get best_k: 5.168268681873386 best_b: 54.16595711467437,and the loss is 4161.808240086393\n",
      "when times is :26,get best_k: 1.6244160036082747 best_b: -40.75557048640166,and the loss is 2888.585077508717\n",
      "when times is :41,get best_k: -14.687349244071541 best_b: 69.99426069053897,and the loss is 2333.3451706189917\n",
      "when times is :47,get best_k: 3.63695002972959 best_b: -27.95886468461744,and the loss is 821.99685511372\n",
      "when times is :61,get best_k: 8.085947088997386 best_b: -10.307162744811961,and the loss is 367.29089311758247\n",
      "when times is :72,get best_k: 10.898097730619625 best_b: -52.66379960654637,and the loss is 90.160832748476\n",
      "when times is :119,get best_k: 6.354470295421237 best_b: -23.316505462459205,and the loss is 82.29306669240785\n",
      "when times is :213,get best_k: 8.977010802493623 best_b: -29.730767190119067,and the loss is 60.861130954567976\n",
      "when times is :334,get best_k: 7.650560483644341 best_b: -25.806345217453284,and the loss is 44.70531203219761\n",
      "when times is :15038,get best_k: 8.807371527108486 best_b: -33.346542568335906,and the loss is 43.922388655014\n"
     ]
    }
   ],
   "source": [
    "try_times = 20000\n",
    "min_loss = float('inf')\n",
    "best_k,best_b = None,None\n",
    "\n",
    "for i in range(try_times):\n",
    "    k = random.random() * 200 - 100\n",
    "    b = random.random() * 200 - 100\n",
    "    price_by_random_k_and_b = [price(r,k,b) for r in X_rm]\n",
    "    \n",
    "    current_loss = loss(y,price_by_random_k_and_b)\n",
    "    \n",
    "    if current_loss < min_loss:\n",
    "        min_loss = current_loss\n",
    "        best_k,best_b = k,b\n",
    "        print('when times is :{},get best_k: {} best_b: {},and the loss is {}'.\n",
    "              format(i,best_k,best_b,current_loss))"
   ]
  },
  {
   "cell_type": "code",
   "execution_count": 37,
   "metadata": {},
   "outputs": [
    {
     "data": {
      "text/plain": [
       "<matplotlib.collections.PathCollection at 0xb465978>"
      ]
     },
     "execution_count": 37,
     "metadata": {},
     "output_type": "execute_result"
    },
    {
     "data": {
      "image/png": "[encoded data removed]",
      "text/plain": [
       "<Figure size 432x288 with 1 Axes>"
      ]
     },
     "metadata": {
      "needs_background": "light"
     },
     "output_type": "display_data"
    }
   ],
   "source": [
    "X_rm = X[:,5]\n",
    "k = 8.594286275249402\n",
    "b = -32.07201743475663\n",
    "price_by_random_k_and_b  = [price(r,k,b) for r in X_rm]\n",
    "draw_rm_and_price()\n",
    "plt.scatter(X_rm,price_by_random_k_and_b)"
   ]
  },
  {
   "cell_type": "markdown",
   "metadata": {},
   "source": [
    "## 2nd-Method 给定一个变化的方向"
   ]
  },
  {
   "cell_type": "code",
   "execution_count": 43,
   "metadata": {},
   "outputs": [
    {
     "name": "stdout",
     "output_type": "stream",
     "text": [
      "when times is :9,get best_k: -2.1487688550410873 best_b: 58.66389861731547,and the loss is 617.9420712508634\n",
      "when times is :19,get best_k: -2.248768855041085 best_b: 58.56389861731549,and the loss is 586.6206191943958\n",
      "when times is :29,get best_k: -2.348768855041083 best_b: 58.46389861731551,and the loss is 556.3703390053994\n",
      "when times is :39,get best_k: -2.448768855041081 best_b: 58.36389861731553,and the loss is 527.191230683872\n",
      "when times is :49,get best_k: -2.5487688550410788 best_b: 58.26389861731555,and the loss is 499.0832942298157\n",
      "when times is :59,get best_k: -2.6487688550410766 best_b: 58.16389861731557,and the loss is 472.0465296432299\n",
      "when times is :69,get best_k: -2.7487688550410745 best_b: 58.06389861731559,and the loss is 446.08093692411364\n",
      "when times is :79,get best_k: -2.8487688550410724 best_b: 57.96389861731561,and the loss is 421.1865160724677\n",
      "when times is :89,get best_k: -2.9487688550410702 best_b: 57.86389861731563,and the loss is 397.363267088293\n",
      "when times is :99,get best_k: -3.048768855041068 best_b: 57.76389861731565,and the loss is 374.6111899715874\n",
      "when times is :109,get best_k: -3.148768855041066 best_b: 57.66389861731567,and the loss is 352.93028472235244\n",
      "when times is :119,get best_k: -3.248768855041064 best_b: 57.56389861731569,and the loss is 332.32055134058794\n",
      "when times is :129,get best_k: -3.3487688550410617 best_b: 57.46389861731571,and the loss is 312.7819898262938\n",
      "when times is :139,get best_k: -3.4487688550410596 best_b: 57.363898617315726,and the loss is 294.3146001794696\n",
      "when times is :149,get best_k: -3.5487688550410574 best_b: 57.263898617315746,and the loss is 276.9183824001158\n",
      "when times is :159,get best_k: -3.6487688550410553 best_b: 57.163898617315766,and the loss is 260.59333648823224\n",
      "when times is :169,get best_k: -3.748768855041053 best_b: 57.063898617315786,and the loss is 245.3394624438188\n",
      "when times is :179,get best_k: -3.848768855041051 best_b: 56.963898617315806,and the loss is 231.1567602668758\n",
      "when times is :189,get best_k: -3.948768855041049 best_b: 56.863898617315826,and the loss is 218.0452299574029\n",
      "when times is :199,get best_k: -4.048768855041047 best_b: 56.763898617315846,and the loss is 206.00487151540054\n",
      "when times is :209,get best_k: -4.148768855041045 best_b: 56.663898617315866,and the loss is 195.03568494086818\n",
      "when times is :219,get best_k: -4.2487688550410425 best_b: 56.563898617315886,and the loss is 185.13767023380612\n",
      "when times is :229,get best_k: -4.34876885504104 best_b: 56.463898617315905,and the loss is 176.31082739421433\n",
      "when times is :239,get best_k: -4.448768855041038 best_b: 56.363898617315925,and the loss is 168.55515642209284\n",
      "when times is :249,get best_k: -4.548768855041036 best_b: 56.263898617315945,and the loss is 161.87065731744173\n",
      "when times is :259,get best_k: -4.648768855041034 best_b: 56.163898617315965,and the loss is 156.25733008026063\n",
      "when times is :269,get best_k: -4.748768855041032 best_b: 56.063898617315985,and the loss is 151.71517471054975\n",
      "when times is :279,get best_k: -4.84876885504103 best_b: 55.963898617316005,and the loss is 148.24419120830933\n",
      "when times is :289,get best_k: -4.948768855041028 best_b: 55.863898617316025,and the loss is 145.84437957353921\n",
      "when times is :299,get best_k: -5.0487688550410255 best_b: 55.763898617316045,and the loss is 144.51573980623905\n",
      "when times is :319,get best_k: -5.088768855041025 best_b: 55.663898617316065,and the loss is 144.14260715530727\n",
      "when times is :336,get best_k: -5.088768855041025 best_b: 55.563898617316084,and the loss is 143.9225990438014\n",
      "when times is :349,get best_k: -5.088768855041025 best_b: 55.463898617316104,and the loss is 143.72259093229536\n",
      "when times is :370,get best_k: -5.0487688550410255 best_b: 55.363898617316124,and the loss is 143.47459905982015\n",
      "when times is :388,get best_k: -5.008768855041026 best_b: 55.263898617316144,and the loss is 143.27401887586373\n",
      "when times is :399,get best_k: -4.988768855041027 best_b: 55.163898617316164,and the loss is 143.0611577674534\n",
      "when times is :413,get best_k: -4.988768855041027 best_b: 55.063898617316184,and the loss is 142.81545696820038\n",
      "when times is :427,get best_k: -4.988768855041027 best_b: 54.963898617316204,and the loss is 142.58975616894716\n",
      "when times is :446,get best_k: -4.988768855041027 best_b: 54.863898617316224,and the loss is 142.38405536969432\n",
      "when times is :459,get best_k: -4.968768855041027 best_b: 54.763898617316244,and the loss is 142.15749303321618\n",
      "when times is :485,get best_k: -4.928768855041028 best_b: 54.66389861731626,and the loss is 141.9306279259013\n",
      "when times is :496,get best_k: -4.888768855041029 best_b: 54.56389861731628,and the loss is 141.75117450710528\n",
      "when times is :516,get best_k: -4.888768855041029 best_b: 54.4638986173163,and the loss is 141.49978102010516\n",
      "when times is :539,get best_k: -4.888768855041029 best_b: 54.36389861731632,and the loss is 141.2683875331053\n",
      "when times is :551,get best_k: -4.888768855041029 best_b: 54.26389861731634,and the loss is 141.05699404610525\n",
      "when times is :563,get best_k: -4.868768855041029 best_b: 54.16389861731636,and the loss is 140.8338650949786\n",
      "when times is :588,get best_k: -4.84876885504103 best_b: 54.06389861731638,and the loss is 140.61245052843228\n",
      "when times is :602,get best_k: -4.808768855041031 best_b: 53.9638986173164,and the loss is 140.40671218627804\n",
      "when times is :623,get best_k: -4.788768855041031 best_b: 53.86389861731642,and the loss is 140.195579311022\n",
      "when times is :648,get best_k: -4.788768855041031 best_b: 53.76389861731644,and the loss is 139.95849313627494\n",
      "when times is :660,get best_k: -4.788768855041031 best_b: 53.66389861731646,and the loss is 139.74140696152787\n",
      "when times is :677,get best_k: -4.788768855041031 best_b: 53.56389861731648,and the loss is 139.54432078678076\n",
      "when times is :701,get best_k: -4.748768855041032 best_b: 53.4638986173165,and the loss is 139.30373021455856\n",
      "when times is :723,get best_k: -4.708768855041033 best_b: 53.36389861731652,and the loss is 139.11055133085497\n",
      "when times is :734,get best_k: -4.688768855041033 best_b: 53.26389861731654,and the loss is 138.90285184095063\n",
      "when times is :746,get best_k: -4.688768855041033 best_b: 53.16389861731656,and the loss is 138.66007297845658\n",
      "when times is :759,get best_k: -4.688768855041033 best_b: 53.06389861731658,and the loss is 138.4372941159623\n",
      "when times is :771,get best_k: -4.688768855041033 best_b: 52.9638986173166,and the loss is 138.23451525346823\n",
      "when times is :788,get best_k: -4.668768855041034 best_b: 52.86389861731662,and the loss is 138.01311453549565\n",
      "when times is :809,get best_k: -4.628768855041034 best_b: 52.76389861731664,and the loss is 137.7936507284343\n",
      "when times is :823,get best_k: -4.588768855041035 best_b: 52.66389861731666,and the loss is 137.6215986098911\n",
      "when times is :841,get best_k: -4.588768855041035 best_b: 52.56389861731668,and the loss is 137.37312705964987\n",
      "when times is :865,get best_k: -4.588768855041035 best_b: 52.4638986173167,and the loss is 137.14465550940875\n",
      "when times is :878,get best_k: -4.568768855041036 best_b: 52.36389861731672,and the loss is 136.9318267143376\n",
      "when times is :898,get best_k: -4.568768855041036 best_b: 52.26389861731674,and the loss is 136.7182166265468\n",
      "when times is :912,get best_k: -4.568768855041036 best_b: 52.16389861731676,and the loss is 136.5246065387561\n",
      "when times is :925,get best_k: -4.5287688550410365 best_b: 52.06389861731678,and the loss is 136.28742511504643\n",
      "when times is :949,get best_k: -4.508768855041037 best_b: 51.9638986173168,and the loss is 136.0746009361666\n",
      "when times is :968,get best_k: -4.488768855041037 best_b: 51.86389861731682,and the loss is 135.8634911418671\n",
      "when times is :985,get best_k: -4.448768855041038 best_b: 51.76389861731684,and the loss is 135.69085602009557\n",
      "when times is :1008,get best_k: -4.448768855041038 best_b: 51.66389861731686,and the loss is 135.44641470700847\n",
      "when times is :1031,get best_k: -4.448768855041038 best_b: 51.56389861731688,and the loss is 135.22197339392147\n",
      "when times is :1065,get best_k: -4.448768855041038 best_b: 51.4638986173169,and the loss is 135.01753208083417\n",
      "when times is :1078,get best_k: -4.428768855041039 best_b: 51.36389861731692,and the loss is 134.80128836517653\n",
      "when times is :1091,get best_k: -4.428768855041039 best_b: 51.26389861731694,and the loss is 134.61170851454\n",
      "when times is :1104,get best_k: -4.3887688550410395 best_b: 51.16389861731696,and the loss is 134.37394408760187\n",
      "when times is :1119,get best_k: -4.34876885504104 best_b: 51.06389861731698,and the loss is 134.18359134918222\n",
      "when times is :1136,get best_k: -4.328768855041041 best_b: 50.963898617317,and the loss is 133.98105809397515\n",
      "when times is :1158,get best_k: -4.308768855041041 best_b: 50.86389861731702,and the loss is 133.78023922334813\n",
      "when times is :1175,get best_k: -4.308768855041041 best_b: 50.76389861731704,and the loss is 133.53982814741522\n",
      "when times is :1187,get best_k: -4.308768855041041 best_b: 50.66389861731706,and the loss is 133.31941707148215\n",
      "when times is :1199,get best_k: -4.308768855041041 best_b: 50.56389861731708,and the loss is 133.1190059955493\n",
      "when times is :1212,get best_k: -4.288768855041042 best_b: 50.4638986173171,and the loss is 132.9044858968543\n",
      "when times is :1242,get best_k: -4.268768855041042 best_b: 50.36389861731712,and the loss is 132.69168018273982\n",
      "when times is :1262,get best_k: -4.2487688550410425 best_b: 50.26389861731714,and the loss is 132.48058885320512\n",
      "when times is :1281,get best_k: -4.208768855041043 best_b: 50.16389861731716,and the loss is 132.28965311155733\n",
      "when times is :1296,get best_k: -4.188768855041044 best_b: 50.06389861731718,and the loss is 132.08884347331298\n",
      "when times is :1317,get best_k: -4.188768855041044 best_b: 49.9638986173172,and the loss is 131.85760117208355\n",
      "when times is :1332,get best_k: -4.168768855041044 best_b: 49.86389861731722,and the loss is 131.65336738087004\n",
      "when times is :1349,get best_k: -4.168768855041044 best_b: 49.76389861731724,and the loss is 131.43698654209135\n",
      "when times is :1364,get best_k: -4.168768855041044 best_b: 49.66389861731726,and the loss is 131.2406057033122\n"
     ]
    },
    {
     "name": "stdout",
     "output_type": "stream",
     "text": [
      "when times is :1386,get best_k: -4.148768855041045 best_b: 49.56389861731728,and the loss is 131.0278092215803\n",
      "when times is :1403,get best_k: -4.1087688550410455 best_b: 49.4638986173173,and the loss is 130.81915586328415\n",
      "when times is :1421,get best_k: -4.088768855041046 best_b: 49.36389861731732,and the loss is 130.61664107284224\n",
      "when times is :1434,get best_k: -4.068768855041046 best_b: 49.26389861731734,and the loss is 130.41584066698059\n",
      "when times is :1445,get best_k: -4.048768855041047 best_b: 49.16389861731736,and the loss is 130.21675464569907\n",
      "when times is :1475,get best_k: -4.048768855041047 best_b: 49.06389861731738,and the loss is 129.9895425816236\n",
      "when times is :1491,get best_k: -4.048768855041047 best_b: 48.9638986173174,and the loss is 129.78233051754844\n",
      "when times is :1505,get best_k: -4.028768855041047 best_b: 48.86389861731742,and the loss is 129.5746818057486\n",
      "when times is :1520,get best_k: -4.028768855041047 best_b: 48.76389861731744,and the loss is 129.38233120412363\n",
      "when times is :1531,get best_k: -4.008768855041048 best_b: 48.66389861731746,and the loss is 129.1712583393545\n",
      "when times is :1545,get best_k: -3.9687688550410485 best_b: 48.56389861731748,and the loss is 128.96202197782995\n",
      "when times is :1559,get best_k: -3.9287688550410493 best_b: 48.4638986173175,and the loss is 128.80019730482385\n",
      "when times is :1574,get best_k: -3.9287688550410493 best_b: 48.36389861731752,and the loss is 128.56215401545197\n",
      "when times is :1590,get best_k: -3.9087688550410498 best_b: 48.26389861731754,and the loss is 128.36479161113348\n",
      "when times is :1609,get best_k: -3.9087688550410498 best_b: 48.16389861731756,and the loss is 128.14160978421236\n",
      "when times is :1624,get best_k: -3.9087688550410498 best_b: 48.06389861731758,and the loss is 127.938427957291\n",
      "when times is :1637,get best_k: -3.9087688550410498 best_b: 47.9638986173176,and the loss is 127.75524613036997\n",
      "when times is :1649,get best_k: -3.88876885504105 best_b: 47.863898617317616,and the loss is 127.54418249798324\n",
      "when times is :1663,get best_k: -3.8687688550410506 best_b: 47.763898617317636,and the loss is 127.33483325017697\n",
      "when times is :1690,get best_k: -3.8287688550410515 best_b: 47.663898617317656,and the loss is 127.1250138854239\n",
      "when times is :1703,get best_k: -3.7887688550410523 best_b: 47.563898617317676,and the loss is 126.96260620918946\n",
      "when times is :1722,get best_k: -3.7887688550410523 best_b: 47.463898617317696,and the loss is 126.72859315697177\n",
      "when times is :1741,get best_k: -3.7887688550410523 best_b: 47.363898617317716,and the loss is 126.51458010475415\n",
      "when times is :1757,get best_k: -3.7687688550410527 best_b: 47.263898617317736,and the loss is 126.31380277984903\n",
      "when times is :1773,get best_k: -3.7687688550410527 best_b: 47.163898617317756,and the loss is 126.11465119008196\n",
      "when times is :1794,get best_k: -3.7687688550410527 best_b: 47.063898617317776,and the loss is 125.9354996003147\n",
      "when times is :1808,get best_k: -3.7287688550410536 best_b: 46.963898617317795,and the loss is 125.70796261891367\n",
      "when times is :1825,get best_k: -3.708768855041054 best_b: 46.863898617317815,and the loss is 125.50718991019977\n",
      "when times is :1837,get best_k: -3.6887688550410545 best_b: 46.763898617317835,and the loss is 125.30813158606618\n",
      "when times is :1853,get best_k: -3.6887688550410545 best_b: 46.663898617317855,and the loss is 125.10842584610151\n",
      "when times is :1867,get best_k: -3.668768855041055 best_b: 46.563898617317875,and the loss is 124.90594336899862\n",
      "when times is :1915,get best_k: -3.6287688550410557 best_b: 46.463898617317895,and the loss is 124.72124292114682\n",
      "when times is :1933,get best_k: -3.608768855041056 best_b: 46.363898617317915,and the loss is 124.52904213533434\n",
      "when times is :1949,get best_k: -3.608768855041056 best_b: 46.263898617317935,and the loss is 124.30878224517168\n",
      "when times is :1968,get best_k: -3.5887688550410566 best_b: 46.163898617317955,and the loss is 124.11315730639006\n",
      "when times is :1984,get best_k: -3.568768855041057 best_b: 46.063898617317975,and the loss is 123.91924675218841\n",
      "when times is :2009,get best_k: -3.5487688550410574 best_b: 45.963898617317994,and the loss is 123.72705058256712\n",
      "when times is :2026,get best_k: -3.528768855041058 best_b: 45.863898617318014,and the loss is 123.5365687975261\n",
      "when times is :2038,get best_k: -3.5087688550410583 best_b: 45.763898617318034,and the loss is 123.34780139706531\n",
      "when times is :2063,get best_k: -3.5087688550410583 best_b: 45.663898617318054,and the loss is 123.12184881915584\n",
      "when times is :2083,get best_k: -3.4887688550410587 best_b: 45.563898617318074,and the loss is 122.92965726572595\n",
      "when times is :2105,get best_k: -3.4887688550410587 best_b: 45.463898617318094,and the loss is 122.71856615026705\n",
      "when times is :2135,get best_k: -3.468768855041059 best_b: 45.363898617318114,and the loss is 122.52295044386783\n",
      "when times is :2152,get best_k: -3.468768855041059 best_b: 45.263898617318134,and the loss is 122.32672079085938\n",
      "when times is :2168,get best_k: -3.4487688550410596 best_b: 45.163898617318154,and the loss is 122.12768093149117\n",
      "when times is :2184,get best_k: -3.4487688550410596 best_b: 45.06389861731817,and the loss is 121.94631274093359\n",
      "when times is :2200,get best_k: -3.42876885504106 best_b: 44.96389861731819,and the loss is 121.74384872859596\n",
      "when times is :2215,get best_k: -3.4087688550410604 best_b: 44.86389861731821,and the loss is 121.5430991008387\n",
      "when times is :2231,get best_k: -3.388768855041061 best_b: 44.76389861731823,and the loss is 121.34406385766155\n",
      "when times is :2244,get best_k: -3.3687688550410613 best_b: 44.66389861731825,and the loss is 121.14674299906491\n",
      "when times is :2257,get best_k: -3.3487688550410617 best_b: 44.56389861731827,and the loss is 120.95113652504838\n",
      "when times is :2275,get best_k: -3.328768855041062 best_b: 44.46389861731829,and the loss is 120.75724443561202\n",
      "when times is :2288,get best_k: -3.3087688550410626 best_b: 44.36389861731831,and the loss is 120.56506673075586\n",
      "when times is :2309,get best_k: -3.288768855041063 best_b: 44.26389861731833,and the loss is 120.37460341047993\n",
      "when times is :2326,get best_k: -3.288768855041063 best_b: 44.16389861731835,and the loss is 120.17212691952716\n",
      "when times is :2338,get best_k: -3.288768855041063 best_b: 44.06389861731837,and the loss is 119.98965042857408\n",
      "when times is :2354,get best_k: -3.2687688550410634 best_b: 43.96389861731839,and the loss is 119.79062441777974\n",
      "when times is :2366,get best_k: -3.248768855041064 best_b: 43.86389861731841,and the loss is 119.59331279156535\n",
      "when times is :2378,get best_k: -3.2287688550410643 best_b: 43.76389861731843,and the loss is 119.3977155499315\n",
      "when times is :2395,get best_k: -3.2087688550410647 best_b: 43.66389861731845,and the loss is 119.20383269287781\n",
      "when times is :2429,get best_k: -3.188768855041065 best_b: 43.56389861731847,and the loss is 119.01166422040431\n",
      "when times is :2449,get best_k: -3.1687688550410655 best_b: 43.46389861731849,and the loss is 118.82121013251121\n",
      "when times is :2464,get best_k: -3.148768855041066 best_b: 43.36389861731851,and the loss is 118.63247042919821\n",
      "when times is :2487,get best_k: -3.1287688550410664 best_b: 43.26389861731853,and the loss is 118.44544511046534\n",
      "when times is :2503,get best_k: -3.108768855041067 best_b: 43.16389861731855,and the loss is 118.26013417631289\n",
      "when times is :2517,get best_k: -3.0887688550410672 best_b: 43.06389861731857,and the loss is 118.07653762674057\n",
      "when times is :2541,get best_k: -3.0687688550410677 best_b: 42.96389861731859,and the loss is 117.89465546174854\n",
      "when times is :2562,get best_k: -3.0687688550410677 best_b: 42.86389861731861,and the loss is 117.67565505775214\n",
      "when times is :2580,get best_k: -3.048768855041068 best_b: 42.76389861731863,and the loss is 117.49034873979085\n",
      "when times is :2601,get best_k: -3.048768855041068 best_b: 42.66389861731865,and the loss is 117.28620979824488\n",
      "when times is :2621,get best_k: -3.0287688550410685 best_b: 42.56389861731867,and the loss is 117.09747932731462\n",
      "when times is :2653,get best_k: -3.0287688550410685 best_b: 42.46389861731869,and the loss is 116.90820184821922\n",
      "when times is :2673,get best_k: -3.008768855041069 best_b: 42.36389861731871,and the loss is 116.71604722431968\n",
      "when times is :2694,get best_k: -3.008768855041069 best_b: 42.26389861731873,and the loss is 116.54163120767497\n",
      "when times is :2715,get best_k: -2.9887688550410694 best_b: 42.16389861731875,and the loss is 116.34605243080631\n",
      "when times is :2738,get best_k: -2.96876885504107 best_b: 42.06389861731877,and the loss is 116.15218803851775\n",
      "when times is :2761,get best_k: -2.9487688550410702 best_b: 41.96389861731879,and the loss is 115.96003803080949\n"
     ]
    },
    {
     "name": "stdout",
     "output_type": "stream",
     "text": [
      "when times is :2776,get best_k: -2.9287688550410707 best_b: 41.86389861731881,and the loss is 115.7696024076815\n",
      "when times is :2789,get best_k: -2.908768855041071 best_b: 41.76389861731883,and the loss is 115.5808811691338\n",
      "when times is :2813,get best_k: -2.8887688550410715 best_b: 41.66389861731885,and the loss is 115.39387431516619\n",
      "when times is :2832,get best_k: -2.868768855041072 best_b: 41.56389861731887,and the loss is 115.20858184577898\n",
      "when times is :2851,get best_k: -2.8487688550410724 best_b: 41.46389861731889,and the loss is 115.02500376097181\n",
      "when times is :2871,get best_k: -2.828768855041073 best_b: 41.36389861731891,and the loss is 114.8431400607451\n",
      "when times is :2900,get best_k: -2.808768855041073 best_b: 41.26389861731893,and the loss is 114.66299074509855\n",
      "when times is :2919,get best_k: -2.7887688550410736 best_b: 41.16389861731895,and the loss is 114.48455581403208\n",
      "when times is :2933,get best_k: -2.768768855041074 best_b: 41.06389861731897,and the loss is 114.3078352675461\n",
      "when times is :2960,get best_k: -2.768768855041074 best_b: 40.96389861731899,and the loss is 114.09175680030846\n",
      "when times is :2975,get best_k: -2.7487688550410745 best_b: 40.86389861731901,and the loss is 113.91161210085316\n",
      "when times is :2990,get best_k: -2.7487688550410745 best_b: 40.76389861731903,and the loss is 113.71039509606595\n",
      "when times is :3003,get best_k: -2.728768855041075 best_b: 40.66389861731905,and the loss is 113.52682624364162\n",
      "when times is :3021,get best_k: -2.728768855041075 best_b: 40.56389861731907,and the loss is 113.3404707013052\n",
      "when times is :3037,get best_k: -2.728768855041075 best_b: 40.46389861731909,and the loss is 113.1741151589687\n",
      "when times is :3061,get best_k: -2.7087688550410753 best_b: 40.36389861731911,and the loss is 112.98198361602556\n",
      "when times is :3078,get best_k: -2.6887688550410758 best_b: 40.26389861731913,and the loss is 112.79156645766273\n",
      "when times is :3092,get best_k: -2.668768855041076 best_b: 40.16389861731915,and the loss is 112.60286368388023\n",
      "when times is :3105,get best_k: -2.6487688550410766 best_b: 40.06389861731917,and the loss is 112.4158752946781\n",
      "when times is :3119,get best_k: -2.628768855041077 best_b: 39.96389861731919,and the loss is 112.23060129005586\n",
      "when times is :3138,get best_k: -2.6087688550410775 best_b: 39.86389861731921,and the loss is 112.04704167001412\n",
      "when times is :3160,get best_k: -2.588768855041078 best_b: 39.76389861731923,and the loss is 111.86519643455254\n",
      "when times is :3176,get best_k: -2.5687688550410783 best_b: 39.66389861731925,and the loss is 111.6850655836712\n",
      "when times is :3191,get best_k: -2.5487688550410788 best_b: 39.56389861731927,and the loss is 111.50664911737015\n",
      "when times is :3205,get best_k: -2.528768855041079 best_b: 39.46389861731929,and the loss is 111.32994703564931\n",
      "when times is :3234,get best_k: -2.5087688550410796 best_b: 39.36389861731931,and the loss is 111.1549593385087\n",
      "when times is :3250,get best_k: -2.48876885504108 best_b: 39.26389861731933,and the loss is 110.9816860259483\n",
      "when times is :3271,get best_k: -2.48876885504108 best_b: 39.16389861731935,and the loss is 110.77366803301878\n",
      "when times is :3287,get best_k: -2.4687688550410805 best_b: 39.06389861731937,and the loss is 110.5969705674893\n",
      "when times is :3303,get best_k: -2.4687688550410805 best_b: 38.96389861731939,and the loss is 110.40381403701046\n",
      "when times is :3316,get best_k: -2.448768855041081 best_b: 38.86389861731941,and the loss is 110.22369241851173\n",
      "when times is :3333,get best_k: -2.448768855041081 best_b: 38.76389861731943,and the loss is 110.04539735048336\n",
      "when times is :3358,get best_k: -2.4287688550410813 best_b: 38.66389861731945,and the loss is 109.8618515790156\n",
      "when times is :3372,get best_k: -2.4287688550410813 best_b: 38.56389861731947,and the loss is 109.6984179734376\n",
      "when times is :3385,get best_k: -2.4087688550410817 best_b: 38.46389861731949,and the loss is 109.51144804900085\n",
      "when times is :3404,get best_k: -2.388768855041082 best_b: 38.36389861731951,and the loss is 109.32619250914395\n",
      "when times is :3417,get best_k: -2.3687688550410826 best_b: 38.263898617319526,and the loss is 109.14265135386742\n",
      "when times is :3444,get best_k: -2.348768855041083 best_b: 38.163898617319546,and the loss is 108.96082458317092\n",
      "when times is :3461,get best_k: -2.3287688550410834 best_b: 38.063898617319566,and the loss is 108.78071219705481\n",
      "when times is :3475,get best_k: -2.308768855041084 best_b: 37.963898617319586,and the loss is 108.60231419551907\n",
      "when times is :3489,get best_k: -2.2887688550410843 best_b: 37.863898617319606,and the loss is 108.42563057856336\n",
      "when times is :3503,get best_k: -2.2687688550410847 best_b: 37.763898617319626,and the loss is 108.25066134618791\n",
      "when times is :3516,get best_k: -2.248768855041085 best_b: 37.663898617319646,and the loss is 108.07740649839283\n",
      "when times is :3530,get best_k: -2.2287688550410856 best_b: 37.563898617319666,and the loss is 107.9058660351779\n",
      "when times is :3543,get best_k: -2.208768855041086 best_b: 37.463898617319686,and the loss is 107.73603995654318\n",
      "when times is :3559,get best_k: -2.1887688550410864 best_b: 37.363898617319705,and the loss is 107.56792826248888\n",
      "when times is :3585,get best_k: -2.1887688550410864 best_b: 37.263898617319725,and the loss is 107.36283220631812\n",
      "when times is :3600,get best_k: -2.168768855041087 best_b: 37.163898617319745,and the loss is 107.19129635929454\n",
      "when times is :3632,get best_k: -2.168768855041087 best_b: 37.063898617319765,and the loss is 107.00106176557446\n",
      "when times is :3647,get best_k: -2.1487688550410873 best_b: 36.963898617319785,and the loss is 106.82610176558173\n",
      "when times is :3666,get best_k: -2.1487688550410873 best_b: 36.863898617319805,and the loss is 106.65072863431223\n",
      "when times is :3681,get best_k: -2.1287688550410877 best_b: 36.763898617319825,and the loss is 106.47234448135026\n",
      "when times is :3696,get best_k: -2.1287688550410877 best_b: 36.663898617319845,and the loss is 106.31183281253149\n",
      "when times is :3716,get best_k: -2.108768855041088 best_b: 36.563898617319865,and the loss is 106.13002450660036\n",
      "when times is :3731,get best_k: -2.0887688550410886 best_b: 36.463898617319884,and the loss is 105.94993058524956\n",
      "when times is :3745,get best_k: -2.068768855041089 best_b: 36.363898617319904,and the loss is 105.77155104847881\n",
      "when times is :3763,get best_k: -2.0487688550410894 best_b: 36.263898617319924,and the loss is 105.59488589628843\n",
      "when times is :3776,get best_k: -2.02876885504109 best_b: 36.163898617319944,and the loss is 105.41993512867829\n",
      "when times is :3790,get best_k: -2.0087688550410903 best_b: 36.063898617319964,and the loss is 105.24669874564842\n",
      "when times is :3816,get best_k: -1.9887688550410902 best_b: 35.963898617319984,and the loss is 105.07517674719854\n",
      "when times is :3836,get best_k: -1.9687688550410902 best_b: 35.863898617320004,and the loss is 104.90536913332929\n",
      "when times is :3850,get best_k: -1.9487688550410902 best_b: 35.763898617320024,and the loss is 104.73727590404002\n",
      "when times is :3872,get best_k: -1.9287688550410902 best_b: 35.663898617320044,and the loss is 104.57089705933105\n",
      "when times is :3897,get best_k: -1.9087688550410902 best_b: 35.56389861732006,and the loss is 104.40623259920241\n",
      "when times is :3912,get best_k: -1.9087688550410902 best_b: 35.46389861732008,and the loss is 104.20919701733999\n",
      "when times is :3927,get best_k: -1.8887688550410902 best_b: 35.3638986173201,and the loss is 104.04110840424204\n",
      "when times is :3942,get best_k: -1.8887688550410902 best_b: 35.26389861732012,and the loss is 103.85893428483016\n",
      "when times is :3956,get best_k: -1.8687688550410901 best_b: 35.16389861732014,and the loss is 103.68742151876312\n",
      "when times is :3969,get best_k: -1.8687688550410901 best_b: 35.06389861732016,and the loss is 103.52010886180199\n",
      "when times is :3999,get best_k: -1.8487688550410901 best_b: 34.96389861732018,and the loss is 103.34517194276565\n",
      "when times is :4020,get best_k: -1.8487688550410901 best_b: 34.8638986173202,and the loss is 103.19272074825511\n",
      "when times is :4045,get best_k: -1.82876885504109 best_b: 34.76389861732022,and the loss is 103.01435967624964\n",
      "when times is :4069,get best_k: -1.80876885504109 best_b: 34.66389861732024,and the loss is 102.83771298882452\n",
      "when times is :4081,get best_k: -1.78876885504109 best_b: 34.56389861732026,and the loss is 102.6627806859796\n",
      "when times is :4103,get best_k: -1.76876885504109 best_b: 34.46389861732028,and the loss is 102.48956276771492\n",
      "when times is :4120,get best_k: -1.74876885504109 best_b: 34.3638986173203,and the loss is 102.31805923403033\n",
      "when times is :4132,get best_k: -1.72876885504109 best_b: 34.26389861732032,and the loss is 102.14827008492628\n",
      "when times is :4144,get best_k: -1.70876885504109 best_b: 34.16389861732034,and the loss is 101.9801953204022\n",
      "when times is :4169,get best_k: -1.68876885504109 best_b: 34.06389861732036,and the loss is 101.81383494045839\n",
      "when times is :4191,get best_k: -1.66876885504109 best_b: 33.96389861732038,and the loss is 101.64918894509496\n",
      "when times is :4206,get best_k: -1.64876885504109 best_b: 33.8638986173204,and the loss is 101.48625733431167\n",
      "when times is :4224,get best_k: -1.62876885504109 best_b: 33.76389861732042,and the loss is 101.32504010810874\n",
      "when times is :4237,get best_k: -1.60876885504109 best_b: 33.66389861732044,and the loss is 101.16553726648594\n"
     ]
    },
    {
     "name": "stdout",
     "output_type": "stream",
     "text": [
      "when times is :4270,get best_k: -1.60876885504109 best_b: 33.56389861732046,and the loss is 100.97142362138239\n",
      "when times is :4283,get best_k: -1.58876885504109 best_b: 33.46389861732048,and the loss is 100.80849662679043\n",
      "when times is :4304,get best_k: -1.58876885504109 best_b: 33.3638986173205,and the loss is 100.62924444413733\n",
      "when times is :4323,get best_k: -1.5687688550410899 best_b: 33.26389861732052,and the loss is 100.46289329657631\n",
      "when times is :4339,get best_k: -1.5687688550410899 best_b: 33.16389861732054,and the loss is 100.2985025763739\n",
      "when times is :4358,get best_k: -1.5487688550410899 best_b: 33.06389861732056,and the loss is 100.12872727584357\n",
      "when times is :4376,get best_k: -1.5487688550410899 best_b: 32.96389861732058,and the loss is 99.9791980180918\n",
      "when times is :4391,get best_k: -1.5087688550410898 best_b: 32.8638986173206,and the loss is 99.79431982852367\n",
      "when times is :4404,get best_k: -1.4887688550410898 best_b: 32.76389861732062,and the loss is 99.6296876817343\n",
      "when times is :4432,get best_k: -1.4687688550410898 best_b: 32.66389861732064,and the loss is 99.4667699195248\n",
      "when times is :4450,get best_k: -1.4487688550410898 best_b: 32.56389861732066,and the loss is 99.3055665418957\n",
      "when times is :4462,get best_k: -1.4287688550410897 best_b: 32.46389861732068,and the loss is 99.14607754884682\n",
      "when times is :4479,get best_k: -1.4087688550410897 best_b: 32.3638986173207,and the loss is 98.9883029403781\n",
      "when times is :4498,get best_k: -1.3887688550410897 best_b: 32.26389861732072,and the loss is 98.8322427164899\n",
      "when times is :4516,get best_k: -1.3887688550410897 best_b: 32.16389861732074,and the loss is 98.64160515834274\n",
      "when times is :4532,get best_k: -1.3687688550410897 best_b: 32.06389861732076,and the loss is 98.48212078148521\n",
      "when times is :4544,get best_k: -1.3687688550410897 best_b: 31.963898617320766,and the loss is 98.30634468578867\n",
      "when times is :4560,get best_k: -1.3687688550410897 best_b: 31.86389861732075,and the loss is 98.15056859009208\n",
      "when times is :4582,get best_k: -1.3487688550410897 best_b: 31.763898617320734,and the loss is 97.98252152271594\n",
      "when times is :4600,get best_k: -1.3287688550410897 best_b: 31.66389861732072,and the loss is 97.81618883991989\n",
      "when times is :4617,get best_k: -1.3087688550410896 best_b: 31.563898617320703,and the loss is 97.6515705417042\n",
      "when times is :4632,get best_k: -1.2887688550410896 best_b: 31.463898617320687,and the loss is 97.48866662806871\n",
      "when times is :4652,get best_k: -1.2687688550410896 best_b: 31.36389861732067,and the loss is 97.32747709901348\n",
      "when times is :4669,get best_k: -1.2487688550410896 best_b: 31.263898617320656,and the loss is 97.16800195453843\n",
      "when times is :4685,get best_k: -1.2287688550410896 best_b: 31.16389861732064,and the loss is 97.01024119464374\n",
      "when times is :4707,get best_k: -1.2087688550410896 best_b: 31.063898617320625,and the loss is 96.85419481932922\n",
      "when times is :4721,get best_k: -1.2087688550410896 best_b: 30.96389861732061,and the loss is 96.67731042323729\n",
      "when times is :4738,get best_k: -1.2087688550410896 best_b: 30.863898617320594,and the loss is 96.52042602714558\n",
      "when times is :4752,get best_k: -1.1887688550410895 best_b: 30.763898617320578,and the loss is 96.35581696131239\n",
      "when times is :4767,get best_k: -1.1887688550410895 best_b: 30.663898617320562,and the loss is 96.2137940276713\n",
      "when times is :4782,get best_k: -1.1687688550410895 best_b: 30.563898617320547,and the loss is 96.04576080886896\n",
      "when times is :4825,get best_k: -1.1487688550410895 best_b: 30.46389861732053,and the loss is 95.87944197464707\n",
      "when times is :4840,get best_k: -1.1287688550410895 best_b: 30.363898617320515,and the loss is 95.71483752500511\n",
      "when times is :4867,get best_k: -1.1087688550410895 best_b: 30.2638986173205,and the loss is 95.55194745994355\n",
      "when times is :4879,get best_k: -1.0887688550410894 best_b: 30.163898617320484,and the loss is 95.39077177946221\n",
      "when times is :4895,get best_k: -1.0687688550410894 best_b: 30.06389861732047,and the loss is 95.23131048356099\n",
      "when times is :4909,get best_k: -1.0287688550410894 best_b: 29.963898617320453,and the loss is 95.10066227953595\n",
      "when times is :4936,get best_k: -1.0287688550410894 best_b: 29.863898617320437,and the loss is 94.9175310454996\n",
      "when times is :4951,get best_k: -1.0287688550410894 best_b: 29.76389861732042,and the loss is 94.75439981146314\n",
      "when times is :4972,get best_k: -0.9887688550410894 best_b: 29.663898617320406,and the loss is 94.610609145759\n",
      "when times is :5003,get best_k: -0.9887688550410894 best_b: 29.56389861732039,and the loss is 94.43720083662376\n",
      "when times is :5035,get best_k: -0.9887688550410894 best_b: 29.463898617320375,and the loss is 94.28379252748856\n",
      "when times is :5068,get best_k: -0.9487688550410893 best_b: 29.36389861732036,and the loss is 94.1268594001053\n",
      "when times is :5095,get best_k: -0.9487688550410893 best_b: 29.263898617320343,and the loss is 93.96317401587126\n",
      "when times is :5110,get best_k: -0.9487688550410893 best_b: 29.163898617320328,and the loss is 93.81948863163731\n",
      "when times is :5137,get best_k: -0.9087688550410893 best_b: 29.063898617320312,and the loss is 93.64941304257495\n",
      "when times is :5168,get best_k: -0.8887688550410893 best_b: 28.963898617320297,and the loss is 93.49510413279718\n",
      "when times is :5190,get best_k: -0.8887688550410893 best_b: 28.86389861732028,and the loss is 93.33600313591494\n",
      "when times is :5203,get best_k: -0.8487688550410892 best_b: 28.763898617320265,and the loss is 93.19162946698223\n",
      "when times is :5228,get best_k: -0.8287688550410892 best_b: 28.66389861732025,and the loss is 93.04246371094524\n",
      "when times is :5250,get best_k: -0.8487688550410892 best_b: 28.563898617320234,and the loss is 92.87287332302022\n",
      "when times is :5281,get best_k: -0.8087688550410892 best_b: 28.46389861732022,and the loss is 92.71535719240856\n",
      "when times is :5309,get best_k: -0.7887688550410892 best_b: 28.363898617320203,and the loss is 92.56448166798243\n",
      "when times is :5322,get best_k: -0.7887688550410892 best_b: 28.263898617320187,and the loss is 92.39968798335316\n",
      "when times is :5341,get best_k: -0.7687688550410892 best_b: 28.16389861732017,and the loss is 92.24538830595812\n",
      "when times is :5369,get best_k: -0.7487688550410891 best_b: 28.063898617320156,and the loss is 92.09280301314313\n",
      "when times is :5391,get best_k: -0.7487688550410891 best_b: 27.96389861732014,and the loss is 91.93773225341499\n",
      "when times is :5412,get best_k: -0.7287688550410891 best_b: 27.863898617320125,and the loss is 91.78172280763089\n",
      "when times is :5425,get best_k: -0.6887688550410891 best_b: 27.76389861732011,and the loss is 91.64533344217959\n",
      "when times is :5442,get best_k: -0.7087688550410891 best_b: 27.663898617320093,and the loss is 91.48207991160014\n",
      "when times is :5465,get best_k: -0.6687688550410891 best_b: 27.563898617320078,and the loss is 91.32398077776\n",
      "when times is :5486,get best_k: -0.648768855041089 best_b: 27.463898617320062,and the loss is 91.17482887029676\n",
      "when times is :5513,get best_k: -0.648768855041089 best_b: 27.363898617320046,and the loss is 91.01406542282167\n",
      "when times is :5544,get best_k: -0.628768855041089 best_b: 27.26389861732003,and the loss is 90.86148936238922\n",
      "when times is :5567,get best_k: -0.608768855041089 best_b: 27.163898617320015,and the loss is 90.71062768653712\n",
      "when times is :5592,get best_k: -0.608768855041089 best_b: 27.06389861732,and the loss is 90.55958716396333\n",
      "when times is :5620,get best_k: -0.588768855041089 best_b: 26.963898617319984,and the loss is 90.40530133514197\n",
      "when times is :5633,get best_k: -0.548768855041089 best_b: 26.86389861731997,and the loss is 90.2683289664622\n",
      "when times is :5658,get best_k: -0.568768855041089 best_b: 26.763898617319953,and the loss is 90.11141229322824\n",
      "when times is :5682,get best_k: -0.548768855041089 best_b: 26.663898617319937,and the loss is 89.95541669601796\n",
      "when times is :5699,get best_k: -0.5087688550410889 best_b: 26.56389861731992,and the loss is 89.80530186565927\n",
      "when times is :5715,get best_k: -0.5087688550410889 best_b: 26.463898617319906,and the loss is 89.64856865533835\n",
      "when times is :5733,get best_k: -0.4887688550410889 best_b: 26.36389861731989,and the loss is 89.49771621186878\n",
      "when times is :5745,get best_k: -0.4687688550410889 best_b: 26.263898617319875,and the loss is 89.34857815297934\n",
      "when times is :5762,get best_k: -0.4487688550410889 best_b: 26.16389861731986,and the loss is 89.20115447867043\n",
      "when times is :5795,get best_k: -0.4487688550410889 best_b: 26.063898617319843,and the loss is 89.04900565570131\n",
      "when times is :5807,get best_k: -0.40876885504108884 best_b: 25.963898617319828,and the loss is 88.91145028379307\n",
      "when times is :5840,get best_k: -0.40876885504108884 best_b: 25.863898617319812,and the loss is 88.74902438572515\n",
      "when times is :5856,get best_k: -0.40876885504108884 best_b: 25.763898617319796,and the loss is 88.60659848765718\n",
      "when times is :5892,get best_k: -0.3687688550410888 best_b: 25.66389861731978,and the loss is 88.45590065406986\n"
     ]
    },
    {
     "name": "stdout",
     "output_type": "stream",
     "text": [
      "when times is :5919,get best_k: -0.3687688550410888 best_b: 25.563898617319765,and the loss is 88.30319768090308\n",
      "when times is :5937,get best_k: -0.3687688550410888 best_b: 25.46389861731975,and the loss is 88.1704947077364\n",
      "when times is :5957,get best_k: -0.32876885504108877 best_b: 25.363898617319734,and the loss is 88.00665441247004\n",
      "when times is :5985,get best_k: -0.30876885504108875 best_b: 25.263898617319718,and the loss is 87.86095435512388\n",
      "when times is :6007,get best_k: -0.30876885504108875 best_b: 25.163898617319703,and the loss is 87.71283576930885\n",
      "when times is :6025,get best_k: -0.2687688550410887 best_b: 25.063898617319687,and the loss is 87.57469739417213\n",
      "when times is :6043,get best_k: -0.2487688550410887 best_b: 24.96389861731967,and the loss is 87.43414049056666\n",
      "when times is :6061,get best_k: -0.2687688550410887 best_b: 24.863898617319656,and the loss is 87.27790607234473\n",
      "when times is :6095,get best_k: -0.22876885504108868 best_b: 24.76389861731964,and the loss is 87.12662523552865\n",
      "when times is :6119,get best_k: -0.20876885504108866 best_b: 24.663898617319624,and the loss is 86.98435856353436\n",
      "when times is :6139,get best_k: -0.20876885504108866 best_b: 24.56389861731961,and the loss is 86.83054728997251\n",
      "when times is :6166,get best_k: -0.18876885504108865 best_b: 24.463898617319593,and the loss is 86.68485646500888\n",
      "when times is :6190,get best_k: -0.16876885504108863 best_b: 24.363898617319578,and the loss is 86.5408800246254\n",
      "when times is :6215,get best_k: -0.16876885504108863 best_b: 24.263898617319562,and the loss is 86.39679167596472\n",
      "when times is :6243,get best_k: -0.1487688550410886 best_b: 24.163898617319546,and the loss is 86.24939108261216\n",
      "when times is :6261,get best_k: -0.1087688550410886 best_b: 24.06389861731953,and the loss is 86.11923701095682\n",
      "when times is :6275,get best_k: -0.1287688550410886 best_b: 23.963898617319515,and the loss is 85.96933945008041\n",
      "when times is :6313,get best_k: -0.08876885504108861 best_b: 23.8638986173195,and the loss is 85.817475610036\n",
      "when times is :6337,get best_k: -0.06876885504108862 best_b: 23.763898617319484,and the loss is 85.67693255500438\n",
      "when times is :6359,get best_k: -0.06876885504108862 best_b: 23.663898617319468,and the loss is 85.52715151859663\n",
      "when times is :6388,get best_k: -0.04876885504108862 best_b: 23.563898617319452,and the loss is 85.38318431059588\n",
      "when times is :6408,get best_k: -0.008768855041088612 best_b: 23.463898617319437,and the loss is 85.26558969739106\n",
      "when times is :6436,get best_k: -0.008768855041088612 best_b: 23.36389861731942,and the loss is 85.10039304833506\n",
      "when times is :6453,get best_k: -0.008768855041088612 best_b: 23.263898617319406,and the loss is 84.95519639927906\n",
      "when times is :6477,get best_k: 0.03123114495891139 best_b: 23.16389861731939,and the loss is 84.82445932439525\n",
      "when times is :6496,get best_k: 0.011231144958911388 best_b: 23.063898617319374,and the loss is 84.68089862086424\n",
      "when times is :6511,get best_k: 0.051231144958911394 best_b: 22.96389861731936,and the loss is 84.52845177759141\n",
      "when times is :6526,get best_k: 0.07123114495891139 best_b: 22.863898617319343,and the loss is 84.38963233952265\n",
      "when times is :6568,get best_k: 0.07123114495891139 best_b: 22.763898617319327,and the loss is 84.24388154026909\n",
      "when times is :6586,get best_k: 0.11123114495891137 best_b: 22.66389861731931,and the loss is 84.11713661712587\n",
      "when times is :6611,get best_k: 0.09123114495891138 best_b: 22.563898617319296,and the loss is 83.97074861242814\n",
      "when times is :6624,get best_k: 0.13123114495891136 best_b: 22.46389861731928,and the loss is 83.82229392089599\n",
      "when times is :6646,get best_k: 0.15123114495891138 best_b: 22.363898617319265,and the loss is 83.68519348359874\n",
      "when times is :6669,get best_k: 0.15123114495891138 best_b: 22.26389861731925,and the loss is 83.53888853414765\n",
      "when times is :6685,get best_k: 0.19123114495891141 best_b: 22.163898617319234,and the loss is 83.41613576274507\n",
      "when times is :6702,get best_k: 0.1712311449589114 best_b: 22.063898617319218,and the loss is 83.26692045688056\n",
      "when times is :6732,get best_k: 0.21123114495891143 best_b: 21.963898617319202,and the loss is 83.12245791708922\n",
      "when times is :6753,get best_k: 0.21123114495891143 best_b: 21.863898617319187,and the loss is 82.9807373549897\n",
      "when times is :6776,get best_k: 0.23123114495891145 best_b: 21.76389861731917,and the loss is 82.8402173809146\n",
      "when times is :6792,get best_k: 0.2712311449589115 best_b: 21.663898617319155,and the loss is 82.72145676125284\n",
      "when times is :6812,get best_k: 0.25123114495891147 best_b: 21.56389861731914,and the loss is 82.56941415422152\n",
      "when times is :6827,get best_k: 0.2912311449589115 best_b: 21.463898617319124,and the loss is 82.42894376617083\n",
      "when times is :6853,get best_k: 0.2912311449589115 best_b: 21.36389861731911,and the loss is 82.28666905387365\n",
      "when times is :6868,get best_k: 0.3112311449589115 best_b: 21.263898617319093,and the loss is 82.14786808057018\n",
      "when times is :6884,get best_k: 0.35123114495891156 best_b: 21.163898617319077,and the loss is 82.03309961264902\n",
      "when times is :6905,get best_k: 0.33123114495891154 best_b: 21.06389861731906,and the loss is 81.87822970445116\n",
      "when times is :6927,get best_k: 0.3712311449589116 best_b: 20.963898617319046,and the loss is 81.74175146814096\n",
      "when times is :6954,get best_k: 0.3712311449589116 best_b: 20.86389861731903,and the loss is 81.59892260564634\n",
      "when times is :6975,get best_k: 0.3912311449589116 best_b: 20.763898617319015,and the loss is 81.46184063311438\n",
      "when times is :6989,get best_k: 0.4112311449589116 best_b: 20.663898617319,and the loss is 81.32647304516266\n",
      "when times is :7009,get best_k: 0.4112311449589116 best_b: 20.563898617318983,and the loss is 81.19336710756905\n",
      "when times is :7028,get best_k: 0.45123114495891165 best_b: 20.463898617318968,and the loss is 81.06088102299977\n",
      "when times is :7043,get best_k: 0.45123114495891165 best_b: 20.363898617318952,and the loss is 80.91749801030748\n",
      "when times is :7068,get best_k: 0.47123114495891166 best_b: 20.263898617318937,and the loss is 80.782135038547\n",
      "when times is :7086,get best_k: 0.4912311449589116 best_b: 20.16389861731892,and the loss is 80.64848645136678\n",
      "when times is :7121,get best_k: 0.4912311449589116 best_b: 20.063898617318905,and the loss is 80.51482636357568\n",
      "when times is :7134,get best_k: 0.5312311449589117 best_b: 19.96389861731889,and the loss is 80.38633243074703\n",
      "when times is :7152,get best_k: 0.5312311449589117 best_b: 19.863898617318874,and the loss is 80.24239526785716\n",
      "when times is :7172,get best_k: 0.5512311449589117 best_b: 19.76389861731886,and the loss is 80.10875129686815\n",
      "when times is :7194,get best_k: 0.5712311449589117 best_b: 19.663898617318843,and the loss is 79.97682171045952\n",
      "when times is :7220,get best_k: 0.5712311449589117 best_b: 19.563898617318827,and the loss is 79.84260747247082\n",
      "when times is :7236,get best_k: 0.6112311449589117 best_b: 19.46389861731881,and the loss is 79.71810569138277\n",
      "when times is :7255,get best_k: 0.5912311449589117 best_b: 19.363898617318796,and the loss is 79.58790095755478\n",
      "when times is :7284,get best_k: 0.6312311449589117 best_b: 19.26389861731878,and the loss is 79.44168940807799\n",
      "when times is :7317,get best_k: 0.6512311449589118 best_b: 19.163898617318765,and the loss is 79.3114788224408\n",
      "when times is :7340,get best_k: 0.6512311449589118 best_b: 19.06389861731875,and the loss is 79.17671043425452\n",
      "when times is :7354,get best_k: 0.6912311449589118 best_b: 18.963898617318733,and the loss is 79.05620080490715\n",
      "when times is :7377,get best_k: 0.6712311449589118 best_b: 18.863898617318718,and the loss is 78.92316876991241\n",
      "when times is :7402,get best_k: 0.7112311449589118 best_b: 18.763898617318702,and the loss is 78.78094937217622\n",
      "when times is :7420,get best_k: 0.7312311449589118 best_b: 18.663898617318686,and the loss is 78.65245778731061\n",
      "when times is :7445,get best_k: 0.7312311449589118 best_b: 18.56389861731867,and the loss is 78.51713524892672\n",
      "when times is :7470,get best_k: 0.7712311449589119 best_b: 18.463898617318655,and the loss is 78.40061777132007\n",
      "when times is :7485,get best_k: 0.7512311449589119 best_b: 18.36389861731864,and the loss is 78.26475843515864\n",
      "when times is :7515,get best_k: 0.7912311449589119 best_b: 18.263898617318624,and the loss is 78.12653118916298\n",
      "when times is :7530,get best_k: 0.7912311449589119 best_b: 18.16389861731861,and the loss is 77.99579303813094\n"
     ]
    },
    {
     "name": "stdout",
     "output_type": "stream",
     "text": [
      "when times is :7561,get best_k: 0.8112311449589119 best_b: 18.063898617318593,and the loss is 77.86388191648746\n",
      "when times is :7578,get best_k: 0.851231144958912 best_b: 17.963898617318577,and the loss is 77.75135659062146\n",
      "when times is :7595,get best_k: 0.8312311449589119 best_b: 17.86389861731856,and the loss is 77.61266995329329\n",
      "when times is :7613,get best_k: 0.871231144958912 best_b: 17.763898617318546,and the loss is 77.4784348590384\n",
      "when times is :7635,get best_k: 0.871231144958912 best_b: 17.66389861731853,and the loss is 77.34714255780871\n",
      "when times is :7658,get best_k: 0.891231144958912 best_b: 17.563898617318515,and the loss is 77.21695043693671\n",
      "when times is :7676,get best_k: 0.931231144958912 best_b: 17.4638986173185,and the loss is 77.1084172628115\n",
      "when times is :7690,get best_k: 0.911231144958912 best_b: 17.363898617318483,and the loss is 76.96690332431638\n",
      "when times is :7710,get best_k: 0.951231144958912 best_b: 17.263898617318468,and the loss is 76.83666038180225\n",
      "when times is :7726,get best_k: 0.951231144958912 best_b: 17.163898617318452,and the loss is 76.70481393037498\n",
      "when times is :7749,get best_k: 0.971231144958912 best_b: 17.063898617318436,and the loss is 76.57634081027459\n",
      "when times is :7776,get best_k: 0.991231144958912 best_b: 16.96389861731842,and the loss is 76.44958207475435\n",
      "when times is :7792,get best_k: 0.991231144958912 best_b: 16.863898617318405,and the loss is 76.3274585482282\n",
      "when times is :7818,get best_k: 1.031231144958912 best_b: 16.76389861731839,and the loss is 76.2012077574547\n",
      "when times is :7844,get best_k: 1.031231144958912 best_b: 16.663898617318374,and the loss is 76.06880715582972\n",
      "when times is :7865,get best_k: 1.051231144958912 best_b: 16.563898617318358,and the loss is 75.94205303650081\n",
      "when times is :7889,get best_k: 1.071231144958912 best_b: 16.463898617318343,and the loss is 75.81701330175221\n",
      "when times is :7909,get best_k: 1.071231144958912 best_b: 16.363898617318327,and the loss is 75.69433562502844\n",
      "when times is :7938,get best_k: 1.091231144958912 best_b: 16.26389861731831,and the loss is 75.56587173731069\n",
      "when times is :7963,get best_k: 1.111231144958912 best_b: 16.163898617318296,and the loss is 75.43912223417307\n",
      "when times is :7985,get best_k: 1.111231144958912 best_b: 16.06389861731828,and the loss is 75.32616748235058\n",
      "when times is :8007,get best_k: 1.151231144958912 best_b: 15.963898617318272,and the loss is 75.19076638163874\n",
      "when times is :8032,get best_k: 1.151231144958912 best_b: 15.863898617318274,and the loss is 75.0675345547173\n",
      "when times is :8046,get best_k: 1.1912311449589121 best_b: 15.763898617318276,and the loss is 74.94926806742522\n",
      "when times is :8073,get best_k: 1.1912311449589121 best_b: 15.663898617318278,and the loss is 74.81575916540498\n",
      "when times is :8101,get best_k: 1.2112311449589122 best_b: 15.56389861731828,and the loss is 74.69244304761922\n",
      "when times is :8124,get best_k: 1.2312311449589122 best_b: 15.463898617318282,and the loss is 74.57084131441368\n",
      "when times is :8146,get best_k: 1.2312311449589122 best_b: 15.363898617318284,and the loss is 74.4470553372948\n",
      "when times is :8167,get best_k: 1.2712311449589122 best_b: 15.263898617318286,and the loss is 74.33278100174334\n",
      "when times is :8194,get best_k: 1.2512311449589122 best_b: 15.163898617318289,and the loss is 74.21310493645171\n",
      "when times is :8220,get best_k: 1.2912311449589122 best_b: 15.06389861731829,and the loss is 74.07712083251127\n",
      "when times is :8239,get best_k: 1.2912311449589122 best_b: 14.963898617318293,and the loss is 73.95791924274417\n",
      "when times is :8264,get best_k: 1.3112311449589122 best_b: 14.863898617318295,and the loss is 73.8328979727607\n",
      "when times is :8289,get best_k: 1.3312311449589123 best_b: 14.763898617318297,and the loss is 73.70959108735758\n",
      "when times is :8314,get best_k: 1.3312311449589123 best_b: 14.6638986173183,and the loss is 73.60011242249153\n",
      "when times is :8343,get best_k: 1.3712311449589123 best_b: 14.563898617318301,and the loss is 73.46812047029199\n",
      "when times is :8364,get best_k: 1.3712311449589123 best_b: 14.463898617318304,and the loss is 73.34836473032716\n",
      "when times is :8376,get best_k: 1.4112311449589123 best_b: 14.363898617318306,and the loss is 73.23350739154732\n",
      "when times is :8397,get best_k: 1.4112311449589123 best_b: 14.263898617318308,and the loss is 73.10347457648369\n",
      "when times is :8422,get best_k: 1.4312311449589123 best_b: 14.16389861731831,and the loss is 72.98360107643227\n",
      "when times is :8445,get best_k: 1.4512311449589124 best_b: 14.063898617318312,and the loss is 72.86544196096118\n",
      "when times is :8469,get best_k: 1.4512311449589124 best_b: 13.963898617318314,and the loss is 72.74513207079862\n",
      "when times is :8492,get best_k: 1.4912311449589124 best_b: 13.863898617318316,and the loss is 72.63426688375954\n",
      "when times is :8514,get best_k: 1.4912311449589124 best_b: 13.763898617318318,and the loss is 72.50367991849818\n",
      "when times is :8535,get best_k: 1.5112311449589124 best_b: 13.66389861731832,and the loss is 72.38552541921842\n",
      "when times is :8568,get best_k: 1.5312311449589124 best_b: 13.563898617318323,and the loss is 72.26908530451871\n",
      "when times is :8594,get best_k: 1.5312311449589124 best_b: 13.463898617318325,and the loss is 72.14822126415868\n",
      "when times is :8617,get best_k: 1.5712311449589125 best_b: 13.363898617318327,and the loss is 72.04134822886019\n",
      "when times is :8638,get best_k: 1.5512311449589125 best_b: 13.263898617318329,and the loss is 71.92235441858038\n",
      "when times is :8654,get best_k: 1.5912311449589125 best_b: 13.163898617318331,and the loss is 71.79377161489309\n",
      "when times is :8680,get best_k: 1.5912311449589125 best_b: 13.063898617318333,and the loss is 71.6774919618848\n",
      "when times is :8693,get best_k: 1.6312311449589125 best_b: 12.963898617318335,and the loss is 71.5660437716171\n",
      "when times is :8722,get best_k: 1.6312311449589125 best_b: 12.863898617318338,and the loss is 71.43948704351003\n",
      "when times is :8742,get best_k: 1.6512311449589125 best_b: 12.76389861731834,and the loss is 71.32305616119304\n",
      "when times is :8765,get best_k: 1.6712311449589126 best_b: 12.663898617318342,and the loss is 71.20833966345624\n",
      "when times is :8783,get best_k: 1.6712311449589126 best_b: 12.563898617318344,and the loss is 71.0915058602503\n",
      "when times is :8806,get best_k: 1.7112311449589126 best_b: 12.463898617318346,and the loss is 70.98404982172346\n",
      "when times is :8827,get best_k: 1.7112311449589126 best_b: 12.363898617318348,and the loss is 70.85693894341875\n",
      "when times is :8858,get best_k: 1.7312311449589126 best_b: 12.26389861731835,and the loss is 70.74222706187318\n",
      "when times is :8876,get best_k: 1.7512311449589126 best_b: 12.163898617318353,and the loss is 70.62922956490804\n",
      "when times is :8907,get best_k: 1.7512311449589126 best_b: 12.063898617318355,and the loss is 70.51184161150442\n",
      "when times is :8929,get best_k: 1.7912311449589127 best_b: 11.963898617318357,and the loss is 70.40837772471829\n",
      "when times is :8953,get best_k: 1.7712311449589127 best_b: 11.863898617318359,and the loss is 70.29289347061712\n",
      "when times is :8988,get best_k: 1.8112311449589127 best_b: 11.763898617318361,and the loss is 70.16771981544198\n",
      "when times is :9009,get best_k: 1.8112311449589127 best_b: 11.663898617318363,and the loss is 70.0549162493902\n",
      "when times is :9026,get best_k: 1.8312311449589127 best_b: 11.563898617318365,and the loss is 69.93849921564718\n",
      "when times is :9058,get best_k: 1.8512311449589127 best_b: 11.463898617318367,and the loss is 69.82379656648438\n",
      "when times is :9076,get best_k: 1.8512311449589127 best_b: 11.36389861731837,and the loss is 69.72071592533369\n",
      "when times is :9103,get best_k: 1.8912311449589128 best_b: 11.263898617318372,and the loss is 69.59953442189925\n",
      "when times is :9130,get best_k: 1.8912311449589128 best_b: 11.163898617318374,and the loss is 69.48617670564994\n",
      "when times is :9143,get best_k: 1.9312311449589128 best_b: 11.063898617318376,and the loss is 69.38212981563527\n",
      "when times is :9175,get best_k: 1.9312311449589128 best_b: 10.963898617318378,and the loss is 69.25849502428701\n",
      "when times is :9192,get best_k: 1.9512311449589128 best_b: 10.86389861731838,and the loss is 69.14722576047595\n",
      "when times is :9214,get best_k: 1.9712311449589128 best_b: 10.763898617318382,and the loss is 69.037670881245\n",
      "when times is :9247,get best_k: 1.9712311449589128 best_b: 10.663898617318385,and the loss is 68.92375901479805\n",
      "when times is :9266,get best_k: 2.0112311449589124 best_b: 10.563898617318387,and the loss is 68.82370427652408\n",
      "when times is :9291,get best_k: 1.9912311449589126 best_b: 10.463898617318389,and the loss is 68.71172957860155\n",
      "when times is :9311,get best_k: 2.031231144958912 best_b: 10.363898617318391,and the loss is 68.5899650719387\n",
      "when times is :9337,get best_k: 2.031231144958912 best_b: 10.263898617318393,and the loss is 68.48063759284351\n",
      "when times is :9366,get best_k: 2.0512311449589116 best_b: 10.163898617318395,and the loss is 68.36766317683481\n",
      "when times is :9383,get best_k: 2.071231144958911 best_b: 10.063898617318397,and the loss is 68.25640314540634\n",
      "when times is :9401,get best_k: 2.071231144958911 best_b: 9.9638986173184,and the loss is 68.15679859121227\n",
      "when times is :9415,get best_k: 2.1112311449589103 best_b: 9.863898617318402,and the loss is 68.03902623629008\n",
      "when times is :9443,get best_k: 2.1112311449589103 best_b: 9.763898617318404,and the loss is 67.9291446069972\n",
      "when times is :9461,get best_k: 2.1512311449589094 best_b: 9.663898617318406,and the loss is 67.82850686549486\n"
     ]
    },
    {
     "name": "stdout",
     "output_type": "stream",
     "text": [
      "when times is :9482,get best_k: 2.1512311449589094 best_b: 9.563898617318408,and the loss is 67.70834816110316\n",
      "when times is :9502,get best_k: 2.171231144958909 best_b: 9.46389861731841,and the loss is 67.60052151502643\n",
      "when times is :9539,get best_k: 2.1912311449589086 best_b: 9.363898617318412,and the loss is 67.49440925353004\n",
      "when times is :9557,get best_k: 2.1912311449589086 best_b: 9.263898617318414,and the loss is 67.3839734740395\n",
      "when times is :9577,get best_k: 2.2312311449589077 best_b: 9.163898617318416,and the loss is 67.28732788427784\n",
      "when times is :9606,get best_k: 2.2312311449589077 best_b: 9.063898617318419,and the loss is 67.16661502968842\n",
      "when times is :9623,get best_k: 2.2512311449589073 best_b: 8.96389861731842,and the loss is 67.06050738438337\n",
      "when times is :9645,get best_k: 2.271231144958907 best_b: 8.863898617318423,and the loss is 66.95611412365848\n",
      "when times is :9669,get best_k: 2.271231144958907 best_b: 8.763898617318425,and the loss is 66.84512419397029\n",
      "when times is :9689,get best_k: 2.311231144958906 best_b: 8.663898617318427,and the loss is 66.75247075594935\n",
      "when times is :9730,get best_k: 2.2912311449589065 best_b: 8.56389861731843,and the loss is 66.64117831303868\n",
      "when times is :9751,get best_k: 2.3312311449589056 best_b: 8.463898617318431,and the loss is 66.52681510662883\n",
      "when times is :9773,get best_k: 2.3312311449589056 best_b: 8.363898617318434,and the loss is 66.42040956429246\n",
      "when times is :9786,get best_k: 2.3712311449589047 best_b: 8.263898617318436,and the loss is 66.32318097130232\n",
      "when times is :9805,get best_k: 2.3712311449589047 best_b: 8.163898617318438,and the loss is 66.20649835386709\n",
      "when times is :9824,get best_k: 2.3912311449589043 best_b: 8.06389861731844,and the loss is 66.10211432552482\n",
      "when times is :9849,get best_k: 2.411231144958904 best_b: 7.963898617318442,and the loss is 65.99944468176275\n",
      "when times is :9865,get best_k: 2.411231144958904 best_b: 7.863898617318444,and the loss is 65.89248498922873\n",
      "when times is :9887,get best_k: 2.451231144958903 best_b: 7.763898617318446,and the loss is 65.79924854797942\n",
      "when times is :9909,get best_k: 2.451231144958903 best_b: 7.6638986173184485,and the loss is 65.68201178034651\n",
      "when times is :9925,get best_k: 2.4712311449589026 best_b: 7.563898617318451,and the loss is 65.57934675277568\n",
      "when times is :9942,get best_k: 2.491231144958902 best_b: 7.463898617318453,and the loss is 65.47839610978525\n",
      "when times is :9978,get best_k: 2.491231144958902 best_b: 7.363898617318455,and the loss is 65.37088226705363\n",
      "when times is :9999,get best_k: 2.5312311449589013 best_b: 7.263898617318457,and the loss is 65.28163797754499\n",
      "when times is :10021,get best_k: 2.5112311449589018 best_b: 7.163898617318459,and the loss is 65.17385509081288\n",
      "when times is :10045,get best_k: 2.5312311449589013 best_b: 7.063898617318461,and the loss is 65.06605614188402\n",
      "when times is :10063,get best_k: 2.551231144958901 best_b: 6.963898617318463,and the loss is 64.95997157753531\n",
      "when times is :10108,get best_k: 2.5712311449589005 best_b: 6.8638986173184655,and the loss is 64.85560139776705\n",
      "when times is :10124,get best_k: 2.5912311449589 best_b: 6.763898617318468,and the loss is 64.75294560257883\n",
      "when times is :10150,get best_k: 2.6112311449588996 best_b: 6.66389861731847,and the loss is 64.65200419197096\n",
      "when times is :10174,get best_k: 2.631231144958899 best_b: 6.563898617318472,and the loss is 64.55277716594328\n",
      "when times is :10194,get best_k: 2.6512311449588988 best_b: 6.463898617318474,and the loss is 64.4552645244958\n",
      "when times is :10222,get best_k: 2.6712311449588984 best_b: 6.363898617318476,and the loss is 64.35946626762868\n",
      "when times is :10242,get best_k: 2.6712311449588984 best_b: 6.263898617318478,and the loss is 64.24570558695235\n",
      "when times is :10265,get best_k: 2.691231144958898 best_b: 6.16389861731848,and the loss is 64.14648317711605\n",
      "when times is :10290,get best_k: 2.7112311449588975 best_b: 6.063898617318483,and the loss is 64.04897515185986\n",
      "when times is :10317,get best_k: 2.731231144958897 best_b: 5.963898617318485,and the loss is 63.953181511184\n",
      "when times is :10348,get best_k: 2.731231144958897 best_b: 5.863898617318487,and the loss is 63.844005217859404\n",
      "when times is :10384,get best_k: 2.7512311449588966 best_b: 5.763898617318489,and the loss is 63.74478742421442\n",
      "when times is :10410,get best_k: 2.7512311449588966 best_b: 5.663898617318491,and the loss is 63.65047259334048\n",
      "when times is :10449,get best_k: 2.771231144958896 best_b: 5.563898617318493,and the loss is 63.547830646726204\n",
      "when times is :10472,get best_k: 2.791231144958896 best_b: 5.463898617318495,and the loss is 63.44690308469228\n",
      "when times is :10494,get best_k: 2.8112311449588954 best_b: 5.3638986173184975,and the loss is 63.3476899072385\n",
      "when times is :10530,get best_k: 2.831231144958895 best_b: 5.2638986173185,and the loss is 63.25019111436499\n",
      "when times is :10552,get best_k: 2.8512311449588945 best_b: 5.163898617318502,and the loss is 63.15440670607167\n",
      "when times is :10574,get best_k: 2.871231144958894 best_b: 5.063898617318504,and the loss is 63.06033668235862\n",
      "when times is :10597,get best_k: 2.8912311449588937 best_b: 4.963898617318506,and the loss is 62.9679810432258\n",
      "when times is :10638,get best_k: 2.8912311449588937 best_b: 4.863898617318508,and the loss is 62.85769644950603\n",
      "when times is :10664,get best_k: 2.9112311449588932 best_b: 4.76389861731851,and the loss is 62.76191665740407\n",
      "when times is :10701,get best_k: 2.9112311449588932 best_b: 4.663898617318512,and the loss is 62.66649352613486\n",
      "when times is :10724,get best_k: 2.931231144958893 best_b: 4.5638986173185145,and the loss is 62.567289581063704\n",
      "when times is :10751,get best_k: 2.9512311449588924 best_b: 4.463898617318517,and the loss is 62.469800020572855\n",
      "when times is :10796,get best_k: 2.971231144958892 best_b: 4.363898617318519,and the loss is 62.37402484466211\n",
      "when times is :10816,get best_k: 2.9912311449588915 best_b: 4.263898617318521,and the loss is 62.2799640533317\n",
      "when times is :10845,get best_k: 3.011231144958891 best_b: 4.163898617318523,and the loss is 62.187617646581465\n",
      "when times is :10874,get best_k: 3.0312311449588907 best_b: 4.063898617318525,and the loss is 62.09698562441152\n",
      "when times is :10920,get best_k: 3.0312311449588907 best_b: 3.9638986173185273,and the loss is 61.990731267845916\n",
      "when times is :10940,get best_k: 3.0512311449588903 best_b: 3.8638986173185295,and the loss is 61.89667509270674\n",
      "when times is :10964,get best_k: 3.0512311449588903 best_b: 3.7638986173185316,and the loss is 61.80528219859174\n",
      "when times is :10992,get best_k: 3.07123114495889 best_b: 3.6638986173185337,and the loss is 61.707801870483465\n",
      "when times is :11029,get best_k: 3.0912311449588894 best_b: 3.563898617318536,and the loss is 61.61203592695537\n",
      "when times is :11048,get best_k: 3.111231144958889 best_b: 3.463898617318538,and the loss is 61.51798436800751\n",
      "when times is :11070,get best_k: 3.1312311449588885 best_b: 3.36389861731854,and the loss is 61.425647193639925\n",
      "when times is :11101,get best_k: 3.151231144958888 best_b: 3.2638986173185423,and the loss is 61.33502440385262\n",
      "when times is :11118,get best_k: 3.1712311449588877 best_b: 3.1638986173185444,and the loss is 61.246115998645536\n",
      "when times is :11134,get best_k: 3.1712311449588877 best_b: 3.0638986173185465,and the loss is 61.143891879234\n",
      "when times is :11149,get best_k: 3.1912311449588873 best_b: 2.9638986173185486,and the loss is 61.051559321057695\n",
      "when times is :11170,get best_k: 3.1912311449588873 best_b: 2.8638986173185508,and the loss is 60.964196664096775\n",
      "when times is :11194,get best_k: 3.211231144958887 best_b: 2.763898617318553,and the loss is 60.8684399529513\n",
      "when times is :11219,get best_k: 3.2312311449588864 best_b: 2.663898617318555,and the loss is 60.77439762638612\n",
      "when times is :11240,get best_k: 3.251231144958886 best_b: 2.563898617318557,and the loss is 60.68206968440112\n",
      "when times is :11265,get best_k: 3.2712311449588856 best_b: 2.4638986173185593,and the loss is 60.59145612699643\n",
      "when times is :11286,get best_k: 3.291231144958885 best_b: 2.3638986173185614,and the loss is 60.5025569541719\n",
      "when times is :11329,get best_k: 3.3112311449588847 best_b: 2.2638986173185636,and the loss is 60.41537216592765\n"
     ]
    },
    {
     "name": "stdout",
     "output_type": "stream",
     "text": [
      "when times is :11355,get best_k: 3.3112311449588847 best_b: 2.1638986173185657,and the loss is 60.31717828367025\n",
      "when times is :11398,get best_k: 3.3312311449588843 best_b: 2.063898617318568,and the loss is 60.22656934245683\n",
      "when times is :11426,get best_k: 3.3312311449588843 best_b: 1.963898617318569,and the loss is 60.143236922650125\n",
      "when times is :11447,get best_k: 3.351231144958884 best_b: 1.863898617318569,and the loss is 60.04920382846749\n",
      "when times is :11490,get best_k: 3.3712311449588834 best_b: 1.763898617318569,and the loss is 59.95688511886513\n",
      "when times is :11508,get best_k: 3.391231144958883 best_b: 1.6638986173185688,and the loss is 59.86628079384294\n",
      "when times is :11547,get best_k: 3.4112311449588826 best_b: 1.5638986173185687,and the loss is 59.777390853401066\n",
      "when times is :11569,get best_k: 3.431231144958882 best_b: 1.4638986173185686,and the loss is 59.69021529753942\n",
      "when times is :11604,get best_k: 3.4512311449588817 best_b: 1.3638986173185685,and the loss is 59.604754126258015\n",
      "when times is :11622,get best_k: 3.4712311449588813 best_b: 1.2638986173185685,and the loss is 59.521007339556796\n",
      "when times is :11651,get best_k: 3.4712311449588813 best_b: 1.1638986173185684,and the loss is 59.42170515690422\n",
      "when times is :11681,get best_k: 3.491231144958881 best_b: 1.0638986173185683,and the loss is 59.33453421723383\n",
      "when times is :11705,get best_k: 3.491231144958881 best_b: 0.9638986173185682,and the loss is 59.25009349703183\n",
      "when times is :11722,get best_k: 3.5112311449588804 best_b: 0.8638986173185681,and the loss is 59.15949840439232\n",
      "when times is :11750,get best_k: 3.53123114495888 best_b: 0.763898617318568,and the loss is 59.070617696333024\n",
      "when times is :11766,get best_k: 3.5512311449588796 best_b: 0.6638986173185679,and the loss is 58.98345137285395\n",
      "when times is :11793,get best_k: 3.571231144958879 best_b: 0.5638986173185678,and the loss is 58.89799943395514\n",
      "when times is :11816,get best_k: 3.5912311449588787 best_b: 0.46389861731856774,and the loss is 58.814261879636575\n",
      "when times is :11843,get best_k: 3.6112311449588783 best_b: 0.36389861731856765,and the loss is 58.73223870989821\n",
      "when times is :11874,get best_k: 3.6112311449588783 best_b: 0.26389861731856756,and the loss is 58.63696676439976\n",
      "when times is :11903,get best_k: 3.631231144958878 best_b: 0.16389861731856747,and the loss is 58.55151944169227\n",
      "when times is :11921,get best_k: 3.631231144958878 best_b: 0.06389861731856748,and the loss is 58.471108958644386\n",
      "when times is :11942,get best_k: 3.6512311449588775 best_b: -0.03610138268143253,and the loss is 58.38223748296772\n",
      "when times is :11984,get best_k: 3.671231144958877 best_b: -0.13610138268143251,and the loss is 58.29508039187127\n",
      "when times is :12009,get best_k: 3.6912311449588766 best_b: -0.2361013826814326,and the loss is 58.20963768535509\n",
      "when times is :12030,get best_k: 3.711231144958876 best_b: -0.3361013826814327,and the loss is 58.12590936341912\n",
      "when times is :12062,get best_k: 3.7312311449588758 best_b: -0.4361013826814328,and the loss is 58.043895426063386\n",
      "when times is :12091,get best_k: 3.7512311449588753 best_b: -0.5361013826814328,and the loss is 57.96359587328787\n",
      "when times is :12117,get best_k: 3.7512311449588753 best_b: -0.6361013826814329,and the loss is 57.87235416494355\n",
      "when times is :12137,get best_k: 3.771231144958875 best_b: -0.736101382681433,and the loss is 57.788630459198906\n",
      "when times is :12178,get best_k: 3.771231144958875 best_b: -0.8361013826814331,and the loss is 57.712250213305246\n",
      "when times is :12213,get best_k: 3.7912311449588745 best_b: -0.9361013826814332,and the loss is 57.62510235459137\n",
      "when times is :12232,get best_k: 3.811231144958874 best_b: -1.0361013826814331,and the loss is 57.539668880457775\n",
      "when times is :12262,get best_k: 3.8312311449588736 best_b: -1.1361013826814332,and the loss is 57.45594979090439\n",
      "when times is :12288,get best_k: 3.851231144958873 best_b: -1.2361013826814333,and the loss is 57.373945085931325\n",
      "when times is :12319,get best_k: 3.8712311449588728 best_b: -1.3361013826814334,and the loss is 57.2936547655384\n",
      "when times is :12335,get best_k: 3.8912311449588723 best_b: -1.4361013826814335,and the loss is 57.21507882972575\n",
      "when times is :12372,get best_k: 3.8912311449588723 best_b: -1.5361013826814336,and the loss is 57.127867358535596\n",
      "when times is :12403,get best_k: 3.911231144958872 best_b: -1.6361013826814337,and the loss is 57.04586726975372\n",
      "when times is :12427,get best_k: 3.9312311449588715 best_b: -1.7361013826814338,and the loss is 56.9655815655522\n",
      "when times is :12443,get best_k: 3.951231144958871 best_b: -1.8361013826814339,and the loss is 56.887010245930824\n",
      "when times is :12466,get best_k: 3.9712311449588706 best_b: -1.936101382681434,and the loss is 56.81015331088972\n",
      "when times is :12487,get best_k: 3.9712311449588706 best_b: -2.036101382681433,and the loss is 56.72238768950196\n",
      "when times is :12504,get best_k: 3.9912311449588707 best_b: -2.136101382681431,and the loss is 56.6421066014917\n",
      "when times is :12523,get best_k: 3.9912311449588707 best_b: -2.236101382681429,and the loss is 56.569202442554506\n",
      "when times is :12544,get best_k: 4.01123114495887 best_b: -2.3361013826814268,and the loss is 56.4854972015751\n",
      "when times is :12574,get best_k: 4.051231144958869 best_b: -2.4361013826814246,and the loss is 56.41154964494227\n",
      "when times is :12610,get best_k: 4.051231144958869 best_b: -2.5361013826814225,and the loss is 56.3232298733569\n",
      "when times is :12632,get best_k: 4.071231144958869 best_b: -2.6361013826814204,and the loss is 56.244667786118136\n",
      "when times is :12654,get best_k: 4.071231144958869 best_b: -2.7361013826814182,and the loss is 56.17120947698334\n",
      "when times is :12678,get best_k: 4.0912311449588685 best_b: -2.836101382681416,and the loss is 56.089223236775425\n",
      "when times is :12704,get best_k: 4.111231144958868 best_b: -2.936101382681414,and the loss is 56.00895138114772\n",
      "when times is :12743,get best_k: 4.131231144958868 best_b: -3.036101382681412,and the loss is 55.93039391010035\n",
      "when times is :12766,get best_k: 4.151231144958867 best_b: -3.1361013826814097,and the loss is 55.853550823633114\n",
      "when times is :12787,get best_k: 4.171231144958867 best_b: -3.2361013826814076,and the loss is 55.77842212174617\n",
      "when times is :12818,get best_k: 4.191231144958866 best_b: -3.3361013826814054,and the loss is 55.705007804439425\n",
      "when times is :12859,get best_k: 4.191231144958866 best_b: -3.4361013826814033,and the loss is 55.62071827000819\n",
      "when times is :12883,get best_k: 4.211231144958866 best_b: -3.536101382681401,and the loss is 55.54387979973228\n",
      "when times is :12909,get best_k: 4.2312311449588655 best_b: -3.636101382681399,and the loss is 55.468755714036625\n",
      "when times is :12927,get best_k: 4.2312311449588655 best_b: -3.736101382681397,and the loss is 55.394189104506616\n",
      "when times is :12978,get best_k: 4.271231144958865 best_b: -3.836101382681395,and the loss is 55.32365069638603\n",
      "when times is :13021,get best_k: 4.271231144958865 best_b: -3.9361013826813926,and the loss is 55.23880701175718\n",
      "when times is :13052,get best_k: 4.291231144958864 best_b: -4.036101382681391,and the loss is 55.16368754225282\n",
      "when times is :13099,get best_k: 4.311231144958864 best_b: -4.136101382681389,and the loss is 55.09028245732872\n",
      "when times is :13127,get best_k: 4.311231144958864 best_b: -4.236101382681387,and the loss is 55.015161697601044\n",
      "when times is :13152,get best_k: 4.331231144958863 best_b: -4.336101382681385,and the loss is 54.93833245970772\n",
      "when times is :13197,get best_k: 4.351231144958863 best_b: -4.436101382681382,and the loss is 54.86321760639471\n",
      "when times is :13234,get best_k: 4.371231144958863 best_b: -4.53610138268138,and the loss is 54.78981713766186\n",
      "when times is :13258,get best_k: 4.371231144958863 best_b: -4.636101382681378,and the loss is 54.71928076528598\n",
      "when times is :13290,get best_k: 4.411231144958862 best_b: -4.736101382681376,and the loss is 54.64815935393704\n",
      "when times is :13313,get best_k: 4.411231144958862 best_b: -4.836101382681374,and the loss is 54.567345906462265\n",
      "when times is :13341,get best_k: 4.431231144958861 best_b: -4.936101382681372,and the loss is 54.493950053920756\n",
      "when times is :13375,get best_k: 4.451231144958861 best_b: -5.03610138268137,and the loss is 54.422268585959515\n",
      "when times is :13418,get best_k: 4.451231144958861 best_b: -5.1361013826813675,and the loss is 54.35117806338597\n",
      "when times is :13445,get best_k: 4.47123114495886 best_b: -5.236101382681365,and the loss is 54.27607244245553\n",
      "when times is :13481,get best_k: 4.49123114495886 best_b: -5.336101382681363,and the loss is 54.202681206105304\n",
      "when times is :13515,get best_k: 4.51123114495886 best_b: -5.436101382681361,and the loss is 54.13100435433535\n",
      "when times is :13538,get best_k: 4.531231144958859 best_b: -5.536101382681359,and the loss is 54.06104188714561\n",
      "when times is :13587,get best_k: 4.551231144958859 best_b: -5.636101382681357,and the loss is 53.992793804536085\n",
      "when times is :13620,get best_k: 4.551231144958859 best_b: -5.736101382681355,and the loss is 53.91601059421557\n"
     ]
    },
    {
     "name": "stdout",
     "output_type": "stream",
     "text": [
      "when times is :13657,get best_k: 4.571231144958858 best_b: -5.836101382681353,and the loss is 53.844338358636925\n",
      "when times is :13680,get best_k: 4.591231144958858 best_b: -5.9361013826813505,and the loss is 53.774380507638476\n",
      "when times is :13709,get best_k: 4.591231144958858 best_b: -6.036101382681348,and the loss is 53.7073202222191\n",
      "when times is :13736,get best_k: 4.631231144958857 best_b: -6.136101382681346,and the loss is 53.63960795938233\n",
      "when times is :13767,get best_k: 4.631231144958857 best_b: -6.236101382681344,and the loss is 53.56227059886413\n",
      "when times is :13801,get best_k: 4.651231144958857 best_b: -6.336101382681342,and the loss is 53.49231736405708\n",
      "when times is :13831,get best_k: 4.671231144958856 best_b: -6.43610138268134,and the loss is 53.42407851383022\n",
      "when times is :13856,get best_k: 4.671231144958856 best_b: -6.536101382681338,and the loss is 53.35646407821314\n",
      "when times is :13894,get best_k: 4.691231144958856 best_b: -6.6361013826813355,and the loss is 53.28480107501715\n",
      "when times is :13924,get best_k: 4.711231144958855 best_b: -6.736101382681333,and the loss is 53.21485245640125\n",
      "when times is :13949,get best_k: 4.731231144958855 best_b: -6.836101382681331,and the loss is 53.146618222365625\n",
      "when times is :13977,get best_k: 4.7512311449588545 best_b: -6.936101382681329,and the loss is 53.08009837291029\n",
      "when times is :14017,get best_k: 4.771231144958854 best_b: -7.036101382681327,and the loss is 53.01529290803523\n",
      "when times is :14041,get best_k: 4.771231144958854 best_b: -7.136101382681325,and the loss is 52.9419857846712\n",
      "when times is :14096,get best_k: 4.791231144958854 best_b: -7.236101382681323,and the loss is 52.87375616682692\n",
      "when times is :14126,get best_k: 4.811231144958853 best_b: -7.336101382681321,and the loss is 52.80724093356284\n",
      "when times is :14164,get best_k: 4.811231144958853 best_b: -7.4361013826813185,and the loss is 52.7436567351\n",
      "when times is :14213,get best_k: 4.851231144958852 best_b: -7.536101382681316,and the loss is 52.67935362077551\n",
      "when times is :14252,get best_k: 4.851231144958852 best_b: -7.636101382681314,and the loss is 52.60549234721382\n",
      "when times is :14292,get best_k: 4.871231144958852 best_b: -7.736101382681312,and the loss is 52.53898173014111\n",
      "when times is :14319,get best_k: 4.8912311449588515 best_b: -7.83610138268131,and the loss is 52.4741854976486\n",
      "when times is :14342,get best_k: 4.8912311449588515 best_b: -7.936101382681308,and the loss is 52.410047148988156\n",
      "when times is :14373,get best_k: 4.911231144958851 best_b: -8.036101382681306,and the loss is 52.3418267635265\n",
      "when times is :14407,get best_k: 4.931231144958851 best_b: -8.136101382681304,and the loss is 52.27532076264502\n",
      "when times is :14428,get best_k: 4.95123114495885 best_b: -8.236101382681301,and the loss is 52.21052914634387\n",
      "when times is :14461,get best_k: 4.95123114495885 best_b: -8.3361013826813,and the loss is 52.15097518503516\n",
      "when times is :14496,get best_k: 4.991231144958849 best_b: -8.436101382681297,and the loss is 52.08608906748217\n",
      "when times is :14524,get best_k: 4.991231144958849 best_b: -8.536101382681295,and the loss is 52.01625803107457\n",
      "when times is :14557,get best_k: 5.011231144958849 best_b: -8.636101382681293,and the loss is 51.95147103096476\n",
      "when times is :14582,get best_k: 5.0312311449588485 best_b: -8.73610138268129,and the loss is 51.888398415435105\n",
      "when times is :14604,get best_k: 5.0312311449588485 best_b: -8.836101382681289,and the loss is 51.82829030392877\n",
      "when times is :14643,get best_k: 5.071231144958848 best_b: -8.936101382681287,and the loss is 51.76739633811649\n",
      "when times is :14676,get best_k: 5.071231144958848 best_b: -9.036101382681284,and the loss is 51.697011151511354\n",
      "when times is :14708,get best_k: 5.091231144958847 best_b: -9.136101382681282,and the loss is 51.63394315217306\n",
      "when times is :14742,get best_k: 5.111231144958847 best_b: -9.23610138268128,and the loss is 51.57258953741497\n",
      "when times is :14767,get best_k: 5.131231144958846 best_b: -9.336101382681278,and the loss is 51.51295030723701\n",
      "when times is :14796,get best_k: 5.131231144958846 best_b: -9.436101382681276,and the loss is 51.447149507983674\n",
      "when times is :14846,get best_k: 5.151231144958846 best_b: -9.536101382681274,and the loss is 51.384086124836585\n",
      "when times is :14871,get best_k: 5.1712311449588455 best_b: -9.636101382681272,and the loss is 51.322737126269836\n",
      "when times is :14893,get best_k: 5.1712311449588455 best_b: -9.73610138268127,and the loss is 51.26665925191761\n",
      "when times is :14937,get best_k: 5.211231144958845 best_b: -9.836101382681267,and the loss is 51.20518228287697\n",
      "when times is :14971,get best_k: 5.211231144958845 best_b: -9.936101382681265,and the loss is 51.138827333425866\n",
      "when times is :15001,get best_k: 5.231231144958844 best_b: -10.036101382681263,and the loss is 51.07748295105045\n",
      "when times is :15024,get best_k: 5.251231144958844 best_b: -10.136101382681261,and the loss is 51.01785295325513\n",
      "when times is :15058,get best_k: 5.251231144958844 best_b: -10.236101382681259,and the loss is 50.96122092870536\n",
      "when times is :15095,get best_k: 5.271231144958843 best_b: -10.336101382681257,and the loss is 50.89816677794089\n",
      "when times is :15140,get best_k: 5.291231144958843 best_b: -10.436101382681255,and the loss is 50.83682701175667\n",
      "when times is :15166,get best_k: 5.3112311449588425 best_b: -10.536101382681252,and the loss is 50.77720163015279\n",
      "when times is :15204,get best_k: 5.331231144958842 best_b: -10.63610138268125,and the loss is 50.71929063312904\n",
      "when times is :15237,get best_k: 5.351231144958842 best_b: -10.736101382681248,and the loss is 50.663094020685605\n",
      "when times is :15274,get best_k: 5.351231144958842 best_b: -10.836101382681246,and the loss is 50.600769308388685\n",
      "when times is :15318,get best_k: 5.371231144958841 best_b: -10.936101382681244,and the loss is 50.541148542976075\n",
      "when times is :15369,get best_k: 5.391231144958841 best_b: -11.036101382681242,and the loss is 50.48324216214365\n",
      "when times is :15406,get best_k: 5.41123114495884 best_b: -11.13610138268124,and the loss is 50.42705016589144\n",
      "when times is :15462,get best_k: 5.43123114495884 best_b: -11.236101382681237,and the loss is 50.372572554219545\n",
      "when times is :15510,get best_k: 5.43123114495884 best_b: -11.336101382681235,and the loss is 50.30969369172502\n",
      "when times is :15548,get best_k: 5.4512311449588395 best_b: -11.436101382681233,and the loss is 50.251791927083936\n",
      "when times is :15579,get best_k: 5.471231144958839 best_b: -11.536101382681231,and the loss is 50.19560454702304\n",
      "when times is :15622,get best_k: 5.471231144958839 best_b: -11.636101382681229,and the loss is 50.14244860942975\n",
      "when times is :15653,get best_k: 5.491231144958839 best_b: -11.736101382681227,and the loss is 50.08283707639969\n",
      "when times is :15685,get best_k: 5.511231144958838 best_b: -11.836101382681225,and the loss is 50.02493992794992\n",
      "when times is :15713,get best_k: 5.531231144958838 best_b: -11.936101382681223,and the loss is 49.96875716408036\n",
      "when times is :15757,get best_k: 5.551231144958837 best_b: -12.03610138268122,and the loss is 49.91428878479096\n",
      "when times is :15792,get best_k: 5.571231144958837 best_b: -12.136101382681218,and the loss is 49.8615347900819\n",
      "when times is :15829,get best_k: 5.571231144958837 best_b: -12.236101382681216,and the loss is 49.80268616474158\n",
      "when times is :15859,get best_k: 5.5912311449588366 best_b: -12.336101382681214,and the loss is 49.74650801706328\n",
      "when times is :15918,get best_k: 5.611231144958836 best_b: -12.436101382681212,and the loss is 49.692044253965285\n",
      "when times is :15956,get best_k: 5.631231144958836 best_b: -12.53610138268121,and the loss is 49.639294875447476\n",
      "when times is :16004,get best_k: 5.651231144958835 best_b: -12.636101382681208,and the loss is 49.588259881509906\n",
      "when times is :16037,get best_k: 5.651231144958835 best_b: -12.736101382681206,and the loss is 49.528857105971994\n",
      "when times is :16079,get best_k: 5.671231144958835 best_b: -12.836101382681203,and the loss is 49.474397959065264\n",
      "when times is :16131,get best_k: 5.691231144958834 best_b: -12.936101382681201,and the loss is 49.42165319673877\n",
      "when times is :16170,get best_k: 5.711231144958834 best_b: -13.0361013826812,and the loss is 49.370622818992516\n",
      "when times is :16220,get best_k: 5.711231144958834 best_b: -13.136101382681197,and the loss is 49.31580443080629\n",
      "when times is :16259,get best_k: 5.731231144958834 best_b: -13.236101382681195,and the loss is 49.26134990009093\n"
     ]
    },
    {
     "name": "stdout",
     "output_type": "stream",
     "text": [
      "when times is :16301,get best_k: 5.751231144958833 best_b: -13.336101382681193,and the loss is 49.2086097539557\n",
      "when times is :16351,get best_k: 5.771231144958833 best_b: -13.43610138268119,and the loss is 49.15758399240077\n",
      "when times is :16388,get best_k: 5.791231144958832 best_b: -13.536101382681188,and the loss is 49.10827261542608\n",
      "when times is :16430,get best_k: 5.791231144958832 best_b: -13.636101382681186,and the loss is 49.052900077042274\n",
      "when times is :16471,get best_k: 5.811231144958832 best_b: -13.736101382681184,and the loss is 49.00016454709838\n",
      "when times is :16530,get best_k: 5.831231144958831 best_b: -13.836101382681182,and the loss is 48.949143401734695\n",
      "when times is :16604,get best_k: 5.851231144958831 best_b: -13.93610138268118,and the loss is 48.89983664095131\n",
      "when times is :16643,get best_k: 5.851231144958831 best_b: -14.036101382681178,and the loss is 48.8490484899193\n",
      "when times is :16676,get best_k: 5.871231144958831 best_b: -14.136101382681176,and the loss is 48.79631757616672\n",
      "when times is :16729,get best_k: 5.89123114495883 best_b: -14.236101382681174,and the loss is 48.745301046994356\n",
      "when times is :16783,get best_k: 5.91123114495883 best_b: -14.336101382681171,and the loss is 48.69599890240226\n",
      "when times is :16826,get best_k: 5.931231144958829 best_b: -14.43610138268117,and the loss is 48.64841114239042\n",
      "when times is :16864,get best_k: 5.931231144958829 best_b: -14.536101382681167,and the loss is 48.597068841160755\n",
      "when times is :16915,get best_k: 5.951231144958829 best_b: -14.636101382681165,and the loss is 48.546056928179745\n",
      "when times is :16976,get best_k: 5.9712311449588285 best_b: -14.736101382681163,and the loss is 48.49675939977891\n",
      "when times is :17017,get best_k: 5.991231144958828 best_b: -14.83610138268116,and the loss is 48.44917625595834\n",
      "when times is :17042,get best_k: 6.011231144958828 best_b: -14.936101382681159,and the loss is 48.40330749671802\n",
      "when times is :17093,get best_k: 6.011231144958828 best_b: -15.036101382681156,and the loss is 48.35141104529077\n",
      "when times is :17124,get best_k: 6.031231144958827 best_b: -15.136101382681154,and the loss is 48.30211813308129\n",
      "when times is :17184,get best_k: 6.051231144958827 best_b: -15.236101382681152,and the loss is 48.25453960545201\n",
      "when times is :17243,get best_k: 6.071231144958826 best_b: -15.33610138268115,and the loss is 48.208675462402994\n",
      "when times is :17290,get best_k: 6.071231144958826 best_b: -15.436101382681148,and the loss is 48.16136339832745\n",
      "when times is :17342,get best_k: 6.091231144958826 best_b: -15.536101382681146,and the loss is 48.11207510230926\n",
      "when times is :17393,get best_k: 6.1112311449588255 best_b: -15.636101382681144,and the loss is 48.06450119087134\n",
      "when times is :17434,get best_k: 6.131231144958825 best_b: -15.736101382681142,and the loss is 48.018641664013636\n",
      "when times is :17469,get best_k: 6.151231144958825 best_b: -15.83610138268114,and the loss is 47.974496521736135\n",
      "when times is :17498,get best_k: 6.151231144958825 best_b: -15.936101382681137,and the loss is 47.92663030746301\n",
      "when times is :17550,get best_k: 6.171231144958824 best_b: -16.036101382681142,and the loss is 47.87906101221635\n",
      "when times is :17595,get best_k: 6.191231144958824 best_b: -16.136101382681158,and the loss is 47.83320610154993\n",
      "when times is :17623,get best_k: 6.211231144958823 best_b: -16.236101382681174,and the loss is 47.789065575463745\n",
      "when times is :17659,get best_k: 6.231231144958823 best_b: -16.33610138268119,and the loss is 47.74663943395785\n",
      "when times is :17713,get best_k: 6.231231144958823 best_b: -16.436101382681205,and the loss is 47.69821906948707\n",
      "when times is :17759,get best_k: 6.2512311449588225 best_b: -16.53610138268122,and the loss is 47.65236877501191\n",
      "when times is :17800,get best_k: 6.271231144958822 best_b: -16.636101382681236,and the loss is 47.60823286511705\n",
      "when times is :17834,get best_k: 6.291231144958822 best_b: -16.73610138268125,and the loss is 47.56581133980244\n",
      "when times is :17875,get best_k: 6.291231144958822 best_b: -16.836101382681267,and the loss is 47.52197536268347\n",
      "when times is :17904,get best_k: 6.311231144958821 best_b: -16.936101382681283,and the loss is 47.47612968439965\n",
      "when times is :17950,get best_k: 6.331231144958821 best_b: -17.0361013826813,and the loss is 47.43199839069603\n",
      "when times is :17984,get best_k: 6.35123114495882 best_b: -17.136101382681314,and the loss is 47.389581481572705\n",
      "when times is :18013,get best_k: 6.37123114495882 best_b: -17.23610138268133,and the loss is 47.34887895702955\n",
      "when times is :18055,get best_k: 6.37123114495882 best_b: -17.336101382681345,and the loss is 47.30448882971304\n",
      "when times is :18098,get best_k: 6.3912311449588195 best_b: -17.43610138268136,and the loss is 47.26036215220067\n",
      "when times is :18145,get best_k: 6.411231144958819 best_b: -17.536101382681377,and the loss is 47.217949859268685\n",
      "when times is :18205,get best_k: 6.431231144958819 best_b: -17.636101382681392,and the loss is 47.17725195091687\n",
      "when times is :18237,get best_k: 6.431231144958819 best_b: -17.736101382681408,and the loss is 47.1374462109521\n",
      "when times is :18280,get best_k: 6.451231144958818 best_b: -17.836101382681424,and the loss is 47.09332414963112\n",
      "when times is :18336,get best_k: 6.471231144958818 best_b: -17.93610138268144,and the loss is 47.05091647289039\n",
      "when times is :18384,get best_k: 6.491231144958817 best_b: -18.036101382681455,and the loss is 47.010223180729874\n",
      "when times is :18426,get best_k: 6.511231144958817 best_b: -18.13610138268147,and the loss is 46.97124427314961\n",
      "when times is :18463,get best_k: 6.511231144958817 best_b: -18.236101382681486,and the loss is 46.93088438298724\n",
      "when times is :18502,get best_k: 6.5312311449588165 best_b: -18.336101382681502,and the loss is 46.888481322437784\n",
      "when times is :18548,get best_k: 6.551231144958816 best_b: -18.436101382681517,and the loss is 46.84779264646858\n",
      "when times is :18596,get best_k: 6.571231144958816 best_b: -18.536101382681533,and the loss is 46.80881835507957\n",
      "when times is :18630,get best_k: 6.591231144958815 best_b: -18.63610138268155,and the loss is 46.77155844827083\n",
      "when times is :18669,get best_k: 6.591231144958815 best_b: -18.736101382681564,and the loss is 46.73064440791083\n",
      "when times is :18713,get best_k: 6.611231144958815 best_b: -18.83610138268158,and the loss is 46.689960348132935\n",
      "when times is :18765,get best_k: 6.631231144958814 best_b: -18.936101382681596,and the loss is 46.65099067293529\n",
      "when times is :18812,get best_k: 6.651231144958814 best_b: -19.03610138268161,and the loss is 46.61373538231783\n",
      "when times is :18856,get best_k: 6.651231144958814 best_b: -19.136101382681627,and the loss is 46.57740572930965\n",
      "when times is :18901,get best_k: 6.6712311449588135 best_b: -19.236101382681642,and the loss is 46.53672628572304\n",
      "when times is :18940,get best_k: 6.691231144958813 best_b: -19.336101382681658,and the loss is 46.49776122671666\n",
      "when times is :18979,get best_k: 6.711231144958813 best_b: -19.436101382681674,and the loss is 46.4605105522905\n",
      "when times is :19019,get best_k: 6.731231144958812 best_b: -19.53610138268169,and the loss is 46.424974262444664\n"
     ]
    }
   ],
   "source": [
    "try_times = 20000\n",
    "min_loss = float('inf')\n",
    "best_k = random.random() * 200 - 100\n",
    "best_b = random.random() * 200 - 100\n",
    "\n",
    "direction = [(+1,-1),(+1,+1),(-1,+1),(-1,-1)]\n",
    "\n",
    "next_diretion = random.choice(direction)\n",
    "\n",
    "scalar = 0.01\n",
    "update_time = 0\n",
    "\n",
    "for i in range(try_times):\n",
    "    k_diretion,b_diretion = next_diretion\n",
    "    \n",
    "    current_k,current_b = best_k + k_diretion * scalar,best_b + b_diretion * scalar\n",
    "    \n",
    "    price_by_k_and_b = [price(r,current_k,current_b) for r in X_rm]\n",
    "    current_loss = loss(y,price_by_k_and_b)\n",
    "    \n",
    "    if current_loss < min_loss:\n",
    "        min_loss = current_loss\n",
    "        best_k,best_b = current_k,current_b\n",
    "        \n",
    "        next_diretion = next_diretion\n",
    "        update_time += 1\n",
    "        \n",
    "        if update_time % 10 == 0:\n",
    "            print('when times is :{},get best_k: {} best_b: {},and the loss is {}'.\n",
    "              format(i,best_k,best_b,current_loss))\n",
    "    else: \n",
    "        next_diretion = random.choice(direction)\n",
    "    \n"
   ]
  },
  {
   "cell_type": "code",
   "execution_count": 44,
   "metadata": {},
   "outputs": [
    {
     "data": {
      "text/plain": [
       "<matplotlib.collections.PathCollection at 0xb41a278>"
      ]
     },
     "execution_count": 44,
     "metadata": {},
     "output_type": "execute_result"
    },
    {
     "data": {
      "image/png": "[encoded data removed]",
      "text/plain": [
       "<Figure size 432x288 with 1 Axes>"
      ]
     },
     "metadata": {
      "needs_background": "light"
     },
     "output_type": "display_data"
    }
   ],
   "source": [
    "X_rm = X[:,5]\n",
    "k = 6.731231144958812\n",
    "b =  -19.53610138268169\n",
    "price_by_random_k_and_b  = [price(r,k,b) for r in X_rm]\n",
    "draw_rm_and_price()\n",
    "plt.scatter(X_rm,price_by_random_k_and_b)"
   ]
  },
  {
   "cell_type": "markdown",
   "metadata": {},
   "source": [
    "## 导数"
   ]
  },
  {
   "cell_type": "code",
   "execution_count": 56,
   "metadata": {},
   "outputs": [],
   "source": [
    "def partial_k(x,y,y_hat):\n",
    "    n = len(y)\n",
    "    \n",
    "    gradient = 0\n",
    "    for x_i,y_i,y_hat_i in zip(list(x),list(y),list(y_hat)):\n",
    "        gradient += (y_i - y_hat_i)* x_i\n",
    "        \n",
    "    return -2/n * gradient"
   ]
  },
  {
   "cell_type": "code",
   "execution_count": 57,
   "metadata": {},
   "outputs": [],
   "source": [
    "def partial_b(x,y,y_hat):\n",
    "    n = len(y)\n",
    "    \n",
    "    gradient = 0\n",
    "    for x_i,y_i,y_hat_i in zip(list(x),list(y),list(y_hat)):\n",
    "        gradient += (y_i - y_hat_i)\n",
    "        \n",
    "    return -2/n * gradient"
   ]
  },
  {
   "cell_type": "code",
   "execution_count": 58,
   "metadata": {},
   "outputs": [
    {
     "name": "stdout",
     "output_type": "stream",
     "text": [
      "when times is :0,get best_k: 6.731231144958812 best_b: -19.576101382681696,and the loss is 191978.05483725786\n",
      "when times is :50,get best_k: 6.731231144958812 best_b: -19.576101382681696,and the loss is 75789.82626082265\n",
      "when times is :100,get best_k: 6.731231144958812 best_b: -19.576101382681696,and the loss is 29937.035925035958\n",
      "when times is :150,get best_k: 6.731231144958812 best_b: -19.576101382681696,and the loss is 11841.44728852493\n",
      "when times is :200,get best_k: 6.731231144958812 best_b: -19.576101382681696,and the loss is 4700.021563651418\n",
      "when times is :250,get best_k: 6.731231144958812 best_b: -19.576101382681696,and the loss is 1881.602875472982\n",
      "when times is :300,get best_k: 6.731231144958812 best_b: -19.576101382681696,and the loss is 769.2580714834315\n",
      "when times is :350,get best_k: 6.731231144958812 best_b: -19.576101382681696,and the loss is 330.2276914698668\n",
      "when times is :400,get best_k: 6.731231144958812 best_b: -19.576101382681696,and the loss is 156.93370582504787\n",
      "when times is :450,get best_k: 6.731231144958812 best_b: -19.576101382681696,and the loss is 88.52267322929318\n",
      "when times is :500,get best_k: 6.731231144958812 best_b: -19.576101382681696,and the loss is 61.51082600756115\n",
      "when times is :550,get best_k: 6.731231144958812 best_b: -19.576101382681696,and the loss is 50.84195784822378\n",
      "when times is :600,get best_k: 6.731231144958812 best_b: -19.576101382681696,and the loss is 46.625979237745554\n",
      "when times is :650,get best_k: 6.731231144958812 best_b: -19.576101382681696,and the loss is 44.95865026577959\n",
      "when times is :700,get best_k: 6.731231144958812 best_b: -19.576101382681696,and the loss is 44.29843203930596\n",
      "when times is :750,get best_k: 6.731231144958812 best_b: -19.576101382681696,and the loss is 44.03648562574905\n",
      "when times is :800,get best_k: 6.731231144958812 best_b: -19.576101382681696,and the loss is 43.9322325111707\n",
      "when times is :850,get best_k: 6.731231144958812 best_b: -19.576101382681696,and the loss is 43.890537968324644\n",
      "when times is :900,get best_k: 6.731231144958812 best_b: -19.576101382681696,and the loss is 43.873736741831166\n",
      "when times is :950,get best_k: 6.731231144958812 best_b: -19.576101382681696,and the loss is 43.86688836160719\n",
      "when times is :1000,get best_k: 6.731231144958812 best_b: -19.576101382681696,and the loss is 43.86404879367097\n",
      "when times is :1050,get best_k: 6.731231144958812 best_b: -19.576101382681696,and the loss is 43.862842167177746\n",
      "when times is :1100,get best_k: 6.731231144958812 best_b: -19.576101382681696,and the loss is 43.86231194497363\n",
      "when times is :1150,get best_k: 6.731231144958812 best_b: -19.576101382681696,and the loss is 43.86206874998779\n",
      "when times is :1200,get best_k: 6.731231144958812 best_b: -19.576101382681696,and the loss is 43.86195144902242\n",
      "when times is :1250,get best_k: 6.731231144958812 best_b: -19.576101382681696,and the loss is 43.86189175993238\n",
      "when times is :1300,get best_k: 6.731231144958812 best_b: -19.576101382681696,and the loss is 43.86185978789992\n",
      "when times is :1350,get best_k: 6.731231144958812 best_b: -19.576101382681696,and the loss is 43.86184188328991\n",
      "when times is :1400,get best_k: 6.731231144958812 best_b: -19.576101382681696,and the loss is 43.86183149600188\n",
      "when times is :1450,get best_k: 6.731231144958812 best_b: -19.576101382681696,and the loss is 43.86182531024337\n",
      "when times is :1500,get best_k: 6.731231144958812 best_b: -19.576101382681696,and the loss is 43.86182155833998\n",
      "when times is :1550,get best_k: 6.731231144958812 best_b: -19.576101382681696,and the loss is 43.86181925426981\n",
      "when times is :1600,get best_k: 6.731231144958812 best_b: -19.576101382681696,and the loss is 43.86181782771824\n",
      "when times is :1650,get best_k: 6.731231144958812 best_b: -19.576101382681696,and the loss is 43.861816939791915\n",
      "when times is :1700,get best_k: 6.731231144958812 best_b: -19.576101382681696,and the loss is 43.86181638524532\n",
      "when times is :1750,get best_k: 6.731231144958812 best_b: -19.576101382681696,and the loss is 43.861816038160896\n",
      "when times is :1800,get best_k: 6.731231144958812 best_b: -19.576101382681696,and the loss is 43.86181582062802\n",
      "when times is :1850,get best_k: 6.731231144958812 best_b: -19.576101382681696,and the loss is 43.861815684173344\n",
      "when times is :1900,get best_k: 6.731231144958812 best_b: -19.576101382681696,and the loss is 43.861815598531074\n",
      "when times is :1950,get best_k: 6.731231144958812 best_b: -19.576101382681696,and the loss is 43.861815544761605\n",
      "when times is :2000,get best_k: 6.731231144958812 best_b: -19.576101382681696,and the loss is 43.86181551099579\n",
      "when times is :2050,get best_k: 6.731231144958812 best_b: -19.576101382681696,and the loss is 43.86181548978889\n",
      "when times is :2100,get best_k: 6.731231144958812 best_b: -19.576101382681696,and the loss is 43.861815476468635\n",
      "when times is :2150,get best_k: 6.731231144958812 best_b: -19.576101382681696,and the loss is 43.861815468101554\n",
      "when times is :2200,get best_k: 6.731231144958812 best_b: -19.576101382681696,and the loss is 43.861815462845634\n",
      "when times is :2250,get best_k: 6.731231144958812 best_b: -19.576101382681696,and the loss is 43.861815459544005\n",
      "when times is :2300,get best_k: 6.731231144958812 best_b: -19.576101382681696,and the loss is 43.86181545746997\n",
      "when times is :2350,get best_k: 6.731231144958812 best_b: -19.576101382681696,and the loss is 43.86181545616704\n",
      "when times is :2400,get best_k: 6.731231144958812 best_b: -19.576101382681696,and the loss is 43.86181545534848\n",
      "when times is :2450,get best_k: 6.731231144958812 best_b: -19.576101382681696,and the loss is 43.86181545483441\n",
      "when times is :2500,get best_k: 6.731231144958812 best_b: -19.576101382681696,and the loss is 43.86181545451144\n",
      "when times is :2550,get best_k: 6.731231144958812 best_b: -19.576101382681696,and the loss is 43.86181545430846\n",
      "when times is :2600,get best_k: 6.731231144958812 best_b: -19.576101382681696,and the loss is 43.861815454181034\n",
      "when times is :2650,get best_k: 6.731231144958812 best_b: -19.576101382681696,and the loss is 43.86181545410096\n",
      "when times is :2700,get best_k: 6.731231144958812 best_b: -19.576101382681696,and the loss is 43.86181545405064\n",
      "when times is :2750,get best_k: 6.731231144958812 best_b: -19.576101382681696,and the loss is 43.861815454019066\n",
      "when times is :2800,get best_k: 6.731231144958812 best_b: -19.576101382681696,and the loss is 43.861815453999185\n",
      "when times is :2850,get best_k: 6.731231144958812 best_b: -19.576101382681696,and the loss is 43.86181545398673\n",
      "when times is :2900,get best_k: 6.731231144958812 best_b: -19.576101382681696,and the loss is 43.86181545397884\n",
      "when times is :2950,get best_k: 6.731231144958812 best_b: -19.576101382681696,and the loss is 43.86181545397392\n",
      "when times is :3000,get best_k: 6.731231144958812 best_b: -19.576101382681696,and the loss is 43.86181545397085\n",
      "when times is :3100,get best_k: 6.731231144958812 best_b: -19.576101382681696,and the loss is 43.86181545396771\n",
      "when times is :3150,get best_k: 6.731231144958812 best_b: -19.576101382681696,and the loss is 43.86181545396694\n",
      "when times is :3200,get best_k: 6.731231144958812 best_b: -19.576101382681696,and the loss is 43.86181545396644\n",
      "when times is :3300,get best_k: 6.731231144958812 best_b: -19.576101382681696,and the loss is 43.8618154539659\n"
     ]
    }
   ],
   "source": [
    "try_times = 20000\n",
    "\n",
    "min_loss = float('inf')\n",
    "current_k = random.random() * 200 - 100\n",
    "current_b = random.random() * 200 - 100\n",
    "\n",
    "learing_rate = 1e-04\n",
    "\n",
    "update_time = 0\n",
    "\n",
    "for i in range(try_times):\n",
    "    price_by_k_and_b = [price(r,current_k,current_b)for r in X_rm]\n",
    "    current_loss = loss(y,price_by_k_and_b)\n",
    "    \n",
    "    if current_loss < min_loss:\n",
    "        min_loss = current_loss\n",
    "        \n",
    "        if i % 50 == 0:\n",
    "            print('when times is :{},get best_k: {} best_b: {},and the loss is {}'.\n",
    "              format(i,best_k,best_b,current_loss))\n",
    "            \n",
    "    k_gradient = partial_k(X_rm,y,price_by_k_and_b)\n",
    "    b_gradient = partial_b(X_rm,y,price_by_k_and_b)\n",
    "    \n",
    "    current_k = current_k + (-1 * k_gradient) * learing_rate\n",
    "    current_b = current_b + (-1 * k_gradient) * learing_rate\n",
    "    "
   ]
  },
  {
   "cell_type": "code",
   "execution_count": 59,
   "metadata": {},
   "outputs": [
    {
     "data": {
      "text/plain": [
       "<matplotlib.collections.PathCollection at 0xb4f5518>"
      ]
     },
     "execution_count": 59,
     "metadata": {},
     "output_type": "execute_result"
    },
    {
     "data": {
      "image/png": "[encoded data removed]",
      "text/plain": [
       "<Figure size 432x288 with 1 Axes>"
      ]
     },
     "metadata": {
      "needs_background": "light"
     },
     "output_type": "display_data"
    }
   ],
   "source": [
    "X_rm = X[:,5]\n",
    "k = 6.731231144958812\n",
    "b =  -19.576101382681696\n",
    "price_by_random_k_and_b  = [price(r,k,b) for r in X_rm]\n",
    "draw_rm_and_price()\n",
    "plt.scatter(X_rm,price_by_random_k_and_b)"
   ]
  },
  {
   "cell_type": "code",
   "execution_count": null,
   "metadata": {},
   "outputs": [],
   "source": []
  },
  {
   "cell_type": "code",
   "execution_count": null,
   "metadata": {},
   "outputs": [],
   "source": []
  },
  {
   "cell_type": "code",
   "execution_count": null,
   "metadata": {},
   "outputs": [],
   "source": []
  },
  {
   "cell_type": "code",
   "execution_count": null,
   "metadata": {},
   "outputs": [],
   "source": []
  },
  {
   "cell_type": "code",
   "execution_count": null,
   "metadata": {},
   "outputs": [],
   "source": []
  },
  {
   "cell_type": "code",
   "execution_count": null,
   "metadata": {},
   "outputs": [],
   "source": []
  },
  {
   "cell_type": "code",
   "execution_count": null,
   "metadata": {},
   "outputs": [],
   "source": []
  },
  {
   "cell_type": "code",
   "execution_count": null,
   "metadata": {},
   "outputs": [],
   "source": []
  },
  {
   "cell_type": "code",
   "execution_count": null,
   "metadata": {},
   "outputs": [],
   "source": []
  }
 ],
 "metadata": {
  "kernelspec": {
   "display_name": "Python 3",
   "language": "python",
   "name": "python3"
  },
  "language_info": {
   "codemirror_mode": {
    "name": "ipython",
    "version": 3
   },
   "file_extension": ".py",
   "mimetype": "text/x-python",
   "name": "python",
   "nbconvert_exporter": "python",
   "pygments_lexer": "ipython3",
   "version": "3.7.1"
  }
 },
 "nbformat": 4,
 "nbformat_minor": 2
}
