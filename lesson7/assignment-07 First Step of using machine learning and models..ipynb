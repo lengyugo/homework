{
 "cells": [
  {
   "cell_type": "markdown",
   "metadata": {},
   "source": [
    "## Assignment-07 First Step of using machine learning and models."
   ]
  },
  {
   "cell_type": "markdown",
   "metadata": {},
   "source": [
    "![](https://github.com/Computing-Intelligence/jupyters_and_slides/raw/master/entrance-test/images/kkb-ai.png)"
   ]
  },
  {
   "cell_type": "code",
   "execution_count": 1,
   "metadata": {},
   "outputs": [],
   "source": [
    "fname = '/Users/gaominquan/Downloads/sqlResult_1558435 2.csv'"
   ]
  },
  {
   "cell_type": "code",
   "execution_count": 2,
   "metadata": {},
   "outputs": [],
   "source": [
    "import pandas as pd"
   ]
  },
  {
   "cell_type": "code",
   "execution_count": 3,
   "metadata": {},
   "outputs": [],
   "source": [
    "content = pd.read_csv(fname, encoding='gb18030')"
   ]
  },
  {
   "cell_type": "code",
   "execution_count": 4,
   "metadata": {},
   "outputs": [
    {
     "data": {
      "text/html": [
       "<div>\n",
       "<style scoped>\n",
       "    .dataframe tbody tr th:only-of-type {\n",
       "        vertical-align: middle;\n",
       "    }\n",
       "\n",
       "    .dataframe tbody tr th {\n",
       "        vertical-align: top;\n",
       "    }\n",
       "\n",
       "    .dataframe thead th {\n",
       "        text-align: right;\n",
       "    }\n",
       "</style>\n",
       "<table border=\"1\" class=\"dataframe\">\n",
       "  <thead>\n",
       "    <tr style=\"text-align: right;\">\n",
       "      <th></th>\n",
       "      <th>id</th>\n",
       "      <th>author</th>\n",
       "      <th>source</th>\n",
       "      <th>content</th>\n",
       "      <th>feature</th>\n",
       "      <th>title</th>\n",
       "      <th>url</th>\n",
       "    </tr>\n",
       "  </thead>\n",
       "  <tbody>\n",
       "    <tr>\n",
       "      <th>0</th>\n",
       "      <td>89617</td>\n",
       "      <td>NaN</td>\n",
       "      <td>快科技@http://www.kkj.cn/</td>\n",
       "      <td>此外，自本周（6月12日）起，除小米手机6等15款机型外，其余机型已暂停更新发布（含开发版/...</td>\n",
       "      <td>{\"type\":\"科技\",\"site\":\"cnbeta\",\"commentNum\":\"37\"...</td>\n",
       "      <td>小米MIUI 9首批机型曝光：共计15款</td>\n",
       "      <td>http://www.cnbeta.com/articles/tech/623597.htm</td>\n",
       "    </tr>\n",
       "    <tr>\n",
       "      <th>1</th>\n",
       "      <td>89616</td>\n",
       "      <td>NaN</td>\n",
       "      <td>快科技@http://www.kkj.cn/</td>\n",
       "      <td>骁龙835作为唯一通过Windows 10桌面平台认证的ARM处理器，高通强调，不会因为只考...</td>\n",
       "      <td>{\"type\":\"科技\",\"site\":\"cnbeta\",\"commentNum\":\"15\"...</td>\n",
       "      <td>骁龙835在Windows 10上的性能表现有望改善</td>\n",
       "      <td>http://www.cnbeta.com/articles/tech/623599.htm</td>\n",
       "    </tr>\n",
       "    <tr>\n",
       "      <th>2</th>\n",
       "      <td>89615</td>\n",
       "      <td>NaN</td>\n",
       "      <td>快科技@http://www.kkj.cn/</td>\n",
       "      <td>此前的一加3T搭载的是3400mAh电池，DashCharge快充规格为5V/4A。\\r\\n...</td>\n",
       "      <td>{\"type\":\"科技\",\"site\":\"cnbeta\",\"commentNum\":\"18\"...</td>\n",
       "      <td>一加手机5细节曝光：3300mAh、充半小时用1天</td>\n",
       "      <td>http://www.cnbeta.com/articles/tech/623601.htm</td>\n",
       "    </tr>\n",
       "    <tr>\n",
       "      <th>3</th>\n",
       "      <td>89614</td>\n",
       "      <td>NaN</td>\n",
       "      <td>新华社</td>\n",
       "      <td>这是6月18日在葡萄牙中部大佩德罗冈地区拍摄的被森林大火烧毁的汽车。新华社记者张立云摄\\r\\n</td>\n",
       "      <td>{\"type\":\"国际新闻\",\"site\":\"环球\",\"commentNum\":\"0\",\"j...</td>\n",
       "      <td>葡森林火灾造成至少62人死亡 政府宣布进入紧急状态（组图）</td>\n",
       "      <td>http://world.huanqiu.com/hot/2017-06/10866126....</td>\n",
       "    </tr>\n",
       "    <tr>\n",
       "      <th>4</th>\n",
       "      <td>89613</td>\n",
       "      <td>胡淑丽_MN7479</td>\n",
       "      <td>深圳大件事</td>\n",
       "      <td>（原标题：44岁女子跑深圳约会网友被拒，暴雨中裸身奔走……）\\r\\n@深圳交警微博称：昨日清...</td>\n",
       "      <td>{\"type\":\"新闻\",\"site\":\"网易热门\",\"commentNum\":\"978\",...</td>\n",
       "      <td>44岁女子约网友被拒暴雨中裸奔 交警为其披衣相随</td>\n",
       "      <td>http://news.163.com/17/0618/00/CN617P3Q0001875...</td>\n",
       "    </tr>\n",
       "  </tbody>\n",
       "</table>\n",
       "</div>"
      ],
      "text/plain": [
       "      id      author                  source  \\\n",
       "0  89617         NaN  快科技@http://www.kkj.cn/   \n",
       "1  89616         NaN  快科技@http://www.kkj.cn/   \n",
       "2  89615         NaN  快科技@http://www.kkj.cn/   \n",
       "3  89614         NaN                     新华社   \n",
       "4  89613  胡淑丽_MN7479                   深圳大件事   \n",
       "\n",
       "                                             content  \\\n",
       "0  此外，自本周（6月12日）起，除小米手机6等15款机型外，其余机型已暂停更新发布（含开发版/...   \n",
       "1  骁龙835作为唯一通过Windows 10桌面平台认证的ARM处理器，高通强调，不会因为只考...   \n",
       "2  此前的一加3T搭载的是3400mAh电池，DashCharge快充规格为5V/4A。\\r\\n...   \n",
       "3    这是6月18日在葡萄牙中部大佩德罗冈地区拍摄的被森林大火烧毁的汽车。新华社记者张立云摄\\r\\n   \n",
       "4  （原标题：44岁女子跑深圳约会网友被拒，暴雨中裸身奔走……）\\r\\n@深圳交警微博称：昨日清...   \n",
       "\n",
       "                                             feature  \\\n",
       "0  {\"type\":\"科技\",\"site\":\"cnbeta\",\"commentNum\":\"37\"...   \n",
       "1  {\"type\":\"科技\",\"site\":\"cnbeta\",\"commentNum\":\"15\"...   \n",
       "2  {\"type\":\"科技\",\"site\":\"cnbeta\",\"commentNum\":\"18\"...   \n",
       "3  {\"type\":\"国际新闻\",\"site\":\"环球\",\"commentNum\":\"0\",\"j...   \n",
       "4  {\"type\":\"新闻\",\"site\":\"网易热门\",\"commentNum\":\"978\",...   \n",
       "\n",
       "                           title  \\\n",
       "0           小米MIUI 9首批机型曝光：共计15款   \n",
       "1     骁龙835在Windows 10上的性能表现有望改善   \n",
       "2      一加手机5细节曝光：3300mAh、充半小时用1天   \n",
       "3  葡森林火灾造成至少62人死亡 政府宣布进入紧急状态（组图）   \n",
       "4       44岁女子约网友被拒暴雨中裸奔 交警为其披衣相随   \n",
       "\n",
       "                                                 url  \n",
       "0     http://www.cnbeta.com/articles/tech/623597.htm  \n",
       "1     http://www.cnbeta.com/articles/tech/623599.htm  \n",
       "2     http://www.cnbeta.com/articles/tech/623601.htm  \n",
       "3  http://world.huanqiu.com/hot/2017-06/10866126....  \n",
       "4  http://news.163.com/17/0618/00/CN617P3Q0001875...  "
      ]
     },
     "execution_count": 4,
     "metadata": {},
     "output_type": "execute_result"
    }
   ],
   "source": [
    "content.head()"
   ]
  },
  {
   "cell_type": "code",
   "execution_count": 5,
   "metadata": {},
   "outputs": [],
   "source": [
    "xinhua_news = content[content['source'] == '新华社']"
   ]
  },
  {
   "cell_type": "code",
   "execution_count": 6,
   "metadata": {},
   "outputs": [
    {
     "data": {
      "text/plain": [
       "0.8778051801676133"
      ]
     },
     "execution_count": 6,
     "metadata": {},
     "output_type": "execute_result"
    }
   ],
   "source": [
    "len(xinhua_news) / len(content)"
   ]
  },
  {
   "cell_type": "markdown",
   "metadata": {},
   "source": [
    "### 任务描述"
   ]
  },
  {
   "cell_type": "markdown",
   "metadata": {},
   "source": [
    "报社等相关的机构，往往会遇到一个问题，就是别人家的机构使用自己的文章但是并没有标明来源。 在本次任务中，我们将解决新华社的文章被抄袭引用的问题。"
   ]
  },
  {
   "cell_type": "markdown",
   "metadata": {},
   "source": [
    "给定的数据集合中，存在一些新闻预料，该预料是来自新华社，但是其来源并不是新华社，请设计技巧学习模型解决该问题。"
   ]
  },
  {
   "cell_type": "markdown",
   "metadata": {},
   "source": [
    "![](https://timgsa.baidu.com/timg?image&quality=80&size=b9999_10000&sec=1566105348906&di=ee9a2de91207767364853d4decc6cca3&imgtype=0&src=http%3A%2F%2Fmmbiz.qpic.cn%2Fmmbiz_png%2FTicO2kbP6Ao5sCsSQDpehZiczLdC6hDCNvoicjcOCEKX2bLxBc9gVOw28zHyFibfIWq9ceRibP6HDTKReGkr6YyTfQQ%2F640%3Fwx_fmt%3Dpng)"
   ]
  },
  {
   "cell_type": "markdown",
   "metadata": {},
   "source": [
    "### Step1: 数据分析"
   ]
  },
  {
   "cell_type": "markdown",
   "metadata": {},
   "source": [
    "请在课程的GitHub中下载数据集，然后使用pandas进行读取。"
   ]
  },
  {
   "cell_type": "code",
   "execution_count": 291,
   "metadata": {},
   "outputs": [
    {
     "data": {
      "text/html": [
       "<div>\n",
       "<style scoped>\n",
       "    .dataframe tbody tr th:only-of-type {\n",
       "        vertical-align: middle;\n",
       "    }\n",
       "\n",
       "    .dataframe tbody tr th {\n",
       "        vertical-align: top;\n",
       "    }\n",
       "\n",
       "    .dataframe thead th {\n",
       "        text-align: right;\n",
       "    }\n",
       "</style>\n",
       "<table border=\"1\" class=\"dataframe\">\n",
       "  <thead>\n",
       "    <tr style=\"text-align: right;\">\n",
       "      <th></th>\n",
       "      <th>id</th>\n",
       "      <th>author</th>\n",
       "      <th>source</th>\n",
       "      <th>content</th>\n",
       "      <th>feature</th>\n",
       "      <th>title</th>\n",
       "      <th>url</th>\n",
       "    </tr>\n",
       "  </thead>\n",
       "  <tbody>\n",
       "    <tr>\n",
       "      <th>0</th>\n",
       "      <td>89617</td>\n",
       "      <td>NaN</td>\n",
       "      <td>快科技@http://www.kkj.cn/</td>\n",
       "      <td>此外，自本周（6月12日）起，除小米手机6等15款机型外，其余机型已暂停更新发布（含开发版/...</td>\n",
       "      <td>{\"type\":\"科技\",\"site\":\"cnbeta\",\"commentNum\":\"37\"...</td>\n",
       "      <td>小米MIUI 9首批机型曝光：共计15款</td>\n",
       "      <td>http://www.cnbeta.com/articles/tech/623597.htm</td>\n",
       "    </tr>\n",
       "    <tr>\n",
       "      <th>1</th>\n",
       "      <td>89616</td>\n",
       "      <td>NaN</td>\n",
       "      <td>快科技@http://www.kkj.cn/</td>\n",
       "      <td>骁龙835作为唯一通过Windows 10桌面平台认证的ARM处理器，高通强调，不会因为只考...</td>\n",
       "      <td>{\"type\":\"科技\",\"site\":\"cnbeta\",\"commentNum\":\"15\"...</td>\n",
       "      <td>骁龙835在Windows 10上的性能表现有望改善</td>\n",
       "      <td>http://www.cnbeta.com/articles/tech/623599.htm</td>\n",
       "    </tr>\n",
       "    <tr>\n",
       "      <th>2</th>\n",
       "      <td>89615</td>\n",
       "      <td>NaN</td>\n",
       "      <td>快科技@http://www.kkj.cn/</td>\n",
       "      <td>此前的一加3T搭载的是3400mAh电池，DashCharge快充规格为5V/4A。\\r\\n...</td>\n",
       "      <td>{\"type\":\"科技\",\"site\":\"cnbeta\",\"commentNum\":\"18\"...</td>\n",
       "      <td>一加手机5细节曝光：3300mAh、充半小时用1天</td>\n",
       "      <td>http://www.cnbeta.com/articles/tech/623601.htm</td>\n",
       "    </tr>\n",
       "    <tr>\n",
       "      <th>3</th>\n",
       "      <td>89614</td>\n",
       "      <td>NaN</td>\n",
       "      <td>新华社</td>\n",
       "      <td>这是6月18日在葡萄牙中部大佩德罗冈地区拍摄的被森林大火烧毁的汽车。新华社记者张立云摄\\r\\n</td>\n",
       "      <td>{\"type\":\"国际新闻\",\"site\":\"环球\",\"commentNum\":\"0\",\"j...</td>\n",
       "      <td>葡森林火灾造成至少62人死亡 政府宣布进入紧急状态（组图）</td>\n",
       "      <td>http://world.huanqiu.com/hot/2017-06/10866126....</td>\n",
       "    </tr>\n",
       "    <tr>\n",
       "      <th>4</th>\n",
       "      <td>89613</td>\n",
       "      <td>胡淑丽_MN7479</td>\n",
       "      <td>深圳大件事</td>\n",
       "      <td>（原标题：44岁女子跑深圳约会网友被拒，暴雨中裸身奔走……）\\r\\n@深圳交警微博称：昨日清...</td>\n",
       "      <td>{\"type\":\"新闻\",\"site\":\"网易热门\",\"commentNum\":\"978\",...</td>\n",
       "      <td>44岁女子约网友被拒暴雨中裸奔 交警为其披衣相随</td>\n",
       "      <td>http://news.163.com/17/0618/00/CN617P3Q0001875...</td>\n",
       "    </tr>\n",
       "    <tr>\n",
       "      <th>5</th>\n",
       "      <td>89612</td>\n",
       "      <td>张怡</td>\n",
       "      <td>中国证券报?中证网</td>\n",
       "      <td>受到A股被纳入MSCI指数的利好消息刺激，A股市场从周三开始再度上演龙马行情，周四上午金...</td>\n",
       "      <td>{\"type\":\"市场\",\"site\":\"中证网\",\"commentNum\":\"0\",\"jo...</td>\n",
       "      <td>金融股一枝独秀 配置价值犹存</td>\n",
       "      <td>http://www.cs.com.cn/gppd/201706/t20170623_533...</td>\n",
       "    </tr>\n",
       "    <tr>\n",
       "      <th>6</th>\n",
       "      <td>89611</td>\n",
       "      <td>NaN</td>\n",
       "      <td>威锋网@http://www.feng.com/</td>\n",
       "      <td>虽然至今夏普智能手机在市场上无法排得上号，已经完全没落，并于 2013 年退出中国市场，但是...</td>\n",
       "      <td>{\"type\":\"科技\",\"site\":\"cnbeta\",\"commentNum\":\"21\"...</td>\n",
       "      <td>配骁龙660 全面屏鼻祖夏普新机酝酿中</td>\n",
       "      <td>http://www.cnbeta.com/articles/tech/623603.htm</td>\n",
       "    </tr>\n",
       "    <tr>\n",
       "      <th>7</th>\n",
       "      <td>89610</td>\n",
       "      <td>申玉彬 整理</td>\n",
       "      <td>中国证券报?中证网</td>\n",
       "      <td>沙漠雄鹰：震荡有利消化套牢筹码\\r\\n　　周四开盘上证50在银行券商大蓝筹带动下一度涨近...</td>\n",
       "      <td>{\"type\":\"市场\",\"site\":\"中证网\",\"commentNum\":\"0\",\"jo...</td>\n",
       "      <td>博友早评：震荡有利消化套牢筹码</td>\n",
       "      <td>http://www.cs.com.cn/gppd/201706/t20170623_533...</td>\n",
       "    </tr>\n",
       "    <tr>\n",
       "      <th>8</th>\n",
       "      <td>89609</td>\n",
       "      <td>李杭_BJS4645</td>\n",
       "      <td>荆楚网-楚天都市报</td>\n",
       "      <td>（原标题：武汉警方一下子抓了808人，还都是俊男靓女！原来他们每天偷偷摸摸干这事！）\\r\\n...</td>\n",
       "      <td>{\"type\":\"新闻\",\"site\":\"网易热门\",\"commentNum\":\"1600\"...</td>\n",
       "      <td>武汉千余警察出动 抓获808名俊男靓女全是诈骗犯</td>\n",
       "      <td>http://news.163.com/17/0614/14/CMT9N8G80001899...</td>\n",
       "    </tr>\n",
       "    <tr>\n",
       "      <th>9</th>\n",
       "      <td>89608</td>\n",
       "      <td>吴瞬</td>\n",
       "      <td>中国证券报?中证网</td>\n",
       "      <td>6月21日，A股纳入MSCI指数尘埃落定，但当天被寄予厚望的券商股并未扛起反弹大旗。22...</td>\n",
       "      <td>{\"type\":\"市场\",\"site\":\"中证网\",\"commentNum\":\"0\",\"jo...</td>\n",
       "      <td>纳入MSCI指数 A股长期配置价值提升</td>\n",
       "      <td>http://www.cs.com.cn/gppd/201706/t20170623_533...</td>\n",
       "    </tr>\n",
       "    <tr>\n",
       "      <th>10</th>\n",
       "      <td>89607</td>\n",
       "      <td>NaN</td>\n",
       "      <td>证券时报网</td>\n",
       "      <td>证券时报网（www.stcn.com）06月23日讯\\r\\n　　据上证报道，6月初以来，...</td>\n",
       "      <td>{\"type\":\"市场\",\"site\":\"中证网\",\"commentNum\":\"0\",\"jo...</td>\n",
       "      <td>私募：蓝筹风格难切换 业绩估值相配是王道</td>\n",
       "      <td>http://www.cs.com.cn/gppd/201706/t20170623_533...</td>\n",
       "    </tr>\n",
       "    <tr>\n",
       "      <th>11</th>\n",
       "      <td>89606</td>\n",
       "      <td>NaN</td>\n",
       "      <td>证券时报网</td>\n",
       "      <td>?\\r\\n　　巨丰早评：市场将再次探底\\r\\n　　【巨丰观点】\\r\\n　　周四大盘冲高回落，...</td>\n",
       "      <td>{\"type\":\"市场\",\"site\":\"中证网\",\"commentNum\":\"0\",\"jo...</td>\n",
       "      <td>早间机构看市：市场将再次探底 两类股逢低布局</td>\n",
       "      <td>http://www.cs.com.cn/gppd/201706/t20170623_533...</td>\n",
       "    </tr>\n",
       "    <tr>\n",
       "      <th>12</th>\n",
       "      <td>89605</td>\n",
       "      <td>NaN</td>\n",
       "      <td>中国新闻网</td>\n",
       "      <td>中新网6月19日电 据外媒报道，美国底特律一名男子1976年因为一根头发被定谋杀罪，监禁41...</td>\n",
       "      <td>{\"type\":\"国际新闻\",\"site\":\"环球\",\"commentNum\":\"0\",\"j...</td>\n",
       "      <td>因为犯罪现场的一根头发，他坐冤狱41年后终获释</td>\n",
       "      <td>http://world.huanqiu.com/hot/2017-06/10866136....</td>\n",
       "    </tr>\n",
       "    <tr>\n",
       "      <th>13</th>\n",
       "      <td>89604</td>\n",
       "      <td>申玉彬 整理</td>\n",
       "      <td>中国证券报?中证网</td>\n",
       "      <td>曹先生：风格转换前的阵痛\\r\\n　　今日早盘两地低开，之后一度震荡走高，领涨的仍然是上证...</td>\n",
       "      <td>{\"type\":\"市场\",\"site\":\"中证网\",\"commentNum\":\"0\",\"jo...</td>\n",
       "      <td>博友午评：风格转换前的阵痛</td>\n",
       "      <td>http://www.cs.com.cn/gppd/201706/t20170623_533...</td>\n",
       "    </tr>\n",
       "    <tr>\n",
       "      <th>14</th>\n",
       "      <td>89603</td>\n",
       "      <td>NaN</td>\n",
       "      <td>国际在线</td>\n",
       "      <td>6月21日，MSCI在官网发布公告称，从明年6月起将中国A股纳入MSCI新兴市场指数和MSC...</td>\n",
       "      <td>{\"type\":\"观点滚动\",\"site\":\"参考消息\",\"commentNum\":\"0\",...</td>\n",
       "      <td>MSCI闯关成功会是A股的一针强心剂吗？</td>\n",
       "      <td>http://column.cankaoxiaoxi.com/plgd/2017/0623/...</td>\n",
       "    </tr>\n",
       "    <tr>\n",
       "      <th>15</th>\n",
       "      <td>89602</td>\n",
       "      <td>费天元</td>\n",
       "      <td>中国证券网</td>\n",
       "      <td>中国证券网讯（记者 费天元）沪深两市周五临近午盘出现快速跳水，沪指连续跌穿5日、10日及...</td>\n",
       "      <td>{\"type\":\"市场\",\"site\":\"中证网\",\"commentNum\":\"0\",\"jo...</td>\n",
       "      <td>地产股拉升难阻市场颓势 三大指数早盘集体跳水</td>\n",
       "      <td>http://www.cs.com.cn/gppd/201706/t20170623_533...</td>\n",
       "    </tr>\n",
       "    <tr>\n",
       "      <th>16</th>\n",
       "      <td>89601</td>\n",
       "      <td>NaN</td>\n",
       "      <td>solidot@</td>\n",
       "      <td>九成以上的源包用逐位对应的方式构建，未来版本的 Debian 还将提供验证包的工具和元数据；...</td>\n",
       "      <td>{\"type\":\"软件\",\"site\":\"cnbeta\",\"commentNum\":\"12\"...</td>\n",
       "      <td>Debian 9 Stretch 发布</td>\n",
       "      <td>http://www.cnbeta.com/articles/soft/623605.htm</td>\n",
       "    </tr>\n",
       "    <tr>\n",
       "      <th>17</th>\n",
       "      <td>89600</td>\n",
       "      <td>NaN</td>\n",
       "      <td>新华网</td>\n",
       "      <td>国歌法草案首次提请最高立法机关审议\\r\\n点击图片进入下一页\\r\\n新闻：十二届全国人大常委...</td>\n",
       "      <td>{\"type\":\"观点滚动\",\"site\":\"参考消息\",\"commentNum\":\"0\",...</td>\n",
       "      <td>[及时点]我们不需要“百变老太太”</td>\n",
       "      <td>http://column.cankaoxiaoxi.com/plgd/2017/0623/...</td>\n",
       "    </tr>\n",
       "    <tr>\n",
       "      <th>18</th>\n",
       "      <td>89599</td>\n",
       "      <td>张怡</td>\n",
       "      <td>中国证券报?中证网</td>\n",
       "      <td>中证网讯 （本报记者 张怡）今日，三板做市指数继续低开下行，盘中最低触及1057.91点...</td>\n",
       "      <td>{\"type\":\"市场\",\"site\":\"中证网\",\"commentNum\":\"0\",\"jo...</td>\n",
       "      <td>新三板午评：三板做市指数刷新阶段低点</td>\n",
       "      <td>http://www.cs.com.cn/gppd/201706/t20170623_533...</td>\n",
       "    </tr>\n",
       "    <tr>\n",
       "      <th>19</th>\n",
       "      <td>89598</td>\n",
       "      <td>周佳 整理</td>\n",
       "      <td>中国证券报?中证网</td>\n",
       "      <td>提示声明：\\r\\n　　本文涉及的行业及个股分析来源于券商研究报告，仅为分析人士对该行业及...</td>\n",
       "      <td>{\"type\":\"市场\",\"site\":\"中证网\",\"commentNum\":\"0\",\"jo...</td>\n",
       "      <td>机构解析：下周热点板块及个股探秘（附股）</td>\n",
       "      <td>http://www.cs.com.cn/gppd/hyyj/201706/t2017062...</td>\n",
       "    </tr>\n",
       "    <tr>\n",
       "      <th>20</th>\n",
       "      <td>89597</td>\n",
       "      <td>NaN</td>\n",
       "      <td>泡泡网</td>\n",
       "      <td>原标题：叙利亚被“袭机”事件惹怒俄罗斯 警告将瞄准美战机\\r\\n　　海外网6月19日电 ...</td>\n",
       "      <td>{\"type\":\"军事\",\"site\":\"新浪\",\"commentNum\":\" 95\",\"j...</td>\n",
       "      <td>美军击落叙战机激怒俄罗斯 俄警告将瞄准美军战机</td>\n",
       "      <td>http://mil.news.sina.com.cn/world/2017-06-20/d...</td>\n",
       "    </tr>\n",
       "  </tbody>\n",
       "</table>\n",
       "</div>"
      ],
      "text/plain": [
       "       id      author                    source  \\\n",
       "0   89617         NaN    快科技@http://www.kkj.cn/   \n",
       "1   89616         NaN    快科技@http://www.kkj.cn/   \n",
       "2   89615         NaN    快科技@http://www.kkj.cn/   \n",
       "3   89614         NaN                       新华社   \n",
       "4   89613  胡淑丽_MN7479                     深圳大件事   \n",
       "5   89612          张怡                 中国证券报?中证网   \n",
       "6   89611         NaN  威锋网@http://www.feng.com/   \n",
       "7   89610      申玉彬 整理                 中国证券报?中证网   \n",
       "8   89609  李杭_BJS4645                 荆楚网-楚天都市报   \n",
       "9   89608          吴瞬                 中国证券报?中证网   \n",
       "10  89607         NaN                     证券时报网   \n",
       "11  89606         NaN                     证券时报网   \n",
       "12  89605         NaN                     中国新闻网   \n",
       "13  89604      申玉彬 整理                 中国证券报?中证网   \n",
       "14  89603         NaN                      国际在线   \n",
       "15  89602         费天元                     中国证券网   \n",
       "16  89601         NaN                  solidot@   \n",
       "17  89600         NaN                       新华网   \n",
       "18  89599          张怡                 中国证券报?中证网   \n",
       "19  89598       周佳 整理                 中国证券报?中证网   \n",
       "20  89597         NaN                       泡泡网   \n",
       "\n",
       "                                              content  \\\n",
       "0   此外，自本周（6月12日）起，除小米手机6等15款机型外，其余机型已暂停更新发布（含开发版/...   \n",
       "1   骁龙835作为唯一通过Windows 10桌面平台认证的ARM处理器，高通强调，不会因为只考...   \n",
       "2   此前的一加3T搭载的是3400mAh电池，DashCharge快充规格为5V/4A。\\r\\n...   \n",
       "3     这是6月18日在葡萄牙中部大佩德罗冈地区拍摄的被森林大火烧毁的汽车。新华社记者张立云摄\\r\\n   \n",
       "4   （原标题：44岁女子跑深圳约会网友被拒，暴雨中裸身奔走……）\\r\\n@深圳交警微博称：昨日清...   \n",
       "5   　　受到A股被纳入MSCI指数的利好消息刺激，A股市场从周三开始再度上演龙马行情，周四上午金...   \n",
       "6   虽然至今夏普智能手机在市场上无法排得上号，已经完全没落，并于 2013 年退出中国市场，但是...   \n",
       "7   　　沙漠雄鹰：震荡有利消化套牢筹码\\r\\n　　周四开盘上证50在银行券商大蓝筹带动下一度涨近...   \n",
       "8   （原标题：武汉警方一下子抓了808人，还都是俊男靓女！原来他们每天偷偷摸摸干这事！）\\r\\n...   \n",
       "9   　　6月21日，A股纳入MSCI指数尘埃落定，但当天被寄予厚望的券商股并未扛起反弹大旗。22...   \n",
       "10  　　证券时报网（www.stcn.com）06月23日讯\\r\\n　　据上证报道，6月初以来，...   \n",
       "11  ?\\r\\n　　巨丰早评：市场将再次探底\\r\\n　　【巨丰观点】\\r\\n　　周四大盘冲高回落，...   \n",
       "12  中新网6月19日电 据外媒报道，美国底特律一名男子1976年因为一根头发被定谋杀罪，监禁41...   \n",
       "13  　　曹先生：风格转换前的阵痛\\r\\n　　今日早盘两地低开，之后一度震荡走高，领涨的仍然是上证...   \n",
       "14  6月21日，MSCI在官网发布公告称，从明年6月起将中国A股纳入MSCI新兴市场指数和MSC...   \n",
       "15  　　中国证券网讯（记者 费天元）沪深两市周五临近午盘出现快速跳水，沪指连续跌穿5日、10日及...   \n",
       "16  九成以上的源包用逐位对应的方式构建，未来版本的 Debian 还将提供验证包的工具和元数据；...   \n",
       "17  国歌法草案首次提请最高立法机关审议\\r\\n点击图片进入下一页\\r\\n新闻：十二届全国人大常委...   \n",
       "18  　　中证网讯 （本报记者 张怡）今日，三板做市指数继续低开下行，盘中最低触及1057.91点...   \n",
       "19  　　提示声明：\\r\\n　　本文涉及的行业及个股分析来源于券商研究报告，仅为分析人士对该行业及...   \n",
       "20  　　原标题：叙利亚被“袭机”事件惹怒俄罗斯 警告将瞄准美战机\\r\\n　　海外网6月19日电 ...   \n",
       "\n",
       "                                              feature  \\\n",
       "0   {\"type\":\"科技\",\"site\":\"cnbeta\",\"commentNum\":\"37\"...   \n",
       "1   {\"type\":\"科技\",\"site\":\"cnbeta\",\"commentNum\":\"15\"...   \n",
       "2   {\"type\":\"科技\",\"site\":\"cnbeta\",\"commentNum\":\"18\"...   \n",
       "3   {\"type\":\"国际新闻\",\"site\":\"环球\",\"commentNum\":\"0\",\"j...   \n",
       "4   {\"type\":\"新闻\",\"site\":\"网易热门\",\"commentNum\":\"978\",...   \n",
       "5   {\"type\":\"市场\",\"site\":\"中证网\",\"commentNum\":\"0\",\"jo...   \n",
       "6   {\"type\":\"科技\",\"site\":\"cnbeta\",\"commentNum\":\"21\"...   \n",
       "7   {\"type\":\"市场\",\"site\":\"中证网\",\"commentNum\":\"0\",\"jo...   \n",
       "8   {\"type\":\"新闻\",\"site\":\"网易热门\",\"commentNum\":\"1600\"...   \n",
       "9   {\"type\":\"市场\",\"site\":\"中证网\",\"commentNum\":\"0\",\"jo...   \n",
       "10  {\"type\":\"市场\",\"site\":\"中证网\",\"commentNum\":\"0\",\"jo...   \n",
       "11  {\"type\":\"市场\",\"site\":\"中证网\",\"commentNum\":\"0\",\"jo...   \n",
       "12  {\"type\":\"国际新闻\",\"site\":\"环球\",\"commentNum\":\"0\",\"j...   \n",
       "13  {\"type\":\"市场\",\"site\":\"中证网\",\"commentNum\":\"0\",\"jo...   \n",
       "14  {\"type\":\"观点滚动\",\"site\":\"参考消息\",\"commentNum\":\"0\",...   \n",
       "15  {\"type\":\"市场\",\"site\":\"中证网\",\"commentNum\":\"0\",\"jo...   \n",
       "16  {\"type\":\"软件\",\"site\":\"cnbeta\",\"commentNum\":\"12\"...   \n",
       "17  {\"type\":\"观点滚动\",\"site\":\"参考消息\",\"commentNum\":\"0\",...   \n",
       "18  {\"type\":\"市场\",\"site\":\"中证网\",\"commentNum\":\"0\",\"jo...   \n",
       "19  {\"type\":\"市场\",\"site\":\"中证网\",\"commentNum\":\"0\",\"jo...   \n",
       "20  {\"type\":\"军事\",\"site\":\"新浪\",\"commentNum\":\" 95\",\"j...   \n",
       "\n",
       "                            title  \\\n",
       "0            小米MIUI 9首批机型曝光：共计15款   \n",
       "1      骁龙835在Windows 10上的性能表现有望改善   \n",
       "2       一加手机5细节曝光：3300mAh、充半小时用1天   \n",
       "3   葡森林火灾造成至少62人死亡 政府宣布进入紧急状态（组图）   \n",
       "4        44岁女子约网友被拒暴雨中裸奔 交警为其披衣相随   \n",
       "5                  金融股一枝独秀 配置价值犹存   \n",
       "6             配骁龙660 全面屏鼻祖夏普新机酝酿中   \n",
       "7                 博友早评：震荡有利消化套牢筹码   \n",
       "8        武汉千余警察出动 抓获808名俊男靓女全是诈骗犯   \n",
       "9             纳入MSCI指数 A股长期配置价值提升   \n",
       "10           私募：蓝筹风格难切换 业绩估值相配是王道   \n",
       "11         早间机构看市：市场将再次探底 两类股逢低布局   \n",
       "12        因为犯罪现场的一根头发，他坐冤狱41年后终获释   \n",
       "13                  博友午评：风格转换前的阵痛   \n",
       "14           MSCI闯关成功会是A股的一针强心剂吗？   \n",
       "15         地产股拉升难阻市场颓势 三大指数早盘集体跳水   \n",
       "16            Debian 9 Stretch 发布   \n",
       "17              [及时点]我们不需要“百变老太太”   \n",
       "18             新三板午评：三板做市指数刷新阶段低点   \n",
       "19           机构解析：下周热点板块及个股探秘（附股）   \n",
       "20        美军击落叙战机激怒俄罗斯 俄警告将瞄准美军战机   \n",
       "\n",
       "                                                  url  \n",
       "0      http://www.cnbeta.com/articles/tech/623597.htm  \n",
       "1      http://www.cnbeta.com/articles/tech/623599.htm  \n",
       "2      http://www.cnbeta.com/articles/tech/623601.htm  \n",
       "3   http://world.huanqiu.com/hot/2017-06/10866126....  \n",
       "4   http://news.163.com/17/0618/00/CN617P3Q0001875...  \n",
       "5   http://www.cs.com.cn/gppd/201706/t20170623_533...  \n",
       "6      http://www.cnbeta.com/articles/tech/623603.htm  \n",
       "7   http://www.cs.com.cn/gppd/201706/t20170623_533...  \n",
       "8   http://news.163.com/17/0614/14/CMT9N8G80001899...  \n",
       "9   http://www.cs.com.cn/gppd/201706/t20170623_533...  \n",
       "10  http://www.cs.com.cn/gppd/201706/t20170623_533...  \n",
       "11  http://www.cs.com.cn/gppd/201706/t20170623_533...  \n",
       "12  http://world.huanqiu.com/hot/2017-06/10866136....  \n",
       "13  http://www.cs.com.cn/gppd/201706/t20170623_533...  \n",
       "14  http://column.cankaoxiaoxi.com/plgd/2017/0623/...  \n",
       "15  http://www.cs.com.cn/gppd/201706/t20170623_533...  \n",
       "16     http://www.cnbeta.com/articles/soft/623605.htm  \n",
       "17  http://column.cankaoxiaoxi.com/plgd/2017/0623/...  \n",
       "18  http://www.cs.com.cn/gppd/201706/t20170623_533...  \n",
       "19  http://www.cs.com.cn/gppd/hyyj/201706/t2017062...  \n",
       "20  http://mil.news.sina.com.cn/world/2017-06-20/d...  "
      ]
     },
     "execution_count": 291,
     "metadata": {},
     "output_type": "execute_result"
    }
   ],
   "source": [
    "# it‘s your time\n",
    "import pandas as pd\n",
    "filename = 'F:/NLP/datasource-master/datasource/sqlResult_1558435.csv'\n",
    "content = pd.read_csv(filename,encoding='gb18030')\n",
    "content.head(21)"
   ]
  },
  {
   "cell_type": "markdown",
   "metadata": {},
   "source": [
    "### Step2: 数据预处理"
   ]
  },
  {
   "cell_type": "markdown",
   "metadata": {},
   "source": [
    "将pandas中的数据，依据是否是新华社的文章，请改变成新的数据dataframe: <content, y>, 其中，content是文章内容，y是0或者1. 你可能要使用到pandas的dataframe操作。https://pandas.pydata.org/pandas-docs/stable/reference/api/pandas.DataFrame.apply.html"
   ]
  },
  {
   "cell_type": "code",
   "execution_count": 19,
   "metadata": {},
   "outputs": [
    {
     "data": {
      "text/plain": [
       "True"
      ]
     },
     "execution_count": 19,
     "metadata": {},
     "output_type": "execute_result"
    }
   ],
   "source": [
    "# it's your time\n",
    "content['source'][89582] == '新华社'"
   ]
  },
  {
   "cell_type": "code",
   "execution_count": 36,
   "metadata": {},
   "outputs": [],
   "source": [
    "import re\n",
    "import jieba"
   ]
  },
  {
   "cell_type": "code",
   "execution_count": 25,
   "metadata": {},
   "outputs": [],
   "source": [
    "def token(string):\n",
    "    return ''.join(re.findall('\\w+',string))"
   ]
  },
  {
   "cell_type": "code",
   "execution_count": 41,
   "metadata": {},
   "outputs": [],
   "source": [
    "def cuting(string):\n",
    "    return ' '.join(jieba.cut(string))"
   ]
  },
  {
   "cell_type": "code",
   "execution_count": 42,
   "metadata": {},
   "outputs": [
    {
     "name": "stderr",
     "output_type": "stream",
     "text": [
      "Building prefix dict from the default dictionary ...\n",
      "Dumping model to file cache C:\\Users\\xiangyu\\AppData\\Local\\Temp\\jieba.cache\n",
      "Loading model cost 1.710 seconds.\n",
      "Prefix dict has been built succesfully.\n"
     ]
    },
    {
     "data": {
      "text/plain": [
       "'这是 一个 测试'"
      ]
     },
     "execution_count": 42,
     "metadata": {},
     "output_type": "execute_result"
    }
   ],
   "source": [
    "cuting('这是一个测试')"
   ]
  },
  {
   "cell_type": "code",
   "execution_count": 18,
   "metadata": {},
   "outputs": [
    {
     "data": {
      "text/plain": [
       "float"
      ]
     },
     "execution_count": 18,
     "metadata": {},
     "output_type": "execute_result"
    }
   ],
   "source": [
    "type(content['content'][100])"
   ]
  },
  {
   "cell_type": "code",
   "execution_count": 101,
   "metadata": {
    "scrolled": true
   },
   "outputs": [
    {
     "name": "stdout",
     "output_type": "stream",
     "text": [
      "0\n",
      "100\n",
      "200\n",
      "300\n",
      "400\n",
      "500\n",
      "600\n",
      "700\n",
      "800\n",
      "900\n",
      "1000\n",
      "1100\n",
      "1200\n",
      "1300\n",
      "1400\n",
      "1500\n",
      "1600\n",
      "1700\n",
      "1800\n",
      "1900\n",
      "2000\n",
      "2100\n",
      "2200\n",
      "2300\n",
      "2400\n",
      "2500\n",
      "2600\n",
      "2700\n",
      "2800\n",
      "2900\n",
      "3000\n",
      "3100\n",
      "3200\n",
      "3300\n",
      "3400\n",
      "3500\n",
      "3600\n",
      "3700\n",
      "3800\n",
      "3900\n",
      "4000\n",
      "4100\n",
      "4200\n",
      "4300\n",
      "4400\n",
      "4500\n",
      "4600\n",
      "4700\n",
      "4800\n",
      "4900\n",
      "5000\n",
      "5100\n",
      "5200\n",
      "5300\n",
      "5400\n",
      "5500\n",
      "5600\n",
      "5700\n",
      "5800\n",
      "5900\n",
      "6000\n",
      "6100\n",
      "6200\n",
      "6300\n",
      "6400\n",
      "6500\n",
      "6600\n",
      "6700\n",
      "6800\n",
      "6900\n",
      "7000\n",
      "7100\n",
      "7200\n",
      "7300\n",
      "7400\n",
      "7500\n",
      "7600\n",
      "7700\n",
      "7800\n",
      "7900\n",
      "8000\n",
      "8100\n",
      "8200\n",
      "8300\n",
      "8400\n",
      "8500\n",
      "8600\n",
      "8700\n",
      "8800\n",
      "8900\n",
      "9000\n",
      "9100\n",
      "9200\n",
      "9300\n",
      "9400\n",
      "9500\n",
      "9600\n",
      "9700\n",
      "9800\n",
      "9900\n",
      "10000\n",
      "10100\n",
      "10200\n",
      "10300\n",
      "10400\n",
      "10500\n",
      "10600\n",
      "10700\n",
      "10800\n",
      "10900\n",
      "11000\n",
      "11100\n",
      "11200\n",
      "11300\n",
      "11400\n",
      "11500\n",
      "11600\n",
      "11700\n",
      "11800\n",
      "11900\n",
      "12000\n",
      "12100\n",
      "12200\n",
      "12300\n",
      "12400\n",
      "12500\n",
      "12600\n",
      "12700\n",
      "12800\n",
      "12900\n",
      "13000\n",
      "13100\n",
      "13200\n",
      "13300\n",
      "13400\n",
      "13500\n",
      "13600\n",
      "13700\n",
      "13800\n",
      "13900\n",
      "14000\n",
      "14100\n",
      "14200\n",
      "14300\n",
      "14400\n",
      "14500\n",
      "14600\n",
      "14700\n",
      "14800\n",
      "14900\n",
      "15000\n",
      "15100\n",
      "15200\n",
      "15300\n",
      "15400\n",
      "15500\n",
      "15600\n",
      "15700\n",
      "15800\n",
      "15900\n",
      "16000\n",
      "16100\n",
      "16200\n",
      "16300\n",
      "16400\n",
      "16500\n",
      "16600\n",
      "16700\n",
      "16800\n",
      "16900\n",
      "17000\n",
      "17100\n",
      "17200\n",
      "17300\n",
      "17400\n",
      "17500\n",
      "17600\n",
      "17700\n",
      "17800\n",
      "17900\n",
      "18000\n",
      "18100\n",
      "18200\n",
      "18300\n",
      "18400\n",
      "18500\n",
      "18600\n",
      "18700\n",
      "18800\n",
      "18900\n",
      "19000\n",
      "19100\n",
      "19200\n",
      "19300\n",
      "19400\n",
      "19500\n",
      "19600\n",
      "19700\n",
      "19800\n",
      "19900\n",
      "20000\n",
      "20100\n",
      "20200\n",
      "20300\n",
      "20400\n",
      "20500\n",
      "20600\n",
      "20700\n",
      "20800\n",
      "20900\n",
      "21000\n",
      "21100\n",
      "21200\n",
      "21300\n",
      "21400\n",
      "21500\n",
      "21600\n",
      "21700\n",
      "21800\n",
      "21900\n",
      "22000\n",
      "22100\n",
      "22200\n",
      "22300\n",
      "22400\n",
      "22500\n",
      "22600\n",
      "22700\n",
      "22800\n",
      "22900\n",
      "23000\n",
      "23100\n",
      "23200\n",
      "23300\n",
      "23400\n",
      "23500\n",
      "23600\n",
      "23700\n",
      "23800\n",
      "23900\n",
      "24000\n",
      "24100\n",
      "24200\n",
      "24300\n",
      "24400\n",
      "24500\n",
      "24600\n",
      "24700\n",
      "24800\n",
      "24900\n",
      "25000\n",
      "25100\n",
      "25200\n",
      "25300\n",
      "25400\n",
      "25500\n",
      "25600\n",
      "25700\n",
      "25800\n",
      "25900\n",
      "26000\n",
      "26100\n",
      "26200\n",
      "26300\n",
      "26400\n",
      "26500\n",
      "26600\n",
      "26700\n",
      "26800\n",
      "26900\n",
      "27000\n",
      "27100\n",
      "27200\n",
      "27300\n",
      "27400\n",
      "27500\n",
      "27600\n",
      "27700\n",
      "27800\n",
      "27900\n",
      "28000\n",
      "28100\n",
      "28200\n",
      "28300\n",
      "28400\n",
      "28500\n",
      "28600\n",
      "28700\n",
      "28800\n",
      "28900\n",
      "29000\n",
      "29100\n",
      "29200\n",
      "29300\n",
      "29400\n",
      "29500\n",
      "29600\n",
      "29700\n",
      "29800\n",
      "29900\n",
      "30000\n",
      "30100\n",
      "30200\n",
      "30300\n",
      "30400\n",
      "30500\n",
      "30600\n",
      "30700\n",
      "30800\n",
      "30900\n",
      "31000\n",
      "31100\n",
      "31200\n",
      "31300\n",
      "31400\n",
      "31500\n",
      "31600\n",
      "31700\n",
      "31800\n",
      "31900\n",
      "32000\n",
      "32100\n",
      "32200\n",
      "32300\n",
      "32400\n",
      "32500\n",
      "32600\n",
      "32700\n",
      "32800\n",
      "32900\n",
      "33000\n",
      "33100\n",
      "33200\n",
      "33300\n",
      "33400\n",
      "33500\n",
      "33600\n",
      "33700\n",
      "33800\n",
      "33900\n",
      "34000\n",
      "34100\n",
      "34200\n",
      "34300\n",
      "34400\n",
      "34500\n",
      "34600\n",
      "34700\n",
      "34800\n",
      "34900\n",
      "35000\n",
      "35100\n",
      "35200\n",
      "35300\n",
      "35400\n",
      "35500\n",
      "35600\n",
      "35700\n",
      "35800\n",
      "35900\n",
      "36000\n",
      "36100\n",
      "36200\n",
      "36300\n",
      "36400\n",
      "36500\n",
      "36600\n",
      "36700\n",
      "36800\n",
      "36900\n",
      "37000\n",
      "37100\n",
      "37200\n",
      "37300\n",
      "37400\n",
      "37500\n",
      "37600\n",
      "37700\n",
      "37800\n",
      "37900\n",
      "38000\n",
      "38100\n",
      "38200\n",
      "38300\n",
      "38400\n",
      "38500\n",
      "38600\n",
      "38700\n",
      "38800\n",
      "38900\n",
      "39000\n",
      "39100\n",
      "39200\n",
      "39300\n",
      "39400\n",
      "39500\n",
      "39600\n",
      "39700\n",
      "39800\n",
      "39900\n",
      "40000\n",
      "40100\n",
      "40200\n",
      "40300\n",
      "40400\n",
      "40500\n",
      "40600\n",
      "40700\n",
      "40800\n",
      "40900\n",
      "41000\n",
      "41100\n",
      "41200\n",
      "41300\n",
      "41400\n",
      "41500\n",
      "41600\n",
      "41700\n",
      "41800\n",
      "41900\n",
      "42000\n",
      "42100\n",
      "42200\n",
      "42300\n",
      "42400\n",
      "42500\n",
      "42600\n",
      "42700\n",
      "42800\n",
      "42900\n",
      "43000\n",
      "43100\n",
      "43200\n",
      "43300\n",
      "43400\n",
      "43500\n",
      "43600\n",
      "43700\n",
      "43800\n",
      "43900\n",
      "44000\n",
      "44100\n",
      "44200\n",
      "44300\n",
      "44400\n",
      "44500\n",
      "44600\n",
      "44700\n",
      "44800\n",
      "44900\n",
      "45000\n",
      "45100\n",
      "45200\n",
      "45300\n",
      "45400\n",
      "45500\n",
      "45600\n",
      "45700\n",
      "45800\n",
      "45900\n",
      "46000\n",
      "46100\n",
      "46200\n",
      "46300\n",
      "46400\n",
      "46500\n",
      "46600\n",
      "46700\n",
      "46800\n",
      "46900\n",
      "47000\n",
      "47100\n",
      "47200\n",
      "47300\n",
      "47400\n",
      "47500\n",
      "47600\n",
      "47700\n",
      "47800\n",
      "47900\n",
      "48000\n",
      "48100\n",
      "48200\n",
      "48300\n",
      "48400\n",
      "48500\n",
      "48600\n",
      "48700\n",
      "48800\n",
      "48900\n",
      "49000\n",
      "49100\n",
      "49200\n",
      "49300\n",
      "49400\n",
      "49500\n",
      "49600\n",
      "49700\n",
      "49800\n",
      "49900\n",
      "50000\n",
      "50100\n",
      "50200\n",
      "50300\n",
      "50400\n",
      "50500\n",
      "50600\n",
      "50700\n",
      "50800\n",
      "50900\n",
      "51000\n",
      "51100\n",
      "51200\n",
      "51300\n",
      "51400\n",
      "51500\n",
      "51600\n",
      "51700\n",
      "51800\n",
      "51900\n",
      "52000\n",
      "52100\n",
      "52200\n",
      "52300\n",
      "52400\n",
      "52500\n",
      "52600\n",
      "52700\n",
      "52800\n",
      "52900\n",
      "53000\n",
      "53100\n",
      "53200\n",
      "53300\n",
      "53400\n",
      "53500\n",
      "53600\n",
      "53700\n",
      "53800\n",
      "53900\n",
      "54000\n",
      "54100\n",
      "54200\n",
      "54300\n",
      "54400\n",
      "54500\n",
      "54600\n",
      "54700\n",
      "54800\n",
      "54900\n",
      "55000\n",
      "55100\n",
      "55200\n",
      "55300\n",
      "55400\n",
      "55500\n",
      "55600\n",
      "55700\n",
      "55800\n",
      "55900\n",
      "56000\n",
      "56100\n",
      "56200\n",
      "56300\n",
      "56400\n",
      "56500\n",
      "56600\n",
      "56700\n",
      "56800\n",
      "56900\n",
      "57000\n",
      "57100\n",
      "57200\n",
      "57300\n",
      "57400\n",
      "57500\n",
      "57600\n",
      "57700\n",
      "57800\n",
      "57900\n",
      "58000\n",
      "58100\n",
      "58200\n",
      "58300\n",
      "58400\n",
      "58500\n",
      "58600\n",
      "58700\n",
      "58800\n",
      "58900\n",
      "59000\n",
      "59100\n",
      "59200\n",
      "59300\n",
      "59400\n",
      "59500\n",
      "59600\n",
      "59700\n",
      "59800\n",
      "59900\n",
      "60000\n",
      "60100\n",
      "60200\n",
      "60300\n",
      "60400\n",
      "60500\n",
      "60600\n",
      "60700\n",
      "60800\n",
      "60900\n",
      "61000\n",
      "61100\n",
      "61200\n",
      "61300\n",
      "61400\n",
      "61500\n",
      "61600\n",
      "61700\n",
      "61800\n",
      "61900\n",
      "62000\n",
      "62100\n",
      "62200\n",
      "62300\n",
      "62400\n",
      "62500\n",
      "62600\n",
      "62700\n",
      "62800\n",
      "62900\n",
      "63000\n",
      "63100\n",
      "63200\n",
      "63300\n",
      "63400\n",
      "63500\n",
      "63600\n",
      "63700\n",
      "63800\n",
      "63900\n",
      "64000\n",
      "64100\n",
      "64200\n",
      "64300\n",
      "64400\n",
      "64500\n",
      "64600\n",
      "64700\n",
      "64800\n",
      "64900\n",
      "65000\n",
      "65100\n",
      "65200\n",
      "65300\n",
      "65400\n",
      "65500\n",
      "65600\n",
      "65700\n",
      "65800\n",
      "65900\n",
      "66000\n",
      "66100\n",
      "66200\n",
      "66300\n",
      "66400\n",
      "66500\n",
      "66600\n",
      "66700\n",
      "66800\n",
      "66900\n",
      "67000\n",
      "67100\n",
      "67200\n",
      "67300\n",
      "67400\n",
      "67500\n",
      "67600\n",
      "67700\n",
      "67800\n",
      "67900\n",
      "68000\n",
      "68100\n",
      "68200\n",
      "68300\n",
      "68400\n",
      "68500\n",
      "68600\n",
      "68700\n",
      "68800\n",
      "68900\n",
      "69000\n",
      "69100\n",
      "69200\n",
      "69300\n",
      "69400\n",
      "69500\n",
      "69600\n",
      "69700\n",
      "69800\n",
      "69900\n",
      "70000\n",
      "70100\n",
      "70200\n",
      "70300\n",
      "70400\n",
      "70500\n",
      "70600\n",
      "70700\n",
      "70800\n",
      "70900\n",
      "71000\n",
      "71100\n",
      "71200\n",
      "71300\n",
      "71400\n",
      "71500\n",
      "71600\n",
      "71700\n",
      "71800\n",
      "71900\n",
      "72000\n",
      "72100\n",
      "72200\n",
      "72300\n",
      "72400\n",
      "72500\n",
      "72600\n",
      "72700\n",
      "72800\n",
      "72900\n",
      "73000\n",
      "73100\n",
      "73200\n",
      "73300\n",
      "73400\n",
      "73500\n",
      "73600\n",
      "73700\n",
      "73800\n",
      "73900\n",
      "74000\n",
      "74100\n",
      "74200\n",
      "74300\n",
      "74400\n",
      "74500\n",
      "74600\n",
      "74700\n",
      "74800\n",
      "74900\n",
      "75000\n",
      "75100\n",
      "75200\n",
      "75300\n",
      "75400\n",
      "75500\n",
      "75600\n",
      "75700\n",
      "75800\n",
      "75900\n",
      "76000\n",
      "76100\n",
      "76200\n",
      "76300\n",
      "76400\n",
      "76500\n",
      "76600\n",
      "76700\n",
      "76800\n",
      "76900\n",
      "77000\n",
      "77100\n",
      "77200\n",
      "77300\n",
      "77400\n",
      "77500\n",
      "77600\n",
      "77700\n",
      "77800\n",
      "77900\n",
      "78000\n",
      "78100\n",
      "78200\n",
      "78300\n",
      "78400\n",
      "78500\n",
      "78600\n",
      "78700\n",
      "78800\n",
      "78900\n",
      "79000\n",
      "79100\n",
      "79200\n",
      "79300\n",
      "79400\n",
      "79500\n",
      "79600\n",
      "79700\n",
      "79800\n",
      "79900\n",
      "80000\n",
      "80100\n",
      "80200\n",
      "80300\n",
      "80400\n",
      "80500\n",
      "80600\n",
      "80700\n",
      "80800\n",
      "80900\n",
      "81000\n",
      "81100\n",
      "81200\n",
      "81300\n",
      "81400\n",
      "81500\n",
      "81600\n",
      "81700\n",
      "81800\n",
      "81900\n",
      "82000\n",
      "82100\n",
      "82200\n",
      "82300\n",
      "82400\n",
      "82500\n",
      "82600\n",
      "82700\n",
      "82800\n",
      "82900\n",
      "83000\n",
      "83100\n",
      "83200\n",
      "83300\n",
      "83400\n",
      "83500\n",
      "83600\n",
      "83700\n",
      "83800\n",
      "83900\n",
      "84000\n",
      "84100\n",
      "84200\n",
      "84300\n",
      "84400\n",
      "84500\n",
      "84600\n",
      "84700\n",
      "84800\n",
      "84900\n",
      "85000\n",
      "85100\n",
      "85200\n",
      "85300\n",
      "85400\n",
      "85500\n",
      "85600\n",
      "85700\n",
      "85800\n",
      "85900\n",
      "86000\n",
      "86100\n",
      "86200\n",
      "86300\n",
      "86400\n",
      "86500\n",
      "86600\n",
      "86700\n",
      "86800\n",
      "86900\n",
      "87000\n",
      "87100\n",
      "87200\n",
      "87300\n",
      "87400\n",
      "87500\n",
      "87600\n",
      "87700\n",
      "87800\n",
      "87900\n",
      "88000\n",
      "88100\n",
      "88200\n",
      "88300\n",
      "88400\n",
      "88500\n",
      "88600\n",
      "88700\n",
      "88800\n",
      "88900\n",
      "89000\n",
      "89100\n",
      "89200\n",
      "89300\n",
      "89400\n",
      "89500\n",
      "89600\n"
     ]
    }
   ],
   "source": [
    "content_data = []\n",
    "for i in range(len(content)):\n",
    "    if i % 100 == 0: print(i)\n",
    "    if str(content['content'][i]) == 'nan' or len(content['content'][i]) < 5 : continue\n",
    "        \n",
    "    if content['source'][i] == '新华社':\n",
    "        \n",
    "        content_data.append([cuting(token(content['content'][i])),1])\n",
    "    else:\n",
    "        content_data.append([cuting(token(content['content'][i])),0])\n",
    "        "
   ]
  },
  {
   "cell_type": "code",
   "execution_count": 102,
   "metadata": {},
   "outputs": [
    {
     "data": {
      "text/plain": [
       "['此外 自 本周 6 月 12 日起 除 小米 手机 6 等 15 款 机型 外 其余 机型 已 暂停 更新 发布 含 开发 版 体验版 内测 稳定版 暂不受 影响 以 确保 工程师 可以 集中 全部 精力 进行 系统优化 工作 有人 猜测 这 也 是 将 精力 主要 用到 MIUI9 的 研发 之中 MIUI8 去年 5 月 发布 距今已有 一年 有余 也 是 时候 更新换代 了 当然 关于 MIUI9 的 确切 信息 我们 还是 等待 官方消息',\n",
       " 0]"
      ]
     },
     "execution_count": 102,
     "metadata": {},
     "output_type": "execute_result"
    }
   ],
   "source": [
    "content_data[0]"
   ]
  },
  {
   "cell_type": "code",
   "execution_count": 115,
   "metadata": {},
   "outputs": [],
   "source": [
    "df = pd.DataFrame(content_data,columns=['content','y'])"
   ]
  },
  {
   "cell_type": "markdown",
   "metadata": {},
   "source": [
    "### Step3: 使用tfidf进行文本向量化"
   ]
  },
  {
   "cell_type": "markdown",
   "metadata": {},
   "source": [
    "参考 https://scikit-learn.org/stable/modules/generated/sklearn.feature_extraction.text.TfidfVectorizer.html 对"
   ]
  },
  {
   "cell_type": "markdown",
   "metadata": {},
   "source": [
    "对文本进行向量化"
   ]
  },
  {
   "cell_type": "code",
   "execution_count": 105,
   "metadata": {},
   "outputs": [],
   "source": [
    "from sklearn.feature_extraction.text import TfidfVectorizer\n",
    "vectorizer = TfidfVectorizer(max_features=300)"
   ]
  },
  {
   "cell_type": "code",
   "execution_count": 117,
   "metadata": {},
   "outputs": [],
   "source": [
    "df_pro = df.copy(deep=True)"
   ]
  },
  {
   "cell_type": "code",
   "execution_count": 119,
   "metadata": {},
   "outputs": [],
   "source": [
    "data = []\n",
    "for line in df_pro['content']:\n",
    "    data.append(line)"
   ]
  },
  {
   "cell_type": "code",
   "execution_count": 107,
   "metadata": {},
   "outputs": [],
   "source": [
    "X = vectorizer.fit_transform(data)"
   ]
  },
  {
   "cell_type": "code",
   "execution_count": 138,
   "metadata": {},
   "outputs": [
    {
     "data": {
      "text/plain": [
       "(86867, 300)"
      ]
     },
     "execution_count": 138,
     "metadata": {},
     "output_type": "execute_result"
    }
   ],
   "source": [
    "X.shape"
   ]
  },
  {
   "cell_type": "code",
   "execution_count": 143,
   "metadata": {},
   "outputs": [],
   "source": [
    "df_pro.insert(0,'vectors',X)"
   ]
  },
  {
   "cell_type": "code",
   "execution_count": 144,
   "metadata": {
    "scrolled": true
   },
   "outputs": [
    {
     "data": {
      "text/html": [
       "<div>\n",
       "<style scoped>\n",
       "    .dataframe tbody tr th:only-of-type {\n",
       "        vertical-align: middle;\n",
       "    }\n",
       "\n",
       "    .dataframe tbody tr th {\n",
       "        vertical-align: top;\n",
       "    }\n",
       "\n",
       "    .dataframe thead th {\n",
       "        text-align: right;\n",
       "    }\n",
       "</style>\n",
       "<table border=\"1\" class=\"dataframe\">\n",
       "  <thead>\n",
       "    <tr style=\"text-align: right;\">\n",
       "      <th></th>\n",
       "      <th>vectors</th>\n",
       "      <th>content</th>\n",
       "      <th>y</th>\n",
       "    </tr>\n",
       "  </thead>\n",
       "  <tbody>\n",
       "    <tr>\n",
       "      <th>0</th>\n",
       "      <td>(0, 2)\\t0.2483319032058333\\n  (0, 5)\\t0.2586...</td>\n",
       "      <td>此外 自 本周 6 月 12 日起 除 小米 手机 6 等 15 款 机型 外 其余 机型 ...</td>\n",
       "      <td>0</td>\n",
       "    </tr>\n",
       "    <tr>\n",
       "      <th>1</th>\n",
       "      <td>(0, 2)\\t0.2483319032058333\\n  (0, 5)\\t0.2586...</td>\n",
       "      <td>骁龙 835 作为 唯一 通过 Windows10 桌面 平台 认证 的 ARM 处理器 高...</td>\n",
       "      <td>0</td>\n",
       "    </tr>\n",
       "    <tr>\n",
       "      <th>2</th>\n",
       "      <td>(0, 2)\\t0.2483319032058333\\n  (0, 5)\\t0.2586...</td>\n",
       "      <td>此前 的 一加 3T 搭载 的 是 3400mAh 电池 DashCharge 快充 规格 ...</td>\n",
       "      <td>0</td>\n",
       "    </tr>\n",
       "    <tr>\n",
       "      <th>3</th>\n",
       "      <td>(0, 2)\\t0.2483319032058333\\n  (0, 5)\\t0.2586...</td>\n",
       "      <td>这是 6 月 18 日 在 葡萄牙 中部 大 佩德罗 冈 地区 拍摄 的 被 森林 大火 烧...</td>\n",
       "      <td>1</td>\n",
       "    </tr>\n",
       "    <tr>\n",
       "      <th>4</th>\n",
       "      <td>(0, 2)\\t0.2483319032058333\\n  (0, 5)\\t0.2586...</td>\n",
       "      <td>原 标题 44 岁 女子 跑 深圳 约会 网友 被 拒 暴雨 中 裸身 奔走 深圳 交警 微...</td>\n",
       "      <td>0</td>\n",
       "    </tr>\n",
       "    <tr>\n",
       "      <th>5</th>\n",
       "      <td>(0, 2)\\t0.2483319032058333\\n  (0, 5)\\t0.2586...</td>\n",
       "      <td>受到 A股 被 纳入 MSCI 指数 的 利好 消息 刺激 A股 市场 从 周三 开始 再度...</td>\n",
       "      <td>0</td>\n",
       "    </tr>\n",
       "    <tr>\n",
       "      <th>6</th>\n",
       "      <td>(0, 2)\\t0.2483319032058333\\n  (0, 5)\\t0.2586...</td>\n",
       "      <td>虽然 至今 夏普 智能手机 在 市场 上 无法 排得 上 号 已经 完全 没落 并于 201...</td>\n",
       "      <td>0</td>\n",
       "    </tr>\n",
       "    <tr>\n",
       "      <th>7</th>\n",
       "      <td>(0, 2)\\t0.2483319032058333\\n  (0, 5)\\t0.2586...</td>\n",
       "      <td>沙漠 雄鹰 震荡 有利 消化 套牢 筹码 周四 开盘 上证 50 在 银行 券商 大 蓝筹 ...</td>\n",
       "      <td>0</td>\n",
       "    </tr>\n",
       "    <tr>\n",
       "      <th>8</th>\n",
       "      <td>(0, 2)\\t0.2483319032058333\\n  (0, 5)\\t0.2586...</td>\n",
       "      <td>原 标题 武汉 警方 一下子 抓 了 808 人 还 都 是 俊男靓女 原来 他们 每天 偷...</td>\n",
       "      <td>0</td>\n",
       "    </tr>\n",
       "    <tr>\n",
       "      <th>9</th>\n",
       "      <td>(0, 2)\\t0.2483319032058333\\n  (0, 5)\\t0.2586...</td>\n",
       "      <td>6 月 21 日 A股 纳入 MSCI 指数 尘埃落定 但 当天 被 寄予厚望 的 券商 股...</td>\n",
       "      <td>0</td>\n",
       "    </tr>\n",
       "    <tr>\n",
       "      <th>10</th>\n",
       "      <td>(0, 2)\\t0.2483319032058333\\n  (0, 5)\\t0.2586...</td>\n",
       "      <td>证券时报 网 wwwstcncom06 月 23 日讯据 上证 报道 6 月初 以来 创业板...</td>\n",
       "      <td>0</td>\n",
       "    </tr>\n",
       "    <tr>\n",
       "      <th>11</th>\n",
       "      <td>(0, 2)\\t0.2483319032058333\\n  (0, 5)\\t0.2586...</td>\n",
       "      <td>巨丰 早评 市场 将 再次 探底 巨丰 观点 周四 大盘 冲高 回落 2500 余 只 个股...</td>\n",
       "      <td>0</td>\n",
       "    </tr>\n",
       "    <tr>\n",
       "      <th>12</th>\n",
       "      <td>(0, 2)\\t0.2483319032058333\\n  (0, 5)\\t0.2586...</td>\n",
       "      <td>中新网 6 月 19 日电 据 外媒 报道 美国 底特律 一名 男子 1976 年 因为 一...</td>\n",
       "      <td>0</td>\n",
       "    </tr>\n",
       "    <tr>\n",
       "      <th>13</th>\n",
       "      <td>(0, 2)\\t0.2483319032058333\\n  (0, 5)\\t0.2586...</td>\n",
       "      <td>曹 先生 风格 转换 前 的 阵痛 今日 早盘 两地 低开 之后 一度 震荡 走 高领 涨 ...</td>\n",
       "      <td>0</td>\n",
       "    </tr>\n",
       "    <tr>\n",
       "      <th>14</th>\n",
       "      <td>(0, 2)\\t0.2483319032058333\\n  (0, 5)\\t0.2586...</td>\n",
       "      <td>6 月 21 日 MSCI 在 官网 发布公告 称 从 明年 6 月 起 将 中国 A股 纳...</td>\n",
       "      <td>0</td>\n",
       "    </tr>\n",
       "    <tr>\n",
       "      <th>15</th>\n",
       "      <td>(0, 2)\\t0.2483319032058333\\n  (0, 5)\\t0.2586...</td>\n",
       "      <td>中国 证券网 讯 记者 费 天元 沪 深 两市 周五 临近 午盘 出现 快速 跳水 沪 指 ...</td>\n",
       "      <td>0</td>\n",
       "    </tr>\n",
       "    <tr>\n",
       "      <th>16</th>\n",
       "      <td>(0, 2)\\t0.2483319032058333\\n  (0, 5)\\t0.2586...</td>\n",
       "      <td>九成 以上 的 源 包用 逐位 对应 的 方式 构建 未来 版本 的 Debian 还 将 ...</td>\n",
       "      <td>0</td>\n",
       "    </tr>\n",
       "    <tr>\n",
       "      <th>17</th>\n",
       "      <td>(0, 2)\\t0.2483319032058333\\n  (0, 5)\\t0.2586...</td>\n",
       "      <td>国歌 法 草案 首次 提请 最高 立法机关 审议 点击 图片 进入 下 一页 新闻 十二届 ...</td>\n",
       "      <td>0</td>\n",
       "    </tr>\n",
       "    <tr>\n",
       "      <th>18</th>\n",
       "      <td>(0, 2)\\t0.2483319032058333\\n  (0, 5)\\t0.2586...</td>\n",
       "      <td>中证网 讯 本报记者 张怡 今日 三板 做市 指数 继续 低开 下行 盘中 最低 触及 10...</td>\n",
       "      <td>0</td>\n",
       "    </tr>\n",
       "    <tr>\n",
       "      <th>19</th>\n",
       "      <td>(0, 2)\\t0.2483319032058333\\n  (0, 5)\\t0.2586...</td>\n",
       "      <td>提示 声明 本文 涉及 的 行业 及 个股 分析 来源于 券商 研究 报告 仅为 分析 人士...</td>\n",
       "      <td>0</td>\n",
       "    </tr>\n",
       "    <tr>\n",
       "      <th>20</th>\n",
       "      <td>(0, 2)\\t0.2483319032058333\\n  (0, 5)\\t0.2586...</td>\n",
       "      <td>原 标题 叙利亚 被 袭机 事件 惹怒 俄罗斯 警告 将 瞄准 美 战机 海外 网 6 月 ...</td>\n",
       "      <td>0</td>\n",
       "    </tr>\n",
       "    <tr>\n",
       "      <th>21</th>\n",
       "      <td>(0, 2)\\t0.2483319032058333\\n  (0, 5)\\t0.2586...</td>\n",
       "      <td>提示 声明 本文 涉及 的 行业 及 个股 分析 来源于 券商 研究 报告 仅为 分析 人士...</td>\n",
       "      <td>0</td>\n",
       "    </tr>\n",
       "    <tr>\n",
       "      <th>22</th>\n",
       "      <td>(0, 2)\\t0.2483319032058333\\n  (0, 5)\\t0.2586...</td>\n",
       "      <td>就 在 这 几天 一位 微博 名为 摩卡 RQ 的 手机芯片 移动 互联网 三界 知名 独立...</td>\n",
       "      <td>0</td>\n",
       "    </tr>\n",
       "    <tr>\n",
       "      <th>23</th>\n",
       "      <td>(0, 2)\\t0.2483319032058333\\n  (0, 5)\\t0.2586...</td>\n",
       "      <td>中证网 讯 本报记者 张怡 与 此前 两日 蓝筹股 强势 格局 不同 周五 A股 市场 主要...</td>\n",
       "      <td>0</td>\n",
       "    </tr>\n",
       "    <tr>\n",
       "      <th>24</th>\n",
       "      <td>(0, 2)\\t0.2483319032058333\\n  (0, 5)\\t0.2586...</td>\n",
       "      <td>北京 时间 6 月 20 日 江苏 苏宁 足球 俱乐部 发布 了 足协杯 第四轮 江苏 苏宁...</td>\n",
       "      <td>0</td>\n",
       "    </tr>\n",
       "    <tr>\n",
       "      <th>25</th>\n",
       "      <td>(0, 2)\\t0.2483319032058333\\n  (0, 5)\\t0.2586...</td>\n",
       "      <td>当地 时间 2017 年 6 月 17 日 土耳其 马 尼萨 省 在 土耳其 第 1 步兵 ...</td>\n",
       "      <td>0</td>\n",
       "    </tr>\n",
       "    <tr>\n",
       "      <th>26</th>\n",
       "      <td>(0, 2)\\t0.2483319032058333\\n  (0, 5)\\t0.2586...</td>\n",
       "      <td>今年 3 月份 王劲 从 百度 自动 驾驶 事业部 任上 离职 随后 创办 景驰 科技 在 ...</td>\n",
       "      <td>0</td>\n",
       "    </tr>\n",
       "    <tr>\n",
       "      <th>27</th>\n",
       "      <td>(0, 2)\\t0.2483319032058333\\n  (0, 5)\\t0.2586...</td>\n",
       "      <td>英国 与 欧盟 的 脱欧 谈判 于 19 日 正式 开始 然而 此时 英国首相 特雷莎 梅正...</td>\n",
       "      <td>0</td>\n",
       "    </tr>\n",
       "    <tr>\n",
       "      <th>28</th>\n",
       "      <td>(0, 2)\\t0.2483319032058333\\n  (0, 5)\\t0.2586...</td>\n",
       "      <td>中超联赛 第 13 轮 比赛 已经 全部 结束 这轮 比赛 中 最让人 觉得 结果 有些 出...</td>\n",
       "      <td>0</td>\n",
       "    </tr>\n",
       "    <tr>\n",
       "      <th>29</th>\n",
       "      <td>(0, 2)\\t0.2483319032058333\\n  (0, 5)\\t0.2586...</td>\n",
       "      <td>文章 导读 供应商 围堵 追债 20 多位 高管 离职 上千人 被 裁员 孤注一掷 史上 最...</td>\n",
       "      <td>0</td>\n",
       "    </tr>\n",
       "    <tr>\n",
       "      <th>...</th>\n",
       "      <td>...</td>\n",
       "      <td>...</td>\n",
       "      <td>...</td>\n",
       "    </tr>\n",
       "    <tr>\n",
       "      <th>86837</th>\n",
       "      <td>(0, 2)\\t0.2483319032058333\\n  (0, 5)\\t0.2586...</td>\n",
       "      <td>新华社 照片 外代 2017 年 6 月 7 日 n 外代 二线 足球 世 预赛 葡萄牙 备...</td>\n",
       "      <td>1</td>\n",
       "    </tr>\n",
       "    <tr>\n",
       "      <th>86838</th>\n",
       "      <td>(0, 2)\\t0.2483319032058333\\n  (0, 5)\\t0.2586...</td>\n",
       "      <td>新华社 照片 外代 2017 年 6 月 7 日 n 外代 二线 足球 世 预赛 葡萄牙 备...</td>\n",
       "      <td>1</td>\n",
       "    </tr>\n",
       "    <tr>\n",
       "      <th>86839</th>\n",
       "      <td>(0, 2)\\t0.2483319032058333\\n  (0, 5)\\t0.2586...</td>\n",
       "      <td>新华社 照片 外代 2017 年 6 月 7 日 n 外代 二线 足球 世 预赛 葡萄牙 备...</td>\n",
       "      <td>1</td>\n",
       "    </tr>\n",
       "    <tr>\n",
       "      <th>86840</th>\n",
       "      <td>(0, 2)\\t0.2483319032058333\\n  (0, 5)\\t0.2586...</td>\n",
       "      <td>新华社 照片 外代 2017 年 6 月 7 日 n 外代 二线 足球 世 预赛 葡萄牙 备...</td>\n",
       "      <td>1</td>\n",
       "    </tr>\n",
       "    <tr>\n",
       "      <th>86841</th>\n",
       "      <td>(0, 2)\\t0.2483319032058333\\n  (0, 5)\\t0.2586...</td>\n",
       "      <td>新华社 照片 外代 2017 年 6 月 7 日 n 外代 二线 足球 世 预赛 葡萄牙 备...</td>\n",
       "      <td>1</td>\n",
       "    </tr>\n",
       "    <tr>\n",
       "      <th>86842</th>\n",
       "      <td>(0, 2)\\t0.2483319032058333\\n  (0, 5)\\t0.2586...</td>\n",
       "      <td>新华社 照片 外代 2017 年 6 月 7 日 n 外代 二线 足球 世 预赛 葡萄牙 备...</td>\n",
       "      <td>1</td>\n",
       "    </tr>\n",
       "    <tr>\n",
       "      <th>86843</th>\n",
       "      <td>(0, 2)\\t0.2483319032058333\\n  (0, 5)\\t0.2586...</td>\n",
       "      <td>新华社 照片 外代 2017 年 6 月 7 日 n 外代 二线 蚕丝 生产 n6 月 6 ...</td>\n",
       "      <td>1</td>\n",
       "    </tr>\n",
       "    <tr>\n",
       "      <th>86844</th>\n",
       "      <td>(0, 2)\\t0.2483319032058333\\n  (0, 5)\\t0.2586...</td>\n",
       "      <td>新华社 照片 外代 2017 年 6 月 7 日 n 外代 二线 蚕丝 生产 n6 月 6 ...</td>\n",
       "      <td>1</td>\n",
       "    </tr>\n",
       "    <tr>\n",
       "      <th>86845</th>\n",
       "      <td>(0, 2)\\t0.2483319032058333\\n  (0, 5)\\t0.2586...</td>\n",
       "      <td>新华社 照片 外代 2017 年 6 月 7 日 n 外代 二线 蚕丝 生产 n5 月 30...</td>\n",
       "      <td>1</td>\n",
       "    </tr>\n",
       "    <tr>\n",
       "      <th>86846</th>\n",
       "      <td>(0, 2)\\t0.2483319032058333\\n  (0, 5)\\t0.2586...</td>\n",
       "      <td>新华社 照片 外代 2017 年 6 月 7 日 n 外代 二线 蚕丝 生产 n6 月 6 ...</td>\n",
       "      <td>1</td>\n",
       "    </tr>\n",
       "    <tr>\n",
       "      <th>86847</th>\n",
       "      <td>(0, 2)\\t0.2483319032058333\\n  (0, 5)\\t0.2586...</td>\n",
       "      <td>新华社 照片 外代 2017 年 6 月 7 日 n 外代 二线 蚕丝 生产 n5 月 30...</td>\n",
       "      <td>1</td>\n",
       "    </tr>\n",
       "    <tr>\n",
       "      <th>86848</th>\n",
       "      <td>(0, 2)\\t0.2483319032058333\\n  (0, 5)\\t0.2586...</td>\n",
       "      <td>nn2017 年 4 月 27 日 在 首尔 光化 门 广场 民众 在 集会 上 手举 反萨...</td>\n",
       "      <td>1</td>\n",
       "    </tr>\n",
       "    <tr>\n",
       "      <th>86849</th>\n",
       "      <td>(0, 2)\\t0.2483319032058333\\n  (0, 5)\\t0.2586...</td>\n",
       "      <td>n 新华社 巴格达 6 月 6 日电 记者 魏玉栋 程帅 朋 伊拉克 西部 安巴尔 省 一处...</td>\n",
       "      <td>1</td>\n",
       "    </tr>\n",
       "    <tr>\n",
       "      <th>86850</th>\n",
       "      <td>(0, 2)\\t0.2483319032058333\\n  (0, 5)\\t0.2586...</td>\n",
       "      <td>新华社 照片 外代 2017 年 6 月 7 日 n 外代 二线 足球 国际 友谊赛 德国 ...</td>\n",
       "      <td>1</td>\n",
       "    </tr>\n",
       "    <tr>\n",
       "      <th>86851</th>\n",
       "      <td>(0, 2)\\t0.2483319032058333\\n  (0, 5)\\t0.2586...</td>\n",
       "      <td>新华社 照片 外代 2017 年 6 月 7 日 n 外代 二线 足球 国际 友谊赛 德国 ...</td>\n",
       "      <td>1</td>\n",
       "    </tr>\n",
       "    <tr>\n",
       "      <th>86852</th>\n",
       "      <td>(0, 2)\\t0.2483319032058333\\n  (0, 5)\\t0.2586...</td>\n",
       "      <td>新华社 照片 外代 2017 年 6 月 7 日 n 外代 二线 足球 国际 友谊赛 德国 ...</td>\n",
       "      <td>1</td>\n",
       "    </tr>\n",
       "    <tr>\n",
       "      <th>86853</th>\n",
       "      <td>(0, 2)\\t0.2483319032058333\\n  (0, 5)\\t0.2586...</td>\n",
       "      <td>新华社 照片 外代 2017 年 6 月 7 日 n 外代 二线 足球 国际 友谊赛 德国 ...</td>\n",
       "      <td>1</td>\n",
       "    </tr>\n",
       "    <tr>\n",
       "      <th>86854</th>\n",
       "      <td>(0, 2)\\t0.2483319032058333\\n  (0, 5)\\t0.2586...</td>\n",
       "      <td>新华社 照片 外代 2017 年 6 月 7 日 n 外代 二线 足球 国际 友谊赛 德国 ...</td>\n",
       "      <td>1</td>\n",
       "    </tr>\n",
       "    <tr>\n",
       "      <th>86855</th>\n",
       "      <td>(0, 2)\\t0.2483319032058333\\n  (0, 5)\\t0.2586...</td>\n",
       "      <td>新华社 照片 外代 2017 年 6 月 7 日 n 外代 二线 足球 国际 友谊赛 德国 ...</td>\n",
       "      <td>1</td>\n",
       "    </tr>\n",
       "    <tr>\n",
       "      <th>86856</th>\n",
       "      <td>(0, 2)\\t0.2483319032058333\\n  (0, 5)\\t0.2586...</td>\n",
       "      <td>新华社 照片 外代 2017 年 6 月 7 日 n 外代 二线 足球 国际 友谊赛 德国 ...</td>\n",
       "      <td>1</td>\n",
       "    </tr>\n",
       "    <tr>\n",
       "      <th>86857</th>\n",
       "      <td>(0, 2)\\t0.2483319032058333\\n  (0, 5)\\t0.2586...</td>\n",
       "      <td>新华社 照片 外代 2017 年 6 月 7 日 n 外代 二线 足球 国际 友谊赛 德国 ...</td>\n",
       "      <td>1</td>\n",
       "    </tr>\n",
       "    <tr>\n",
       "      <th>86858</th>\n",
       "      <td>(0, 2)\\t0.2483319032058333\\n  (0, 5)\\t0.2586...</td>\n",
       "      <td>新华社 照片 外代 2017 年 6 月 7 日 n 外代 二线 足球 国际 友谊赛 德国 ...</td>\n",
       "      <td>1</td>\n",
       "    </tr>\n",
       "    <tr>\n",
       "      <th>86859</th>\n",
       "      <td>(0, 2)\\t0.2483319032058333\\n  (0, 5)\\t0.2586...</td>\n",
       "      <td>新华社 照片 北京 2017 年 6 月 7 日 n 电影 血战 湘江 举行 清华大学 巡映...</td>\n",
       "      <td>1</td>\n",
       "    </tr>\n",
       "    <tr>\n",
       "      <th>86860</th>\n",
       "      <td>(0, 2)\\t0.2483319032058333\\n  (0, 5)\\t0.2586...</td>\n",
       "      <td>新华社 照片 北京 2017 年 6 月 7 日 n 电影 血战 湘江 举行 清华大学 巡映...</td>\n",
       "      <td>1</td>\n",
       "    </tr>\n",
       "    <tr>\n",
       "      <th>86861</th>\n",
       "      <td>(0, 2)\\t0.2483319032058333\\n  (0, 5)\\t0.2586...</td>\n",
       "      <td>新华社 照片 北京 2017 年 6 月 7 日 n 电影 血战 湘江 举行 清华大学 巡映...</td>\n",
       "      <td>1</td>\n",
       "    </tr>\n",
       "    <tr>\n",
       "      <th>86862</th>\n",
       "      <td>(0, 2)\\t0.2483319032058333\\n  (0, 5)\\t0.2586...</td>\n",
       "      <td>新华社 照片 多伦多 2017 年 6 月 7 日 n 体育 2 冰球 国家 女子 冰球队 ...</td>\n",
       "      <td>1</td>\n",
       "    </tr>\n",
       "    <tr>\n",
       "      <th>86863</th>\n",
       "      <td>(0, 2)\\t0.2483319032058333\\n  (0, 5)\\t0.2586...</td>\n",
       "      <td>新华社 兰州 6 月 3 日电 王衡 徐丹 记者 从 甘肃省 交通运输 厅 获悉 甘肃 近日...</td>\n",
       "      <td>1</td>\n",
       "    </tr>\n",
       "    <tr>\n",
       "      <th>86864</th>\n",
       "      <td>(0, 2)\\t0.2483319032058333\\n  (0, 5)\\t0.2586...</td>\n",
       "      <td>nn2017 年 5 月 29 日 在 法国巴黎 郊外 的 凡尔赛宫 法国 总统 马克 龙 ...</td>\n",
       "      <td>1</td>\n",
       "    </tr>\n",
       "    <tr>\n",
       "      <th>86865</th>\n",
       "      <td>(0, 2)\\t0.2483319032058333\\n  (0, 5)\\t0.2586...</td>\n",
       "      <td>nn2017 年 5 月 25 日 在 美国 马萨诸塞州 剑桥市 哈佛大学 毕业生 在 毕业...</td>\n",
       "      <td>1</td>\n",
       "    </tr>\n",
       "    <tr>\n",
       "      <th>86866</th>\n",
       "      <td>(0, 2)\\t0.2483319032058333\\n  (0, 5)\\t0.2586...</td>\n",
       "      <td>新华社 德国 杜塞尔多夫 ６ 月 ６ 日电 题 乒乓 女球迷 n 新华社 记者 王子江 张寒...</td>\n",
       "      <td>1</td>\n",
       "    </tr>\n",
       "  </tbody>\n",
       "</table>\n",
       "<p>86867 rows × 3 columns</p>\n",
       "</div>"
      ],
      "text/plain": [
       "                                                 vectors  \\\n",
       "0        (0, 2)\\t0.2483319032058333\\n  (0, 5)\\t0.2586...   \n",
       "1        (0, 2)\\t0.2483319032058333\\n  (0, 5)\\t0.2586...   \n",
       "2        (0, 2)\\t0.2483319032058333\\n  (0, 5)\\t0.2586...   \n",
       "3        (0, 2)\\t0.2483319032058333\\n  (0, 5)\\t0.2586...   \n",
       "4        (0, 2)\\t0.2483319032058333\\n  (0, 5)\\t0.2586...   \n",
       "5        (0, 2)\\t0.2483319032058333\\n  (0, 5)\\t0.2586...   \n",
       "6        (0, 2)\\t0.2483319032058333\\n  (0, 5)\\t0.2586...   \n",
       "7        (0, 2)\\t0.2483319032058333\\n  (0, 5)\\t0.2586...   \n",
       "8        (0, 2)\\t0.2483319032058333\\n  (0, 5)\\t0.2586...   \n",
       "9        (0, 2)\\t0.2483319032058333\\n  (0, 5)\\t0.2586...   \n",
       "10       (0, 2)\\t0.2483319032058333\\n  (0, 5)\\t0.2586...   \n",
       "11       (0, 2)\\t0.2483319032058333\\n  (0, 5)\\t0.2586...   \n",
       "12       (0, 2)\\t0.2483319032058333\\n  (0, 5)\\t0.2586...   \n",
       "13       (0, 2)\\t0.2483319032058333\\n  (0, 5)\\t0.2586...   \n",
       "14       (0, 2)\\t0.2483319032058333\\n  (0, 5)\\t0.2586...   \n",
       "15       (0, 2)\\t0.2483319032058333\\n  (0, 5)\\t0.2586...   \n",
       "16       (0, 2)\\t0.2483319032058333\\n  (0, 5)\\t0.2586...   \n",
       "17       (0, 2)\\t0.2483319032058333\\n  (0, 5)\\t0.2586...   \n",
       "18       (0, 2)\\t0.2483319032058333\\n  (0, 5)\\t0.2586...   \n",
       "19       (0, 2)\\t0.2483319032058333\\n  (0, 5)\\t0.2586...   \n",
       "20       (0, 2)\\t0.2483319032058333\\n  (0, 5)\\t0.2586...   \n",
       "21       (0, 2)\\t0.2483319032058333\\n  (0, 5)\\t0.2586...   \n",
       "22       (0, 2)\\t0.2483319032058333\\n  (0, 5)\\t0.2586...   \n",
       "23       (0, 2)\\t0.2483319032058333\\n  (0, 5)\\t0.2586...   \n",
       "24       (0, 2)\\t0.2483319032058333\\n  (0, 5)\\t0.2586...   \n",
       "25       (0, 2)\\t0.2483319032058333\\n  (0, 5)\\t0.2586...   \n",
       "26       (0, 2)\\t0.2483319032058333\\n  (0, 5)\\t0.2586...   \n",
       "27       (0, 2)\\t0.2483319032058333\\n  (0, 5)\\t0.2586...   \n",
       "28       (0, 2)\\t0.2483319032058333\\n  (0, 5)\\t0.2586...   \n",
       "29       (0, 2)\\t0.2483319032058333\\n  (0, 5)\\t0.2586...   \n",
       "...                                                  ...   \n",
       "86837    (0, 2)\\t0.2483319032058333\\n  (0, 5)\\t0.2586...   \n",
       "86838    (0, 2)\\t0.2483319032058333\\n  (0, 5)\\t0.2586...   \n",
       "86839    (0, 2)\\t0.2483319032058333\\n  (0, 5)\\t0.2586...   \n",
       "86840    (0, 2)\\t0.2483319032058333\\n  (0, 5)\\t0.2586...   \n",
       "86841    (0, 2)\\t0.2483319032058333\\n  (0, 5)\\t0.2586...   \n",
       "86842    (0, 2)\\t0.2483319032058333\\n  (0, 5)\\t0.2586...   \n",
       "86843    (0, 2)\\t0.2483319032058333\\n  (0, 5)\\t0.2586...   \n",
       "86844    (0, 2)\\t0.2483319032058333\\n  (0, 5)\\t0.2586...   \n",
       "86845    (0, 2)\\t0.2483319032058333\\n  (0, 5)\\t0.2586...   \n",
       "86846    (0, 2)\\t0.2483319032058333\\n  (0, 5)\\t0.2586...   \n",
       "86847    (0, 2)\\t0.2483319032058333\\n  (0, 5)\\t0.2586...   \n",
       "86848    (0, 2)\\t0.2483319032058333\\n  (0, 5)\\t0.2586...   \n",
       "86849    (0, 2)\\t0.2483319032058333\\n  (0, 5)\\t0.2586...   \n",
       "86850    (0, 2)\\t0.2483319032058333\\n  (0, 5)\\t0.2586...   \n",
       "86851    (0, 2)\\t0.2483319032058333\\n  (0, 5)\\t0.2586...   \n",
       "86852    (0, 2)\\t0.2483319032058333\\n  (0, 5)\\t0.2586...   \n",
       "86853    (0, 2)\\t0.2483319032058333\\n  (0, 5)\\t0.2586...   \n",
       "86854    (0, 2)\\t0.2483319032058333\\n  (0, 5)\\t0.2586...   \n",
       "86855    (0, 2)\\t0.2483319032058333\\n  (0, 5)\\t0.2586...   \n",
       "86856    (0, 2)\\t0.2483319032058333\\n  (0, 5)\\t0.2586...   \n",
       "86857    (0, 2)\\t0.2483319032058333\\n  (0, 5)\\t0.2586...   \n",
       "86858    (0, 2)\\t0.2483319032058333\\n  (0, 5)\\t0.2586...   \n",
       "86859    (0, 2)\\t0.2483319032058333\\n  (0, 5)\\t0.2586...   \n",
       "86860    (0, 2)\\t0.2483319032058333\\n  (0, 5)\\t0.2586...   \n",
       "86861    (0, 2)\\t0.2483319032058333\\n  (0, 5)\\t0.2586...   \n",
       "86862    (0, 2)\\t0.2483319032058333\\n  (0, 5)\\t0.2586...   \n",
       "86863    (0, 2)\\t0.2483319032058333\\n  (0, 5)\\t0.2586...   \n",
       "86864    (0, 2)\\t0.2483319032058333\\n  (0, 5)\\t0.2586...   \n",
       "86865    (0, 2)\\t0.2483319032058333\\n  (0, 5)\\t0.2586...   \n",
       "86866    (0, 2)\\t0.2483319032058333\\n  (0, 5)\\t0.2586...   \n",
       "\n",
       "                                                 content  y  \n",
       "0      此外 自 本周 6 月 12 日起 除 小米 手机 6 等 15 款 机型 外 其余 机型 ...  0  \n",
       "1      骁龙 835 作为 唯一 通过 Windows10 桌面 平台 认证 的 ARM 处理器 高...  0  \n",
       "2      此前 的 一加 3T 搭载 的 是 3400mAh 电池 DashCharge 快充 规格 ...  0  \n",
       "3      这是 6 月 18 日 在 葡萄牙 中部 大 佩德罗 冈 地区 拍摄 的 被 森林 大火 烧...  1  \n",
       "4      原 标题 44 岁 女子 跑 深圳 约会 网友 被 拒 暴雨 中 裸身 奔走 深圳 交警 微...  0  \n",
       "5      受到 A股 被 纳入 MSCI 指数 的 利好 消息 刺激 A股 市场 从 周三 开始 再度...  0  \n",
       "6      虽然 至今 夏普 智能手机 在 市场 上 无法 排得 上 号 已经 完全 没落 并于 201...  0  \n",
       "7      沙漠 雄鹰 震荡 有利 消化 套牢 筹码 周四 开盘 上证 50 在 银行 券商 大 蓝筹 ...  0  \n",
       "8      原 标题 武汉 警方 一下子 抓 了 808 人 还 都 是 俊男靓女 原来 他们 每天 偷...  0  \n",
       "9      6 月 21 日 A股 纳入 MSCI 指数 尘埃落定 但 当天 被 寄予厚望 的 券商 股...  0  \n",
       "10     证券时报 网 wwwstcncom06 月 23 日讯据 上证 报道 6 月初 以来 创业板...  0  \n",
       "11     巨丰 早评 市场 将 再次 探底 巨丰 观点 周四 大盘 冲高 回落 2500 余 只 个股...  0  \n",
       "12     中新网 6 月 19 日电 据 外媒 报道 美国 底特律 一名 男子 1976 年 因为 一...  0  \n",
       "13     曹 先生 风格 转换 前 的 阵痛 今日 早盘 两地 低开 之后 一度 震荡 走 高领 涨 ...  0  \n",
       "14     6 月 21 日 MSCI 在 官网 发布公告 称 从 明年 6 月 起 将 中国 A股 纳...  0  \n",
       "15     中国 证券网 讯 记者 费 天元 沪 深 两市 周五 临近 午盘 出现 快速 跳水 沪 指 ...  0  \n",
       "16     九成 以上 的 源 包用 逐位 对应 的 方式 构建 未来 版本 的 Debian 还 将 ...  0  \n",
       "17     国歌 法 草案 首次 提请 最高 立法机关 审议 点击 图片 进入 下 一页 新闻 十二届 ...  0  \n",
       "18     中证网 讯 本报记者 张怡 今日 三板 做市 指数 继续 低开 下行 盘中 最低 触及 10...  0  \n",
       "19     提示 声明 本文 涉及 的 行业 及 个股 分析 来源于 券商 研究 报告 仅为 分析 人士...  0  \n",
       "20     原 标题 叙利亚 被 袭机 事件 惹怒 俄罗斯 警告 将 瞄准 美 战机 海外 网 6 月 ...  0  \n",
       "21     提示 声明 本文 涉及 的 行业 及 个股 分析 来源于 券商 研究 报告 仅为 分析 人士...  0  \n",
       "22     就 在 这 几天 一位 微博 名为 摩卡 RQ 的 手机芯片 移动 互联网 三界 知名 独立...  0  \n",
       "23     中证网 讯 本报记者 张怡 与 此前 两日 蓝筹股 强势 格局 不同 周五 A股 市场 主要...  0  \n",
       "24     北京 时间 6 月 20 日 江苏 苏宁 足球 俱乐部 发布 了 足协杯 第四轮 江苏 苏宁...  0  \n",
       "25     当地 时间 2017 年 6 月 17 日 土耳其 马 尼萨 省 在 土耳其 第 1 步兵 ...  0  \n",
       "26     今年 3 月份 王劲 从 百度 自动 驾驶 事业部 任上 离职 随后 创办 景驰 科技 在 ...  0  \n",
       "27     英国 与 欧盟 的 脱欧 谈判 于 19 日 正式 开始 然而 此时 英国首相 特雷莎 梅正...  0  \n",
       "28     中超联赛 第 13 轮 比赛 已经 全部 结束 这轮 比赛 中 最让人 觉得 结果 有些 出...  0  \n",
       "29     文章 导读 供应商 围堵 追债 20 多位 高管 离职 上千人 被 裁员 孤注一掷 史上 最...  0  \n",
       "...                                                  ... ..  \n",
       "86837  新华社 照片 外代 2017 年 6 月 7 日 n 外代 二线 足球 世 预赛 葡萄牙 备...  1  \n",
       "86838  新华社 照片 外代 2017 年 6 月 7 日 n 外代 二线 足球 世 预赛 葡萄牙 备...  1  \n",
       "86839  新华社 照片 外代 2017 年 6 月 7 日 n 外代 二线 足球 世 预赛 葡萄牙 备...  1  \n",
       "86840  新华社 照片 外代 2017 年 6 月 7 日 n 外代 二线 足球 世 预赛 葡萄牙 备...  1  \n",
       "86841  新华社 照片 外代 2017 年 6 月 7 日 n 外代 二线 足球 世 预赛 葡萄牙 备...  1  \n",
       "86842  新华社 照片 外代 2017 年 6 月 7 日 n 外代 二线 足球 世 预赛 葡萄牙 备...  1  \n",
       "86843  新华社 照片 外代 2017 年 6 月 7 日 n 外代 二线 蚕丝 生产 n6 月 6 ...  1  \n",
       "86844  新华社 照片 外代 2017 年 6 月 7 日 n 外代 二线 蚕丝 生产 n6 月 6 ...  1  \n",
       "86845  新华社 照片 外代 2017 年 6 月 7 日 n 外代 二线 蚕丝 生产 n5 月 30...  1  \n",
       "86846  新华社 照片 外代 2017 年 6 月 7 日 n 外代 二线 蚕丝 生产 n6 月 6 ...  1  \n",
       "86847  新华社 照片 外代 2017 年 6 月 7 日 n 外代 二线 蚕丝 生产 n5 月 30...  1  \n",
       "86848  nn2017 年 4 月 27 日 在 首尔 光化 门 广场 民众 在 集会 上 手举 反萨...  1  \n",
       "86849  n 新华社 巴格达 6 月 6 日电 记者 魏玉栋 程帅 朋 伊拉克 西部 安巴尔 省 一处...  1  \n",
       "86850  新华社 照片 外代 2017 年 6 月 7 日 n 外代 二线 足球 国际 友谊赛 德国 ...  1  \n",
       "86851  新华社 照片 外代 2017 年 6 月 7 日 n 外代 二线 足球 国际 友谊赛 德国 ...  1  \n",
       "86852  新华社 照片 外代 2017 年 6 月 7 日 n 外代 二线 足球 国际 友谊赛 德国 ...  1  \n",
       "86853  新华社 照片 外代 2017 年 6 月 7 日 n 外代 二线 足球 国际 友谊赛 德国 ...  1  \n",
       "86854  新华社 照片 外代 2017 年 6 月 7 日 n 外代 二线 足球 国际 友谊赛 德国 ...  1  \n",
       "86855  新华社 照片 外代 2017 年 6 月 7 日 n 外代 二线 足球 国际 友谊赛 德国 ...  1  \n",
       "86856  新华社 照片 外代 2017 年 6 月 7 日 n 外代 二线 足球 国际 友谊赛 德国 ...  1  \n",
       "86857  新华社 照片 外代 2017 年 6 月 7 日 n 外代 二线 足球 国际 友谊赛 德国 ...  1  \n",
       "86858  新华社 照片 外代 2017 年 6 月 7 日 n 外代 二线 足球 国际 友谊赛 德国 ...  1  \n",
       "86859  新华社 照片 北京 2017 年 6 月 7 日 n 电影 血战 湘江 举行 清华大学 巡映...  1  \n",
       "86860  新华社 照片 北京 2017 年 6 月 7 日 n 电影 血战 湘江 举行 清华大学 巡映...  1  \n",
       "86861  新华社 照片 北京 2017 年 6 月 7 日 n 电影 血战 湘江 举行 清华大学 巡映...  1  \n",
       "86862  新华社 照片 多伦多 2017 年 6 月 7 日 n 体育 2 冰球 国家 女子 冰球队 ...  1  \n",
       "86863  新华社 兰州 6 月 3 日电 王衡 徐丹 记者 从 甘肃省 交通运输 厅 获悉 甘肃 近日...  1  \n",
       "86864  nn2017 年 5 月 29 日 在 法国巴黎 郊外 的 凡尔赛宫 法国 总统 马克 龙 ...  1  \n",
       "86865  nn2017 年 5 月 25 日 在 美国 马萨诸塞州 剑桥市 哈佛大学 毕业生 在 毕业...  1  \n",
       "86866  新华社 德国 杜塞尔多夫 ６ 月 ６ 日电 题 乒乓 女球迷 n 新华社 记者 王子江 张寒...  1  \n",
       "\n",
       "[86867 rows x 3 columns]"
      ]
     },
     "execution_count": 144,
     "metadata": {},
     "output_type": "execute_result"
    }
   ],
   "source": [
    "df_pro"
   ]
  },
  {
   "cell_type": "markdown",
   "metadata": {},
   "source": [
    "### Step4: 参考scikit-learning的方法，构建你的第一个机器学习模型"
   ]
  },
  {
   "cell_type": "markdown",
   "metadata": {},
   "source": [
    "+ 按照课程讲解的内容，把数据集分割为 traning_data, validation_data, test_data. https://scikit-learn.org/stable/modules/generated/sklearn.model_selection.train_test_split.html"
   ]
  },
  {
   "cell_type": "code",
   "execution_count": 145,
   "metadata": {},
   "outputs": [],
   "source": [
    "y = df_pro['y']"
   ]
  },
  {
   "cell_type": "code",
   "execution_count": 146,
   "metadata": {},
   "outputs": [],
   "source": [
    "from sklearn.model_selection import train_test_split"
   ]
  },
  {
   "cell_type": "code",
   "execution_count": 163,
   "metadata": {},
   "outputs": [],
   "source": [
    "x_train,x_test,y_train,y_test = train_test_split(X,y,test_size=0.2,random_state=42)"
   ]
  },
  {
   "cell_type": "code",
   "execution_count": 167,
   "metadata": {
    "scrolled": true
   },
   "outputs": [
    {
     "data": {
      "text/plain": [
       "((69493, 300), (17374, 300))"
      ]
     },
     "execution_count": 167,
     "metadata": {},
     "output_type": "execute_result"
    }
   ],
   "source": [
    "x_train.shape,x_test.shape"
   ]
  },
  {
   "cell_type": "markdown",
   "metadata": {},
   "source": [
    "## logisticRegression"
   ]
  },
  {
   "cell_type": "code",
   "execution_count": 159,
   "metadata": {},
   "outputs": [],
   "source": [
    "from sklearn.linear_model import LogisticRegression"
   ]
  },
  {
   "cell_type": "code",
   "execution_count": 160,
   "metadata": {},
   "outputs": [],
   "source": [
    "clf = LogisticRegression()"
   ]
  },
  {
   "cell_type": "code",
   "execution_count": 168,
   "metadata": {
    "scrolled": true
   },
   "outputs": [
    {
     "name": "stderr",
     "output_type": "stream",
     "text": [
      "D:\\ProgramData\\Anaconda3\\lib\\site-packages\\sklearn\\linear_model\\logistic.py:433: FutureWarning: Default solver will be changed to 'lbfgs' in 0.22. Specify a solver to silence this warning.\n",
      "  FutureWarning)\n"
     ]
    },
    {
     "data": {
      "text/plain": [
       "LogisticRegression(C=1.0, class_weight=None, dual=False, fit_intercept=True,\n",
       "          intercept_scaling=1, max_iter=100, multi_class='warn',\n",
       "          n_jobs=None, penalty='l2', random_state=None, solver='warn',\n",
       "          tol=0.0001, verbose=0, warm_start=False)"
      ]
     },
     "execution_count": 168,
     "metadata": {},
     "output_type": "execute_result"
    }
   ],
   "source": [
    "clf.fit(x_train,y_train)"
   ]
  },
  {
   "cell_type": "code",
   "execution_count": 169,
   "metadata": {},
   "outputs": [
    {
     "name": "stdout",
     "output_type": "stream",
     "text": [
      "[-0.39913196] [[-2.93919648e+00 -5.37511633e-01 -2.60587661e+00 -2.72193596e+00\n",
      "  -2.55686534e+00 -2.83021742e+00 -1.97280386e+00 -9.54395526e-01\n",
      "  -2.20754108e+00 -4.83411136e+00 -4.44975356e+00 -1.94832313e+00\n",
      "   1.67231793e-01  3.99457687e-01 -4.49530844e+00 -4.28623722e+00\n",
      "  -4.00716040e+00 -7.13175165e-02 -7.87447918e-01  1.50183359e+00\n",
      "   3.65590762e-01 -3.87917472e-01 -1.38977849e+00  5.34282512e-01\n",
      "   5.89607218e+00  6.31861040e+00  1.53785054e+01  6.71378874e+00\n",
      "  -1.16663610e+00  7.31096439e-01  1.05200986e+00  2.98761771e+00\n",
      "  -3.57548458e-01  1.56940083e+00 -1.06982550e-01  1.21666769e+00\n",
      "   2.37295541e-02 -2.81727332e-01 -1.64606667e-01  5.53948906e-01\n",
      "   1.15140721e+00  2.42346238e-01 -6.46361292e-01  7.76072184e-01\n",
      "   2.65216752e-01 -3.36212409e-01  8.86090050e-01  1.94103009e+00\n",
      "   5.91175200e-01  1.15755389e+00 -1.07000899e+00  7.06111090e-01\n",
      "   1.79239528e+00  4.83869434e-01 -9.83546803e-02 -1.06975014e-01\n",
      "   1.66593523e+00  6.76782005e-01  1.80551568e+00 -9.37559645e-01\n",
      "   1.27820353e-01  1.58043719e-02  3.60330518e-01 -9.01624260e-01\n",
      "   7.94676160e-02 -1.41158746e+00 -3.82302886e-01  3.94573818e-02\n",
      "   6.23086853e-01  1.18609670e+00  8.44865608e-01  2.73302252e+00\n",
      "  -1.14270758e+00 -3.86110332e-01  1.14753714e+00  2.91009495e-01\n",
      "   1.10354150e+00  1.93588942e-01  9.65142908e-01  7.07931294e-01\n",
      "  -8.66000055e-02 -8.24053370e-01 -4.54982981e-01 -7.67928393e-01\n",
      "   4.21605286e-01 -8.89824672e-01 -6.15546972e-01 -7.08647326e-01\n",
      "  -3.56691077e-01 -2.56120171e+00  7.59296236e-01  1.76193473e+00\n",
      "  -8.14271716e-01 -1.94127791e-01 -4.66526280e-01  1.33833300e+00\n",
      "  -3.60759176e-01  2.09244465e+00  4.26087934e-01  6.01574153e-01\n",
      "   3.94069614e-02  4.95543139e-02  3.39071151e-02 -2.43635665e-02\n",
      "   2.32208123e-02 -3.28429253e-01  8.44036073e-02  2.91178775e-01\n",
      "  -1.03056660e+00 -9.02875138e-01 -2.81550677e-01  7.24711986e-01\n",
      "  -1.24043257e-01 -2.53741040e-01 -4.67755205e-01 -1.19988703e+00\n",
      "   2.49277969e-01  1.22639958e+00  7.84675947e-01  3.63781807e-02\n",
      "  -3.73372978e-01  3.40756428e-01  1.24018434e+00  3.14209511e+00\n",
      "  -1.13895994e+00  1.88780424e+00 -6.94156494e-01  2.99809724e-01\n",
      "   2.45857930e-01  8.81606311e-01  5.91097212e-01  8.98636630e-02\n",
      "   4.25026237e-01  1.00616998e-03 -1.58992119e-01  7.23567796e-02\n",
      "  -2.00889780e+00 -1.44005385e+00  7.85786652e-01 -2.44825373e-01\n",
      "   5.11837866e-01 -1.28123660e+00  9.44556661e-01 -9.72355802e-01\n",
      "   9.10267670e-01 -8.70412325e-01  3.11776916e-01 -1.85992270e-01\n",
      "   1.32460324e+00 -1.38983584e+00 -9.95773983e-01  6.28190594e-01\n",
      "  -4.57557004e-01  1.74527920e+00  1.98136111e+00  2.11304960e+00\n",
      "   4.21789749e-02  2.91189114e-01 -8.03339048e-02  1.29045788e+00\n",
      "   2.45986039e+00 -5.96932595e-01 -3.28631127e-01 -3.10812516e-01\n",
      "  -9.43014748e-02  3.09114414e+00 -8.14078380e-01  6.80617645e-01\n",
      "   1.65909758e+00  5.96032841e-01 -1.58270469e-01  7.03250025e-01\n",
      "  -2.67843620e+00  1.92388809e+00  1.92639840e-02 -5.99624430e-01\n",
      "   4.99001221e-01  8.66385332e-01  3.95784175e-02  2.24163041e-02\n",
      "   2.08323603e-01 -4.91572923e-01  4.92262207e-01  6.28825307e-02\n",
      "   8.59153988e-01  8.42251727e-01 -2.78039238e-01  1.42067016e-01\n",
      "   5.67269064e-01  6.14910778e-01  5.41372151e+00  3.89655134e+01\n",
      "   1.05487336e+00 -1.53103338e-01 -5.72867102e-01 -1.96949142e-01\n",
      "   3.90856102e-01  1.88873583e+01  1.23674994e+00 -4.26560682e-01\n",
      "   8.65956764e-01  1.16584193e+00 -3.86262916e-02 -7.82502356e-01\n",
      "  -1.69685631e-01 -4.03867306e-01  4.29521936e-02  5.93710544e-01\n",
      "   2.69756895e-01 -4.24335105e-01  1.20346745e+00 -1.21516881e+00\n",
      "   5.09166095e-01  1.95122420e-01 -5.65204399e-01  1.11970708e+00\n",
      "  -1.16833532e+00  1.33536825e+00  1.86715675e-01 -1.16904096e+00\n",
      "   9.12816430e-01  8.65035124e-01 -7.20910100e-01  1.77499893e+00\n",
      "   9.12835720e-01  4.71042891e+00  1.18658730e+00  2.04453164e-01\n",
      "  -1.11925528e+00 -1.07330108e+00 -4.84457362e-01  9.88830530e-01\n",
      "   5.96034393e-01 -9.96247420e-01 -4.51742051e-01 -1.08722682e+00\n",
      "   1.50516231e+00  7.82400364e-01 -1.26497835e-01 -7.18132408e-01\n",
      "   2.65438741e-01 -2.76875806e-01  5.52554712e-01 -2.46450313e-01\n",
      "  -2.00569331e-01  1.13396442e+00  3.53169933e-01  5.17710348e-01\n",
      "  -6.66112769e-02  1.31223970e-03  1.74920685e+00 -4.75621187e-01\n",
      "  -6.18154169e-01  1.46765883e+00 -6.67786079e-01 -7.89252556e-01\n",
      "  -9.65108093e-01 -3.19322906e-01 -1.98162867e-01  1.13554509e-01\n",
      "   9.06299021e-01  1.02305197e+01 -8.22169356e-02  1.01212101e+00\n",
      "  -3.75735588e-01  2.67513096e-01 -1.60942698e-01  1.59416955e+00\n",
      "   6.28123058e-01  7.83078421e-02  5.79883504e-02 -1.36851029e+00\n",
      "  -7.42081751e-01 -5.98400358e-01  1.57207546e+00 -9.32336527e-01\n",
      "  -4.16951035e-01 -4.32576354e+00 -2.48645705e-01  1.57494035e+00\n",
      "  -2.13689417e-01  4.68794746e-01 -7.82927827e-01  5.27988450e-01\n",
      "   9.16393132e-02  4.75333965e-01 -6.53579190e-01  9.63706275e-02\n",
      "   6.10306145e-01 -3.39729629e-01 -2.36922439e-01  1.45864694e-01\n",
      "  -9.36135957e-01  5.25373273e-01  2.98155832e-01  7.34078183e-01\n",
      "   1.24514724e+00  5.28397118e-02  1.56690080e+00  9.86200994e-01]]\n"
     ]
    }
   ],
   "source": [
    "print (clf.intercept_, clf.coef_)"
   ]
  },
  {
   "cell_type": "code",
   "execution_count": 171,
   "metadata": {},
   "outputs": [],
   "source": [
    "pred = clf.predict(x_test)"
   ]
  },
  {
   "cell_type": "code",
   "execution_count": 190,
   "metadata": {
    "scrolled": true
   },
   "outputs": [
    {
     "data": {
      "text/plain": [
       "0.9767468631288132"
      ]
     },
     "execution_count": 190,
     "metadata": {},
     "output_type": "execute_result"
    }
   ],
   "source": [
    "clf.score(x_test, y_test)"
   ]
  },
  {
   "cell_type": "code",
   "execution_count": 195,
   "metadata": {},
   "outputs": [],
   "source": [
    "y_pred_clf = clf.predict(x_test)\n",
    "y_pred_clf_pro = clf.predict_proba(x_test)"
   ]
  },
  {
   "cell_type": "code",
   "execution_count": 192,
   "metadata": {
    "scrolled": true
   },
   "outputs": [
    {
     "data": {
      "text/plain": [
       "0.9822418136020151"
      ]
     },
     "execution_count": 192,
     "metadata": {},
     "output_type": "execute_result"
    }
   ],
   "source": [
    "precision_score(y_test,y_pred_clf)"
   ]
  },
  {
   "cell_type": "code",
   "execution_count": 193,
   "metadata": {
    "scrolled": true
   },
   "outputs": [
    {
     "data": {
      "text/plain": [
       "0.9922391857506361"
      ]
     },
     "execution_count": 193,
     "metadata": {},
     "output_type": "execute_result"
    }
   ],
   "source": [
    "recall_score(y_test,y_pred_clf)"
   ]
  },
  {
   "cell_type": "code",
   "execution_count": 194,
   "metadata": {},
   "outputs": [
    {
     "data": {
      "text/plain": [
       "0.9872151898734177"
      ]
     },
     "execution_count": 194,
     "metadata": {},
     "output_type": "execute_result"
    }
   ],
   "source": [
    "f1_score(y_test,y_pred_clf)"
   ]
  },
  {
   "cell_type": "code",
   "execution_count": 196,
   "metadata": {},
   "outputs": [
    {
     "data": {
      "text/plain": [
       "0.9922663194476495"
      ]
     },
     "execution_count": 196,
     "metadata": {},
     "output_type": "execute_result"
    }
   ],
   "source": [
    "roc_auc_score(y_test,y_pred_clf_pro[:,1])"
   ]
  },
  {
   "cell_type": "markdown",
   "metadata": {},
   "source": [
    "## 参照scikit learning的示例，从构建你的第一个KNN机器学习模型。"
   ]
  },
  {
   "cell_type": "code",
   "execution_count": 174,
   "metadata": {},
   "outputs": [],
   "source": [
    "from sklearn.neighbors import KNeighborsClassifier"
   ]
  },
  {
   "cell_type": "markdown",
   "metadata": {},
   "source": [
    "+ K = 5"
   ]
  },
  {
   "cell_type": "code",
   "execution_count": 175,
   "metadata": {},
   "outputs": [],
   "source": [
    "knn = KNeighborsClassifier()"
   ]
  },
  {
   "cell_type": "code",
   "execution_count": 176,
   "metadata": {},
   "outputs": [
    {
     "data": {
      "text/plain": [
       "KNeighborsClassifier(algorithm='auto', leaf_size=30, metric='minkowski',\n",
       "           metric_params=None, n_jobs=None, n_neighbors=5, p=2,\n",
       "           weights='uniform')"
      ]
     },
     "execution_count": 176,
     "metadata": {},
     "output_type": "execute_result"
    }
   ],
   "source": [
    "knn.fit(x_train,y_train)"
   ]
  },
  {
   "cell_type": "code",
   "execution_count": 177,
   "metadata": {},
   "outputs": [
    {
     "data": {
      "text/plain": [
       "0.9190744791067111"
      ]
     },
     "execution_count": 177,
     "metadata": {},
     "output_type": "execute_result"
    }
   ],
   "source": [
    "knn.score(x_test,y_test)"
   ]
  },
  {
   "cell_type": "markdown",
   "metadata": {},
   "source": [
    "### Step5: 在traning_data, validation_data, test_data 上观察其相关metric: recall, precision, f1等， 并解释其含义. "
   ]
  },
  {
   "cell_type": "code",
   "execution_count": 179,
   "metadata": {},
   "outputs": [],
   "source": [
    "# it's your time\n",
    "from sklearn.metrics import precision_score,recall_score,f1_score,roc_auc_score"
   ]
  },
  {
   "cell_type": "markdown",
   "metadata": {},
   "source": [
    "tp--将正类预测为正类（true positive）\n",
    "\n",
    "fn--将正类预测为负类（false negative）\n",
    "\n",
    "fp--将负类预测为正类（false positive）\n",
    "\n",
    "tn--将负类预测为负类（true negative）"
   ]
  },
  {
   "cell_type": "markdown",
   "metadata": {},
   "source": [
    "$$ precision = \\frac {tp}{(tp + fp)} $$"
   ]
  },
  {
   "cell_type": "markdown",
   "metadata": {},
   "source": [
    "$$ recall = \\frac {tp}{(tp + fn)}$$"
   ]
  },
  {
   "cell_type": "markdown",
   "metadata": {},
   "source": [
    "$$ f1 = \\frac{2 * (precision * recall)}{(precision + recall)}$$"
   ]
  },
  {
   "cell_type": "code",
   "execution_count": 181,
   "metadata": {},
   "outputs": [],
   "source": [
    "y_pred = knn.predict(x_test)"
   ]
  },
  {
   "cell_type": "code",
   "execution_count": 185,
   "metadata": {},
   "outputs": [],
   "source": [
    "y_pred_prob = knn.predict_proba(x_test)"
   ]
  },
  {
   "cell_type": "code",
   "execution_count": 187,
   "metadata": {},
   "outputs": [
    {
     "data": {
      "text/plain": [
       "(17374, 2)"
      ]
     },
     "execution_count": 187,
     "metadata": {},
     "output_type": "execute_result"
    }
   ],
   "source": [
    "y_pred_prob.shape"
   ]
  },
  {
   "cell_type": "code",
   "execution_count": 182,
   "metadata": {},
   "outputs": [
    {
     "data": {
      "text/plain": [
       "0.9560341531795591"
      ]
     },
     "execution_count": 182,
     "metadata": {},
     "output_type": "execute_result"
    }
   ],
   "source": [
    "precision_score(y_test,y_pred)"
   ]
  },
  {
   "cell_type": "code",
   "execution_count": 183,
   "metadata": {},
   "outputs": [
    {
     "data": {
      "text/plain": [
       "0.9544529262086514"
      ]
     },
     "execution_count": 183,
     "metadata": {},
     "output_type": "execute_result"
    }
   ],
   "source": [
    "recall_score(y_test,y_pred)"
   ]
  },
  {
   "cell_type": "code",
   "execution_count": 184,
   "metadata": {},
   "outputs": [
    {
     "data": {
      "text/plain": [
       "0.9552428853377475"
      ]
     },
     "execution_count": 184,
     "metadata": {},
     "output_type": "execute_result"
    }
   ],
   "source": [
    "f1_score(y_test,y_pred)"
   ]
  },
  {
   "cell_type": "code",
   "execution_count": 189,
   "metadata": {},
   "outputs": [
    {
     "data": {
      "text/plain": [
       "0.9066679089323131"
      ]
     },
     "execution_count": 189,
     "metadata": {},
     "output_type": "execute_result"
    }
   ],
   "source": [
    "roc_auc_score(y_test,y_pred_prob[:,1])"
   ]
  },
  {
   "cell_type": "markdown",
   "metadata": {},
   "source": [
    "### Step6: 使用 test_data 对其进行新数据的判断, 你有没"
   ]
  },
  {
   "cell_type": "markdown",
   "metadata": {},
   "source": [
    "### Step7: 调整不同的参数，观察变化"
   ]
  },
  {
   "cell_type": "markdown",
   "metadata": {},
   "source": [
    "+ K = 2"
   ]
  },
  {
   "cell_type": "code",
   "execution_count": 225,
   "metadata": {},
   "outputs": [],
   "source": [
    "knn = KNeighborsClassifier(n_neighbors=2)"
   ]
  },
  {
   "cell_type": "code",
   "execution_count": 226,
   "metadata": {
    "scrolled": true
   },
   "outputs": [
    {
     "data": {
      "text/plain": [
       "KNeighborsClassifier(algorithm='auto', leaf_size=30, metric='minkowski',\n",
       "           metric_params=None, n_jobs=None, n_neighbors=2, p=2,\n",
       "           weights='uniform')"
      ]
     },
     "execution_count": 226,
     "metadata": {},
     "output_type": "execute_result"
    }
   ],
   "source": [
    "knn.fit(x_train,y_train)"
   ]
  },
  {
   "cell_type": "code",
   "execution_count": 227,
   "metadata": {
    "scrolled": true
   },
   "outputs": [
    {
     "data": {
      "text/plain": [
       "0.9221250143893174"
      ]
     },
     "execution_count": 227,
     "metadata": {},
     "output_type": "execute_result"
    }
   ],
   "source": [
    "knn.score(x_test,y_test)"
   ]
  },
  {
   "cell_type": "code",
   "execution_count": 229,
   "metadata": {},
   "outputs": [],
   "source": [
    "y_pred = knn.predict(x_test)\n",
    "y_pred_prob = knn.predict_proba(x_test)"
   ]
  },
  {
   "cell_type": "code",
   "execution_count": 231,
   "metadata": {},
   "outputs": [
    {
     "data": {
      "text/plain": [
       "0.9685604331093862"
      ]
     },
     "execution_count": 231,
     "metadata": {},
     "output_type": "execute_result"
    }
   ],
   "source": [
    "precision_score(y_test,y_pred)"
   ]
  },
  {
   "cell_type": "code",
   "execution_count": 232,
   "metadata": {},
   "outputs": [
    {
     "data": {
      "text/plain": [
       "0.9445928753180661"
      ]
     },
     "execution_count": 232,
     "metadata": {},
     "output_type": "execute_result"
    }
   ],
   "source": [
    "recall_score(y_test,y_pred)"
   ]
  },
  {
   "cell_type": "code",
   "execution_count": 233,
   "metadata": {
    "scrolled": true
   },
   "outputs": [
    {
     "data": {
      "text/plain": [
       "0.9564265241055039"
      ]
     },
     "execution_count": 233,
     "metadata": {},
     "output_type": "execute_result"
    }
   ],
   "source": [
    "f1_score(y_test,y_pred)"
   ]
  },
  {
   "cell_type": "code",
   "execution_count": 234,
   "metadata": {},
   "outputs": [
    {
     "data": {
      "text/plain": [
       "0.8336389960647486"
      ]
     },
     "execution_count": 234,
     "metadata": {},
     "output_type": "execute_result"
    }
   ],
   "source": [
    "roc_auc_score(y_test,y_pred_prob[:,1])"
   ]
  },
  {
   "cell_type": "markdown",
   "metadata": {},
   "source": [
    "+ K = 8"
   ]
  },
  {
   "cell_type": "code",
   "execution_count": 235,
   "metadata": {},
   "outputs": [],
   "source": [
    "knn = KNeighborsClassifier(n_neighbors=8)"
   ]
  },
  {
   "cell_type": "code",
   "execution_count": 236,
   "metadata": {},
   "outputs": [
    {
     "data": {
      "text/plain": [
       "KNeighborsClassifier(algorithm='auto', leaf_size=30, metric='minkowski',\n",
       "           metric_params=None, n_jobs=None, n_neighbors=8, p=2,\n",
       "           weights='uniform')"
      ]
     },
     "execution_count": 236,
     "metadata": {},
     "output_type": "execute_result"
    }
   ],
   "source": [
    "knn.fit(x_train,y_train)"
   ]
  },
  {
   "cell_type": "code",
   "execution_count": 237,
   "metadata": {},
   "outputs": [
    {
     "data": {
      "text/plain": [
       "0.9047427190054104"
      ]
     },
     "execution_count": 237,
     "metadata": {},
     "output_type": "execute_result"
    }
   ],
   "source": [
    "knn.score(x_test,y_test)"
   ]
  },
  {
   "cell_type": "code",
   "execution_count": 244,
   "metadata": {},
   "outputs": [],
   "source": [
    "y_pred = knn.predict(x_test)\n",
    "y_pred_prob = knn.predict_proba(x_test)"
   ]
  },
  {
   "cell_type": "code",
   "execution_count": 245,
   "metadata": {},
   "outputs": [
    {
     "data": {
      "text/plain": [
       "0.9590704354070109"
      ]
     },
     "execution_count": 245,
     "metadata": {},
     "output_type": "execute_result"
    }
   ],
   "source": [
    "precision_score(y_test,y_pred)"
   ]
  },
  {
   "cell_type": "code",
   "execution_count": 246,
   "metadata": {},
   "outputs": [
    {
     "data": {
      "text/plain": [
       "0.9346055979643766"
      ]
     },
     "execution_count": 246,
     "metadata": {},
     "output_type": "execute_result"
    }
   ],
   "source": [
    "recall_score(y_test,y_pred)"
   ]
  },
  {
   "cell_type": "code",
   "execution_count": 247,
   "metadata": {},
   "outputs": [
    {
     "data": {
      "text/plain": [
       "0.9466799832468829"
      ]
     },
     "execution_count": 247,
     "metadata": {},
     "output_type": "execute_result"
    }
   ],
   "source": [
    "f1_score(y_test,y_pred)"
   ]
  },
  {
   "cell_type": "code",
   "execution_count": 248,
   "metadata": {
    "scrolled": true
   },
   "outputs": [
    {
     "data": {
      "text/plain": [
       "0.9120602456532242"
      ]
     },
     "execution_count": 248,
     "metadata": {},
     "output_type": "execute_result"
    }
   ],
   "source": [
    "roc_auc_score(y_test,y_pred_prob[:,1])"
   ]
  },
  {
   "cell_type": "markdown",
   "metadata": {},
   "source": [
    "+ 保持K = 8，以distance为权重"
   ]
  },
  {
   "cell_type": "code",
   "execution_count": 249,
   "metadata": {},
   "outputs": [],
   "source": [
    "knn = KNeighborsClassifier(n_neighbors=8,weights='distance')"
   ]
  },
  {
   "cell_type": "code",
   "execution_count": 250,
   "metadata": {},
   "outputs": [
    {
     "data": {
      "text/plain": [
       "KNeighborsClassifier(algorithm='auto', leaf_size=30, metric='minkowski',\n",
       "           metric_params=None, n_jobs=None, n_neighbors=8, p=2,\n",
       "           weights='distance')"
      ]
     },
     "execution_count": 250,
     "metadata": {},
     "output_type": "execute_result"
    }
   ],
   "source": [
    "knn.fit(x_train,y_train)"
   ]
  },
  {
   "cell_type": "code",
   "execution_count": 251,
   "metadata": {},
   "outputs": [
    {
     "data": {
      "text/plain": [
       "0.9260389087141706"
      ]
     },
     "execution_count": 251,
     "metadata": {},
     "output_type": "execute_result"
    }
   ],
   "source": [
    "knn.score(x_test,y_test)"
   ]
  },
  {
   "cell_type": "code",
   "execution_count": 252,
   "metadata": {},
   "outputs": [],
   "source": [
    "y_pred = knn.predict(x_test)\n",
    "y_pred_prob = knn.predict_proba(x_test)"
   ]
  },
  {
   "cell_type": "code",
   "execution_count": 253,
   "metadata": {},
   "outputs": [
    {
     "data": {
      "text/plain": [
       "0.9596255492581035"
      ]
     },
     "execution_count": 253,
     "metadata": {},
     "output_type": "execute_result"
    }
   ],
   "source": [
    "precision_score(y_test,y_pred)"
   ]
  },
  {
   "cell_type": "code",
   "execution_count": 254,
   "metadata": {},
   "outputs": [
    {
     "data": {
      "text/plain": [
       "0.958587786259542"
      ]
     },
     "execution_count": 254,
     "metadata": {},
     "output_type": "execute_result"
    }
   ],
   "source": [
    "recall_score(y_test,y_pred)"
   ]
  },
  {
   "cell_type": "code",
   "execution_count": 255,
   "metadata": {},
   "outputs": [
    {
     "data": {
      "text/plain": [
       "0.9591063870413392"
      ]
     },
     "execution_count": 255,
     "metadata": {},
     "output_type": "execute_result"
    }
   ],
   "source": [
    "f1_score(y_test,y_pred)"
   ]
  },
  {
   "cell_type": "code",
   "execution_count": 256,
   "metadata": {},
   "outputs": [
    {
     "data": {
      "text/plain": [
       "0.9273048835270192"
      ]
     },
     "execution_count": 256,
     "metadata": {},
     "output_type": "execute_result"
    }
   ],
   "source": [
    "roc_auc_score(y_test,y_pred_prob[:,1])"
   ]
  },
  {
   "cell_type": "markdown",
   "metadata": {},
   "source": [
    "### Step8: 不断改变参数，直到性能达到“某个”点。问：“某个”怎么定义？"
   ]
  },
  {
   "cell_type": "markdown",
   "metadata": {},
   "source": [
    "某个点就是找到一个loss减小趋势变得缓慢，但是再进行优化loss就会变大的点。"
   ]
  },
  {
   "cell_type": "markdown",
   "metadata": {},
   "source": [
    "### Step9: 找出所以预测为 1， 但是实际为 0 的文章。 作为抄袭的候选者。"
   ]
  },
  {
   "cell_type": "code",
   "execution_count": 267,
   "metadata": {
    "scrolled": true
   },
   "outputs": [],
   "source": [
    "y_predtict = clf.predict(X)"
   ]
  },
  {
   "cell_type": "code",
   "execution_count": 269,
   "metadata": {
    "scrolled": false
   },
   "outputs": [
    {
     "data": {
      "text/plain": [
       "(86867,)"
      ]
     },
     "execution_count": 269,
     "metadata": {},
     "output_type": "execute_result"
    }
   ],
   "source": [
    "y_predtict.shape"
   ]
  },
  {
   "cell_type": "code",
   "execution_count": 276,
   "metadata": {},
   "outputs": [],
   "source": [
    "df.insert(2,'y_pred',y_predtict)"
   ]
  },
  {
   "cell_type": "code",
   "execution_count": 279,
   "metadata": {},
   "outputs": [],
   "source": [
    "new_copy = df[(df.y == 0)& (df.y_pred == 1)]"
   ]
  },
  {
   "cell_type": "code",
   "execution_count": 305,
   "metadata": {},
   "outputs": [
    {
     "data": {
      "text/plain": [
       "20      原 标题 叙利亚 被 袭机 事件 惹怒 俄罗斯 警告 将 瞄准 美 战机 海外 网 6 月 ...\n",
       "51      戈壁 的 大漠 黄沙 曾 掩埋 了 无数 西域 古道 而 如今 一条 大漠 天路 正 顽强 ...\n",
       "56      很快 不少 人 主动 添加 记者 为 好友 询问 是否 需要 扫描 软件 并 声称 这些 扫...\n",
       "61      在 QQ 搜索 栏 输入 摄像头 破解 就 跳出 了 众多 相关 聊天 群 记者 随机 加入...\n",
       "63      2017 年 上海 国际 电影 电视节 包括 6 月 12 日至 16 日 举办 的 第二十...\n",
       "68      中新网 6 月 23 日电 6 月 22 日 阿里巴巴 旗下 UC 神马 搜索 主办 的 U...\n",
       "70      发现 共享 单车 花式 载人 挡泥板 当 后座 如今 共享 单车 种类 繁多 有 的 共享 ...\n",
       "94      中新网 6 月 23 日电 日前 2017 金科 健康 更好 品牌战略 发布 暨 金科 产业...\n",
       "99      中新网 成都 6 月 23 日电 记者 段 正阳 23 日 四川省 总工会 四川省 邮政 公...\n",
       "117     中新网 6 月 23 日电 保监会 副 主席 黄洪 今日 表示 中国 商业 养老保险 的 发...\n",
       "121     中新社 海口 6 月 23 日电 题 观澜湖 掌门人 朱鼎 健谈 港企 发展 要 更 国际 ...\n",
       "122     佩工 或 离开 华夏 幸福 北京 时间 6 月 16 日 英国 媒体 天空 体育 消息 称 ...\n",
       "125     经济日报 中国 经济网 记者 廉丹 香港 回归祖国 20 周年 前夕 香港特区 行政长官 梁...\n",
       "126     据 法国 媒体 footsur7 报道 法甲 豪门 巴黎 圣日耳曼 盯上 了 上海 上港 外...\n",
       "130     点击 图片 进入 下 一页 中新网 宁波 6 月 23 日电 林波夏 森森 6 月 23 日...\n",
       "132     点击 图片 进入 下 一页 原 标题 敦煌 印象 乡村 游渐 热 都市 咖啡店 老板 回乡 ...\n",
       "135     中新社 大连 6 月 23 日电 记者 杨毅 自 2007 年 以来 世界 经济 论坛 新 ...\n",
       "141     由 湖南卫视 携手 盛唐 时空 制作 南派 三叔 担任 总 编剧 的 原创 文化 探秘 节目...\n",
       "146     由 北京 卫视 重磅 推出 北京电视台 华录 百纳 蓝火 完美 世界 影视 鑫 宝源 北京 ...\n",
       "150     东方 卫视 明星 旅游 体验 综艺节目 旅途 的 花样 上 周六 播出 了 第三期 在 经历...\n",
       "152     6 月 18 日 2017 微博 电影 之夜 在 上海 盛大 召开 影片 中邪 导演 马凯 ...\n",
       "160     北京 时间 6 月 20 日 消息 女王 杯赛 展开 男单 首轮 争夺 5 号 种子 特松加...\n",
       "173     正在 中国 的 博格 巴 看来 玩得 很 开心 他 在 社交 网络 上 贴 出 了 一段 视...\n",
       "174     环球网 报道 记者 朱佩据 俄通社 塔斯社 6 月 18 日 消息 俄罗斯 总统 普京 接受...\n",
       "185     环球 科技 报道 记者 王欢 据 日本 经济 新闻 6 月 18 日 报道 韩国现代 汽车 ...\n",
       "212     原 标题 重庆 小学生 典礼 上 为 校长 打伞 校方 校长 专心 颁证 未 注意 到 小学...\n",
       "230     快件 被 擅自 放入 快递 柜后 无 电话 通知 合规 吗 中消协 近日 发布 一份 报告 ...\n",
       "231     原 标题 温州 两名 男生 在 中 考前 最后 一堂课 上 殴打 班主任 已 赔礼道歉 6 ...\n",
       "277     上海 临港 A股 跌 74 上海 电气 A股 停牌 港股 涨 05 此前 其 公告 称未 与...\n",
       "280     中国 证券网 讯 记者 费 天元 沪 深 两市 周五 双双 低开 截至 开盘 上证指数 报 ...\n",
       "                              ...                        \n",
       "8440                                               希望 还 在\n",
       "8441    原 标题 国台办 中巴 建交 是 人心所向 大势所趋 新华社 北京 6 月 13 日电 国台...\n",
       "8446    郑报 融媒 记者 覃 岩峰 史 治国 姚辉 常文图 农村 人勤 看天 劳作 清晨 不到 7 ...\n",
       "8448    新华社 北京 6 月 13 日电 中央军委 主席 习近平 日前 签署 命令 授予 驻 香港 ...\n",
       "8451    南方日报 评论员 南方 时 论 中央宣传部 中央文明办 日前 印发 关于 开展 倡导 绿色 ...\n",
       "8452    沈晓明 指出 近年来 省委 省政府 高度重视 放管服 改革 工作 各级 各 部门 积极 转变...\n",
       "8458    北京 时间 6 月 11 日 下午 河南建业 俱乐部 在 其 球队 官方 微博上 发布公告 ...\n",
       "8459    沈阳 钢琴 音乐 广场 开建 媒体 发掘 金点子 布言布语 各界 合奏 母亲河 文脉 长歌 ...\n",
       "8461    认真落实 习近平 总书记 视察 青海 时 重要讲话 精神 央企 助力 青海 持续 健康 发展...\n",
       "8465    本报讯 首席记者 杜托 记者 王俊星 报道 开放 走 四方 万里 结 友谊 昨日 上午 第二...\n",
       "8466    6 月 11 日 在 红山区 文化 广场 求职者 正 与 招聘 单位 进行 洽谈 6 月 1...\n",
       "8467    本报讯 记者 邵澜 13 日 我市 在 武汉 分会场 组织 收听 收看 国务院 和 省政府 ...\n",
       "8471    图文 立交 座座 崛起 江城 步步 提速 楚天 都市报 讯 图为 夜幕 下 的 汉阳 国博 ...\n",
       "8472    沈阳市 组织 收听 收看 全国 推进 简政放权 放管 结合 优化 服务 改革 电视电话会议 ...\n",
       "8477    中共中央国务院 出台 意见 加强 和 完善 城乡 社区 治理 新华社 北京 6 月 12 日...\n",
       "8485    据 新华社 北京 6 月 12 日电 经 中央军委 主席 习近平 批准 我军 新 设立 八一...\n",
       "8487    原 标题 四川 新娘 要 8800 下车 钱 被 新郎 暴打 当事人 乱说 昨日 开始 一段...\n",
       "8490    中央军委 主席 习近平 签署 命令 授予 驻 香港 部队 某旅 特种 作战 一连 荣誉称号 ...\n",
       "8493    新华社 北京 6 月 13 日电 记者 郝亚琳 中华人民共和国 与 巴拿马共和国 13 日 ...\n",
       "8495                    解读 省 第十一次 党代会 精神 系列 新闻 发布会 举行 第二场\n",
       "8497    本报讯 云南日报 记者 陈晓波 李绍明 本报记者 董宇虹 报道 昨日 全国 推进 简政放权 ...\n",
       "8500    在 朝 韩 军事 分界线 附近 山林 发现 的 无人机 无人机 飞行 路线 示意图 海外 网...\n",
       "8503    原 标题 2017 年 6 月 12 日 外交部 发言人 陆慷 主持 例行 记者会 问 第一...\n",
       "8524    本报讯 记者 康鹏 通讯员 周 明德 在 手机 上点 开 APP 找到 最近 的 共享 汽车...\n",
       "8526    授予 在 维护 国家主权 安全 发展 利益 推进 国防 和 军队 现代化 建设 中 建立 卓...\n",
       "8527    郑报 融媒 记者 覃 岩峰 史 治国 姚辉 常文图 夏日 的 山里 山风 清凉 在 村干部 ...\n",
       "8530    城乡 社区 是 社会 治理 的 基本 单元 城乡 社区 治理 事关 党和国家 大政方针 贯彻...\n",
       "8537    新华社 北京 6 月 12 日电 经 中央军委 主席 习近平 批准 我军 新 设立 八一 勋...\n",
       "8546    新华社 电经 中央军委 主席 习近平 批准 我军 新 设立 八一 勋章 并 组织 开展 首次...\n",
       "8549    据 新华社 北京 6 月 12 日电 经 中央军委 主席 习近平 批准 我军 新 设立 八一...\n",
       "Name: content, Length: 1305, dtype: object"
      ]
     },
     "execution_count": 305,
     "metadata": {},
     "output_type": "execute_result"
    }
   ],
   "source": [
    "new_copy['content']"
   ]
  },
  {
   "cell_type": "code",
   "execution_count": 283,
   "metadata": {},
   "outputs": [
    {
     "data": {
      "text/plain": [
       "1305"
      ]
     },
     "execution_count": 283,
     "metadata": {},
     "output_type": "execute_result"
    }
   ],
   "source": [
    "len(new_copy)"
   ]
  },
  {
   "cell_type": "markdown",
   "metadata": {},
   "source": [
    "### Step10： 总结该过程，什么是数据思维？什么是机器学习思维？"
   ]
  },
  {
   "cell_type": "markdown",
   "metadata": {},
   "source": [
    "数据思维，就是通过分析大量的数据，以已有的数据作为驱动，找出解决问题的办法。\n",
    "\n",
    "机器学习思维，就是利用已有的数据，通过分解过程来达到目的，可以不断输入新数据来优化现有模型。"
   ]
  },
  {
   "cell_type": "markdown",
   "metadata": {},
   "source": [
    "### (Optional)使用第4课讲解的 edit distance，在涉嫌抄袭的文章中，找到其重复的文字与被修改过的文字。 "
   ]
  },
  {
   "cell_type": "code",
   "execution_count": null,
   "metadata": {},
   "outputs": [],
   "source": []
  },
  {
   "cell_type": "markdown",
   "metadata": {},
   "source": [
    "### Step11: 利用第8课讲述的新模型，进行操作，感受其中不同的参数、模型对性能的影响。"
   ]
  }
 ],
 "metadata": {
  "kernelspec": {
   "display_name": "Python 3",
   "language": "python",
   "name": "python3"
  },
  "language_info": {
   "codemirror_mode": {
    "name": "ipython",
    "version": 3
   },
   "file_extension": ".py",
   "mimetype": "text/x-python",
   "name": "python",
   "nbconvert_exporter": "python",
   "pygments_lexer": "ipython3",
   "version": "3.7.1"
  }
 },
 "nbformat": 4,
 "nbformat_minor": 2
}
