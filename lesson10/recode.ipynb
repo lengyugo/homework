{
 "cells": [
  {
   "cell_type": "markdown",
   "metadata": {},
   "source": [
    "## 完成一个神经网络框架"
   ]
  },
  {
   "cell_type": "markdown",
   "metadata": {},
   "source": [
    "## 构建基类"
   ]
  },
  {
   "cell_type": "code",
   "execution_count": 1,
   "metadata": {},
   "outputs": [],
   "source": [
    "import numpy as np"
   ]
  },
  {
   "cell_type": "code",
   "execution_count": 89,
   "metadata": {},
   "outputs": [],
   "source": [
    "class Node():\n",
    "    \n",
    "    def __init__(self,inputs=[]):\n",
    "        self.inputs = inputs\n",
    "        self.value = None\n",
    "        self.outputs = []\n",
    "        self.gradients = {}\n",
    "        \n",
    "        for node in self.inputs:\n",
    "            node.outputs.append(self)\n",
    "    \n",
    "    def forward(self):\n",
    "        \n",
    "        return NotImplemented\n",
    "    \n",
    "    def backward(self):\n",
    "        \n",
    "        return NotImplemented"
   ]
  },
  {
   "cell_type": "code",
   "execution_count": 90,
   "metadata": {},
   "outputs": [],
   "source": [
    "class Input(Node):\n",
    "    \n",
    "    def __init__(self,name=''):\n",
    "        Node.__init__(self,inputs=[])\n",
    "        self.name = name\n",
    "        \n",
    "    def forward(self,value=None):\n",
    "        if value is not None:\n",
    "            self.value = value\n",
    "    \n",
    "    def backward(self):\n",
    "        self.gradients = {}\n",
    "        \n",
    "        for n in self.outputs:\n",
    "            grad_cost = n.gradients[self]\n",
    "            self.gradients[self] = grad_cost\n",
    "    \n",
    "    def __repr__(self):\n",
    "        return 'Input Node:{}'.format(self.name)"
   ]
  },
  {
   "cell_type": "code",
   "execution_count": 119,
   "metadata": {},
   "outputs": [],
   "source": [
    "class Linear(Node):\n",
    "    \n",
    "    def __init__(self,nodes,weights,bias):\n",
    "        self.w_node = weights\n",
    "        self.x_node = nodes\n",
    "        self.b_node = bias\n",
    "        Node.__init__(self,inputs=[nodes,weights,bias])\n",
    "        \n",
    "    def forward(self):\n",
    "        self.value = np.dot(self.x_node.value,self.w_node.value) + self.b_node.value\n",
    "    \n",
    "    def backward(self):\n",
    "        for node in self.outputs:\n",
    "            grad_cost = node.gradients[self]\n",
    "            \n",
    "            self.gradients[self.w_node] = np.dot(self.x_node.value.T,grad_cost)\n",
    "            self.gradients[self.b_node] = np.sum(grad_cost * 1,axis=0,keepdims=False)\n",
    "            self.gradients[self.x_node] = np.dot(grad_cost,self.w_node.value.T)\n"
   ]
  },
  {
   "cell_type": "code",
   "execution_count": 92,
   "metadata": {},
   "outputs": [],
   "source": [
    "class Sigmoid(Node):\n",
    "    def __init__(self,node):\n",
    "        Node.__init__(self,[node])\n",
    "        self.x_node = node\n",
    "        \n",
    "    def _sigmoid(self,x):\n",
    "        return 1. / (1 + np.exp(-1 * x))\n",
    "    \n",
    "    def forward(self):\n",
    "        self.value = self._sigmoid(self.x_node.value)\n",
    "        \n",
    "    def backward(self):\n",
    "        y = self.value\n",
    "        \n",
    "        self.partial = y * (1 - y)\n",
    "        for n in self.outputs:\n",
    "            grad_cost = n.gradients[self]\n",
    "            self.gradients[self.x_node] = grad_cost * self.partial\n",
    "        "
   ]
  },
  {
   "cell_type": "code",
   "execution_count": 93,
   "metadata": {},
   "outputs": [],
   "source": [
    "class MSE(Node):\n",
    "    def __init__(self,y_true,y_hat):\n",
    "        self.y_true_node = y_true\n",
    "        self.y_hat_node = y_hat\n",
    "        Node.__init__(self,inputs=[y_true,y_hat])\n",
    "        \n",
    "    def forward(self):\n",
    "        y_true_flatten = self.y_true_node.value.reshape(-1,1)\n",
    "        y_hat_flatten = self.y_hat_node.value.reshape(-1,1)\n",
    "        self.diff = y_true_flatten - y_hat_flatten\n",
    "        self.value = np.mean(self.diff**2)\n",
    "    \n",
    "    def backward(self):\n",
    "        n = self.y_hat_node.value.shape[0]\n",
    "        self.gradients[self.y_true_node] = (2 / n) * self.diff\n",
    "        self.gradients[self.y_hat_node] = (-2 / n) * self.diff\n",
    "    "
   ]
  },
  {
   "cell_type": "code",
   "execution_count": 94,
   "metadata": {},
   "outputs": [],
   "source": [
    "def training_one_batch(topological_sorted_graph):\n",
    "    \n",
    "    for node in topological_sorted_graph:\n",
    "        node.forward()\n",
    "    for node in topological_sorted_graph[::-1]:\n",
    "        node.backward()\n",
    "    "
   ]
  },
  {
   "cell_type": "code",
   "execution_count": 95,
   "metadata": {},
   "outputs": [],
   "source": [
    "def topological_sort(data_with_value):\n",
    "    feed_dict = data_with_value\n",
    "    input_nodes = [n for n in feed_dict.keys()]\n",
    "    \n",
    "    G = {}\n",
    "    nodes = [n for n in input_nodes]\n",
    "    while len(nodes) > 0:\n",
    "        n = nodes.pop(0)\n",
    "        if n not in G:\n",
    "            G[n] = {'in':set(),'out':set()}\n",
    "        for m in n.outputs:\n",
    "            if m not in G:\n",
    "                G[m] = {'in':set(),'out':set()}\n",
    "            G[n]['out'].add(m)\n",
    "            G[m]['in'].add(n)\n",
    "            nodes.append(m)\n",
    "    L = []\n",
    "    S = set(input_nodes)\n",
    "    while len(S) > 0:\n",
    "        n = S.pop()\n",
    "        if isinstance(n,Input):\n",
    "            n.value = feed_dict[n]\n",
    "            \n",
    "        L.append(n)\n",
    "        for m in n.outputs:\n",
    "            G[n]['out'].remove(m)\n",
    "            G[m]['in'].remove(n)\n",
    "            if len(G[m]['in']) == 0:\n",
    "                S.add(m)\n",
    "    \n",
    "    return L\n"
   ]
  },
  {
   "cell_type": "code",
   "execution_count": 96,
   "metadata": {},
   "outputs": [],
   "source": [
    "def sgd_update(trainable_nodes,learning_rate= 1e-2):\n",
    "    for t in trainable_nodes:\n",
    "        t.value += -1 * learning_rate * t.gradients[t]"
   ]
  },
  {
   "cell_type": "markdown",
   "metadata": {},
   "source": [
    "# 导入数据"
   ]
  },
  {
   "cell_type": "code",
   "execution_count": 97,
   "metadata": {},
   "outputs": [],
   "source": [
    "from sklearn.datasets import load_boston"
   ]
  },
  {
   "cell_type": "code",
   "execution_count": 98,
   "metadata": {},
   "outputs": [],
   "source": [
    "data = load_boston()"
   ]
  },
  {
   "cell_type": "code",
   "execution_count": 99,
   "metadata": {},
   "outputs": [],
   "source": [
    "X_ = data['data']"
   ]
  },
  {
   "cell_type": "code",
   "execution_count": 100,
   "metadata": {},
   "outputs": [],
   "source": [
    "y_ = data['target']"
   ]
  },
  {
   "cell_type": "code",
   "execution_count": 101,
   "metadata": {},
   "outputs": [
    {
     "data": {
      "text/plain": [
       "array([6.320e-03, 1.800e+01, 2.310e+00, 0.000e+00, 5.380e-01, 6.575e+00,\n",
       "       6.520e+01, 4.090e+00, 1.000e+00, 2.960e+02, 1.530e+01, 3.969e+02,\n",
       "       4.980e+00])"
      ]
     },
     "execution_count": 101,
     "metadata": {},
     "output_type": "execute_result"
    }
   ],
   "source": [
    "X_[0]"
   ]
  },
  {
   "cell_type": "code",
   "execution_count": 102,
   "metadata": {},
   "outputs": [
    {
     "data": {
      "text/plain": [
       "24.0"
      ]
     },
     "execution_count": 102,
     "metadata": {},
     "output_type": "execute_result"
    }
   ],
   "source": [
    "y_[0]"
   ]
  },
  {
   "cell_type": "code",
   "execution_count": 103,
   "metadata": {},
   "outputs": [
    {
     "data": {
      "text/plain": [
       "(506, 13)"
      ]
     },
     "execution_count": 103,
     "metadata": {},
     "output_type": "execute_result"
    }
   ],
   "source": [
    "X_.shape"
   ]
  },
  {
   "cell_type": "code",
   "execution_count": 104,
   "metadata": {},
   "outputs": [],
   "source": [
    "X_ = (X_ - np.mean(X_,axis=0)) / np.std(X_,axis=0)"
   ]
  },
  {
   "cell_type": "code",
   "execution_count": 105,
   "metadata": {},
   "outputs": [],
   "source": [
    "n_features = X_.shape[1]"
   ]
  },
  {
   "cell_type": "code",
   "execution_count": 106,
   "metadata": {},
   "outputs": [],
   "source": [
    "n_hidden = 10"
   ]
  },
  {
   "cell_type": "code",
   "execution_count": 107,
   "metadata": {},
   "outputs": [],
   "source": [
    "W1_,b1_ = np.random.randn(n_features,n_hidden),np.zeros(n_hidden)"
   ]
  },
  {
   "cell_type": "code",
   "execution_count": 108,
   "metadata": {},
   "outputs": [],
   "source": [
    "W2_,b2_ = np.random.randn(n_hidden,1),np.zeros(1)"
   ]
  },
  {
   "cell_type": "markdown",
   "metadata": {},
   "source": [
    "+ 在图中建立Node"
   ]
  },
  {
   "cell_type": "code",
   "execution_count": 120,
   "metadata": {},
   "outputs": [],
   "source": [
    "X,y = Input(name='X'),Input(name='y')\n",
    "W1,b1 = Input(name='W1'),Input(name='b1')\n",
    "W2,b2 = Input(name='W2'),Input(name='b2')"
   ]
  },
  {
   "cell_type": "markdown",
   "metadata": {},
   "source": [
    "+ 建立连接关系"
   ]
  },
  {
   "cell_type": "code",
   "execution_count": 121,
   "metadata": {},
   "outputs": [],
   "source": [
    "linear_output = Linear(X,W1,b1)\n",
    "sigmoid_output = Sigmoid(linear_output)\n",
    "yhat = Linear(sigmoid_output,W2,b2)\n",
    "loss = MSE(y,yhat)"
   ]
  },
  {
   "cell_type": "code",
   "execution_count": 122,
   "metadata": {},
   "outputs": [],
   "source": [
    "input_node_with_value = {\n",
    "    X: X_, \n",
    "    y: y_, \n",
    "    W1: W1_, \n",
    "    W2: W2_, \n",
    "    b1: b1_, \n",
    "    b2: b2_\n",
    "}"
   ]
  },
  {
   "cell_type": "code",
   "execution_count": 123,
   "metadata": {},
   "outputs": [],
   "source": [
    "graph = topological_sort(input_node_with_value)"
   ]
  },
  {
   "cell_type": "code",
   "execution_count": 124,
   "metadata": {},
   "outputs": [
    {
     "data": {
      "text/plain": [
       "[Input Node:X,\n",
       " Input Node:W1,\n",
       " Input Node:W2,\n",
       " Input Node:b1,\n",
       " <__main__.Linear at 0x8cca358>,\n",
       " Input Node:y,\n",
       " Input Node:b2,\n",
       " <__main__.Sigmoid at 0x8cca198>,\n",
       " <__main__.Linear at 0x8ca0b70>,\n",
       " <__main__.MSE at 0x8cca470>]"
      ]
     },
     "execution_count": 124,
     "metadata": {},
     "output_type": "execute_result"
    }
   ],
   "source": [
    "graph"
   ]
  },
  {
   "cell_type": "code",
   "execution_count": 125,
   "metadata": {},
   "outputs": [],
   "source": [
    "from sklearn.utils import resample"
   ]
  },
  {
   "cell_type": "code",
   "execution_count": 126,
   "metadata": {},
   "outputs": [],
   "source": [
    "def run(dictionary):\n",
    "    return topological_sort(dictionary)"
   ]
  },
  {
   "cell_type": "code",
   "execution_count": 128,
   "metadata": {},
   "outputs": [
    {
     "name": "stdout",
     "output_type": "stream",
     "text": [
      "Epoch: 1, loss = 530.467\n",
      "Epoch: 101, loss = 29.643\n",
      "Epoch: 201, loss = 19.074\n",
      "Epoch: 301, loss = 21.153\n",
      "Epoch: 401, loss = 22.685\n",
      "Epoch: 501, loss = 14.786\n",
      "Epoch: 601, loss = 11.634\n",
      "Epoch: 701, loss = 13.141\n",
      "Epoch: 801, loss = 14.131\n",
      "Epoch: 901, loss = 13.063\n",
      "Epoch: 1001, loss = 13.168\n",
      "Epoch: 1101, loss = 12.123\n",
      "Epoch: 1201, loss = 12.604\n",
      "Epoch: 1301, loss = 11.772\n",
      "Epoch: 1401, loss = 9.756\n",
      "Epoch: 1501, loss = 11.725\n",
      "Epoch: 1601, loss = 9.574\n",
      "Epoch: 1701, loss = 10.392\n",
      "Epoch: 1801, loss = 11.622\n",
      "Epoch: 1901, loss = 8.768\n",
      "Epoch: 2001, loss = 8.347\n",
      "Epoch: 2101, loss = 8.028\n",
      "Epoch: 2201, loss = 10.937\n",
      "Epoch: 2301, loss = 8.739\n",
      "Epoch: 2401, loss = 9.335\n",
      "Epoch: 2501, loss = 7.678\n",
      "Epoch: 2601, loss = 7.822\n",
      "Epoch: 2701, loss = 7.260\n",
      "Epoch: 2801, loss = 7.735\n",
      "Epoch: 2901, loss = 8.178\n",
      "Epoch: 3001, loss = 10.073\n",
      "Epoch: 3101, loss = 7.584\n",
      "Epoch: 3201, loss = 7.456\n",
      "Epoch: 3301, loss = 7.886\n",
      "Epoch: 3401, loss = 7.585\n",
      "Epoch: 3501, loss = 8.188\n",
      "Epoch: 3601, loss = 7.012\n",
      "Epoch: 3701, loss = 7.758\n",
      "Epoch: 3801, loss = 6.429\n",
      "Epoch: 3901, loss = 8.486\n",
      "Epoch: 4001, loss = 6.237\n",
      "Epoch: 4101, loss = 6.889\n",
      "Epoch: 4201, loss = 7.786\n",
      "Epoch: 4301, loss = 6.852\n",
      "Epoch: 4401, loss = 7.679\n",
      "Epoch: 4501, loss = 6.789\n",
      "Epoch: 4601, loss = 7.553\n",
      "Epoch: 4701, loss = 6.667\n",
      "Epoch: 4801, loss = 6.045\n",
      "Epoch: 4901, loss = 7.583\n"
     ]
    }
   ],
   "source": [
    "losses = []\n",
    "epochs = 5000\n",
    "batch_size = 64\n",
    "steps_per_epoch = X_.shape[0] // batch_size\n",
    "\n",
    "for i in range(epochs):\n",
    "    loss = 0\n",
    "    for batch in range(step_per_epoch):\n",
    "        \n",
    "        X_batch,y_batch = resample(X_,y_,n_samples=batch_size)\n",
    "        \n",
    "        X.value = X_batch\n",
    "        y.value = y_batch\n",
    "        \n",
    "        training_one_batch(graph)\n",
    "        learning_rate = 1e-3\n",
    "        sgd_update(trainable_nodes=[W1,W2,b1,b2],learning_rate=learning_rate)\n",
    "        loss += graph[-1].value\n",
    "        \n",
    "    if i % 100 == 0:\n",
    "        print('Epoch: {}, loss = {:.3f}'.format(i+1, loss/steps_per_epoch))\n",
    "        losses.append(loss)"
   ]
  },
  {
   "cell_type": "code",
   "execution_count": 129,
   "metadata": {},
   "outputs": [],
   "source": [
    "import matplotlib.pyplot as plt"
   ]
  },
  {
   "cell_type": "code",
   "execution_count": 130,
   "metadata": {},
   "outputs": [
    {
     "data": {
      "text/plain": [
       "[<matplotlib.lines.Line2D at 0xed6a6a0>]"
      ]
     },
     "execution_count": 130,
     "metadata": {},
     "output_type": "execute_result"
    },
    {
     "data": {
      "image/png": "[encoded data removed]",
      "text/plain": [
       "<Figure size 432x288 with 1 Axes>"
      ]
     },
     "metadata": {
      "needs_background": "light"
     },
     "output_type": "display_data"
    }
   ],
   "source": [
    "plt.plot(losses)"
   ]
  },
  {
   "cell_type": "code",
   "execution_count": 131,
   "metadata": {},
   "outputs": [
    {
     "data": {
      "text/plain": [
       "array([[ 3.11386175, -0.90226281,  0.01271458, -1.4335739 , -0.67205448,\n",
       "        -0.77028151, -0.25864355, -0.55791216, -2.20477011, -1.61521442],\n",
       "       [ 0.74674825,  1.18576507, -0.69428817,  1.6835641 , -3.03406855,\n",
       "         0.82101669, -0.34881776, -0.79269591,  1.31143381, -0.43217941],\n",
       "       [ 0.73836241,  0.71332156, -0.20848788,  0.87970193, -1.38420119,\n",
       "        -1.37907963, -0.45181744,  0.02200163,  0.75504297, -2.02428975],\n",
       "       [-0.23785689,  0.37582161, -0.27067945, -0.17992778,  0.4714536 ,\n",
       "         0.25694686,  0.61196071,  0.0387674 ,  0.01855415, -2.36211977],\n",
       "       [ 0.56608791, -0.30606106,  3.89181425, -2.83204936, -2.44989404,\n",
       "        -1.7829909 , -0.62734093,  0.06541971,  0.86703453, -0.45269886],\n",
       "       [ 2.06794214, -1.17297087,  1.47203411,  0.76363131, -1.30413222,\n",
       "        -0.80603988,  1.1107409 ,  2.03370633,  1.31687335, -0.61869313],\n",
       "       [-0.58793398, -0.29904464, -1.52836212, -0.21450177,  1.51922023,\n",
       "         0.93148638,  1.25091132, -1.00699261, -1.24067824, -0.267633  ],\n",
       "       [-1.04212346, -4.50619857,  1.15302326, -0.16650598, -3.17722813,\n",
       "        -4.42050003,  0.58618729,  2.84223094, -0.7999964 , -0.48247011],\n",
       "       [ 1.13671988, -0.01628878, -1.56274986,  3.83771418, -0.27871541,\n",
       "        -1.38904517,  1.93502485, -0.79767288,  1.63744727, -1.54805664],\n",
       "       [ 1.19982452, -1.64440924, -2.05169378, -0.44107892, -0.97055654,\n",
       "        -0.45627376, -0.67018308, -0.47488963,  1.81111115,  1.76376001],\n",
       "       [-0.52157615, -0.04431736, -1.49343922, -0.50432899, -0.31015477,\n",
       "         0.98075102,  0.31123949, -0.63376531, -0.09279147, -0.80792428],\n",
       "       [ 2.02849946,  1.68409972,  0.22037397, -0.31786262,  0.32914186,\n",
       "         0.41225334,  0.21904484,  1.03674542, -4.22620222,  0.32856317],\n",
       "       [-1.65251553, -0.75383132,  1.08479916, -2.09143952, -0.40050041,\n",
       "        -2.62298794, -2.82406144,  2.71748168, -1.69071795, -1.97532296]])"
      ]
     },
     "execution_count": 131,
     "metadata": {},
     "output_type": "execute_result"
    }
   ],
   "source": [
    "W1.value"
   ]
  },
  {
   "cell_type": "code",
   "execution_count": 132,
   "metadata": {},
   "outputs": [
    {
     "data": {
      "text/plain": [
       "array([[6.09581654],\n",
       "       [4.99348429],\n",
       "       [4.99594036],\n",
       "       [6.61215772],\n",
       "       [4.21201163],\n",
       "       [7.18462012],\n",
       "       [6.07457975],\n",
       "       [9.21298714],\n",
       "       [6.62892565],\n",
       "       [1.84620029]])"
      ]
     },
     "execution_count": 132,
     "metadata": {},
     "output_type": "execute_result"
    }
   ],
   "source": [
    "W2.value"
   ]
  },
  {
   "cell_type": "code",
   "execution_count": 134,
   "metadata": {},
   "outputs": [
    {
     "data": {
      "text/plain": [
       "array([24.19265007])"
      ]
     },
     "execution_count": 134,
     "metadata": {},
     "output_type": "execute_result"
    }
   ],
   "source": [
    "x1 = Input()\n",
    "x1.value = X_[1]\n",
    "def _sigmoid(x):\n",
    "    return 1. / (1 + np.exp(-1 * x))\n",
    "np.dot(_sigmoid(np.dot(X_[1], W1.value) + b1.value), W2.value) + b2.value"
   ]
  },
  {
   "cell_type": "code",
   "execution_count": 135,
   "metadata": {},
   "outputs": [
    {
     "data": {
      "text/plain": [
       "21.6"
      ]
     },
     "execution_count": 135,
     "metadata": {},
     "output_type": "execute_result"
    }
   ],
   "source": [
    "y_[1]"
   ]
  },
  {
   "cell_type": "code",
   "execution_count": null,
   "metadata": {},
   "outputs": [],
   "source": []
  }
 ],
 "metadata": {
  "kernelspec": {
   "display_name": "Python 3",
   "language": "python",
   "name": "python3"
  },
  "language_info": {
   "codemirror_mode": {
    "name": "ipython",
    "version": 3
   },
   "file_extension": ".py",
   "mimetype": "text/x-python",
   "name": "python",
   "nbconvert_exporter": "python",
   "pygments_lexer": "ipython3",
   "version": "3.7.1"
  }
 },
 "nbformat": 4,
 "nbformat_minor": 2
}
