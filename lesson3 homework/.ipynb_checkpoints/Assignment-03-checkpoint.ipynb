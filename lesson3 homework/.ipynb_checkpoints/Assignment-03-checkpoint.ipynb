{
 "cells": [
  {
   "cell_type": "markdown",
   "metadata": {},
   "source": [
    "## Lecture-03 Gradient Descent and Dymanic Programming"
   ]
  },
  {
   "cell_type": "markdown",
   "metadata": {},
   "source": [
    "In this week, we need complete following tasks:\n",
    "+ Re-review the course online programming; \n",
    "+ Choose 1 - 2 books which you interested and keep reading; \n",
    "+ Answer the review questions\n",
    "+ Prepare the basic requirement of our 1st project. "
   ]
  },
  {
   "cell_type": "markdown",
   "metadata": {},
   "source": [
    "### Part I Review the online programming. \n",
    "\n",
    "Lesson3_recode"
   ]
  },
  {
   "cell_type": "markdown",
   "metadata": {},
   "source": [
    "### Part 2: change loss function from $loss = \\frac{1}{n}\\sum{(y_i - \\hat(y_i))^2}$ to $loss = \\frac{1}{n}\\sum{|y_i - \\hat{y_i}|}$, and using your mathmatical knowledge to get the right partial formual. Implemen the gradient descent code.\n",
    "\n",
    "\n",
    "在Lesson3_recode"
   ]
  },
  {
   "cell_type": "markdown",
   "metadata": {},
   "source": [
    "### Part 3: Finish the Solution Parse Part of Edit-Distance"
   ]
  },
  {
   "cell_type": "code",
   "execution_count": 106,
   "metadata": {},
   "outputs": [],
   "source": [
    "solution = {}"
   ]
  },
  {
   "cell_type": "code",
   "execution_count": 2,
   "metadata": {},
   "outputs": [],
   "source": [
    "from functools import lru_cache"
   ]
  },
  {
   "cell_type": "code",
   "execution_count": 107,
   "metadata": {},
   "outputs": [],
   "source": [
    "@lru_cache(maxsize=2**10)\n",
    "def edit_distance(string1, string2):\n",
    "    if len(string1) == 0: return len(string2)\n",
    "    if len(string2) == 0: return len(string1)\n",
    "    \n",
    "    tail_s1 = string1[-1]\n",
    "    tail_s2 = string2[-1]\n",
    "    #print(tail_s1,tail_s2)\n",
    "    candidates = [\n",
    "        (edit_distance(string1[:-1],string2) + 1,'Del {}'.format(tail_s1)),\n",
    "        (edit_distance(string1,string2[:-1]) + 1,'Add {}'.format(tail_s2))\n",
    "    ]\n",
    "    #print(candidates)\n",
    "    if tail_s1 == tail_s2:\n",
    "        both_forward = (edit_distance(string1[:-1],string2[:-1]) + 0, '')\n",
    "    else:\n",
    "        both_forward = (edit_distance(string1[:-1],string2[:-1]) + 1, 'sub {} => {}'.format(tail_s1,tail_s2))\n",
    "    candidates.append(both_forward)\n",
    "    #print(candidates)\n",
    "    \n",
    "    min_distance,operation = min(candidates,key=lambda x:x[0])\n",
    "    #print(min_distance,operation)\n",
    "    \n",
    "    solution[(string1,string2)] = operation\n",
    "    \n",
    "    return min_distance"
   ]
  },
  {
   "cell_type": "code",
   "execution_count": 108,
   "metadata": {},
   "outputs": [
    {
     "data": {
      "text/plain": [
       "3"
      ]
     },
     "execution_count": 108,
     "metadata": {},
     "output_type": "execute_result"
    }
   ],
   "source": [
    "edit_distance('ABCDEEFF','ABCDE' )"
   ]
  },
  {
   "cell_type": "code",
   "execution_count": 109,
   "metadata": {},
   "outputs": [
    {
     "data": {
      "text/plain": [
       "{('A', 'A'): '',\n",
       " ('A', 'AB'): 'Add B',\n",
       " ('A', 'ABC'): 'Add C',\n",
       " ('A', 'ABCD'): 'Add D',\n",
       " ('A', 'ABCDE'): 'Add E',\n",
       " ('AB', 'A'): 'Del B',\n",
       " ('AB', 'AB'): '',\n",
       " ('AB', 'ABC'): 'Add C',\n",
       " ('AB', 'ABCD'): 'Add D',\n",
       " ('AB', 'ABCDE'): 'Add E',\n",
       " ('ABC', 'A'): 'Del C',\n",
       " ('ABC', 'AB'): 'Del C',\n",
       " ('ABC', 'ABC'): '',\n",
       " ('ABC', 'ABCD'): 'Add D',\n",
       " ('ABC', 'ABCDE'): 'Add E',\n",
       " ('ABCD', 'A'): 'Del D',\n",
       " ('ABCD', 'AB'): 'Del D',\n",
       " ('ABCD', 'ABC'): 'Del D',\n",
       " ('ABCD', 'ABCD'): '',\n",
       " ('ABCD', 'ABCDE'): 'Add E',\n",
       " ('ABCDE', 'A'): 'Del E',\n",
       " ('ABCDE', 'AB'): 'Del E',\n",
       " ('ABCDE', 'ABC'): 'Del E',\n",
       " ('ABCDE', 'ABCD'): 'Del E',\n",
       " ('ABCDE', 'ABCDE'): '',\n",
       " ('ABCDEE', 'A'): 'Del E',\n",
       " ('ABCDEE', 'AB'): 'Del E',\n",
       " ('ABCDEE', 'ABC'): 'Del E',\n",
       " ('ABCDEE', 'ABCD'): 'Del E',\n",
       " ('ABCDEE', 'ABCDE'): 'Del E',\n",
       " ('ABCDEEF', 'A'): 'Del F',\n",
       " ('ABCDEEF', 'AB'): 'Del F',\n",
       " ('ABCDEEF', 'ABC'): 'Del F',\n",
       " ('ABCDEEF', 'ABCD'): 'Del F',\n",
       " ('ABCDEEF', 'ABCDE'): 'Del F',\n",
       " ('ABCDEEFF', 'A'): 'Del F',\n",
       " ('ABCDEEFF', 'AB'): 'Del F',\n",
       " ('ABCDEEFF', 'ABC'): 'Del F',\n",
       " ('ABCDEEFF', 'ABCD'): 'Del F',\n",
       " ('ABCDEEFF', 'ABCDE'): 'Del F'}"
      ]
     },
     "execution_count": 109,
     "metadata": {},
     "output_type": "execute_result"
    }
   ],
   "source": [
    "solution"
   ]
  },
  {
   "cell_type": "code",
   "execution_count": 12,
   "metadata": {},
   "outputs": [
    {
     "data": {
      "text/plain": [
       "5"
      ]
     },
     "execution_count": 12,
     "metadata": {},
     "output_type": "execute_result"
    }
   ],
   "source": [
    "edit_distance('beijing', 'baia')"
   ]
  },
  {
   "cell_type": "code",
   "execution_count": 13,
   "metadata": {},
   "outputs": [
    {
     "data": {
      "text/plain": [
       "{('b', 'b'): '',\n",
       " ('b', 'ba'): 'Add a',\n",
       " ('b', 'bai'): 'Add i',\n",
       " ('b', 'baia'): 'Add a',\n",
       " ('be', 'b'): 'Del e',\n",
       " ('be', 'ba'): 'sub e => a',\n",
       " ('be', 'bai'): 'Add i',\n",
       " ('be', 'baia'): 'Add a',\n",
       " ('bei', 'b'): 'Del i',\n",
       " ('bei', 'ba'): 'Del i',\n",
       " ('bei', 'bai'): '',\n",
       " ('bei', 'baia'): 'Add a',\n",
       " ('beij', 'b'): 'Del j',\n",
       " ('beij', 'ba'): 'Del j',\n",
       " ('beij', 'bai'): 'Del j',\n",
       " ('beij', 'baia'): 'sub j => a',\n",
       " ('beiji', 'b'): 'Del i',\n",
       " ('beiji', 'ba'): 'Del i',\n",
       " ('beiji', 'bai'): 'Del i',\n",
       " ('beiji', 'baia'): 'Del i',\n",
       " ('beijin', 'b'): 'Del n',\n",
       " ('beijin', 'ba'): 'Del n',\n",
       " ('beijin', 'bai'): 'Del n',\n",
       " ('beijin', 'baia'): 'Del n',\n",
       " ('beijing', 'b'): 'Del g',\n",
       " ('beijing', 'ba'): 'Del g',\n",
       " ('beijing', 'bai'): 'Del g',\n",
       " ('beijing', 'baia'): 'Del g'}"
      ]
     },
     "execution_count": 13,
     "metadata": {},
     "output_type": "execute_result"
    }
   ],
   "source": [
    "solution"
   ]
  },
  {
   "cell_type": "code",
   "execution_count": 110,
   "metadata": {},
   "outputs": [],
   "source": [
    "operate = []\n",
    "def parse_solution(string1,string2):\n",
    "    if len(string1) >=  len(string2):\n",
    "        for i in range(len(string1)):\n",
    "#             print(i)\n",
    "#             print(string2[i])\n",
    "            if i < len(string2):\n",
    "                #print(i)\n",
    "                if string1[i] != string2[i]:\n",
    "                    operate.append(solution[(string1[:i+1],string2[:i+1])])\n",
    "                   # print(operate)\n",
    "            else:\n",
    "                operate.append(solution[(string1[:i+1],string2)])\n",
    "    else:\n",
    "        for i in range(len(string2)):\n",
    "            if i < len(string1):\n",
    "                if string1[i] != string2[i]:\n",
    "                    operate.append(solution[(string1[:i+1],string2[:i+1])])\n",
    "            else:\n",
    "                operate.append(solution[(string1,string2[:i+1])])\n",
    "        \n",
    "    return operate               \n",
    "               "
   ]
  },
  {
   "cell_type": "code",
   "execution_count": 112,
   "metadata": {
    "scrolled": true
   },
   "outputs": [
    {
     "data": {
      "text/plain": [
       "['Del E', 'Del F', 'Del F']"
      ]
     },
     "execution_count": 112,
     "metadata": {},
     "output_type": "execute_result"
    }
   ],
   "source": [
    "parse_solution('ABCDEEFF','ABCDE' )"
   ]
  },
  {
   "cell_type": "code",
   "execution_count": 96,
   "metadata": {},
   "outputs": [
    {
     "data": {
      "text/plain": [
       "3"
      ]
     },
     "execution_count": 96,
     "metadata": {},
     "output_type": "execute_result"
    }
   ],
   "source": [
    "edit_distance('ABCDE', 'ABCDEEFF')"
   ]
  },
  {
   "cell_type": "code",
   "execution_count": null,
   "metadata": {},
   "outputs": [],
   "source": []
  },
  {
   "cell_type": "markdown",
   "metadata": {},
   "source": [
    "### Part 4 Choose 1 - 2 books to keep reading: \n",
    "\n",
    "+ SICP, Structure and Interpretation of Computer Programming. \n",
    "+ Introduction to Algorithms \n",
    "+ Artificial Intelligence A Modern Approach (3rd Edition) \n",
    "+ Code Complete 2 \n",
    "+ Programming Pearls \n",
    "+ Deep Learning\n",
    "+ 黑客与画家\n",
    "+ 数学之美\n",
    "+ Fluent Python\n",
    "+ Hands on Tensorflow\n",
    "+ Conference: NIPS_ ICML_ ICLR_ ACL_ AAAI\n",
    "\n",
    "> most books you may find in our github: https://github.com/Computing-Intelligence/References"
   ]
  },
  {
   "cell_type": "markdown",
   "metadata": {},
   "source": [
    "## Part 5-1: review machine learning"
   ]
  },
  {
   "cell_type": "markdown",
   "metadata": {},
   "source": [
    "1. Why do we use Derivative / Gredient to fit a target function?¶"
   ]
  },
  {
   "cell_type": "markdown",
   "metadata": {},
   "source": [
    "Ans：梯度的方向是函数变化最快的方向，我们沿着梯度的反方向就可以快速的找到函数的最优值。"
   ]
  },
  {
   "cell_type": "markdown",
   "metadata": {},
   "source": [
    "2. In the words 'Gredient Descent', what's the Gredient and what's the Descent?¶"
   ]
  },
  {
   "cell_type": "markdown",
   "metadata": {},
   "source": [
    "Ans:Gredint就是函数在某点的导数，Descent 表示的是函数变化的快慢，我们希望沿着最快的方向变化"
   ]
  },
  {
   "cell_type": "markdown",
   "metadata": {},
   "source": [
    "\n",
    "3. What's the advantages of the 3rd gradient descent method compared to the previous methods?"
   ]
  },
  {
   "cell_type": "markdown",
   "metadata": {},
   "source": [
    "Ans：梯度下降的方式比前两种方式的速度要快的多，在相同的条件下，梯度下降可以得到更好的效果。"
   ]
  },
  {
   "cell_type": "markdown",
   "metadata": {},
   "source": [
    "4. Using the simple words to describe: What's the machine leanring.¶"
   ]
  },
  {
   "cell_type": "markdown",
   "metadata": {},
   "source": [
    "Ans:机器学习就对于一个问题，我们首先假定一个函数，然后不断通过现有的数据去改变他的参数，最后达到最理想的函数结果的过程。"
   ]
  },
  {
   "cell_type": "markdown",
   "metadata": {},
   "source": [
    "### Part 5: Answer following questions: "
   ]
  },
  {
   "cell_type": "markdown",
   "metadata": {},
   "source": [
    "1. Why do we need dynamic programming? What's the difference of dynamic programming and previous talked `search` problme? \n",
    "\n",
    "动态规划可以将一个大的问题分解成很多个小问题，对于那些重复的问题，我们就可以不需要再进行计算了。\n",
    "和查找问题的不同之处在于，动态规划可以把之前查找过的保存下来，节省查找时间。"
   ]
  },
  {
   "cell_type": "markdown",
   "metadata": {},
   "source": [
    "2. Why do we still need dynamic programming? Why not we train a machine learning to fit a function which could get the `right` answer based on inputs?\n",
    "\n",
    "首先，动态规划和机器学习都是解决问题的重要方法，对于一个问题来说，我们想要做到的是用最好的办法来解决它，动态规划对于某些问题来说，有着比机器学习更好的效果，所以我们要根据问题的多样性来选择解决问题的方法，不能一味的使用一种方法。\n"
   ]
  },
  {
   "cell_type": "markdown",
   "metadata": {},
   "source": [
    "3. Can you catch up at least 3 problems which could solved by Dynamic Programming? \n",
    "\n",
    "棋类的人机对战，货币找零，最短路径问题"
   ]
  },
  {
   "cell_type": "markdown",
   "metadata": {},
   "source": [
    "4. Can you catch up at least 3 problems wich could sloved by Edit Distance? \n",
    "\n",
    "输入法中近似词匹配，资源分配使收益最大，如何运输货物成本最低"
   ]
  },
  {
   "cell_type": "markdown",
   "metadata": {},
   "source": [
    "5. Please summarize the three main features of Dynamic Programming, and make a concise explain for each feature. \n",
    "\n",
    "1.有重复的子问题，也就是说，这次查询的情况在之后也会出现一次或多次。\n",
    "2.子问题只需解决一次，每一个子问题都只需解决一次就可以\n",
    "3.可以把重复的子问题的结果保存起来，我们可以把子问题保存到一个表中，通过查询表来得到。\n",
    "\n"
   ]
  },
  {
   "cell_type": "markdown",
   "metadata": {},
   "source": [
    "6. What's the disadvantages of Dynamic Programming? (You may need search by yourself in Internet)\n",
    "\n",
    "没有统一的标准模型，对于高维数据在求解时会出现维数灾难，即计算量会呈指数倍增长。"
   ]
  },
  {
   "cell_type": "markdown",
   "metadata": {},
   "source": [
    "## Part 6 Preparation of Project-01"
   ]
  },
  {
   "cell_type": "markdown",
   "metadata": {},
   "source": [
    "1. Using python Flask or Bottle to finish your first simple web app:\n",
    "> https://bottlepy.org/\n",
    "\n",
    "2. Learn what's the SQL, and try some simple SQL operations:\n",
    "> https://www.w3schools.com/sql/sql_intro.asp\n",
    "\n",
    "3. Learn what's the HTML ( *ONLY* need to know the basic things)\n",
    "> https://getbootstrap.com/; https://www.w3schools.com/html/"
   ]
  },
  {
   "cell_type": "code",
   "execution_count": 8,
   "metadata": {},
   "outputs": [
    {
     "name": "stderr",
     "output_type": "stream",
     "text": [
      "Bottle v0.12.17 server starting up (using WSGIRefServer())...\n",
      "Listening on http://localhost:8000/\n",
      "Hit Ctrl-C to quit.\n",
      "\n",
      "127.0.0.1 - - [17/Jul/2019 17:20:46] \"GET /hello/dachou HTTP/1.1\" 200 20\n",
      "127.0.0.1 - - [17/Jul/2019 17:20:56] \"GET /favicon.ico HTTP/1.1\" 404 742\n",
      "127.0.0.1 - - [17/Jul/2019 17:21:00] \"GET /hello/wwawa HTTP/1.1\" 200 19\n"
     ]
    }
   ],
   "source": [
    "from bottle import route,run,template\n",
    "@route('/hello/<name>')\n",
    "def index(name):\n",
    "    \n",
    "    return template('<b>hello {{name}}</b>!',name=name)\n",
    "run(host='localhost',port=8000)"
   ]
  },
  {
   "cell_type": "code",
   "execution_count": null,
   "metadata": {},
   "outputs": [],
   "source": []
  },
  {
   "cell_type": "code",
   "execution_count": null,
   "metadata": {},
   "outputs": [],
   "source": []
  },
  {
   "cell_type": "code",
   "execution_count": null,
   "metadata": {},
   "outputs": [],
   "source": []
  },
  {
   "cell_type": "code",
   "execution_count": null,
   "metadata": {},
   "outputs": [],
   "source": []
  },
  {
   "cell_type": "markdown",
   "metadata": {},
   "source": [
    "### (Optinal) Finish the k-person-salesman problem:"
   ]
  },
  {
   "cell_type": "code",
   "execution_count": 87,
   "metadata": {},
   "outputs": [],
   "source": [
    "import random\n",
    "import matplotlib.pylab as plt"
   ]
  },
  {
   "cell_type": "code",
   "execution_count": 88,
   "metadata": {},
   "outputs": [],
   "source": [
    "latitudes = [random.randint(-100, 100) for _ in range(20)]\n",
    "longitude = [random.randint(-100, 100) for _ in range(20)]"
   ]
  },
  {
   "cell_type": "code",
   "execution_count": 82,
   "metadata": {},
   "outputs": [
    {
     "data": {
      "text/plain": [
       "<matplotlib.collections.PathCollection at 0x5b646a0>"
      ]
     },
     "execution_count": 82,
     "metadata": {},
     "output_type": "execute_result"
    },
    {
     "data": {
      "image/png": "[encoded data removed]",
      "text/plain": [
       "<Figure size 432x288 with 1 Axes>"
      ]
     },
     "metadata": {
      "needs_background": "light"
     },
     "output_type": "display_data"
    }
   ],
   "source": [
    "plt.scatter(latitudes, longitude)"
   ]
  },
  {
   "cell_type": "markdown",
   "metadata": {},
   "source": [
    "给定一个初始点 𝑃, 已经 𝑘个车辆，如何从该点出发，经这 k 个车辆经过所以的点全部一次，而且所走过的路程最短?\n",
    "\n",
    "例如："
   ]
  },
  {
   "cell_type": "code",
   "execution_count": 83,
   "metadata": {},
   "outputs": [],
   "source": [
    "chosen_p = (-50, 10)\n",
    "chosen_p2 = (1, 30)\n",
    "chosen_p3 = (99, 15)"
   ]
  },
  {
   "cell_type": "code",
   "execution_count": 84,
   "metadata": {},
   "outputs": [],
   "source": [
    "import matplotlib.pyplot as plt"
   ]
  },
  {
   "cell_type": "code",
   "execution_count": 86,
   "metadata": {
    "scrolled": true
   },
   "outputs": [
    {
     "data": {
      "text/plain": [
       "<matplotlib.collections.PathCollection at 0x8196b38>"
      ]
     },
     "execution_count": 86,
     "metadata": {},
     "output_type": "execute_result"
    },
    {
     "data": {
      "image/png": "[encoded data removed]",
      "text/plain": [
       "<Figure size 432x288 with 1 Axes>"
      ]
     },
     "metadata": {
      "needs_background": "light"
     },
     "output_type": "display_data"
    }
   ],
   "source": [
    "plt.scatter(latitudes, longitude)\n",
    "plt.scatter([chosen_p[0]], [chosen_p[1]], color='r')\n",
    "# plt.scatter([chosen_p2[0]], [chosen_p2[1]], color='r')\n",
    "# plt.scatter([chosen_p3[0]], [chosen_p3[1]], color='r')"
   ]
  },
  {
   "cell_type": "markdown",
   "metadata": {},
   "source": [
    "shuro"
   ]
  }
 ],
 "metadata": {
  "kernelspec": {
   "display_name": "Python 3",
   "language": "python",
   "name": "python3"
  },
  "language_info": {
   "codemirror_mode": {
    "name": "ipython",
    "version": 3
   },
   "file_extension": ".py",
   "mimetype": "text/x-python",
   "name": "python",
   "nbconvert_exporter": "python",
   "pygments_lexer": "ipython3",
   "version": "3.7.1"
  }
 },
 "nbformat": 4,
 "nbformat_minor": 2
}
