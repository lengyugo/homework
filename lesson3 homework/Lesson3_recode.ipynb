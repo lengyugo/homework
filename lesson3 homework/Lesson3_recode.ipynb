{
 "cells": [
  {
   "cell_type": "markdown",
   "metadata": {},
   "source": [
    "# Gradient Descent"
   ]
  },
  {
   "cell_type": "code",
   "execution_count": 1,
   "metadata": {},
   "outputs": [],
   "source": [
    "from sklearn.datasets import load_boston"
   ]
  },
  {
   "cell_type": "code",
   "execution_count": 2,
   "metadata": {},
   "outputs": [],
   "source": [
    "data = load_boston()"
   ]
  },
  {
   "cell_type": "code",
   "execution_count": 6,
   "metadata": {},
   "outputs": [],
   "source": [
    "X,y = data['data'],data['target']"
   ]
  },
  {
   "cell_type": "code",
   "execution_count": 9,
   "metadata": {},
   "outputs": [],
   "source": [
    "X_rm = X[:,5]"
   ]
  },
  {
   "cell_type": "code",
   "execution_count": 10,
   "metadata": {},
   "outputs": [],
   "source": [
    "def price(x,k,b):\n",
    "    return k * x + b"
   ]
  },
  {
   "cell_type": "markdown",
   "metadata": {},
   "source": [
    "## loss\n",
    "$$ loss = \\frac{1}{n} \\sum{(y_i - \\hat{y_i})}^2$$"
   ]
  },
  {
   "cell_type": "code",
   "execution_count": 11,
   "metadata": {},
   "outputs": [],
   "source": [
    "def loss(y,y_hat):\n",
    "    return sum((y_i - y_hat_i)**2 for y_i,y_hat_i in zip(list(y),list(y_hat))) / len(list(y))"
   ]
  },
  {
   "cell_type": "code",
   "execution_count": 12,
   "metadata": {},
   "outputs": [],
   "source": [
    "def partial_k(x,y,y_hat):\n",
    "    n = len(y)\n",
    "    \n",
    "    grandient = 0\n",
    "    for x_i,y_i,y_hat_i in zip(list(x),list(y),list(y_hat)):\n",
    "        grandient += (y_i - y_hat_i)* x_i\n",
    "    return -2/n *grandient"
   ]
  },
  {
   "cell_type": "code",
   "execution_count": 15,
   "metadata": {},
   "outputs": [],
   "source": [
    "def partial_b(x,y,y_hat):\n",
    "    n = len(y)\n",
    "    \n",
    "    grandient = 0\n",
    "    for x_i,y_i,y_hat_i in zip(list(x),list(y),list(y_hat)):\n",
    "        grandient += (y_i - y_hat_i)\n",
    "    return -2/n *grandient"
   ]
  },
  {
   "cell_type": "code",
   "execution_count": 22,
   "metadata": {},
   "outputs": [
    {
     "name": "stdout",
     "output_type": "stream",
     "text": [
      "when times is :0,get best_k: -14.261018856504563 best_b: -60.909368624357406,and the loss is 30264.878462921126\n",
      "when times is :50,get best_k: -12.590704415960628 best_b: -59.23905418381345,and the loss is 26164.20887989716\n",
      "when times is :100,get best_k: -11.037822608865726 best_b: -57.68617237671853,and the loss is 22619.9135253482\n",
      "when times is :150,get best_k: -9.594117251196035 best_b: -56.24246701904885,and the loss is 19556.506947128528\n",
      "when times is :200,get best_k: -8.25191261576187 best_b: -54.900262383614674,and the loss is 16908.7449023457\n",
      "when times is :250,get best_k: -7.004072622781014 best_b: -53.652422390633824,and the loss is 14620.234932931522\n",
      "when times is :300,get best_k: -5.843962899587592 best_b: -52.4923126674404,and the loss is 12642.235443402944\n",
      "when times is :350,get best_k: -4.765415507759799 best_b: -51.41376527561262,and the loss is 10932.617706926154\n",
      "when times is :400,get best_k: -3.7626961501317657 best_b: -50.41104591798457,and the loss is 9454.968695375463\n",
      "when times is :450,get best_k: -2.830473683339595 best_b: -49.478823451192405,and the loss is 8177.815627941309\n",
      "when times is :500,get best_k: -1.963791773809269 best_b: -48.6121415416621,and the loss is 7073.955724853565\n",
      "when times is :550,get best_k: -1.1580425464903485 best_b: -47.80639231434319,and the loss is 6119.8768931439245\n",
      "when times is :600,get best_k: -0.40894208623397854 best_b: -47.05729185408682,and the loss is 5295.2570077815535\n",
      "when times is :650,get best_k: 0.2874923384362168 best_b: -46.36085742941664,and the loss is 4582.531125217469\n",
      "when times is :700,get best_k: 0.9349634502544012 best_b: -45.71338631759845,and the loss is 3966.5174130044397\n",
      "when times is :750,get best_k: 1.5369136494244118 best_b: -45.11143611842844,and the loss is 3434.0938295290334\n",
      "when times is :800,get best_k: 2.0965433157786455 best_b: -44.5518064520742,and the loss is 2973.918668625354\n",
      "when times is :850,get best_k: 2.6168278241907723 best_b: -44.031521943662064,and the loss is 2576.189017951948\n",
      "when times is :900,get best_k: 3.1005333637078727 best_b: -43.54781640414496,and the loss is 2232.431987395082\n",
      "when times is :950,get best_k: 3.5502316445073374 best_b: -43.09811812334548,and the loss is 1935.3242616070859\n",
      "when times is :1000,get best_k: 3.968313570870816 best_b: -42.68003619698201,and the loss is 1678.5361339581998\n",
      "when times is :1050,get best_k: 4.357001952870084 best_b: -42.29134781498273,and the loss is 1456.5967005183948\n",
      "when times is :1100,get best_k: 4.718363324348894 best_b: -41.92998644350393,and the loss is 1264.7773432950282\n",
      "when times is :1150,get best_k: 5.054318930033277 best_b: -41.59403083781955,and the loss is 1098.9910214272609\n",
      "when times is :1200,get best_k: 5.36665494018531 best_b: -41.28169482766751,and the loss is 955.7052256741362\n",
      "when times is :1250,get best_k: 5.6570319471084805 best_b: -40.991317820744335,and the loss is 831.8667424978546\n",
      "when times is :1300,get best_k: 5.926993793994521 best_b: -40.7213559738583,and the loss is 724.8366255337551\n",
      "when times is :1350,get best_k: 6.1779757830519575 best_b: -40.470373984800844,and the loss is 632.333989608975\n",
      "when times is :1400,get best_k: 6.411312306556396 best_b: -40.23703746129642,and the loss is 552.3874303519533\n",
      "when times is :1450,get best_k: 6.628243941394452 best_b: -40.02010582645837,and the loss is 483.2930348254538\n",
      "when times is :1500,get best_k: 6.829924044820771 best_b: -39.81842572303206,and the loss is 423.5780889751334\n",
      "when times is :1550,get best_k: 7.017424886495685 best_b: -39.63092488135715,and the loss is 371.9697090024233\n",
      "when times is :1600,get best_k: 7.191743349405662 best_b: -39.456606418447166,and the loss is 327.36772862844356\n",
      "when times is :1650,get best_k: 7.353806229976518 best_b: -39.29454353787631,and the loss is 288.8212648475512\n",
      "when times is :1700,get best_k: 7.5044751655584445 best_b: -39.14387460229437,and the loss is 255.50846310510332\n",
      "when times is :1750,get best_k: 7.64455121548072 best_b: -39.00379855237211,and the loss is 226.71899054220265\n",
      "when times is :1800,get best_k: 7.774779120032143 best_b: -38.873570647820706,and the loss is 201.8389044724293\n",
      "when times is :1850,get best_k: 7.89585126001085 best_b: -38.75249850784201,and the loss is 180.33757383818397\n",
      "when times is :1900,get best_k: 8.008411337895204 best_b: -38.639938429957645,and the loss is 161.75637511431694\n",
      "when times is :1950,get best_k: 8.113057800207342 best_b: -38.53529196764552,and the loss is 145.69892191535098\n",
      "when times is :2000,get best_k: 8.210347019265068 best_b: -38.4380027485878,and the loss is 131.8226202244044\n",
      "when times is :2050,get best_k: 8.300796251238419 best_b: -38.3475535166144,and the loss is 119.83136939258581\n",
      "when times is :2100,get best_k: 8.38488638623803 best_b: -38.263463381614784,and the loss is 109.46925345817856\n",
      "when times is :2150,get best_k: 8.463064505056495 best_b: -38.18528526279631,and the loss is 100.51508842512402\n",
      "when times is :2200,get best_k: 8.535746256156346 best_b: -38.11260351169648,and the loss is 92.77770936914237\n",
      "when times is :2250,get best_k: 8.603318065542123 best_b: -38.04503170231069,and the loss is 86.09189699561847\n",
      "when times is :2300,get best_k: 8.666139191265913 best_b: -37.982210576586894,and the loss is 80.3148568915196\n",
      "when times is :2350,get best_k: 8.724543633489333 best_b: -37.92380613436348,and the loss is 75.3231764842249\n",
      "when times is :2400,get best_k: 8.778841910257347 best_b: -37.86950785759547,and the loss is 71.01019489379483\n",
      "when times is :2450,get best_k: 8.829322708425027 best_b: -37.819027059427775,and the loss is 67.28372965863454\n",
      "when times is :2500,get best_k: 8.876254418514709 best_b: -37.77209534933811,and the loss is 64.06411191489246\n",
      "when times is :2550,get best_k: 8.91988656166399 best_b: -37.72846320618883,and the loss is 61.28248817917375\n",
      "when times is :2600,get best_k: 8.960451116251104 best_b: -37.68789865160173,and the loss is 58.87935256216083\n",
      "when times is :2650,get best_k: 8.998163751250958 best_b: -37.65018601660187,and the loss is 56.803278148361244\n",
      "when times is :2700,get best_k: 9.033224972879285 best_b: -37.61512479497356,and the loss is 55.00982051904064\n",
      "when times is :2750,get best_k: 9.065821190621023 best_b: -37.58252857723184,and the loss is 53.46057006173218\n",
      "when times is :2800,get best_k: 9.096125708310977 best_b: -37.55222405954189,and the loss is 52.1223328786062\n",
      "when times is :2850,get best_k: 9.124299645535752 best_b: -37.524050122317135,and the loss is 50.96642284499043\n",
      "when times is :2900,get best_k: 9.1504927942559 best_b: -37.49785697359697,and the loss is 49.96804973668495\n",
      "when times is :2950,get best_k: 9.174844415202667 best_b: -37.47350535265018,and the loss is 49.10579039091695\n",
      "when times is :3000,get best_k: 9.1974839782835 best_b: -37.45086578956933,and the loss is 48.36113163435263\n",
      "when times is :3050,get best_k: 9.218531850932767 best_b: -37.42981791692006,and the loss is 47.718075240214375\n",
      "when times is :3100,get best_k: 9.23809993806758 best_b: -37.41024982978523,and the loss is 47.162796497778444\n",
      "when times is :3150,get best_k: 9.256292277051006 best_b: -37.3920574908018,and the loss is 46.683349119516635\n",
      "when times is :3200,get best_k: 9.27320559082603 best_b: -37.3751441770268,and the loss is 46.269410198172565\n",
      "when times is :3250,get best_k: 9.28892980216098 best_b: -37.35941996569186,and the loss is 45.91205977919878\n",
      "when times is :3300,get best_k: 9.303548511740601 best_b: -37.34480125611228,and the loss is 45.60359035134804\n",
      "when times is :3350,get best_k: 9.317139442644603 best_b: -37.33121032520828,and the loss is 45.337342195549304\n",
      "when times is :3400,get best_k: 9.329774853576836 best_b: -37.318574914276034,and the loss is 45.10756108305827\n",
      "when times is :3450,get best_k: 9.341521923042063 best_b: -37.30682784481082,and the loss is 44.90927528999584\n",
      "when times is :3500,get best_k: 9.352443106512927 best_b: -37.295906661339956,and the loss is 44.738189306908694\n",
      "when times is :3550,get best_k: 9.362596468486096 best_b: -37.28575329936678,and the loss is 44.59059197767717\n",
      "when times is :3600,get best_k: 9.37203599119288 best_b: -37.27631377666001,and the loss is 44.46327710952446\n",
      "when times is :3650,get best_k: 9.380811861605785 best_b: -37.26753790624711,and the loss is 44.35347486159676\n"
     ]
    },
    {
     "name": "stdout",
     "output_type": "stream",
     "text": [
      "when times is :3700,get best_k: 9.38897073826687 best_b: -37.259379029586036,and the loss is 44.25879244925017\n",
      "when times is :3750,get best_k: 9.396555999356517 best_b: -37.251793768496405,and the loss is 44.17716289968296\n",
      "when times is :3800,get best_k: 9.403607973321572 best_b: -37.24474179453136,and the loss is 44.1068007661228\n",
      "when times is :3850,get best_k: 9.410164153289031 best_b: -37.23818561456393,and the loss is 44.046163856068155\n",
      "when times is :3900,get best_k: 9.416259396405168 best_b: -37.232090371447825,and the loss is 43.99392015725367\n",
      "when times is :3950,get best_k: 9.42192610916003 best_b: -37.226423658692944,and the loss is 43.948919255789264\n",
      "when times is :4000,get best_k: 9.427194419682566 best_b: -37.22115534817039,and the loss is 43.910167636669485\n",
      "when times is :4050,get best_k: 9.432092337922386 best_b: -37.21625742993059,and the loss is 43.876807339607346\n",
      "when times is :4100,get best_k: 9.43664590456986 best_b: -37.21170386328313,and the loss is 43.84809751467129\n",
      "when times is :4150,get best_k: 9.440879329506275 best_b: -37.207470438346704,and the loss is 43.82339848402883\n",
      "when times is :4200,get best_k: 9.444815120520161 best_b: -37.203534647332816,and the loss is 43.802157969528864\n",
      "when times is :4250,get best_k: 9.448474202974127 best_b: -37.199875564878866,and the loss is 43.78389919204116\n",
      "when times is :4300,get best_k: 9.451876031058404 best_b: -37.196473736794594,and the loss is 43.768210588382445\n",
      "when times is :4350,get best_k: 9.455038691222692 best_b: -37.19331107663029,and the loss is 43.75473692616107\n",
      "when times is :4400,get best_k: 9.457978998336088 best_b: -37.19037076951689,and the loss is 43.74317162668693\n",
      "when times is :4450,get best_k: 9.460712585086481 best_b: -37.187637182766494,and the loss is 43.73325013186616\n",
      "when times is :4500,get best_k: 9.463253985094628 best_b: -37.18509578275834,and the loss is 43.7247441732717\n",
      "when times is :4550,get best_k: 9.46561671018483 best_b: -37.18273305766813,and the loss is 43.71745682083451\n",
      "when times is :4600,get best_k: 9.46781332222307 best_b: -37.18053644562989,and the loss is 43.71121820523547\n",
      "when times is :4650,get best_k: 9.469855499904481 best_b: -37.17849426794847,and the loss is 43.705881822460775\n",
      "when times is :4700,get best_k: 9.471754100845326 best_b: -37.17659566700762,and the loss is 43.701321341411095\n",
      "when times is :4750,get best_k: 9.473519219309496 best_b: -37.17483054854344,and the loss is 43.69742784619592\n",
      "when times is :4800,get best_k: 9.47516023987655 best_b: -37.17318952797639,and the loss is 43.69410745402995\n",
      "when times is :4850,get best_k: 9.476685887336568 best_b: -37.17166388051636,and the loss is 43.69127925766997\n",
      "when times is :4900,get best_k: 9.478104273077125 best_b: -37.17024549477582,and the loss is 43.68887354826731\n",
      "when times is :4950,get best_k: 9.479422938208968 best_b: -37.16892682964399,and the loss is 43.68683028050217\n",
      "when times is :5000,get best_k: 9.480648893659728 best_b: -37.16770087419322,and the loss is 43.685097747048026\n",
      "when times is :5050,get best_k: 9.481788657448863 best_b: -37.16656111040408,and the loss is 43.683631433887975\n",
      "when times is :5100,get best_k: 9.482848289341852 best_b: -37.16550147851108,and the loss is 43.682393031877154\n",
      "when times is :5150,get best_k: 9.483833423068123 best_b: -37.16451634478483,and the loss is 43.681349583286\n",
      "when times is :5200,get best_k: 9.484749296273753 best_b: -37.163600471579194,and the loss is 43.68047274494915\n",
      "when times is :5250,get best_k: 9.485600778368452 best_b: -37.162748989484484,and the loss is 43.679738152144395\n",
      "when times is :5300,get best_k: 9.48639239641462 best_b: -37.161957371438305,and the loss is 43.67912486948024\n",
      "when times is :5350,get best_k: 9.487128359196374 best_b: -37.16122140865657,and the loss is 43.678614916940056\n",
      "when times is :5400,get best_k: 9.487812579596289 best_b: -37.16053718825667,and the loss is 43.67819286083795\n",
      "when times is :5450,get best_k: 9.488448695398965 best_b: -37.159901072453984,and the loss is 43.67784546083903\n",
      "when times is :5500,get best_k: 9.489040088632004 best_b: -37.159309679220954,and the loss is 43.677561365395725\n",
      "when times is :5550,get best_k: 9.489589903547165 best_b: -37.158759864305786,and the loss is 43.677330848996796\n",
      "when times is :5600,get best_k: 9.49010106333738 best_b: -37.158248704515564,and the loss is 43.677145585519554\n",
      "when times is :5650,get best_k: 9.490576285678435 best_b: -37.15777348217449,and the loss is 43.67699845275643\n",
      "when times is :5700,get best_k: 9.491018097178019 best_b: -37.1573316706749,and the loss is 43.67688336385649\n",
      "when times is :5750,get best_k: 9.491428846808882 best_b: -37.15692092104404,and the loss is 43.67679512200204\n",
      "when times is :5800,get best_k: 9.49181071839758 best_b: -37.15653904945534,and the loss is 43.67672929514288\n",
      "when times is :5850,get best_k: 9.492165742235215 best_b: -37.156184025617705,and the loss is 43.676682108042584\n",
      "when times is :5900,get best_k: 9.492495805871844 best_b: -37.15585396198107,and the loss is 43.676650349265664\n",
      "when times is :5950,get best_k: 9.49280266415197 best_b: -37.15554710370095,and the loss is 43.676631291058584\n",
      "when times is :6000,get best_k: 9.493087948544527 best_b: -37.155261819308386,and the loss is 43.676622620355175\n"
     ]
    }
   ],
   "source": [
    "import random\n",
    "try_times = 20000\n",
    "\n",
    "current_k = random.random() * 200 - 100\n",
    "current_b = random.random() * 200 - 100\n",
    "\n",
    "min_loss = float('inf')\n",
    "update_times = 0\n",
    "learn_rate = 1e-04\n",
    "\n",
    "for i in range(try_times):\n",
    "    \n",
    "    price_k_and_b = price(X_rm,current_k,current_b)\n",
    "    current_loss = loss(y,price_k_and_b)\n",
    "    \n",
    "    if current_loss < min_loss:\n",
    "        min_loss = current_loss\n",
    "        \n",
    "        #update_times += 1\n",
    "        if i % 50 == 0:\n",
    "            print('when times is :{},get best_k: {} best_b: {},and the loss is {}'.\n",
    "              format(i,current_k,current_b,current_loss))\n",
    "    k_grand = partial_k(X_rm,y,price_k_and_b)\n",
    "    b_grand = partial_b(X_rm,y,price_k_and_b)\n",
    "    \n",
    "    current_k = current_k + (-1 * k_grand * learn_rate)\n",
    "    current_b = current_b + (-1 * b_grand * learn_rate)\n",
    "    \n",
    "     \n",
    "\n",
    "\n"
   ]
  },
  {
   "cell_type": "markdown",
   "metadata": {},
   "source": [
    "## loss\n",
    "$$ loss = \\frac{1}{n} \\sum{|(y_i - \\hat{y_i})|} $$"
   ]
  },
  {
   "cell_type": "code",
   "execution_count": 157,
   "metadata": {},
   "outputs": [],
   "source": [
    "def loss_abs(y,y_hat):\n",
    "    return sum(abs(y_i - y_hat_i) for y_i,y_hat_i in zip(list(y),list(y_hat))) / len(list(y))"
   ]
  },
  {
   "cell_type": "code",
   "execution_count": 169,
   "metadata": {},
   "outputs": [],
   "source": [
    "def partial_k_abs(x,y,y_hat):\n",
    "    n = len(y)\n",
    "    \n",
    "    grandient = 0\n",
    "    for x_i,y_i,y_hat_i in zip(list(x),list(y),list(y_hat)):\n",
    "        if y_i - y_hat_i >=  0:\n",
    "            grandient += x_i\n",
    "        else:\n",
    "            grandient += -1 *  x_i\n",
    "    return -1/n * grandient ## ??"
   ]
  },
  {
   "cell_type": "code",
   "execution_count": 170,
   "metadata": {},
   "outputs": [],
   "source": [
    "def partial_b_abs(x,y,y_hat):\n",
    "    n = len(y)\n",
    "    \n",
    "    grandient = 0\n",
    "    for x_i,y_i,y_hat_i in zip(list(x),list(y),list(y_hat)):\n",
    "        if y_i - y_hat_i >= 0: \n",
    "            grandient += -1\n",
    "        else:\n",
    "            grandient += 1\n",
    "    return -1/n *grandient  ## ??"
   ]
  },
  {
   "cell_type": "code",
   "execution_count": 174,
   "metadata": {},
   "outputs": [
    {
     "name": "stdout",
     "output_type": "stream",
     "text": [
      "when times is :0,get best_k: 25.43410259964179 best_b: -69.83100427023778,and the loss is 67.50694523421228\n",
      "when times is :50,get best_k: 25.120574635214894 best_b: -69.78120189869621,and the loss is 65.5905550688821\n",
      "when times is :100,get best_k: 24.807046670787997 best_b: -69.73139952715464,and the loss is 63.67416490355205\n",
      "when times is :150,get best_k: 24.4935187063611 best_b: -69.68159715561306,and the loss is 61.757774738221876\n",
      "when times is :200,get best_k: 24.179990741934205 best_b: -69.63179478407149,and the loss is 59.84138457289176\n",
      "when times is :250,get best_k: 23.86739676960218 best_b: -69.58219794612693,and the loss is 57.93635258511032\n",
      "when times is :300,get best_k: 23.555614457349208 best_b: -69.53279083150268,and the loss is 56.04100963994431\n",
      "when times is :350,get best_k: 23.243832145096235 best_b: -69.48338371687844,and the loss is 54.14566669477822\n",
      "when times is :400,get best_k: 22.932049832843262 best_b: -69.43397660225419,and the loss is 52.25032374961223\n",
      "when times is :450,get best_k: 22.62026752059029 best_b: -69.38456948762995,and the loss is 50.35498080444617\n",
      "when times is :500,get best_k: 22.308485208337316 best_b: -69.3351623730057,and the loss is 48.4596378592802\n",
      "when times is :550,get best_k: 21.996702896084344 best_b: -69.28575525838146,and the loss is 46.56429491411416\n",
      "when times is :600,get best_k: 21.68492058383137 best_b: -69.23634814375721,and the loss is 44.668951968948065\n",
      "when times is :650,get best_k: 21.373138271578398 best_b: -69.18694102913297,and the loss is 42.773609023782086\n",
      "when times is :700,get best_k: 21.061355959325425 best_b: -69.13753391450872,and the loss is 40.878266078616015\n",
      "when times is :750,get best_k: 20.749573647072452 best_b: -69.08812679988448,and the loss is 38.98292313345007\n",
      "when times is :800,get best_k: 20.43779133481948 best_b: -69.03871968526023,and the loss is 37.08758018828401\n",
      "when times is :850,get best_k: 20.12649667078785 best_b: -68.98939557458833,and the loss is 35.198145541541315\n",
      "when times is :900,get best_k: 19.816366097665345 best_b: -68.94030466549724,and the loss is 33.322723034270425\n",
      "when times is :950,get best_k: 19.50659535062981 best_b: -68.89130071292796,and the loss is 31.45168612753996\n",
      "when times is :1000,get best_k: 19.197609678692963 best_b: -68.842486483679,and the loss is 29.589899797838633\n",
      "when times is :1050,get best_k: 18.889508496874768 best_b: -68.79381454692027,and the loss is 27.738881669875855\n",
      "when times is :1100,get best_k: 18.582172010708767 best_b: -68.74528885522064,and the loss is 25.89692164165859\n",
      "when times is :1150,get best_k: 18.275329421775957 best_b: -68.6968698828883,and the loss is 24.06076209163292\n",
      "when times is :1200,get best_k: 17.96938919647957 best_b: -68.64863272873792,and the loss is 22.23536554429293\n",
      "when times is :1250,get best_k: 17.66402621624244 best_b: -68.60049834138606,and the loss is 20.41695610083701\n",
      "when times is :1300,get best_k: 17.360348449443947 best_b: -68.55267225442971,and the loss is 18.618299071754354\n",
      "when times is :1350,get best_k: 17.057158334819377 best_b: -68.50493312399517,and the loss is 16.825478709340445\n",
      "when times is :1400,get best_k: 16.7597952320526 best_b: -68.458253282098,and the loss is 15.100863556823679\n",
      "when times is :1450,get best_k: 16.46892075379172 best_b: -68.4128184994893,and the loss is 13.450186850652427\n",
      "when times is :1500,get best_k: 16.18544653244783 best_b: -68.36879083150514,and the loss is 11.882179858183932\n",
      "when times is :1550,get best_k: 15.90756016090633 best_b: -68.32580664178181,and the loss is 10.374799325068517\n",
      "when times is :1600,get best_k: 15.63484044153874 best_b: -68.28366039672262,and the loss is 8.922876860215487\n",
      "when times is :1650,get best_k: 15.376263291341095 best_b: -68.24392126628781,and the loss is 7.6177728039716746\n",
      "when times is :1700,get best_k: 15.146458421775865 best_b: -68.20914261016135,and the loss is 6.584675227495029\n",
      "when times is :1750,get best_k: 14.964921058139497 best_b: -68.18232442834312,and the loss is 5.937744995143749\n",
      "when times is :1800,get best_k: 14.82610359964147 best_b: -68.16230466549736,and the loss is 5.559054245110513\n",
      "when times is :1850,get best_k: 14.720234145096006 best_b: -68.14751415166333,and the loss is 5.338426519049974\n",
      "when times is :1900,get best_k: 14.640521485016956 best_b: -68.13692521885697,and the loss is 5.213395447051731\n",
      "when times is :1950,get best_k: 14.5793249790881 best_b: -68.12930466549726,and the loss is 5.139448143148217\n",
      "when times is :2000,get best_k: 14.53892485655846 best_b: -68.12499241253283,and the loss is 5.106693710493445\n",
      "when times is :2050,get best_k: 14.512280979088102 best_b: -68.1228856931652,and the loss is 5.092441630233255\n",
      "when times is :2100,get best_k: 14.495337524542634 best_b: -68.1222256141138,and the loss is 5.086638250421264\n",
      "when times is :2150,get best_k: 14.485408054186887 best_b: -68.12268015956826,and the loss is 5.084647206998513\n",
      "when times is :2200,get best_k: 14.479786848653276 best_b: -68.12381454691989,and the loss is 5.0839682439712055\n",
      "when times is :2250,get best_k: 14.475729437586061 best_b: -68.12519794612912,and the loss is 5.083677268147288\n",
      "when times is :2300,get best_k: 14.472659753791602 best_b: -68.12674340067446,and the loss is 5.083533703878476\n",
      "when times is :2350,get best_k: 14.469806888178967 best_b: -68.12832442834235,and the loss is 5.083420920004137\n"
     ]
    }
   ],
   "source": [
    "import random\n",
    "try_times = 20000\n",
    "\n",
    "current_k = random.random() * 200 - 100\n",
    "current_b = random.random() * 200 - 100\n",
    "\n",
    "min_loss = float('inf')\n",
    "update_times = 0\n",
    "learn_rate = 1e-03\n",
    "\n",
    "for i in range(try_times):\n",
    "    \n",
    "    price_k_and_b = price(X_rm,current_k,current_b)\n",
    "    current_loss = loss_abs(y,price_k_and_b)\n",
    "    \n",
    "    if current_loss < min_loss:\n",
    "        min_loss = current_loss\n",
    "        \n",
    "        #update_times += 1\n",
    "        if i % 50 == 0:\n",
    "            print('when times is :{},get best_k: {} best_b: {},and the loss is {}'.\n",
    "              format(i,current_k,current_b,current_loss))\n",
    "    k_grand = partial_k_abs(X_rm,y,price_k_and_b)\n",
    "    b_grand = partial_b_abs(X_rm,y,price_k_and_b)\n",
    "    \n",
    "    \n",
    "#     price_by_random_k_and_b  = [price(r,current_k,current_b) for r in X_rm]\n",
    "#     #plt.scatter(X_rm,y)\n",
    "#     plt.scatter(X_rm,price_by_random_k_and_b)\n",
    "    \n",
    "    current_k = current_k + (-1 * k_grand * learn_rate)\n",
    "    current_b = current_b + (-1 * b_grand * learn_rate)\n",
    "    \n",
    "   "
   ]
  },
  {
   "cell_type": "code",
   "execution_count": 165,
   "metadata": {},
   "outputs": [],
   "source": [
    "import matplotlib.pyplot as plt"
   ]
  },
  {
   "cell_type": "code",
   "execution_count": 176,
   "metadata": {},
   "outputs": [
    {
     "data": {
      "text/plain": [
       "<matplotlib.collections.PathCollection at 0x184c52b0>"
      ]
     },
     "execution_count": 176,
     "metadata": {},
     "output_type": "execute_result"
    },
    {
     "data": {
      "image/png": "[encoded data removed]",
      "text/plain": [
       "<Figure size 432x288 with 1 Axes>"
      ]
     },
     "metadata": {
      "needs_background": "light"
     },
     "output_type": "display_data"
    }
   ],
   "source": [
    "k = 14.469806888178967\n",
    "b =  -68.12832442834235\n",
    "k1 = 8.005456511475284\n",
    "b1 = -27.653936021116806\n",
    "price_by_random_k_and_b  = [price(r,k,b) for r in X_rm]\n",
    "price_by_random_k_and_b1 = [price(r,k1,b1) for r in X_rm]\n",
    "plt.scatter(X_rm,y)\n",
    "plt.scatter(X_rm,price_by_random_k_and_b)\n",
    "plt.scatter(X_rm,price_by_random_k_and_b1)"
   ]
  },
  {
   "cell_type": "markdown",
   "metadata": {},
   "source": [
    "# Dynamic Programming"
   ]
  },
  {
   "cell_type": "code",
   "execution_count": 239,
   "metadata": {},
   "outputs": [],
   "source": [
    "original_price = [1, 5, 8, 9, 10, 17, 17, 20, 24, 30, 32,34]"
   ]
  },
  {
   "cell_type": "code",
   "execution_count": 182,
   "metadata": {},
   "outputs": [],
   "source": [
    "from collections import defaultdict"
   ]
  },
  {
   "cell_type": "code",
   "execution_count": 248,
   "metadata": {},
   "outputs": [],
   "source": [
    "price_clip = defaultdict(int)\n",
    "for i,p in enumerate(original_price):\n",
    "    price_clip[i+1] = p"
   ]
  },
  {
   "cell_type": "code",
   "execution_count": 249,
   "metadata": {},
   "outputs": [
    {
     "data": {
      "text/plain": [
       "34"
      ]
     },
     "execution_count": 249,
     "metadata": {},
     "output_type": "execute_result"
    }
   ],
   "source": [
    "price_clip[12]"
   ]
  },
  {
   "cell_type": "code",
   "execution_count": 54,
   "metadata": {},
   "outputs": [],
   "source": [
    "def r(n):\n",
    "    return max([price_clip[n]] + [r(i)+r(n-i) for i in range(1,n)])"
   ]
  },
  {
   "cell_type": "code",
   "execution_count": 57,
   "metadata": {},
   "outputs": [
    {
     "data": {
      "text/plain": [
       "45"
      ]
     },
     "execution_count": 57,
     "metadata": {},
     "output_type": "execute_result"
    }
   ],
   "source": [
    "r(15)"
   ]
  },
  {
   "cell_type": "code",
   "execution_count": 240,
   "metadata": {},
   "outputs": [],
   "source": [
    "call_time = defaultdict(int)\n",
    "def get_call_times(f):\n",
    "    result = f()\n",
    "    print('function:{} called once!'.format(f.__name__))\n",
    "    call_time[f.__name__] +=1\n",
    "    return result"
   ]
  },
  {
   "cell_type": "code",
   "execution_count": 241,
   "metadata": {},
   "outputs": [],
   "source": [
    "def some_function_1():print('I am function1')"
   ]
  },
  {
   "cell_type": "code",
   "execution_count": 242,
   "metadata": {},
   "outputs": [
    {
     "name": "stdout",
     "output_type": "stream",
     "text": [
      "I am function1\n",
      "function:some_function_1 called once!\n"
     ]
    }
   ],
   "source": [
    "get_call_times(some_function_1)"
   ]
  },
  {
   "cell_type": "code",
   "execution_count": 243,
   "metadata": {},
   "outputs": [
    {
     "data": {
      "text/plain": [
       "defaultdict(int, {'some_function_1': 1})"
      ]
     },
     "execution_count": 243,
     "metadata": {},
     "output_type": "execute_result"
    }
   ],
   "source": [
    "call_time"
   ]
  },
  {
   "cell_type": "markdown",
   "metadata": {},
   "source": [
    "# 装饰器"
   ]
  },
  {
   "cell_type": "code",
   "execution_count": 179,
   "metadata": {},
   "outputs": [],
   "source": [
    "from functools import wraps"
   ]
  },
  {
   "cell_type": "code",
   "execution_count": 314,
   "metadata": {},
   "outputs": [],
   "source": [
    "called_time_with_arg = {}"
   ]
  },
  {
   "cell_type": "code",
   "execution_count": 315,
   "metadata": {},
   "outputs": [],
   "source": [
    "called_time_with_arg = defaultdict(int)\n",
    "def get_call_time(f):\n",
    "    #@wraps(f) ##保持原来函数的特性\n",
    "    def wrap(n):\n",
    "        \"\"\"print('i am count!')\"\"\"\n",
    "        result = f(n)\n",
    "        called_time_with_arg[(f.__name__,n)] += 1\n",
    "        return result\n",
    "    return wrap"
   ]
  },
  {
   "cell_type": "code",
   "execution_count": 288,
   "metadata": {},
   "outputs": [],
   "source": [
    "@get_call_time  ##等价于add_count = get_call_time(add_count)\n",
    "def add_count(n):\n",
    "    \"\"\"sdf\"\"\"\n",
    "    return n+20"
   ]
  },
  {
   "cell_type": "code",
   "execution_count": 289,
   "metadata": {
    "scrolled": false
   },
   "outputs": [
    {
     "data": {
      "text/plain": [
       "<function __main__.get_call_time.<locals>.wrap(n)>"
      ]
     },
     "execution_count": 289,
     "metadata": {},
     "output_type": "execute_result"
    }
   ],
   "source": [
    "add_count"
   ]
  },
  {
   "cell_type": "code",
   "execution_count": 220,
   "metadata": {},
   "outputs": [
    {
     "name": "stdout",
     "output_type": "stream",
     "text": [
      "Help on function add_count in module __main__:\n",
      "\n",
      "add_count(n)\n",
      "    sdf\n",
      "\n"
     ]
    }
   ],
   "source": [
    "help(add_count)"
   ]
  },
  {
   "cell_type": "code",
   "execution_count": 95,
   "metadata": {},
   "outputs": [
    {
     "data": {
      "text/plain": [
       "defaultdict(int, {('add_count', 10): 1})"
      ]
     },
     "execution_count": 95,
     "metadata": {},
     "output_type": "execute_result"
    }
   ],
   "source": [
    "called_time_with_arg"
   ]
  },
  {
   "cell_type": "code",
   "execution_count": 87,
   "metadata": {},
   "outputs": [],
   "source": [
    "add_count = get_call_time(add_count)"
   ]
  },
  {
   "cell_type": "code",
   "execution_count": 88,
   "metadata": {},
   "outputs": [
    {
     "name": "stdout",
     "output_type": "stream",
     "text": [
      "i am count!\n"
     ]
    },
    {
     "data": {
      "text/plain": [
       "30"
      ]
     },
     "execution_count": 88,
     "metadata": {},
     "output_type": "execute_result"
    }
   ],
   "source": [
    "add_count(10)"
   ]
  },
  {
   "cell_type": "code",
   "execution_count": 138,
   "metadata": {},
   "outputs": [],
   "source": [
    "@get_call_time\n",
    "def r(n):\n",
    "    return max([price_clip[n]] + [r(i)+r(n-i) for i in range(1,n)])"
   ]
  },
  {
   "cell_type": "code",
   "execution_count": 139,
   "metadata": {},
   "outputs": [
    {
     "data": {
      "text/plain": [
       "45"
      ]
     },
     "execution_count": 139,
     "metadata": {},
     "output_type": "execute_result"
    }
   ],
   "source": [
    "r(15)"
   ]
  },
  {
   "cell_type": "code",
   "execution_count": 142,
   "metadata": {},
   "outputs": [
    {
     "data": {
      "text/plain": [
       "{}"
      ]
     },
     "execution_count": 142,
     "metadata": {},
     "output_type": "execute_result"
    }
   ],
   "source": [
    "called_time_with_arg"
   ]
  },
  {
   "cell_type": "code",
   "execution_count": 299,
   "metadata": {},
   "outputs": [],
   "source": [
    "solution = {}\n",
    "memo.already_computed = {}"
   ]
  },
  {
   "cell_type": "code",
   "execution_count": 317,
   "metadata": {},
   "outputs": [],
   "source": [
    "def memo(f):\n",
    "    memo.already_computed = {}\n",
    "    @wraps(f)\n",
    "    def _wrap(arg):\n",
    "        result = None\n",
    "        if arg in memo.already_computed:\n",
    "            result = memo.already_computed[arg]\n",
    "        else:\n",
    "            result = f(arg)\n",
    "            memo.already_computed[arg] = result\n",
    "        return result\n",
    "    return _wrap"
   ]
  },
  {
   "cell_type": "code",
   "execution_count": 318,
   "metadata": {},
   "outputs": [],
   "source": [
    "@get_call_time #有错误\n",
    "@memo\n",
    "def r_n(n):\n",
    "    max_price,max_split = max(\n",
    "    [(price_clip[n],0)] + [(r_n(i) + r_n(n-i),i)for i in range(1,n)],key=lambda x:x[0]\n",
    "    )\n",
    "    solution[n] = (n - max_split,max_split)\n",
    "    return max_price"
   ]
  },
  {
   "cell_type": "code",
   "execution_count": 319,
   "metadata": {},
   "outputs": [
    {
     "data": {
      "text/plain": [
       "<function __main__.get_call_time.<locals>.wrap(n)>"
      ]
     },
     "execution_count": 319,
     "metadata": {},
     "output_type": "execute_result"
    }
   ],
   "source": [
    "r_n"
   ]
  },
  {
   "cell_type": "code",
   "execution_count": 323,
   "metadata": {
    "scrolled": true
   },
   "outputs": [
    {
     "data": {
      "text/plain": [
       "90"
      ]
     },
     "execution_count": 323,
     "metadata": {},
     "output_type": "execute_result"
    }
   ],
   "source": [
    "r_n(30)"
   ]
  },
  {
   "cell_type": "code",
   "execution_count": 324,
   "metadata": {},
   "outputs": [
    {
     "data": {
      "text/plain": [
       "defaultdict(int,\n",
       "            {('r_n', 1): 58,\n",
       "             ('r_n', 2): 56,\n",
       "             ('r_n', 3): 54,\n",
       "             ('r_n', 4): 52,\n",
       "             ('r_n', 5): 50,\n",
       "             ('r_n', 6): 48,\n",
       "             ('r_n', 7): 46,\n",
       "             ('r_n', 8): 44,\n",
       "             ('r_n', 9): 42,\n",
       "             ('r_n', 10): 40,\n",
       "             ('r_n', 11): 38,\n",
       "             ('r_n', 12): 36,\n",
       "             ('r_n', 13): 34,\n",
       "             ('r_n', 14): 32,\n",
       "             ('r_n', 15): 31,\n",
       "             ('r_n', 16): 28,\n",
       "             ('r_n', 17): 26,\n",
       "             ('r_n', 18): 24,\n",
       "             ('r_n', 19): 22,\n",
       "             ('r_n', 20): 20,\n",
       "             ('r_n', 21): 18,\n",
       "             ('r_n', 22): 16,\n",
       "             ('r_n', 23): 14,\n",
       "             ('r_n', 24): 12,\n",
       "             ('r_n', 25): 10,\n",
       "             ('r_n', 26): 8,\n",
       "             ('r_n', 27): 6,\n",
       "             ('r_n', 28): 4,\n",
       "             ('r_n', 29): 2,\n",
       "             ('r_n', 30): 1})"
      ]
     },
     "execution_count": 324,
     "metadata": {},
     "output_type": "execute_result"
    }
   ],
   "source": [
    "called_time_with_arg"
   ]
  },
  {
   "cell_type": "code",
   "execution_count": 325,
   "metadata": {},
   "outputs": [
    {
     "data": {
      "text/plain": [
       "{1: (1, 0),\n",
       " 2: (2, 0),\n",
       " 3: (3, 0),\n",
       " 4: (2, 2),\n",
       " 5: (3, 2),\n",
       " 6: (6, 0),\n",
       " 7: (6, 1),\n",
       " 8: (6, 2),\n",
       " 9: (6, 3),\n",
       " 10: (10, 0),\n",
       " 11: (11, 0),\n",
       " 12: (10, 2),\n",
       " 13: (10, 3),\n",
       " 14: (12, 2),\n",
       " 15: (13, 2),\n",
       " 16: (10, 6),\n",
       " 17: (11, 6),\n",
       " 18: (16, 2),\n",
       " 19: (16, 3),\n",
       " 20: (10, 10),\n",
       " 21: (11, 10),\n",
       " 22: (20, 2),\n",
       " 23: (20, 3),\n",
       " 24: (22, 2),\n",
       " 25: (23, 2),\n",
       " 26: (20, 6),\n",
       " 27: (21, 6),\n",
       " 28: (26, 2),\n",
       " 29: (26, 3),\n",
       " 30: (20, 10)}"
      ]
     },
     "execution_count": 325,
     "metadata": {},
     "output_type": "execute_result"
    }
   ],
   "source": [
    "solution"
   ]
  },
  {
   "cell_type": "code",
   "execution_count": 326,
   "metadata": {},
   "outputs": [],
   "source": [
    "def parse_solution(n):\n",
    "    left_split,right_split = solution[n]\n",
    "    if right_split == 0:\n",
    "        return [left_split]\n",
    "    return parse_solution(left_split) + parse_solution(right_split)"
   ]
  },
  {
   "cell_type": "code",
   "execution_count": 327,
   "metadata": {},
   "outputs": [
    {
     "data": {
      "text/plain": [
       "493"
      ]
     },
     "execution_count": 327,
     "metadata": {},
     "output_type": "execute_result"
    }
   ],
   "source": [
    "r_n(165)"
   ]
  },
  {
   "cell_type": "code",
   "execution_count": 328,
   "metadata": {},
   "outputs": [
    {
     "data": {
      "text/plain": [
       "[10, 10, 10, 10, 10, 10, 10, 10, 10, 10, 10, 10, 10, 10, 10, 10, 3, 2]"
      ]
     },
     "execution_count": 328,
     "metadata": {},
     "output_type": "execute_result"
    }
   ],
   "source": [
    "parse_solution(165)"
   ]
  },
  {
   "cell_type": "code",
   "execution_count": null,
   "metadata": {},
   "outputs": [],
   "source": []
  }
 ],
 "metadata": {
  "kernelspec": {
   "display_name": "Python 3",
   "language": "python",
   "name": "python3"
  },
  "language_info": {
   "codemirror_mode": {
    "name": "ipython",
    "version": 3
   },
   "file_extension": ".py",
   "mimetype": "text/x-python",
   "name": "python",
   "nbconvert_exporter": "python",
   "pygments_lexer": "ipython3",
   "version": "3.7.1"
  }
 },
 "nbformat": 4,
 "nbformat_minor": 2
}
