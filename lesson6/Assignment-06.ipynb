{
 "cells": [
  {
   "cell_type": "markdown",
   "metadata": {},
   "source": [
    "## 1. Summarize the reasons of overfitting and underfitting. Put them in github repository."
   ]
  },
  {
   "cell_type": "markdown",
   "metadata": {},
   "source": [
    "bias,偏差，指的是预测值的期望与真实值之间的差距，偏差越大，越偏离真实数据\n",
    "\n",
    "variance,方差，指的是预测值的变化范围，离散程度，方差越大，数据越分散\n",
    "\n",
    "underfitting原因：模型复杂度过低，不能很好的拟合所有的数据，训练误差大，优化方法：继续训练，并改变模型算法\n",
    "\n",
    "overfitting原因：模型复杂度过高，训练数据过少，训练误差小，测试误差大，优化方法：正则化，数据扩增，减少噪声干扰"
   ]
  },
  {
   "cell_type": "markdown",
   "metadata": {},
   "source": [
    "## 2. install the numpy, scikit-learning, keras, tensorflow"
   ]
  },
  {
   "cell_type": "code",
   "execution_count": 2,
   "metadata": {},
   "outputs": [],
   "source": [
    ">>> from sklearn import datasets\n",
    ">>> iris = datasets.load_iris()\n",
    ">>> digits = datasets.load_digits()"
   ]
  },
  {
   "cell_type": "code",
   "execution_count": 3,
   "metadata": {
    "scrolled": true
   },
   "outputs": [
    {
     "data": {
      "text/plain": [
       "array([[ 0.,  0.,  5., ...,  0.,  0.,  0.],\n",
       "       [ 0.,  0.,  0., ..., 10.,  0.,  0.],\n",
       "       [ 0.,  0.,  0., ..., 16.,  9.,  0.],\n",
       "       ...,\n",
       "       [ 0.,  0.,  1., ...,  6.,  0.,  0.],\n",
       "       [ 0.,  0.,  2., ..., 12.,  0.,  0.],\n",
       "       [ 0.,  0., 10., ..., 12.,  1.,  0.]])"
      ]
     },
     "execution_count": 3,
     "metadata": {},
     "output_type": "execute_result"
    }
   ],
   "source": [
    "digits.data"
   ]
  },
  {
   "cell_type": "code",
   "execution_count": 7,
   "metadata": {},
   "outputs": [
    {
     "name": "stdout",
     "output_type": "stream",
     "text": [
      "b'Hello, TensorFlow!'\n"
     ]
    }
   ],
   "source": [
    "import tensorflow as tf\n",
    "hello = tf.constant('Hello, TensorFlow!')\n",
    "sess = tf.Session()\n",
    "print(sess.run(hello))"
   ]
  },
  {
   "cell_type": "code",
   "execution_count": 10,
   "metadata": {},
   "outputs": [
    {
     "name": "stdout",
     "output_type": "stream",
     "text": [
      "0 [[ 0.5290299  -0.03054243]] [0.5192593]\n",
      "20 [[0.1612696  0.11662482]] [0.31843367]\n",
      "40 [[0.10977162 0.1779516 ]] [0.3080716]\n",
      "60 [[0.10098632 0.19367869]] [0.30321673]\n",
      "80 [[0.09983175 0.19804917]] [0.30122772]\n",
      "100 [[0.09983063 0.19936189]] [0.30045843]\n",
      "120 [[0.09991619 0.19978257]] [0.3001692]\n",
      "140 [[0.09996495 0.19992392]] [0.30006203]\n",
      "160 [[0.09998632 0.19997293]] [0.3000227]\n",
      "180 [[0.09999484 0.19999029]] [0.30000827]\n",
      "200 [[0.09999808 0.1999965 ]] [0.300003]\n"
     ]
    }
   ],
   "source": [
    "import numpy as np\n",
    "x_data = np.float32(np.random.rand(2, 100)) \n",
    "y_data = np.dot([0.100, 0.200], x_data) + 0.300\n",
    "\n",
    "# 构造一个线性模型\n",
    "b = tf.Variable(tf.zeros([1]))\n",
    "W = tf.Variable(tf.random_uniform([1, 2], -1.0, 1.0))\n",
    "y = tf.matmul(W, x_data) + b\n",
    "\n",
    "# 最小化方差\n",
    "loss = tf.reduce_mean(tf.square(y - y_data))\n",
    "optimizer = tf.train.GradientDescentOptimizer(0.5)\n",
    "train = optimizer.minimize(loss)\n",
    "\n",
    "# 初始化变量\n",
    "init = tf.initialize_all_variables()\n",
    "\n",
    "# 启动图 (graph)\n",
    "sess = tf.Session()\n",
    "sess.run(init)\n",
    "\n",
    "# 拟合平面\n",
    "for step in range(0, 201):\n",
    "    sess.run(train)\n",
    "    if step % 20 == 0:\n",
    "        print(step, sess.run(W), sess.run(b))\n"
   ]
  },
  {
   "cell_type": "code",
   "execution_count": 12,
   "metadata": {},
   "outputs": [
    {
     "name": "stderr",
     "output_type": "stream",
     "text": [
      "D:\\ProgramData\\Anaconda3\\lib\\site-packages\\ipykernel_launcher.py:19: UserWarning: Update your `Dense` call to the Keras 2 API: `Dense(input_dim=1, units=1)`\n"
     ]
    },
    {
     "name": "stdout",
     "output_type": "stream",
     "text": [
      "Training -----------\n",
      "train cost:  4.0225005\n",
      "train cost:  0.07323862\n",
      "train cost:  0.00386274\n",
      "train cost:  0.0026434488\n",
      "\n",
      "Testing ------------\n",
      "40/40 [==============================] - 0s 950us/step\n",
      "test cost: 0.0031367032788693905\n",
      "Weights= [[0.4922711]] \n",
      "biases= [1.9995022]\n"
     ]
    },
    {
     "data": {
      "text/plain": [
       "[<matplotlib.lines.Line2D at 0x123d6400>]"
      ]
     },
     "execution_count": 12,
     "metadata": {},
     "output_type": "execute_result"
    },
    {
     "data": {
      "image/png": "[encoded data removed]",
      "text/plain": [
       "<Figure size 432x288 with 1 Axes>"
      ]
     },
     "metadata": {
      "needs_background": "light"
     },
     "output_type": "display_data"
    }
   ],
   "source": [
    "np.random.seed(1337)  \n",
    "from keras.models import Sequential \n",
    "from keras.layers import Dense\n",
    "import matplotlib.pyplot as plt\n",
    "\n",
    "# 创建数据集\n",
    "X = np.linspace(-1, 1, 200)\n",
    "np.random.shuffle(X)    # 将数据集随机化\n",
    "Y = 0.5 * X + 2 + np.random.normal(0, 0.05, (200, )) # 假设我们真实模型为：Y=0.5X+2\n",
    "# 绘制数据集plt.scatter(X, Y)\n",
    "plt.show()\n",
    "\n",
    "X_train, Y_train = X[:160], Y[:160]     # 把前160个数据放到训练集\n",
    "X_test, Y_test = X[160:], Y[160:]       # 把后40个点放到测试集\n",
    "\n",
    "# 定义一个model，\n",
    "model = Sequential () # Keras有两种类型的模型，序贯模型（Sequential）和函数式模型\n",
    "                      # 比较常用的是Sequential，它是单输入单输出的\n",
    "model.add(Dense(output_dim=1, input_dim=1)) # 通过add()方法一层层添加模型\n",
    "                                            # Dense是全连接层，第一层需要定义输入，\n",
    "                                            # 第二层无需指定输入，一般第二层把第一层的输出作为输入\n",
    "\n",
    "# 定义完模型就需要训练了，不过训练之前我们需要指定一些训练参数\n",
    "# 通过compile()方法选择损失函数和优化器\n",
    "# 这里我们用均方误差作为损失函数，随机梯度下降作为优化方法\n",
    "model.compile(loss='mse', optimizer='sgd')\n",
    "\n",
    "# 开始训练\n",
    "print('Training -----------')\n",
    "for step in range(301):\n",
    "    cost = model.train_on_batch(X_train, Y_train) # Keras有很多开始训练的函数，这里用train_on_batch（）\n",
    "    if step % 100 == 0:\n",
    "        print('train cost: ', cost)\n",
    "\n",
    "# 测试训练好的模型\n",
    "print('\\nTesting ------------')\n",
    "cost = model.evaluate(X_test, Y_test, batch_size=40)\n",
    "print('test cost:', cost)\n",
    "W, b = model.layers[0].get_weights()    # 查看训练出的网络参数\n",
    "                                        # 由于我们网络只有一层，且每次训练的输入只有一个，输出只有一个\n",
    "                                        # 因此第一层训练出Y=WX+B这个模型，其中W,b为训练出的参数\n",
    "print('Weights=', W, '\\nbiases=', b)\n",
    "\n",
    "# plotting the prediction\n",
    "Y_pred = model.predict(X_test)\n",
    "plt.scatter(X_test, Y_test)\n",
    "plt.plot(X_test, Y_pred)\n",
    "#plt.show()"
   ]
  },
  {
   "cell_type": "markdown",
   "metadata": {},
   "source": [
    "## 3. Writing down three sceneries that machine learning has been used now."
   ]
  },
  {
   "cell_type": "code",
   "execution_count": null,
   "metadata": {},
   "outputs": [],
   "source": [
    "垃圾邮件分类，新闻资讯分类，广告推送"
   ]
  },
  {
   "cell_type": "markdown",
   "metadata": {},
   "source": [
    "## 4. Come out with three new sceneries with which machine learning may be applied."
   ]
  },
  {
   "cell_type": "code",
   "execution_count": null,
   "metadata": {},
   "outputs": [],
   "source": [
    "个人征信评估，商业选址，推荐系统"
   ]
  }
 ],
 "metadata": {
  "kernelspec": {
   "display_name": "Python 3",
   "language": "python",
   "name": "python3"
  },
  "language_info": {
   "codemirror_mode": {
    "name": "ipython",
    "version": 3
   },
   "file_extension": ".py",
   "mimetype": "text/x-python",
   "name": "python",
   "nbconvert_exporter": "python",
   "pygments_lexer": "ipython3",
   "version": "3.7.1"
  }
 },
 "nbformat": 4,
 "nbformat_minor": 2
}
